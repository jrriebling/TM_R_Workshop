{
 "cells": [
  {
   "cell_type": "markdown",
   "id": "36b0c115",
   "metadata": {},
   "source": [
    "# R installieren\n",
    "\n",
    "## Basis R\n",
    "\n",
    "Vorkompilierte R-Pakete für die gängigsten Betriebssysteme können auf der Webseite des [Comprehensive R Archive Network (CRAN)](https://cran.r-project.org/) heruntergeladen werden.\n",
    "Alternativ kann R auch über einen Paketmanager (z.B. [Anaconda](https://docs.anaconda.com/anaconda/user-guide/tasks/using-r-language/), [Chocolatey](https://community.chocolatey.org/packages/R.Project), [APT](https://sites.psu.edu/theubunturblog/installing-r-in-ubuntu/), etc.)\n",
    "Bei Problemen mit der Installation unter Windows finden sich [hier](https://cran.r-project.org/bin/windows/base/) weiterführende Informationen.\n",
    "\n",
    "\n",
    "## Zusätzliche Pakete\n",
    "\n",
    "Zusätzliche R Pakete können über den in `base` enthaltenen Paketmanager direkt von einem CRAN Repositoriumsserver heruntergeladen werden.\n",
    "Dies geschieht durch Ausführen des Befehls `install.packages()`.\n",
    "Beim ersten Mal kann ein naheliegender CRAN-Server ausgewählt werden.\n",
    "\n",
    "Alle für den Workshop notwendigen Pakete sind im Metapaket `tidyverse` enthalten.\n",
    "Hierbei handelt es sich um eine Sammlung von Text- und Datamining Werkzeugen die zum Teil stark von den grundlegenden R Konzepten abweichen.\n",
    "Ein Überblick der enthaltenen Pakete und die entsprechende Dokumentation findet sich [hier](https://www.tidyverse.org/packages/).\n",
    "Folgende Eingabe auf der R-Eingabeaufforderung installiert die `tidyverse`-Pakete:"
   ]
  },
  {
   "cell_type": "code",
   "execution_count": null,
   "id": "ef2e6bb9",
   "metadata": {},
   "outputs": [],
   "source": [
    "install.packages(\"tidyverse\")"
   ]
  },
  {
   "cell_type": "markdown",
   "id": "e4950716",
   "metadata": {},
   "source": [
    "## Integrated Development Environment\n",
    "\n",
    "Nach der Installation von R steht normalerweise nur der R Interpreter und der Kommandozeilenzugriff darauf zur Verfügung.\n",
    "Um eine effizientere Nutzung und komplexeren Code zu ermöglichen können entweder auf dem System vorhandene IDEs (z.B. VSStudio) oder Editoren (z.B. Vim, EMACS) verwendet werden.\n",
    "\n",
    "Im Workshop wird das [Jupyter Notebook](https://jupyter.org/) als grafische Benutzeroberfläche und Entwicklungsumgebung genutzt, da sich hiermit am besten eine einfache Live-Präsentation erstellen lässt.\n",
    "Die Unterlagen werden als Jupyter Notebook aber auch als Plaintext (Rmarkdown) und PDF Dateien zur Verfügung gestellt werden.\n",
    "Eine Installation von Jupyter Notebook kann auf ähnliche Arten und Weisen geschehen wie die Installation von R, z.B:\n",
    "\n",
    "* Mittels des Python-Paketmanagers [pip](https://jupyter.org/install).\n",
    "* Als Teil der [Anaconda Python Distribution](https://www.anaconda.com/products/distribution).\n",
    "\n",
    "Um die Verbindung zwischen R und dem Notebook Server herzustellen, muss der IRkernel installiert werden.\n",
    "Dies geschieht durch Ausführen der entsprechenden Instruktionen in R:"
   ]
  },
  {
   "cell_type": "code",
   "execution_count": null,
   "id": "18066083",
   "metadata": {},
   "outputs": [],
   "source": [
    "install.packages(\"devtools\")\n",
    "\n",
    "devtools::install_github(\"IRkernel/IRkernel\")\n",
    "\n",
    "IRkernel::installspec()"
   ]
  },
  {
   "cell_type": "markdown",
   "id": "48ef49ec",
   "metadata": {},
   "source": [
    "Für die Teilnehmer wird wegen des leichteren Einstiegs und des besseren Anschlusses an die Community zusätzlich die Verwendung von [RStudio](https://www.rstudio.com/products/rstudio/) als IDE empfohlen.\n"
   ]
  },
  {
   "cell_type": "markdown",
   "id": "d8950107",
   "metadata": {},
   "source": [
    "# Ressourcen\n",
    "\n",
    "## Dokumentationen und Tutorials\n",
    "\n",
    "* [The R Manuals](https://cran.r-project.org/manuals.html). Hier insbesondere „An Introduction to R“ und „R Installation and Administration“.\n",
    "* [R PROGRAMMING TUTORIAL – BEGINNERS , INTERMEDIATE AND ADVANCED](https://www.datasciencemadesimple.com/r-tutorial/).\n",
    "* [RStudio Dokumentation](https://docs.rstudio.com/).\n",
    "\n",
    "## Beispiele für spezifische Pakete/Techniken\n",
    "\n",
    "* [R API Tutorial](https://www.dataquest.io/blog/r-api-tutorial/).\n",
    "* [Scraping HTML Tables and Downloading Files with R](https://www.storybench.org/scraping-html-tables-and-downloading-files-with-r/).\n",
    "\n",
    "## Frei verfügbare Bücher\n",
    "\n",
    "* [Text Mining with R: A Tidy Approach](https://www.tidytextmining.com/).\n",
    "* [R for Data Science](https://r4ds.had.co.nz/).\n",
    "* [R Graphics Cookbook](https://www.cookbook-r.com/Graphs/).\n",
    "* Allgemeines zur Textanalyse: [Methode und Methodologie quantitativer Textanalyse](https://fis.uni-bamberg.de/handle/uniba/45106)."
   ]
  }
 ],
 "metadata": {
  "kernelspec": {
   "display_name": "R",
   "language": "R",
   "name": "ir"
  },
  "language_info": {
   "codemirror_mode": "r",
   "file_extension": ".r",
   "mimetype": "text/x-r-source",
   "name": "R",
   "pygments_lexer": "r",
   "version": "4.2.1"
  }
 },
 "nbformat": 4,
 "nbformat_minor": 5
}
