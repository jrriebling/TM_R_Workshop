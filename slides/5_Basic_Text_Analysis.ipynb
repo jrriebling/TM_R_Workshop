{
 "cells": [
  {
   "cell_type": "markdown",
   "metadata": {
    "slideshow": {
     "slide_type": "slide"
    }
   },
   "source": [
    "# Basics of Text Analysis\n",
    "\n",
    "Jan R. Riebling"
   ]
  },
  {
   "cell_type": "markdown",
   "metadata": {
    "slideshow": {
     "slide_type": "subslide"
    }
   },
   "source": [
    "## Agenda\n",
    "\n",
    "* Frequencies\n",
    "* Readability\n",
    "* Similarity\n",
    "* Weighting"
   ]
  },
  {
   "cell_type": "code",
   "execution_count": 1,
   "metadata": {
    "slideshow": {
     "slide_type": "subslide"
    }
   },
   "outputs": [
    {
     "name": "stderr",
     "output_type": "stream",
     "text": [
      "Loading tidyverse: ggplot2\n",
      "Loading tidyverse: tibble\n",
      "Loading tidyverse: tidyr\n",
      "Loading tidyverse: readr\n",
      "Loading tidyverse: purrr\n",
      "Loading tidyverse: dplyr\n",
      "Conflicts with tidy packages ---------------------------------------------------\n",
      "filter(): dplyr, stats\n",
      "lag():    dplyr, stats\n",
      "Loading required package: NLP\n",
      "\n",
      "Attaching package: ‘NLP’\n",
      "\n",
      "The following object is masked from ‘package:ggplot2’:\n",
      "\n",
      "    annotate\n",
      "\n",
      "\n",
      "Attaching package: ‘koRpus’\n",
      "\n",
      "The following object is masked from ‘package:dplyr’:\n",
      "\n",
      "    query\n",
      "\n",
      "The following object is masked from ‘package:readr’:\n",
      "\n",
      "    tokenize\n",
      "\n"
     ]
    }
   ],
   "source": [
    "#install.packages(\"koRpus\", \"tidytext\")\n",
    "library(tidyverse)\n",
    "library(tidytext)\n",
    "library(tm)\n",
    "library(koRpus)\n",
    "library(stringr)\n",
    "library(ggplot2)"
   ]
  },
  {
   "cell_type": "markdown",
   "metadata": {
    "slideshow": {
     "slide_type": "slide"
    }
   },
   "source": [
    "# Frequencies"
   ]
  },
  {
   "cell_type": "markdown",
   "metadata": {
    "slideshow": {
     "slide_type": "subslide"
    }
   },
   "source": [
    "## Things to count\n",
    "\n",
    "* Frequency of types\n",
    "* Tokens\n",
    "* Length of tokens\n",
    "* Syllables\n",
    "* Sentences\n",
    "* Length of sentences"
   ]
  },
  {
   "cell_type": "code",
   "execution_count": 2,
   "metadata": {
    "slideshow": {
     "slide_type": "subslide"
    }
   },
   "outputs": [],
   "source": [
    "corpus <- Corpus(DirSource(\"data/gutenberg/\", \n",
    "                           pattern=\".+\\\\.txt$\"))"
   ]
  },
  {
   "cell_type": "code",
   "execution_count": 3,
   "metadata": {},
   "outputs": [
    {
     "data": {
      "text/html": [
       "<ol class=list-inline>\n",
       "\t<li>'austen-emma.txt'</li>\n",
       "\t<li>'austen-persuasion.txt'</li>\n",
       "\t<li>'austen-sense.txt'</li>\n",
       "\t<li>'bible-kjv.txt'</li>\n",
       "\t<li>'blake-poems.txt'</li>\n",
       "\t<li>'bryant-stories.txt'</li>\n",
       "\t<li>'burgess-busterbrown.txt'</li>\n",
       "\t<li>'carroll-alice.txt'</li>\n",
       "\t<li>'chesterton-ball.txt'</li>\n",
       "\t<li>'chesterton-brown.txt'</li>\n",
       "\t<li>'chesterton-thursday.txt'</li>\n",
       "\t<li>'edgeworth-parents.txt'</li>\n",
       "\t<li>'melville-moby_dick.txt'</li>\n",
       "\t<li>'milton-paradise.txt'</li>\n",
       "\t<li>'shakespeare-caesar.txt'</li>\n",
       "\t<li>'shakespeare-hamlet.txt'</li>\n",
       "\t<li>'shakespeare-macbeth.txt'</li>\n",
       "\t<li>'whitman-leaves.txt'</li>\n",
       "</ol>\n"
      ],
      "text/latex": [
       "\\begin{enumerate*}\n",
       "\\item 'austen-emma.txt'\n",
       "\\item 'austen-persuasion.txt'\n",
       "\\item 'austen-sense.txt'\n",
       "\\item 'bible-kjv.txt'\n",
       "\\item 'blake-poems.txt'\n",
       "\\item 'bryant-stories.txt'\n",
       "\\item 'burgess-busterbrown.txt'\n",
       "\\item 'carroll-alice.txt'\n",
       "\\item 'chesterton-ball.txt'\n",
       "\\item 'chesterton-brown.txt'\n",
       "\\item 'chesterton-thursday.txt'\n",
       "\\item 'edgeworth-parents.txt'\n",
       "\\item 'melville-moby\\_dick.txt'\n",
       "\\item 'milton-paradise.txt'\n",
       "\\item 'shakespeare-caesar.txt'\n",
       "\\item 'shakespeare-hamlet.txt'\n",
       "\\item 'shakespeare-macbeth.txt'\n",
       "\\item 'whitman-leaves.txt'\n",
       "\\end{enumerate*}\n"
      ],
      "text/markdown": [
       "1. 'austen-emma.txt'\n",
       "2. 'austen-persuasion.txt'\n",
       "3. 'austen-sense.txt'\n",
       "4. 'bible-kjv.txt'\n",
       "5. 'blake-poems.txt'\n",
       "6. 'bryant-stories.txt'\n",
       "7. 'burgess-busterbrown.txt'\n",
       "8. 'carroll-alice.txt'\n",
       "9. 'chesterton-ball.txt'\n",
       "10. 'chesterton-brown.txt'\n",
       "11. 'chesterton-thursday.txt'\n",
       "12. 'edgeworth-parents.txt'\n",
       "13. 'melville-moby_dick.txt'\n",
       "14. 'milton-paradise.txt'\n",
       "15. 'shakespeare-caesar.txt'\n",
       "16. 'shakespeare-hamlet.txt'\n",
       "17. 'shakespeare-macbeth.txt'\n",
       "18. 'whitman-leaves.txt'\n",
       "\n",
       "\n"
      ],
      "text/plain": [
       " [1] \"austen-emma.txt\"         \"austen-persuasion.txt\"  \n",
       " [3] \"austen-sense.txt\"        \"bible-kjv.txt\"          \n",
       " [5] \"blake-poems.txt\"         \"bryant-stories.txt\"     \n",
       " [7] \"burgess-busterbrown.txt\" \"carroll-alice.txt\"      \n",
       " [9] \"chesterton-ball.txt\"     \"chesterton-brown.txt\"   \n",
       "[11] \"chesterton-thursday.txt\" \"edgeworth-parents.txt\"  \n",
       "[13] \"melville-moby_dick.txt\"  \"milton-paradise.txt\"    \n",
       "[15] \"shakespeare-caesar.txt\"  \"shakespeare-hamlet.txt\" \n",
       "[17] \"shakespeare-macbeth.txt\" \"whitman-leaves.txt\"     "
      ]
     },
     "metadata": {},
     "output_type": "display_data"
    }
   ],
   "source": [
    "names(corpus)"
   ]
  },
  {
   "cell_type": "markdown",
   "metadata": {
    "slideshow": {
     "slide_type": "subslide"
    }
   },
   "source": [
    "## The \"tidy\" approach\n",
    "\n",
    "The facilities of the `tm` package are sufficient for basic counting of word frequencies. However, if we need more custom or finely grained analysis, we reach an impase very fast. Also, a `Corpus` object does not work with most other basic functions.\n",
    "\n",
    "In general one should use *one*, flexible data structure as a starting point for all transformations and analysis. All transformations can thus start from the same premises and it is not necessary to learn the intricacies of every single analytical\n",
    "tool. "
   ]
  },
  {
   "cell_type": "markdown",
   "metadata": {
    "slideshow": {
     "slide_type": "subslide"
    }
   },
   "source": [
    "## Text as `tibble`\n",
    "\n",
    "A collection of text can be represented as a `tibble`. However, because of the length of strings the resulting data structure can not be visualized, since most displays would take to long to render the content. This often requires one to \"fly blind\" and use indirect methods to inspect the data.  "
   ]
  },
  {
   "cell_type": "code",
   "execution_count": 4,
   "metadata": {
    "scrolled": false
   },
   "outputs": [],
   "source": [
    "df <- tidy(corpus)"
   ]
  },
  {
   "cell_type": "code",
   "execution_count": 5,
   "metadata": {
    "slideshow": {
     "slide_type": "-"
    }
   },
   "outputs": [
    {
     "data": {
      "text/html": [
       "<ol class=list-inline>\n",
       "\t<li>18</li>\n",
       "\t<li>8</li>\n",
       "</ol>\n"
      ],
      "text/latex": [
       "\\begin{enumerate*}\n",
       "\\item 18\n",
       "\\item 8\n",
       "\\end{enumerate*}\n"
      ],
      "text/markdown": [
       "1. 18\n",
       "2. 8\n",
       "\n",
       "\n"
      ],
      "text/plain": [
       "[1] 18  8"
      ]
     },
     "metadata": {},
     "output_type": "display_data"
    },
    {
     "data": {
      "text/html": [
       "<ol>\n",
       "\t<li><ol class=list-inline>\n",
       "\t<li>'1'</li>\n",
       "\t<li>'2'</li>\n",
       "\t<li>'3'</li>\n",
       "\t<li>'4'</li>\n",
       "\t<li>'5'</li>\n",
       "\t<li>'6'</li>\n",
       "\t<li>'7'</li>\n",
       "\t<li>'8'</li>\n",
       "\t<li>'9'</li>\n",
       "\t<li>'10'</li>\n",
       "\t<li>'11'</li>\n",
       "\t<li>'12'</li>\n",
       "\t<li>'13'</li>\n",
       "\t<li>'14'</li>\n",
       "\t<li>'15'</li>\n",
       "\t<li>'16'</li>\n",
       "\t<li>'17'</li>\n",
       "\t<li>'18'</li>\n",
       "</ol>\n",
       "</li>\n",
       "\t<li><ol class=list-inline>\n",
       "\t<li>'author'</li>\n",
       "\t<li>'datetimestamp'</li>\n",
       "\t<li>'description'</li>\n",
       "\t<li>'heading'</li>\n",
       "\t<li>'id'</li>\n",
       "\t<li>'language'</li>\n",
       "\t<li>'origin'</li>\n",
       "\t<li>'text'</li>\n",
       "</ol>\n",
       "</li>\n",
       "</ol>\n"
      ],
      "text/latex": [
       "\\begin{enumerate}\n",
       "\\item \\begin{enumerate*}\n",
       "\\item '1'\n",
       "\\item '2'\n",
       "\\item '3'\n",
       "\\item '4'\n",
       "\\item '5'\n",
       "\\item '6'\n",
       "\\item '7'\n",
       "\\item '8'\n",
       "\\item '9'\n",
       "\\item '10'\n",
       "\\item '11'\n",
       "\\item '12'\n",
       "\\item '13'\n",
       "\\item '14'\n",
       "\\item '15'\n",
       "\\item '16'\n",
       "\\item '17'\n",
       "\\item '18'\n",
       "\\end{enumerate*}\n",
       "\n",
       "\\item \\begin{enumerate*}\n",
       "\\item 'author'\n",
       "\\item 'datetimestamp'\n",
       "\\item 'description'\n",
       "\\item 'heading'\n",
       "\\item 'id'\n",
       "\\item 'language'\n",
       "\\item 'origin'\n",
       "\\item 'text'\n",
       "\\end{enumerate*}\n",
       "\n",
       "\\end{enumerate}\n"
      ],
      "text/markdown": [
       "1. 1. '1'\n",
       "2. '2'\n",
       "3. '3'\n",
       "4. '4'\n",
       "5. '5'\n",
       "6. '6'\n",
       "7. '7'\n",
       "8. '8'\n",
       "9. '9'\n",
       "10. '10'\n",
       "11. '11'\n",
       "12. '12'\n",
       "13. '13'\n",
       "14. '14'\n",
       "15. '15'\n",
       "16. '16'\n",
       "17. '17'\n",
       "18. '18'\n",
       "\n",
       "\n",
       "\n",
       "2. 1. 'author'\n",
       "2. 'datetimestamp'\n",
       "3. 'description'\n",
       "4. 'heading'\n",
       "5. 'id'\n",
       "6. 'language'\n",
       "7. 'origin'\n",
       "8. 'text'\n",
       "\n",
       "\n",
       "\n",
       "\n",
       "\n"
      ],
      "text/plain": [
       "[[1]]\n",
       " [1] \"1\"  \"2\"  \"3\"  \"4\"  \"5\"  \"6\"  \"7\"  \"8\"  \"9\"  \"10\" \"11\" \"12\" \"13\" \"14\" \"15\"\n",
       "[16] \"16\" \"17\" \"18\"\n",
       "\n",
       "[[2]]\n",
       "[1] \"author\"        \"datetimestamp\" \"description\"   \"heading\"      \n",
       "[5] \"id\"            \"language\"      \"origin\"        \"text\"         \n"
      ]
     },
     "metadata": {},
     "output_type": "display_data"
    }
   ],
   "source": [
    "dim(df)\n",
    "dimnames(df)"
   ]
  },
  {
   "cell_type": "code",
   "execution_count": 6,
   "metadata": {
    "slideshow": {
     "slide_type": "subslide"
    }
   },
   "outputs": [
    {
     "name": "stdout",
     "output_type": "stream",
     "text": [
      "# A tibble: 18 × 8\n",
      "   author       datetimestamp description heading                      id\n",
      "    <lgl>              <dttm>       <lgl>   <lgl>                   <chr>\n",
      "1      NA 2017-02-03 14:29:03          NA      NA         austen-emma.txt\n",
      "2      NA 2017-02-03 14:29:03          NA      NA   austen-persuasion.txt\n",
      "3      NA 2017-02-03 14:29:03          NA      NA        austen-sense.txt\n",
      "4      NA 2017-02-03 14:29:03          NA      NA           bible-kjv.txt\n",
      "5      NA 2017-02-03 14:29:03          NA      NA         blake-poems.txt\n",
      "6      NA 2017-02-03 14:29:03          NA      NA      bryant-stories.txt\n",
      "7      NA 2017-02-03 14:29:03          NA      NA burgess-busterbrown.txt\n",
      "8      NA 2017-02-03 14:29:03          NA      NA       carroll-alice.txt\n",
      "9      NA 2017-02-03 14:29:03          NA      NA     chesterton-ball.txt\n",
      "10     NA 2017-02-03 14:29:03          NA      NA    chesterton-brown.txt\n",
      "11     NA 2017-02-03 14:29:03          NA      NA chesterton-thursday.txt\n",
      "12     NA 2017-02-03 14:29:03          NA      NA   edgeworth-parents.txt\n",
      "13     NA 2017-02-03 14:29:03          NA      NA  melville-moby_dick.txt\n",
      "14     NA 2017-02-03 14:29:03          NA      NA     milton-paradise.txt\n",
      "15     NA 2017-02-03 14:29:03          NA      NA  shakespeare-caesar.txt\n",
      "16     NA 2017-02-03 14:29:03          NA      NA  shakespeare-hamlet.txt\n",
      "17     NA 2017-02-03 14:29:03          NA      NA shakespeare-macbeth.txt\n",
      "18     NA 2017-02-03 14:29:03          NA      NA      whitman-leaves.txt\n",
      "# ... with 3 more variables: language <chr>, origin <lgl>, text <chr>\n"
     ]
    }
   ],
   "source": [
    "print(df)"
   ]
  },
  {
   "cell_type": "markdown",
   "metadata": {
    "slideshow": {
     "slide_type": "subslide"
    }
   },
   "source": [
    "## Describing text\n",
    "\n",
    "Using RegEx and string functions, variety of descriptives can be calculated."
   ]
  },
  {
   "cell_type": "code",
   "execution_count": 7,
   "metadata": {},
   "outputs": [],
   "source": [
    "re.token <- \"[a-zA-Z0-9]+[-']?[a-zA-Z0-9]*\"\n",
    "df <- mutate(df, \n",
    "             AlphanumCount=str_count(text, \"\\\\w\"),\n",
    "             WordCount=str_count(text, re.token),\n",
    "             SentCount=str_count(text, \"[.,;:]\"),\n",
    "             AvgWordSents=WordCount / SentCount)"
   ]
  },
  {
   "cell_type": "code",
   "execution_count": 8,
   "metadata": {
    "scrolled": true,
    "slideshow": {
     "slide_type": "subslide"
    }
   },
   "outputs": [
    {
     "data": {
      "text/html": [
       "<table>\n",
       "<thead><tr><th scope=col>id</th><th scope=col>SentCount</th><th scope=col>AvgWordSents</th></tr></thead>\n",
       "<tbody>\n",
       "\t<tr><td>burgess-busterbrown.txt</td><td>  1772                 </td><td>8.976298               </td></tr>\n",
       "\t<tr><td>chesterton-ball.txt    </td><td> 10287                 </td><td>7.960241               </td></tr>\n",
       "\t<tr><td>chesterton-brown.txt   </td><td>  9025                 </td><td>7.960000               </td></tr>\n",
       "\t<tr><td>chesterton-thursday.txt</td><td>  7509                 </td><td>7.725663               </td></tr>\n",
       "\t<tr><td>austen-sense.txt       </td><td> 16456                 </td><td>7.269993               </td></tr>\n",
       "\t<tr><td>austen-persuasion.txt  </td><td> 11605                 </td><td>7.184489               </td></tr>\n",
       "\t<tr><td>bryant-stories.txt     </td><td>  6474                 </td><td>7.114921               </td></tr>\n",
       "\t<tr><td>carroll-alice.txt      </td><td>  3833                 </td><td>6.929037               </td></tr>\n",
       "\t<tr><td>melville-moby_dick.txt </td><td> 31156                 </td><td>6.861568               </td></tr>\n",
       "\t<tr><td>austen-emma.txt        </td><td> 23427                 </td><td>6.849703               </td></tr>\n",
       "\t<tr><td>blake-poems.txt        </td><td>  1081                 </td><td>6.308973               </td></tr>\n",
       "\t<tr><td>whitman-leaves.txt     </td><td> 20283                 </td><td>6.052852               </td></tr>\n",
       "\t<tr><td>edgeworth-parents.txt  </td><td> 28071                 </td><td>5.948345               </td></tr>\n",
       "\t<tr><td>bible-kjv.txt          </td><td>150723                 </td><td>5.654313               </td></tr>\n",
       "\t<tr><td>milton-paradise.txt    </td><td> 14608                 </td><td>5.459953               </td></tr>\n",
       "\t<tr><td>shakespeare-hamlet.txt </td><td>  5645                 </td><td>5.244287               </td></tr>\n",
       "\t<tr><td>shakespeare-caesar.txt </td><td>  4105                 </td><td>4.987333               </td></tr>\n",
       "\t<tr><td>shakespeare-macbeth.txt</td><td>  3726                 </td><td>4.764090               </td></tr>\n",
       "</tbody>\n",
       "</table>\n"
      ],
      "text/latex": [
       "\\begin{tabular}{r|lll}\n",
       " id & SentCount & AvgWordSents\\\\\n",
       "\\hline\n",
       "\t burgess-busterbrown.txt &   1772                  & 8.976298               \\\\\n",
       "\t chesterton-ball.txt     &  10287                  & 7.960241               \\\\\n",
       "\t chesterton-brown.txt    &   9025                  & 7.960000               \\\\\n",
       "\t chesterton-thursday.txt &   7509                  & 7.725663               \\\\\n",
       "\t austen-sense.txt        &  16456                  & 7.269993               \\\\\n",
       "\t austen-persuasion.txt   &  11605                  & 7.184489               \\\\\n",
       "\t bryant-stories.txt      &   6474                  & 7.114921               \\\\\n",
       "\t carroll-alice.txt       &   3833                  & 6.929037               \\\\\n",
       "\t melville-moby\\_dick.txt  &  31156                    & 6.861568                 \\\\\n",
       "\t austen-emma.txt         &  23427                  & 6.849703               \\\\\n",
       "\t blake-poems.txt         &   1081                  & 6.308973               \\\\\n",
       "\t whitman-leaves.txt      &  20283                  & 6.052852               \\\\\n",
       "\t edgeworth-parents.txt   &  28071                  & 5.948345               \\\\\n",
       "\t bible-kjv.txt           & 150723                  & 5.654313               \\\\\n",
       "\t milton-paradise.txt     &  14608                  & 5.459953               \\\\\n",
       "\t shakespeare-hamlet.txt  &   5645                  & 5.244287               \\\\\n",
       "\t shakespeare-caesar.txt  &   4105                  & 4.987333               \\\\\n",
       "\t shakespeare-macbeth.txt &   3726                  & 4.764090               \\\\\n",
       "\\end{tabular}\n"
      ],
      "text/markdown": [
       "\n",
       "id | SentCount | AvgWordSents | \n",
       "|---|---|---|---|---|---|---|---|---|---|---|---|---|---|---|---|---|---|\n",
       "| burgess-busterbrown.txt |   1772                  | 8.976298                | \n",
       "| chesterton-ball.txt     |  10287                  | 7.960241                | \n",
       "| chesterton-brown.txt    |   9025                  | 7.960000                | \n",
       "| chesterton-thursday.txt |   7509                  | 7.725663                | \n",
       "| austen-sense.txt        |  16456                  | 7.269993                | \n",
       "| austen-persuasion.txt   |  11605                  | 7.184489                | \n",
       "| bryant-stories.txt      |   6474                  | 7.114921                | \n",
       "| carroll-alice.txt       |   3833                  | 6.929037                | \n",
       "| melville-moby_dick.txt  |  31156                  | 6.861568                | \n",
       "| austen-emma.txt         |  23427                  | 6.849703                | \n",
       "| blake-poems.txt         |   1081                  | 6.308973                | \n",
       "| whitman-leaves.txt      |  20283                  | 6.052852                | \n",
       "| edgeworth-parents.txt   |  28071                  | 5.948345                | \n",
       "| bible-kjv.txt           | 150723                  | 5.654313                | \n",
       "| milton-paradise.txt     |  14608                  | 5.459953                | \n",
       "| shakespeare-hamlet.txt  |   5645                  | 5.244287                | \n",
       "| shakespeare-caesar.txt  |   4105                  | 4.987333                | \n",
       "| shakespeare-macbeth.txt |   3726                  | 4.764090                | \n",
       "\n",
       "\n"
      ],
      "text/plain": [
       "   id                      SentCount AvgWordSents\n",
       "1  burgess-busterbrown.txt   1772    8.976298    \n",
       "2  chesterton-ball.txt      10287    7.960241    \n",
       "3  chesterton-brown.txt      9025    7.960000    \n",
       "4  chesterton-thursday.txt   7509    7.725663    \n",
       "5  austen-sense.txt         16456    7.269993    \n",
       "6  austen-persuasion.txt    11605    7.184489    \n",
       "7  bryant-stories.txt        6474    7.114921    \n",
       "8  carroll-alice.txt         3833    6.929037    \n",
       "9  melville-moby_dick.txt   31156    6.861568    \n",
       "10 austen-emma.txt          23427    6.849703    \n",
       "11 blake-poems.txt           1081    6.308973    \n",
       "12 whitman-leaves.txt       20283    6.052852    \n",
       "13 edgeworth-parents.txt    28071    5.948345    \n",
       "14 bible-kjv.txt           150723    5.654313    \n",
       "15 milton-paradise.txt      14608    5.459953    \n",
       "16 shakespeare-hamlet.txt    5645    5.244287    \n",
       "17 shakespeare-caesar.txt    4105    4.987333    \n",
       "18 shakespeare-macbeth.txt   3726    4.764090    "
      ]
     },
     "metadata": {},
     "output_type": "display_data"
    }
   ],
   "source": [
    "df %>%\n",
    "  select(id, SentCount, AvgWordSents) %>%\n",
    "  arrange(desc(AvgWordSents))"
   ]
  },
  {
   "cell_type": "markdown",
   "metadata": {
    "slideshow": {
     "slide_type": "subslide"
    }
   },
   "source": [
    "## Counting tokens"
   ]
  },
  {
   "cell_type": "code",
   "execution_count": 9,
   "metadata": {},
   "outputs": [],
   "source": [
    "freq.df <- df %>%\n",
    "  select(id, text) %>%\n",
    "  unnest_tokens(token, text) %>%\n",
    "  count(id, token, sort=TRUE) %>%\n",
    "  ungroup()"
   ]
  },
  {
   "cell_type": "code",
   "execution_count": 10,
   "metadata": {
    "scrolled": true,
    "slideshow": {
     "slide_type": "subslide"
    }
   },
   "outputs": [
    {
     "data": {
      "text/html": [
       "<table>\n",
       "<thead><tr><th scope=col>id</th><th scope=col>token</th><th scope=col>n</th></tr></thead>\n",
       "<tbody>\n",
       "\t<tr><td>bible-kjv.txt         </td><td>the                   </td><td>64023                 </td></tr>\n",
       "\t<tr><td>bible-kjv.txt         </td><td>and                   </td><td>51696                 </td></tr>\n",
       "\t<tr><td>bible-kjv.txt         </td><td>of                    </td><td>34670                 </td></tr>\n",
       "\t<tr><td>melville-moby_dick.txt</td><td>the                   </td><td>14431                 </td></tr>\n",
       "\t<tr><td>bible-kjv.txt         </td><td>to                    </td><td>13580                 </td></tr>\n",
       "\t<tr><td>bible-kjv.txt         </td><td>that                  </td><td>12912                 </td></tr>\n",
       "\t<tr><td>bible-kjv.txt         </td><td>in                    </td><td>12667                 </td></tr>\n",
       "\t<tr><td>bible-kjv.txt         </td><td>he                    </td><td>10419                 </td></tr>\n",
       "\t<tr><td>whitman-leaves.txt    </td><td>the                   </td><td>10113                 </td></tr>\n",
       "\t<tr><td>bible-kjv.txt         </td><td>shall                 </td><td> 9838                 </td></tr>\n",
       "\t<tr><td>bible-kjv.txt         </td><td>unto                  </td><td> 8997                 </td></tr>\n",
       "\t<tr><td>bible-kjv.txt         </td><td>for                   </td><td> 8970                 </td></tr>\n",
       "\t<tr><td>bible-kjv.txt         </td><td>i                     </td><td> 8854                 </td></tr>\n",
       "\t<tr><td>bible-kjv.txt         </td><td>his                   </td><td> 8473                 </td></tr>\n",
       "\t<tr><td>bible-kjv.txt         </td><td>a                     </td><td> 8177                 </td></tr>\n",
       "\t<tr><td>bible-kjv.txt         </td><td>lord                  </td><td> 7830                 </td></tr>\n",
       "\t<tr><td>edgeworth-parents.txt </td><td>the                   </td><td> 7728                 </td></tr>\n",
       "\t<tr><td>bible-kjv.txt         </td><td>they                  </td><td> 7376                 </td></tr>\n",
       "\t<tr><td>bible-kjv.txt         </td><td>be                    </td><td> 7013                 </td></tr>\n",
       "\t<tr><td>bible-kjv.txt         </td><td>is                    </td><td> 6989                 </td></tr>\n",
       "\t<tr><td>bible-kjv.txt         </td><td>him                   </td><td> 6659                 </td></tr>\n",
       "\t<tr><td>melville-moby_dick.txt</td><td>of                    </td><td> 6609                 </td></tr>\n",
       "\t<tr><td>bible-kjv.txt         </td><td>not                   </td><td> 6596                 </td></tr>\n",
       "\t<tr><td>bible-kjv.txt         </td><td>them                  </td><td> 6430                 </td></tr>\n",
       "\t<tr><td>melville-moby_dick.txt</td><td>and                   </td><td> 6430                 </td></tr>\n",
       "\t<tr><td>bible-kjv.txt         </td><td>it                    </td><td> 6129                 </td></tr>\n",
       "\t<tr><td>bible-kjv.txt         </td><td>with                  </td><td> 6012                 </td></tr>\n",
       "\t<tr><td>bible-kjv.txt         </td><td>all                   </td><td> 5620                 </td></tr>\n",
       "\t<tr><td>bible-kjv.txt         </td><td>thou                  </td><td> 5474                 </td></tr>\n",
       "\t<tr><td>whitman-leaves.txt    </td><td>and                   </td><td> 5334                 </td></tr>\n",
       "\t<tr><td>⋮</td><td>⋮</td><td>⋮</td></tr>\n",
       "\t<tr><td>whitman-leaves.txt</td><td>xxxi              </td><td>1                 </td></tr>\n",
       "\t<tr><td>whitman-leaves.txt</td><td>xxxii             </td><td>1                 </td></tr>\n",
       "\t<tr><td>whitman-leaves.txt</td><td>xxxiii            </td><td>1                 </td></tr>\n",
       "\t<tr><td>whitman-leaves.txt</td><td>xxxiv             </td><td>1                 </td></tr>\n",
       "\t<tr><td>whitman-leaves.txt</td><td>ya                </td><td>1                 </td></tr>\n",
       "\t<tr><td>whitman-leaves.txt</td><td>yarn              </td><td>1                 </td></tr>\n",
       "\t<tr><td>whitman-leaves.txt</td><td>yawp              </td><td>1                 </td></tr>\n",
       "\t<tr><td>whitman-leaves.txt</td><td>yea               </td><td>1                 </td></tr>\n",
       "\t<tr><td>whitman-leaves.txt</td><td>yearly            </td><td>1                 </td></tr>\n",
       "\t<tr><td>whitman-leaves.txt</td><td>yearn'd           </td><td>1                 </td></tr>\n",
       "\t<tr><td>whitman-leaves.txt</td><td>yearnfully        </td><td>1                 </td></tr>\n",
       "\t<tr><td>whitman-leaves.txt</td><td>yell              </td><td>1                 </td></tr>\n",
       "\t<tr><td>whitman-leaves.txt</td><td>yelling           </td><td>1                 </td></tr>\n",
       "\t<tr><td>whitman-leaves.txt</td><td>yellower          </td><td>1                 </td></tr>\n",
       "\t<tr><td>whitman-leaves.txt</td><td>yellowstone's     </td><td>1                 </td></tr>\n",
       "\t<tr><td>whitman-leaves.txt</td><td>yells             </td><td>1                 </td></tr>\n",
       "\t<tr><td>whitman-leaves.txt</td><td>yesterday         </td><td>1                 </td></tr>\n",
       "\t<tr><td>whitman-leaves.txt</td><td>yiang             </td><td>1                 </td></tr>\n",
       "\t<tr><td>whitman-leaves.txt</td><td>yields            </td><td>1                 </td></tr>\n",
       "\t<tr><td>whitman-leaves.txt</td><td>yoke              </td><td>1                 </td></tr>\n",
       "\t<tr><td>whitman-leaves.txt</td><td>yon               </td><td>1                 </td></tr>\n",
       "\t<tr><td>whitman-leaves.txt</td><td>you'd             </td><td>1                 </td></tr>\n",
       "\t<tr><td>whitman-leaves.txt</td><td>you'll            </td><td>1                 </td></tr>\n",
       "\t<tr><td>whitman-leaves.txt</td><td>you've            </td><td>1                 </td></tr>\n",
       "\t<tr><td>whitman-leaves.txt</td><td>youngster's       </td><td>1                 </td></tr>\n",
       "\t<tr><td>whitman-leaves.txt</td><td>yourselp          </td><td>1                 </td></tr>\n",
       "\t<tr><td>whitman-leaves.txt</td><td>zee               </td><td>1                 </td></tr>\n",
       "\t<tr><td>whitman-leaves.txt</td><td>zeus              </td><td>1                 </td></tr>\n",
       "\t<tr><td>whitman-leaves.txt</td><td>zinc              </td><td>1                 </td></tr>\n",
       "\t<tr><td>whitman-leaves.txt</td><td>zuyder            </td><td>1                 </td></tr>\n",
       "</tbody>\n",
       "</table>\n"
      ],
      "text/latex": [
       "\\begin{tabular}{r|lll}\n",
       " id & token & n\\\\\n",
       "\\hline\n",
       "\t bible-kjv.txt          & the                    & 64023                 \\\\\n",
       "\t bible-kjv.txt          & and                    & 51696                 \\\\\n",
       "\t bible-kjv.txt          & of                     & 34670                 \\\\\n",
       "\t melville-moby\\_dick.txt & the                      & 14431                   \\\\\n",
       "\t bible-kjv.txt          & to                     & 13580                 \\\\\n",
       "\t bible-kjv.txt          & that                   & 12912                 \\\\\n",
       "\t bible-kjv.txt          & in                     & 12667                 \\\\\n",
       "\t bible-kjv.txt          & he                     & 10419                 \\\\\n",
       "\t whitman-leaves.txt     & the                    & 10113                 \\\\\n",
       "\t bible-kjv.txt          & shall                  &  9838                 \\\\\n",
       "\t bible-kjv.txt          & unto                   &  8997                 \\\\\n",
       "\t bible-kjv.txt          & for                    &  8970                 \\\\\n",
       "\t bible-kjv.txt          & i                      &  8854                 \\\\\n",
       "\t bible-kjv.txt          & his                    &  8473                 \\\\\n",
       "\t bible-kjv.txt          & a                      &  8177                 \\\\\n",
       "\t bible-kjv.txt          & lord                   &  7830                 \\\\\n",
       "\t edgeworth-parents.txt  & the                    &  7728                 \\\\\n",
       "\t bible-kjv.txt          & they                   &  7376                 \\\\\n",
       "\t bible-kjv.txt          & be                     &  7013                 \\\\\n",
       "\t bible-kjv.txt          & is                     &  6989                 \\\\\n",
       "\t bible-kjv.txt          & him                    &  6659                 \\\\\n",
       "\t melville-moby\\_dick.txt & of                       &  6609                   \\\\\n",
       "\t bible-kjv.txt          & not                    &  6596                 \\\\\n",
       "\t bible-kjv.txt          & them                   &  6430                 \\\\\n",
       "\t melville-moby\\_dick.txt & and                      &  6430                   \\\\\n",
       "\t bible-kjv.txt          & it                     &  6129                 \\\\\n",
       "\t bible-kjv.txt          & with                   &  6012                 \\\\\n",
       "\t bible-kjv.txt          & all                    &  5620                 \\\\\n",
       "\t bible-kjv.txt          & thou                   &  5474                 \\\\\n",
       "\t whitman-leaves.txt     & and                    &  5334                 \\\\\n",
       "\t ⋮ & ⋮ & ⋮\\\\\n",
       "\t whitman-leaves.txt & xxxi               & 1                 \\\\\n",
       "\t whitman-leaves.txt & xxxii              & 1                 \\\\\n",
       "\t whitman-leaves.txt & xxxiii             & 1                 \\\\\n",
       "\t whitman-leaves.txt & xxxiv              & 1                 \\\\\n",
       "\t whitman-leaves.txt & ya                 & 1                 \\\\\n",
       "\t whitman-leaves.txt & yarn               & 1                 \\\\\n",
       "\t whitman-leaves.txt & yawp               & 1                 \\\\\n",
       "\t whitman-leaves.txt & yea                & 1                 \\\\\n",
       "\t whitman-leaves.txt & yearly             & 1                 \\\\\n",
       "\t whitman-leaves.txt & yearn'd            & 1                 \\\\\n",
       "\t whitman-leaves.txt & yearnfully         & 1                 \\\\\n",
       "\t whitman-leaves.txt & yell               & 1                 \\\\\n",
       "\t whitman-leaves.txt & yelling            & 1                 \\\\\n",
       "\t whitman-leaves.txt & yellower           & 1                 \\\\\n",
       "\t whitman-leaves.txt & yellowstone's      & 1                 \\\\\n",
       "\t whitman-leaves.txt & yells              & 1                 \\\\\n",
       "\t whitman-leaves.txt & yesterday          & 1                 \\\\\n",
       "\t whitman-leaves.txt & yiang              & 1                 \\\\\n",
       "\t whitman-leaves.txt & yields             & 1                 \\\\\n",
       "\t whitman-leaves.txt & yoke               & 1                 \\\\\n",
       "\t whitman-leaves.txt & yon                & 1                 \\\\\n",
       "\t whitman-leaves.txt & you'd              & 1                 \\\\\n",
       "\t whitman-leaves.txt & you'll             & 1                 \\\\\n",
       "\t whitman-leaves.txt & you've             & 1                 \\\\\n",
       "\t whitman-leaves.txt & youngster's        & 1                 \\\\\n",
       "\t whitman-leaves.txt & yourselp           & 1                 \\\\\n",
       "\t whitman-leaves.txt & zee                & 1                 \\\\\n",
       "\t whitman-leaves.txt & zeus               & 1                 \\\\\n",
       "\t whitman-leaves.txt & zinc               & 1                 \\\\\n",
       "\t whitman-leaves.txt & zuyder             & 1                 \\\\\n",
       "\\end{tabular}\n"
      ],
      "text/markdown": [
       "\n",
       "id | token | n | \n",
       "|---|---|---|---|---|---|---|---|---|---|---|---|---|---|---|---|---|---|---|---|---|---|---|---|---|---|---|---|---|---|---|---|---|---|---|---|---|---|---|---|---|---|---|---|---|---|---|---|---|---|---|---|---|---|---|---|---|---|---|---|---|\n",
       "| bible-kjv.txt          | the                    | 64023                  | \n",
       "| bible-kjv.txt          | and                    | 51696                  | \n",
       "| bible-kjv.txt          | of                     | 34670                  | \n",
       "| melville-moby_dick.txt | the                    | 14431                  | \n",
       "| bible-kjv.txt          | to                     | 13580                  | \n",
       "| bible-kjv.txt          | that                   | 12912                  | \n",
       "| bible-kjv.txt          | in                     | 12667                  | \n",
       "| bible-kjv.txt          | he                     | 10419                  | \n",
       "| whitman-leaves.txt     | the                    | 10113                  | \n",
       "| bible-kjv.txt          | shall                  |  9838                  | \n",
       "| bible-kjv.txt          | unto                   |  8997                  | \n",
       "| bible-kjv.txt          | for                    |  8970                  | \n",
       "| bible-kjv.txt          | i                      |  8854                  | \n",
       "| bible-kjv.txt          | his                    |  8473                  | \n",
       "| bible-kjv.txt          | a                      |  8177                  | \n",
       "| bible-kjv.txt          | lord                   |  7830                  | \n",
       "| edgeworth-parents.txt  | the                    |  7728                  | \n",
       "| bible-kjv.txt          | they                   |  7376                  | \n",
       "| bible-kjv.txt          | be                     |  7013                  | \n",
       "| bible-kjv.txt          | is                     |  6989                  | \n",
       "| bible-kjv.txt          | him                    |  6659                  | \n",
       "| melville-moby_dick.txt | of                     |  6609                  | \n",
       "| bible-kjv.txt          | not                    |  6596                  | \n",
       "| bible-kjv.txt          | them                   |  6430                  | \n",
       "| melville-moby_dick.txt | and                    |  6430                  | \n",
       "| bible-kjv.txt          | it                     |  6129                  | \n",
       "| bible-kjv.txt          | with                   |  6012                  | \n",
       "| bible-kjv.txt          | all                    |  5620                  | \n",
       "| bible-kjv.txt          | thou                   |  5474                  | \n",
       "| whitman-leaves.txt     | and                    |  5334                  | \n",
       "| ⋮ | ⋮ | ⋮ | \n",
       "| whitman-leaves.txt | xxxi               | 1                  | \n",
       "| whitman-leaves.txt | xxxii              | 1                  | \n",
       "| whitman-leaves.txt | xxxiii             | 1                  | \n",
       "| whitman-leaves.txt | xxxiv              | 1                  | \n",
       "| whitman-leaves.txt | ya                 | 1                  | \n",
       "| whitman-leaves.txt | yarn               | 1                  | \n",
       "| whitman-leaves.txt | yawp               | 1                  | \n",
       "| whitman-leaves.txt | yea                | 1                  | \n",
       "| whitman-leaves.txt | yearly             | 1                  | \n",
       "| whitman-leaves.txt | yearn'd            | 1                  | \n",
       "| whitman-leaves.txt | yearnfully         | 1                  | \n",
       "| whitman-leaves.txt | yell               | 1                  | \n",
       "| whitman-leaves.txt | yelling            | 1                  | \n",
       "| whitman-leaves.txt | yellower           | 1                  | \n",
       "| whitman-leaves.txt | yellowstone's      | 1                  | \n",
       "| whitman-leaves.txt | yells              | 1                  | \n",
       "| whitman-leaves.txt | yesterday          | 1                  | \n",
       "| whitman-leaves.txt | yiang              | 1                  | \n",
       "| whitman-leaves.txt | yields             | 1                  | \n",
       "| whitman-leaves.txt | yoke               | 1                  | \n",
       "| whitman-leaves.txt | yon                | 1                  | \n",
       "| whitman-leaves.txt | you'd              | 1                  | \n",
       "| whitman-leaves.txt | you'll             | 1                  | \n",
       "| whitman-leaves.txt | you've             | 1                  | \n",
       "| whitman-leaves.txt | youngster's        | 1                  | \n",
       "| whitman-leaves.txt | yourselp           | 1                  | \n",
       "| whitman-leaves.txt | zee                | 1                  | \n",
       "| whitman-leaves.txt | zeus               | 1                  | \n",
       "| whitman-leaves.txt | zinc               | 1                  | \n",
       "| whitman-leaves.txt | zuyder             | 1                  | \n",
       "\n",
       "\n"
      ],
      "text/plain": [
       "       id                     token         n    \n",
       "1      bible-kjv.txt          the           64023\n",
       "2      bible-kjv.txt          and           51696\n",
       "3      bible-kjv.txt          of            34670\n",
       "4      melville-moby_dick.txt the           14431\n",
       "5      bible-kjv.txt          to            13580\n",
       "6      bible-kjv.txt          that          12912\n",
       "7      bible-kjv.txt          in            12667\n",
       "8      bible-kjv.txt          he            10419\n",
       "9      whitman-leaves.txt     the           10113\n",
       "10     bible-kjv.txt          shall          9838\n",
       "11     bible-kjv.txt          unto           8997\n",
       "12     bible-kjv.txt          for            8970\n",
       "13     bible-kjv.txt          i              8854\n",
       "14     bible-kjv.txt          his            8473\n",
       "15     bible-kjv.txt          a              8177\n",
       "16     bible-kjv.txt          lord           7830\n",
       "17     edgeworth-parents.txt  the            7728\n",
       "18     bible-kjv.txt          they           7376\n",
       "19     bible-kjv.txt          be             7013\n",
       "20     bible-kjv.txt          is             6989\n",
       "21     bible-kjv.txt          him            6659\n",
       "22     melville-moby_dick.txt of             6609\n",
       "23     bible-kjv.txt          not            6596\n",
       "24     bible-kjv.txt          them           6430\n",
       "25     melville-moby_dick.txt and            6430\n",
       "26     bible-kjv.txt          it             6129\n",
       "27     bible-kjv.txt          with           6012\n",
       "28     bible-kjv.txt          all            5620\n",
       "29     bible-kjv.txt          thou           5474\n",
       "30     whitman-leaves.txt     and            5334\n",
       "⋮      ⋮                      ⋮             ⋮    \n",
       "124576 whitman-leaves.txt     xxxi          1    \n",
       "124577 whitman-leaves.txt     xxxii         1    \n",
       "124578 whitman-leaves.txt     xxxiii        1    \n",
       "124579 whitman-leaves.txt     xxxiv         1    \n",
       "124580 whitman-leaves.txt     ya            1    \n",
       "124581 whitman-leaves.txt     yarn          1    \n",
       "124582 whitman-leaves.txt     yawp          1    \n",
       "124583 whitman-leaves.txt     yea           1    \n",
       "124584 whitman-leaves.txt     yearly        1    \n",
       "124585 whitman-leaves.txt     yearn'd       1    \n",
       "124586 whitman-leaves.txt     yearnfully    1    \n",
       "124587 whitman-leaves.txt     yell          1    \n",
       "124588 whitman-leaves.txt     yelling       1    \n",
       "124589 whitman-leaves.txt     yellower      1    \n",
       "124590 whitman-leaves.txt     yellowstone's 1    \n",
       "124591 whitman-leaves.txt     yells         1    \n",
       "124592 whitman-leaves.txt     yesterday     1    \n",
       "124593 whitman-leaves.txt     yiang         1    \n",
       "124594 whitman-leaves.txt     yields        1    \n",
       "124595 whitman-leaves.txt     yoke          1    \n",
       "124596 whitman-leaves.txt     yon           1    \n",
       "124597 whitman-leaves.txt     you'd         1    \n",
       "124598 whitman-leaves.txt     you'll        1    \n",
       "124599 whitman-leaves.txt     you've        1    \n",
       "124600 whitman-leaves.txt     youngster's   1    \n",
       "124601 whitman-leaves.txt     yourselp      1    \n",
       "124602 whitman-leaves.txt     zee           1    \n",
       "124603 whitman-leaves.txt     zeus          1    \n",
       "124604 whitman-leaves.txt     zinc          1    \n",
       "124605 whitman-leaves.txt     zuyder        1    "
      ]
     },
     "metadata": {},
     "output_type": "display_data"
    }
   ],
   "source": [
    "freq.df"
   ]
  },
  {
   "cell_type": "code",
   "execution_count": 11,
   "metadata": {
    "scrolled": true,
    "slideshow": {
     "slide_type": "subslide"
    }
   },
   "outputs": [
    {
     "data": {
      "text/html": [
       "<table>\n",
       "<thead><tr><th scope=col>_______</th><th scope=col>_____________</th><th scope=col>_71_</th><th scope=col>_a_</th><th scope=col>_accepted_</th><th scope=col>_achieved_</th><th scope=col>_adair_</th><th scope=col>_addition_</th><th scope=col>_all_</th><th scope=col>_allowing_</th><th scope=col>⋯</th><th scope=col>zorobabel</th><th scope=col>zso</th><th scope=col>zuar</th><th scope=col>zumpt</th><th scope=col>zuph</th><th scope=col>zur</th><th scope=col>zuriel</th><th scope=col>zurishaddai</th><th scope=col>zuyder</th><th scope=col>zuzims</th></tr></thead>\n",
       "<tbody>\n",
       "\t<tr><td>1</td><td>0</td><td>0</td><td>1</td><td>1</td><td>0</td><td>1</td><td>1</td><td>3</td><td>0</td><td>⋯</td><td>0</td><td>0</td><td>0</td><td>0</td><td>0</td><td>0</td><td>0</td><td>0</td><td>0</td><td>0</td></tr>\n",
       "\t<tr><td>0</td><td>0</td><td>0</td><td>0</td><td>0</td><td>0</td><td>0</td><td>0</td><td>0</td><td>0</td><td>⋯</td><td>0</td><td>0</td><td>0</td><td>0</td><td>0</td><td>0</td><td>0</td><td>0</td><td>0</td><td>0</td></tr>\n",
       "\t<tr><td>0</td><td>0</td><td>0</td><td>0</td><td>0</td><td>0</td><td>0</td><td>0</td><td>0</td><td>0</td><td>⋯</td><td>0</td><td>0</td><td>0</td><td>0</td><td>0</td><td>0</td><td>0</td><td>0</td><td>0</td><td>0</td></tr>\n",
       "\t<tr><td>0</td><td>0</td><td>0</td><td>0</td><td>0</td><td>0</td><td>0</td><td>0</td><td>0</td><td>0</td><td>⋯</td><td>3</td><td>0</td><td>5</td><td>0</td><td>3</td><td>5</td><td>1</td><td>5</td><td>0</td><td>1</td></tr>\n",
       "\t<tr><td>0</td><td>0</td><td>0</td><td>0</td><td>0</td><td>0</td><td>0</td><td>0</td><td>0</td><td>0</td><td>⋯</td><td>0</td><td>0</td><td>0</td><td>0</td><td>0</td><td>0</td><td>0</td><td>0</td><td>0</td><td>0</td></tr>\n",
       "\t<tr><td>0</td><td>0</td><td>0</td><td>0</td><td>0</td><td>0</td><td>0</td><td>0</td><td>1</td><td>1</td><td>⋯</td><td>0</td><td>0</td><td>0</td><td>0</td><td>0</td><td>0</td><td>0</td><td>0</td><td>0</td><td>0</td></tr>\n",
       "\t<tr><td>0</td><td>0</td><td>1</td><td>0</td><td>0</td><td>0</td><td>0</td><td>0</td><td>0</td><td>0</td><td>⋯</td><td>0</td><td>0</td><td>0</td><td>0</td><td>0</td><td>0</td><td>0</td><td>0</td><td>0</td><td>0</td></tr>\n",
       "\t<tr><td>0</td><td>0</td><td>0</td><td>0</td><td>0</td><td>0</td><td>0</td><td>0</td><td>0</td><td>0</td><td>⋯</td><td>0</td><td>0</td><td>0</td><td>0</td><td>0</td><td>0</td><td>0</td><td>0</td><td>0</td><td>0</td></tr>\n",
       "\t<tr><td>0</td><td>0</td><td>0</td><td>0</td><td>0</td><td>1</td><td>0</td><td>0</td><td>0</td><td>0</td><td>⋯</td><td>0</td><td>0</td><td>0</td><td>0</td><td>0</td><td>0</td><td>0</td><td>0</td><td>0</td><td>0</td></tr>\n",
       "\t<tr><td>0</td><td>0</td><td>0</td><td>0</td><td>0</td><td>0</td><td>0</td><td>0</td><td>0</td><td>0</td><td>⋯</td><td>0</td><td>0</td><td>0</td><td>0</td><td>0</td><td>0</td><td>0</td><td>0</td><td>0</td><td>0</td></tr>\n",
       "\t<tr><td>0</td><td>0</td><td>0</td><td>0</td><td>0</td><td>0</td><td>0</td><td>0</td><td>0</td><td>0</td><td>⋯</td><td>0</td><td>2</td><td>0</td><td>1</td><td>0</td><td>0</td><td>0</td><td>0</td><td>0</td><td>0</td></tr>\n",
       "\t<tr><td>0</td><td>0</td><td>0</td><td>0</td><td>0</td><td>0</td><td>0</td><td>0</td><td>0</td><td>0</td><td>⋯</td><td>0</td><td>0</td><td>0</td><td>0</td><td>0</td><td>0</td><td>0</td><td>0</td><td>0</td><td>0</td></tr>\n",
       "\t<tr><td>0</td><td>2</td><td>0</td><td>0</td><td>0</td><td>0</td><td>0</td><td>0</td><td>0</td><td>0</td><td>⋯</td><td>0</td><td>0</td><td>0</td><td>0</td><td>0</td><td>0</td><td>0</td><td>0</td><td>0</td><td>0</td></tr>\n",
       "\t<tr><td>0</td><td>0</td><td>0</td><td>0</td><td>0</td><td>0</td><td>0</td><td>0</td><td>0</td><td>0</td><td>⋯</td><td>0</td><td>0</td><td>0</td><td>0</td><td>0</td><td>0</td><td>0</td><td>0</td><td>0</td><td>0</td></tr>\n",
       "\t<tr><td>0</td><td>0</td><td>0</td><td>0</td><td>0</td><td>0</td><td>0</td><td>0</td><td>0</td><td>0</td><td>⋯</td><td>0</td><td>0</td><td>0</td><td>0</td><td>0</td><td>0</td><td>0</td><td>0</td><td>0</td><td>0</td></tr>\n",
       "\t<tr><td>0</td><td>0</td><td>0</td><td>0</td><td>0</td><td>0</td><td>0</td><td>0</td><td>0</td><td>0</td><td>⋯</td><td>0</td><td>0</td><td>0</td><td>0</td><td>0</td><td>0</td><td>0</td><td>0</td><td>0</td><td>0</td></tr>\n",
       "\t<tr><td>0</td><td>0</td><td>0</td><td>0</td><td>0</td><td>0</td><td>0</td><td>0</td><td>0</td><td>0</td><td>⋯</td><td>0</td><td>0</td><td>0</td><td>0</td><td>0</td><td>0</td><td>0</td><td>0</td><td>0</td><td>0</td></tr>\n",
       "\t<tr><td>0</td><td>0</td><td>0</td><td>0</td><td>0</td><td>0</td><td>0</td><td>0</td><td>0</td><td>0</td><td>⋯</td><td>0</td><td>0</td><td>0</td><td>0</td><td>0</td><td>0</td><td>0</td><td>0</td><td>1</td><td>0</td></tr>\n",
       "</tbody>\n",
       "</table>\n"
      ],
      "text/markdown": [
       "\n",
       "_______ | _____________ | _71_ | _a_ | _accepted_ | _achieved_ | _adair_ | _addition_ | _all_ | _allowing_ | ⋯ | zorobabel | zso | zuar | zumpt | zuph | zur | zuriel | zurishaddai | zuyder | zuzims | \n",
       "|---|---|---|---|---|---|---|---|---|---|---|---|---|---|---|---|---|---|\n",
       "| 1 | 0 | 0 | 1 | 1 | 0 | 1 | 1 | 3 | 0 | ⋯ | 0 | 0 | 0 | 0 | 0 | 0 | 0 | 0 | 0 | 0 | \n",
       "| 0 | 0 | 0 | 0 | 0 | 0 | 0 | 0 | 0 | 0 | ⋯ | 0 | 0 | 0 | 0 | 0 | 0 | 0 | 0 | 0 | 0 | \n",
       "| 0 | 0 | 0 | 0 | 0 | 0 | 0 | 0 | 0 | 0 | ⋯ | 0 | 0 | 0 | 0 | 0 | 0 | 0 | 0 | 0 | 0 | \n",
       "| 0 | 0 | 0 | 0 | 0 | 0 | 0 | 0 | 0 | 0 | ⋯ | 3 | 0 | 5 | 0 | 3 | 5 | 1 | 5 | 0 | 1 | \n",
       "| 0 | 0 | 0 | 0 | 0 | 0 | 0 | 0 | 0 | 0 | ⋯ | 0 | 0 | 0 | 0 | 0 | 0 | 0 | 0 | 0 | 0 | \n",
       "| 0 | 0 | 0 | 0 | 0 | 0 | 0 | 0 | 1 | 1 | ⋯ | 0 | 0 | 0 | 0 | 0 | 0 | 0 | 0 | 0 | 0 | \n",
       "| 0 | 0 | 1 | 0 | 0 | 0 | 0 | 0 | 0 | 0 | ⋯ | 0 | 0 | 0 | 0 | 0 | 0 | 0 | 0 | 0 | 0 | \n",
       "| 0 | 0 | 0 | 0 | 0 | 0 | 0 | 0 | 0 | 0 | ⋯ | 0 | 0 | 0 | 0 | 0 | 0 | 0 | 0 | 0 | 0 | \n",
       "| 0 | 0 | 0 | 0 | 0 | 1 | 0 | 0 | 0 | 0 | ⋯ | 0 | 0 | 0 | 0 | 0 | 0 | 0 | 0 | 0 | 0 | \n",
       "| 0 | 0 | 0 | 0 | 0 | 0 | 0 | 0 | 0 | 0 | ⋯ | 0 | 0 | 0 | 0 | 0 | 0 | 0 | 0 | 0 | 0 | \n",
       "| 0 | 0 | 0 | 0 | 0 | 0 | 0 | 0 | 0 | 0 | ⋯ | 0 | 2 | 0 | 1 | 0 | 0 | 0 | 0 | 0 | 0 | \n",
       "| 0 | 0 | 0 | 0 | 0 | 0 | 0 | 0 | 0 | 0 | ⋯ | 0 | 0 | 0 | 0 | 0 | 0 | 0 | 0 | 0 | 0 | \n",
       "| 0 | 2 | 0 | 0 | 0 | 0 | 0 | 0 | 0 | 0 | ⋯ | 0 | 0 | 0 | 0 | 0 | 0 | 0 | 0 | 0 | 0 | \n",
       "| 0 | 0 | 0 | 0 | 0 | 0 | 0 | 0 | 0 | 0 | ⋯ | 0 | 0 | 0 | 0 | 0 | 0 | 0 | 0 | 0 | 0 | \n",
       "| 0 | 0 | 0 | 0 | 0 | 0 | 0 | 0 | 0 | 0 | ⋯ | 0 | 0 | 0 | 0 | 0 | 0 | 0 | 0 | 0 | 0 | \n",
       "| 0 | 0 | 0 | 0 | 0 | 0 | 0 | 0 | 0 | 0 | ⋯ | 0 | 0 | 0 | 0 | 0 | 0 | 0 | 0 | 0 | 0 | \n",
       "| 0 | 0 | 0 | 0 | 0 | 0 | 0 | 0 | 0 | 0 | ⋯ | 0 | 0 | 0 | 0 | 0 | 0 | 0 | 0 | 0 | 0 | \n",
       "| 0 | 0 | 0 | 0 | 0 | 0 | 0 | 0 | 0 | 0 | ⋯ | 0 | 0 | 0 | 0 | 0 | 0 | 0 | 0 | 1 | 0 | \n",
       "\n",
       "\n"
      ],
      "text/plain": [
       "   _______ _____________ _71_ _a_ _accepted_ _achieved_ _adair_ _addition_\n",
       "1  1       0             0    1   1          0          1       1         \n",
       "2  0       0             0    0   0          0          0       0         \n",
       "3  0       0             0    0   0          0          0       0         \n",
       "4  0       0             0    0   0          0          0       0         \n",
       "5  0       0             0    0   0          0          0       0         \n",
       "6  0       0             0    0   0          0          0       0         \n",
       "7  0       0             1    0   0          0          0       0         \n",
       "8  0       0             0    0   0          0          0       0         \n",
       "9  0       0             0    0   0          1          0       0         \n",
       "10 0       0             0    0   0          0          0       0         \n",
       "11 0       0             0    0   0          0          0       0         \n",
       "12 0       0             0    0   0          0          0       0         \n",
       "13 0       2             0    0   0          0          0       0         \n",
       "14 0       0             0    0   0          0          0       0         \n",
       "15 0       0             0    0   0          0          0       0         \n",
       "16 0       0             0    0   0          0          0       0         \n",
       "17 0       0             0    0   0          0          0       0         \n",
       "18 0       0             0    0   0          0          0       0         \n",
       "   _all_ _allowing_ ⋯ zorobabel zso zuar zumpt zuph zur zuriel zurishaddai\n",
       "1  3     0          ⋯ 0         0   0    0     0    0   0      0          \n",
       "2  0     0          ⋯ 0         0   0    0     0    0   0      0          \n",
       "3  0     0          ⋯ 0         0   0    0     0    0   0      0          \n",
       "4  0     0          ⋯ 3         0   5    0     3    5   1      5          \n",
       "5  0     0          ⋯ 0         0   0    0     0    0   0      0          \n",
       "6  1     1          ⋯ 0         0   0    0     0    0   0      0          \n",
       "7  0     0          ⋯ 0         0   0    0     0    0   0      0          \n",
       "8  0     0          ⋯ 0         0   0    0     0    0   0      0          \n",
       "9  0     0          ⋯ 0         0   0    0     0    0   0      0          \n",
       "10 0     0          ⋯ 0         0   0    0     0    0   0      0          \n",
       "11 0     0          ⋯ 0         2   0    1     0    0   0      0          \n",
       "12 0     0          ⋯ 0         0   0    0     0    0   0      0          \n",
       "13 0     0          ⋯ 0         0   0    0     0    0   0      0          \n",
       "14 0     0          ⋯ 0         0   0    0     0    0   0      0          \n",
       "15 0     0          ⋯ 0         0   0    0     0    0   0      0          \n",
       "16 0     0          ⋯ 0         0   0    0     0    0   0      0          \n",
       "17 0     0          ⋯ 0         0   0    0     0    0   0      0          \n",
       "18 0     0          ⋯ 0         0   0    0     0    0   0      0          \n",
       "   zuyder zuzims\n",
       "1  0      0     \n",
       "2  0      0     \n",
       "3  0      0     \n",
       "4  0      1     \n",
       "5  0      0     \n",
       "6  0      0     \n",
       "7  0      0     \n",
       "8  0      0     \n",
       "9  0      0     \n",
       "10 0      0     \n",
       "11 0      0     \n",
       "12 0      0     \n",
       "13 0      0     \n",
       "14 0      0     \n",
       "15 0      0     \n",
       "16 0      0     \n",
       "17 0      0     \n",
       "18 1      0     "
      ]
     },
     "metadata": {},
     "output_type": "display_data"
    }
   ],
   "source": [
    "##  Document-Term-Matrix\n",
    "freq.df %>%\n",
    "  spread(token, n, fill=0) %>%\n",
    "  select(-1)"
   ]
  },
  {
   "cell_type": "markdown",
   "metadata": {
    "slideshow": {
     "slide_type": "subslide"
    }
   },
   "source": [
    "## Inside the frame and outside the box\n",
    "\n",
    "The main advantage to practicing a data wrangling approach (i.e. building the analysis around a central piece of data structure) is a increase in flexibility.\n",
    "\n",
    "* Flexibility: being able to analyize the data unconstrained by packages and following ones own semantic.\n",
    "* Literacy: being able to express onesself fluently in R."
   ]
  },
  {
   "cell_type": "markdown",
   "metadata": {
    "slideshow": {
     "slide_type": "subslide"
    }
   },
   "source": [
    "## Zipf's law\n",
    "\n",
    "states that the frequency of a type $n$ is proportional to the inverse of the rank of that type $r$. Including a parameter $\\alpha$, this relationship forms a power-law:\n",
    "\n",
    "$$\n",
    "n \\propto \\frac{1}{r^\\alpha}\n",
    "$$\n",
    "\n",
    "or in its more canonical form\n",
    "\n",
    "$$\n",
    "p(r) = Cr^{-\\alpha}.\n",
    "$$\n"
   ]
  },
  {
   "cell_type": "code",
   "execution_count": 12,
   "metadata": {
    "slideshow": {
     "slide_type": "subslide"
    }
   },
   "outputs": [],
   "source": [
    "books.df <- freq.df %>%\n",
    "  group_by(id) %>%\n",
    "  mutate(total=sum(n),\n",
    "         TermFreq=n/total,\n",
    "         title=str_sub(id, end=-5)) %>%\n",
    "  arrange(desc(n)) %>%\n",
    "  mutate(rank=row_number()) %>%\n",
    "  ungroup()"
   ]
  },
  {
   "cell_type": "code",
   "execution_count": 13,
   "metadata": {
    "slideshow": {
     "slide_type": "subslide"
    }
   },
   "outputs": [
    {
     "data": {
      "text/html": [
       "<table>\n",
       "<thead><tr><th scope=col>id</th><th scope=col>token</th><th scope=col>n</th><th scope=col>total</th><th scope=col>TermFreq</th><th scope=col>title</th><th scope=col>rank</th></tr></thead>\n",
       "<tbody>\n",
       "\t<tr><td>bible-kjv.txt         </td><td>the                   </td><td>64023                 </td><td>852254                </td><td>0.075121971           </td><td>bible-kjv             </td><td> 1                    </td></tr>\n",
       "\t<tr><td>bible-kjv.txt         </td><td>and                   </td><td>51696                 </td><td>852254                </td><td>0.060657973           </td><td>bible-kjv             </td><td> 2                    </td></tr>\n",
       "\t<tr><td>bible-kjv.txt         </td><td>of                    </td><td>34670                 </td><td>852254                </td><td>0.040680361           </td><td>bible-kjv             </td><td> 3                    </td></tr>\n",
       "\t<tr><td>melville-moby_dick.txt</td><td>the                   </td><td>14431                 </td><td>216155                </td><td>0.066762277           </td><td>melville-moby_dick    </td><td> 1                    </td></tr>\n",
       "\t<tr><td>bible-kjv.txt         </td><td>to                    </td><td>13580                 </td><td>852254                </td><td>0.015934217           </td><td>bible-kjv             </td><td> 4                    </td></tr>\n",
       "\t<tr><td>bible-kjv.txt         </td><td>that                  </td><td>12912                 </td><td>852254                </td><td>0.015150413           </td><td>bible-kjv             </td><td> 5                    </td></tr>\n",
       "\t<tr><td>bible-kjv.txt         </td><td>in                    </td><td>12667                 </td><td>852254                </td><td>0.014862940           </td><td>bible-kjv             </td><td> 6                    </td></tr>\n",
       "\t<tr><td>bible-kjv.txt         </td><td>he                    </td><td>10419                 </td><td>852254                </td><td>0.012225229           </td><td>bible-kjv             </td><td> 7                    </td></tr>\n",
       "\t<tr><td>whitman-leaves.txt    </td><td>the                   </td><td>10113                 </td><td>124335                </td><td>0.081336711           </td><td>whitman-leaves        </td><td> 1                    </td></tr>\n",
       "\t<tr><td>bible-kjv.txt         </td><td>shall                 </td><td> 9838                 </td><td>852254                </td><td>0.011543507           </td><td>bible-kjv             </td><td> 8                    </td></tr>\n",
       "\t<tr><td>bible-kjv.txt         </td><td>unto                  </td><td> 8997                 </td><td>852254                </td><td>0.010556712           </td><td>bible-kjv             </td><td> 9                    </td></tr>\n",
       "\t<tr><td>bible-kjv.txt         </td><td>for                   </td><td> 8970                 </td><td>852254                </td><td>0.010525031           </td><td>bible-kjv             </td><td>10                    </td></tr>\n",
       "\t<tr><td>bible-kjv.txt         </td><td>i                     </td><td> 8854                 </td><td>852254                </td><td>0.010388922           </td><td>bible-kjv             </td><td>11                    </td></tr>\n",
       "\t<tr><td>bible-kjv.txt         </td><td>his                   </td><td> 8473                 </td><td>852254                </td><td>0.009941872           </td><td>bible-kjv             </td><td>12                    </td></tr>\n",
       "\t<tr><td>bible-kjv.txt         </td><td>a                     </td><td> 8177                 </td><td>852254                </td><td>0.009594557           </td><td>bible-kjv             </td><td>13                    </td></tr>\n",
       "\t<tr><td>bible-kjv.txt         </td><td>lord                  </td><td> 7830                 </td><td>852254                </td><td>0.009187402           </td><td>bible-kjv             </td><td>14                    </td></tr>\n",
       "\t<tr><td>edgeworth-parents.txt </td><td>the                   </td><td> 7728                 </td><td>167715                </td><td>0.046078168           </td><td>edgeworth-parents     </td><td> 1                    </td></tr>\n",
       "\t<tr><td>bible-kjv.txt         </td><td>they                  </td><td> 7376                 </td><td>852254                </td><td>0.008654697           </td><td>bible-kjv             </td><td>15                    </td></tr>\n",
       "\t<tr><td>bible-kjv.txt         </td><td>be                    </td><td> 7013                 </td><td>852254                </td><td>0.008228767           </td><td>bible-kjv             </td><td>16                    </td></tr>\n",
       "\t<tr><td>bible-kjv.txt         </td><td>is                    </td><td> 6989                 </td><td>852254                </td><td>0.008200607           </td><td>bible-kjv             </td><td>17                    </td></tr>\n",
       "</tbody>\n",
       "</table>\n"
      ],
      "text/latex": [
       "\\begin{tabular}{r|lllllll}\n",
       " id & token & n & total & TermFreq & title & rank\\\\\n",
       "\\hline\n",
       "\t bible-kjv.txt          & the                    & 64023                  & 852254                 & 0.075121971            & bible-kjv              &  1                    \\\\\n",
       "\t bible-kjv.txt          & and                    & 51696                  & 852254                 & 0.060657973            & bible-kjv              &  2                    \\\\\n",
       "\t bible-kjv.txt          & of                     & 34670                  & 852254                 & 0.040680361            & bible-kjv              &  3                    \\\\\n",
       "\t melville-moby\\_dick.txt & the                      & 14431                    & 216155                   & 0.066762277              & melville-moby\\_dick     &  1                      \\\\\n",
       "\t bible-kjv.txt          & to                     & 13580                  & 852254                 & 0.015934217            & bible-kjv              &  4                    \\\\\n",
       "\t bible-kjv.txt          & that                   & 12912                  & 852254                 & 0.015150413            & bible-kjv              &  5                    \\\\\n",
       "\t bible-kjv.txt          & in                     & 12667                  & 852254                 & 0.014862940            & bible-kjv              &  6                    \\\\\n",
       "\t bible-kjv.txt          & he                     & 10419                  & 852254                 & 0.012225229            & bible-kjv              &  7                    \\\\\n",
       "\t whitman-leaves.txt     & the                    & 10113                  & 124335                 & 0.081336711            & whitman-leaves         &  1                    \\\\\n",
       "\t bible-kjv.txt          & shall                  &  9838                  & 852254                 & 0.011543507            & bible-kjv              &  8                    \\\\\n",
       "\t bible-kjv.txt          & unto                   &  8997                  & 852254                 & 0.010556712            & bible-kjv              &  9                    \\\\\n",
       "\t bible-kjv.txt          & for                    &  8970                  & 852254                 & 0.010525031            & bible-kjv              & 10                    \\\\\n",
       "\t bible-kjv.txt          & i                      &  8854                  & 852254                 & 0.010388922            & bible-kjv              & 11                    \\\\\n",
       "\t bible-kjv.txt          & his                    &  8473                  & 852254                 & 0.009941872            & bible-kjv              & 12                    \\\\\n",
       "\t bible-kjv.txt          & a                      &  8177                  & 852254                 & 0.009594557            & bible-kjv              & 13                    \\\\\n",
       "\t bible-kjv.txt          & lord                   &  7830                  & 852254                 & 0.009187402            & bible-kjv              & 14                    \\\\\n",
       "\t edgeworth-parents.txt  & the                    &  7728                  & 167715                 & 0.046078168            & edgeworth-parents      &  1                    \\\\\n",
       "\t bible-kjv.txt          & they                   &  7376                  & 852254                 & 0.008654697            & bible-kjv              & 15                    \\\\\n",
       "\t bible-kjv.txt          & be                     &  7013                  & 852254                 & 0.008228767            & bible-kjv              & 16                    \\\\\n",
       "\t bible-kjv.txt          & is                     &  6989                  & 852254                 & 0.008200607            & bible-kjv              & 17                    \\\\\n",
       "\\end{tabular}\n"
      ],
      "text/markdown": [
       "\n",
       "id | token | n | total | TermFreq | title | rank | \n",
       "|---|---|---|---|---|---|---|---|---|---|---|---|---|---|---|---|---|---|---|---|\n",
       "| bible-kjv.txt          | the                    | 64023                  | 852254                 | 0.075121971            | bible-kjv              |  1                     | \n",
       "| bible-kjv.txt          | and                    | 51696                  | 852254                 | 0.060657973            | bible-kjv              |  2                     | \n",
       "| bible-kjv.txt          | of                     | 34670                  | 852254                 | 0.040680361            | bible-kjv              |  3                     | \n",
       "| melville-moby_dick.txt | the                    | 14431                  | 216155                 | 0.066762277            | melville-moby_dick     |  1                     | \n",
       "| bible-kjv.txt          | to                     | 13580                  | 852254                 | 0.015934217            | bible-kjv              |  4                     | \n",
       "| bible-kjv.txt          | that                   | 12912                  | 852254                 | 0.015150413            | bible-kjv              |  5                     | \n",
       "| bible-kjv.txt          | in                     | 12667                  | 852254                 | 0.014862940            | bible-kjv              |  6                     | \n",
       "| bible-kjv.txt          | he                     | 10419                  | 852254                 | 0.012225229            | bible-kjv              |  7                     | \n",
       "| whitman-leaves.txt     | the                    | 10113                  | 124335                 | 0.081336711            | whitman-leaves         |  1                     | \n",
       "| bible-kjv.txt          | shall                  |  9838                  | 852254                 | 0.011543507            | bible-kjv              |  8                     | \n",
       "| bible-kjv.txt          | unto                   |  8997                  | 852254                 | 0.010556712            | bible-kjv              |  9                     | \n",
       "| bible-kjv.txt          | for                    |  8970                  | 852254                 | 0.010525031            | bible-kjv              | 10                     | \n",
       "| bible-kjv.txt          | i                      |  8854                  | 852254                 | 0.010388922            | bible-kjv              | 11                     | \n",
       "| bible-kjv.txt          | his                    |  8473                  | 852254                 | 0.009941872            | bible-kjv              | 12                     | \n",
       "| bible-kjv.txt          | a                      |  8177                  | 852254                 | 0.009594557            | bible-kjv              | 13                     | \n",
       "| bible-kjv.txt          | lord                   |  7830                  | 852254                 | 0.009187402            | bible-kjv              | 14                     | \n",
       "| edgeworth-parents.txt  | the                    |  7728                  | 167715                 | 0.046078168            | edgeworth-parents      |  1                     | \n",
       "| bible-kjv.txt          | they                   |  7376                  | 852254                 | 0.008654697            | bible-kjv              | 15                     | \n",
       "| bible-kjv.txt          | be                     |  7013                  | 852254                 | 0.008228767            | bible-kjv              | 16                     | \n",
       "| bible-kjv.txt          | is                     |  6989                  | 852254                 | 0.008200607            | bible-kjv              | 17                     | \n",
       "\n",
       "\n"
      ],
      "text/plain": [
       "   id                     token n     total  TermFreq    title             \n",
       "1  bible-kjv.txt          the   64023 852254 0.075121971 bible-kjv         \n",
       "2  bible-kjv.txt          and   51696 852254 0.060657973 bible-kjv         \n",
       "3  bible-kjv.txt          of    34670 852254 0.040680361 bible-kjv         \n",
       "4  melville-moby_dick.txt the   14431 216155 0.066762277 melville-moby_dick\n",
       "5  bible-kjv.txt          to    13580 852254 0.015934217 bible-kjv         \n",
       "6  bible-kjv.txt          that  12912 852254 0.015150413 bible-kjv         \n",
       "7  bible-kjv.txt          in    12667 852254 0.014862940 bible-kjv         \n",
       "8  bible-kjv.txt          he    10419 852254 0.012225229 bible-kjv         \n",
       "9  whitman-leaves.txt     the   10113 124335 0.081336711 whitman-leaves    \n",
       "10 bible-kjv.txt          shall  9838 852254 0.011543507 bible-kjv         \n",
       "11 bible-kjv.txt          unto   8997 852254 0.010556712 bible-kjv         \n",
       "12 bible-kjv.txt          for    8970 852254 0.010525031 bible-kjv         \n",
       "13 bible-kjv.txt          i      8854 852254 0.010388922 bible-kjv         \n",
       "14 bible-kjv.txt          his    8473 852254 0.009941872 bible-kjv         \n",
       "15 bible-kjv.txt          a      8177 852254 0.009594557 bible-kjv         \n",
       "16 bible-kjv.txt          lord   7830 852254 0.009187402 bible-kjv         \n",
       "17 edgeworth-parents.txt  the    7728 167715 0.046078168 edgeworth-parents \n",
       "18 bible-kjv.txt          they   7376 852254 0.008654697 bible-kjv         \n",
       "19 bible-kjv.txt          be     7013 852254 0.008228767 bible-kjv         \n",
       "20 bible-kjv.txt          is     6989 852254 0.008200607 bible-kjv         \n",
       "   rank\n",
       "1   1  \n",
       "2   2  \n",
       "3   3  \n",
       "4   1  \n",
       "5   4  \n",
       "6   5  \n",
       "7   6  \n",
       "8   7  \n",
       "9   1  \n",
       "10  8  \n",
       "11  9  \n",
       "12 10  \n",
       "13 11  \n",
       "14 12  \n",
       "15 13  \n",
       "16 14  \n",
       "17  1  \n",
       "18 15  \n",
       "19 16  \n",
       "20 17  "
      ]
     },
     "metadata": {},
     "output_type": "display_data"
    }
   ],
   "source": [
    "books.df[1:20,]"
   ]
  },
  {
   "cell_type": "code",
   "execution_count": 14,
   "metadata": {
    "slideshow": {
     "slide_type": "subslide"
    }
   },
   "outputs": [
    {
     "data": {},
     "metadata": {},
     "output_type": "display_data"
    },
    {
     "data": {
      "image/png": "[encoded data removed]",
      "text/plain": [
       "plot without title"
      ]
     },
     "metadata": {},
     "output_type": "display_data"
    }
   ],
   "source": [
    "books.df %>%\n",
    "  ggplot(aes(rank, TermFreq, color=title)) +\n",
    "    geom_line(alpha=0.8) +\n",
    "    scale_x_log10() +\n",
    "    scale_y_log10()"
   ]
  },
  {
   "cell_type": "markdown",
   "metadata": {
    "slideshow": {
     "slide_type": "slide"
    }
   },
   "source": [
    "# Readability"
   ]
  },
  {
   "cell_type": "markdown",
   "metadata": {},
   "source": [
    "## Objective complexity\n",
    "\n",
    "Readbility scores and indezes try to assess the difficulty in understanding the text by looking at its structural properties. Two different approaches:\n",
    "\n",
    "* Complexity as a function of the texts properties (e.g. TTR, MTLD).\n",
    "* Readability as a function of text and language (e.g. SMOG, Flesch-Kincaid). Often mapped to grade levels, by comparison with texts from these specific grades."
   ]
  },
  {
   "cell_type": "markdown",
   "metadata": {
    "slideshow": {
     "slide_type": "subslide"
    }
   },
   "source": [
    "## `readability` in `koRpus`\n",
    "\n",
    "Provides a wide variety of functions to measure the readbility of texts. To see the implemented measurements call `?readbility`. However, these functions depend on a working TreeTagger installation and require a file path to the text documents as input."
   ]
  },
  {
   "cell_type": "markdown",
   "metadata": {
    "slideshow": {
     "slide_type": "subslide"
    }
   },
   "source": [
    "## TTR\n",
    "\n",
    "The original measure of text complexity: the Type-Token-Ratio. It is calculated as the number of types $n(w)$ divided by the number of all tokens in the document $n(t)$:\n",
    "\n",
    "$$\n",
    "\\text{TTR}_D = \\frac{n(w)}{n(t)}\n",
    "$$\n",
    "\n",
    "and consequentally takes on values between $0$ and $1$. Whereby higher values are often considered a sign of higher diversity."
   ]
  },
  {
   "cell_type": "code",
   "execution_count": 15,
   "metadata": {
    "scrolled": false,
    "slideshow": {
     "slide_type": "subslide"
    }
   },
   "outputs": [
    {
     "data": {
      "text/html": [
       "<table>\n",
       "<thead><tr><th scope=col>id</th><th scope=col>TTR</th></tr></thead>\n",
       "<tbody>\n",
       "\t<tr><td>blake-poems.txt        </td><td>0.22576400             </td></tr>\n",
       "\t<tr><td>shakespeare-macbeth.txt</td><td>0.19916989             </td></tr>\n",
       "\t<tr><td>shakespeare-hamlet.txt </td><td>0.16206479             </td></tr>\n",
       "\t<tr><td>shakespeare-caesar.txt </td><td>0.15014123             </td></tr>\n",
       "\t<tr><td>milton-paradise.txt    </td><td>0.11328647             </td></tr>\n",
       "\t<tr><td>chesterton-thursday.txt</td><td>0.10919570             </td></tr>\n",
       "\t<tr><td>chesterton-brown.txt   </td><td>0.10892990             </td></tr>\n",
       "\t<tr><td>whitman-leaves.txt     </td><td>0.10412193             </td></tr>\n",
       "\t<tr><td>chesterton-ball.txt    </td><td>0.10182888             </td></tr>\n",
       "\t<tr><td>carroll-alice.txt      </td><td>0.09858363             </td></tr>\n",
       "\t<tr><td>burgess-busterbrown.txt</td><td>0.09762665             </td></tr>\n",
       "\t<tr><td>bryant-stories.txt     </td><td>0.08585739             </td></tr>\n",
       "\t<tr><td>melville-moby_dick.txt </td><td>0.08128889             </td></tr>\n",
       "\t<tr><td>austen-persuasion.txt  </td><td>0.07004626             </td></tr>\n",
       "\t<tr><td>austen-sense.txt       </td><td>0.05360075             </td></tr>\n",
       "\t<tr><td>edgeworth-parents.txt  </td><td>0.05136094             </td></tr>\n",
       "\t<tr><td>austen-emma.txt        </td><td>0.04572728             </td></tr>\n",
       "\t<tr><td>bible-kjv.txt          </td><td>0.01521377             </td></tr>\n",
       "</tbody>\n",
       "</table>\n"
      ],
      "text/latex": [
       "\\begin{tabular}{r|ll}\n",
       " id & TTR\\\\\n",
       "\\hline\n",
       "\t blake-poems.txt         & 0.22576400             \\\\\n",
       "\t shakespeare-macbeth.txt & 0.19916989             \\\\\n",
       "\t shakespeare-hamlet.txt  & 0.16206479             \\\\\n",
       "\t shakespeare-caesar.txt  & 0.15014123             \\\\\n",
       "\t milton-paradise.txt     & 0.11328647             \\\\\n",
       "\t chesterton-thursday.txt & 0.10919570             \\\\\n",
       "\t chesterton-brown.txt    & 0.10892990             \\\\\n",
       "\t whitman-leaves.txt      & 0.10412193             \\\\\n",
       "\t chesterton-ball.txt     & 0.10182888             \\\\\n",
       "\t carroll-alice.txt       & 0.09858363             \\\\\n",
       "\t burgess-busterbrown.txt & 0.09762665             \\\\\n",
       "\t bryant-stories.txt      & 0.08585739             \\\\\n",
       "\t melville-moby\\_dick.txt  & 0.08128889               \\\\\n",
       "\t austen-persuasion.txt   & 0.07004626             \\\\\n",
       "\t austen-sense.txt        & 0.05360075             \\\\\n",
       "\t edgeworth-parents.txt   & 0.05136094             \\\\\n",
       "\t austen-emma.txt         & 0.04572728             \\\\\n",
       "\t bible-kjv.txt           & 0.01521377             \\\\\n",
       "\\end{tabular}\n"
      ],
      "text/markdown": [
       "\n",
       "id | TTR | \n",
       "|---|---|---|---|---|---|---|---|---|---|---|---|---|---|---|---|---|---|\n",
       "| blake-poems.txt         | 0.22576400              | \n",
       "| shakespeare-macbeth.txt | 0.19916989              | \n",
       "| shakespeare-hamlet.txt  | 0.16206479              | \n",
       "| shakespeare-caesar.txt  | 0.15014123              | \n",
       "| milton-paradise.txt     | 0.11328647              | \n",
       "| chesterton-thursday.txt | 0.10919570              | \n",
       "| chesterton-brown.txt    | 0.10892990              | \n",
       "| whitman-leaves.txt      | 0.10412193              | \n",
       "| chesterton-ball.txt     | 0.10182888              | \n",
       "| carroll-alice.txt       | 0.09858363              | \n",
       "| burgess-busterbrown.txt | 0.09762665              | \n",
       "| bryant-stories.txt      | 0.08585739              | \n",
       "| melville-moby_dick.txt  | 0.08128889              | \n",
       "| austen-persuasion.txt   | 0.07004626              | \n",
       "| austen-sense.txt        | 0.05360075              | \n",
       "| edgeworth-parents.txt   | 0.05136094              | \n",
       "| austen-emma.txt         | 0.04572728              | \n",
       "| bible-kjv.txt           | 0.01521377              | \n",
       "\n",
       "\n"
      ],
      "text/plain": [
       "   id                      TTR       \n",
       "1  blake-poems.txt         0.22576400\n",
       "2  shakespeare-macbeth.txt 0.19916989\n",
       "3  shakespeare-hamlet.txt  0.16206479\n",
       "4  shakespeare-caesar.txt  0.15014123\n",
       "5  milton-paradise.txt     0.11328647\n",
       "6  chesterton-thursday.txt 0.10919570\n",
       "7  chesterton-brown.txt    0.10892990\n",
       "8  whitman-leaves.txt      0.10412193\n",
       "9  chesterton-ball.txt     0.10182888\n",
       "10 carroll-alice.txt       0.09858363\n",
       "11 burgess-busterbrown.txt 0.09762665\n",
       "12 bryant-stories.txt      0.08585739\n",
       "13 melville-moby_dick.txt  0.08128889\n",
       "14 austen-persuasion.txt   0.07004626\n",
       "15 austen-sense.txt        0.05360075\n",
       "16 edgeworth-parents.txt   0.05136094\n",
       "17 austen-emma.txt         0.04572728\n",
       "18 bible-kjv.txt           0.01521377"
      ]
     },
     "metadata": {},
     "output_type": "display_data"
    }
   ],
   "source": [
    "books.df %>%\n",
    "  group_by(id) %>%\n",
    "  mutate(n.types=n(),\n",
    "         TTR=n.types/total) %>%\n",
    "  select(id, TTR) %>%\n",
    "  summarise(TTR=unique(TTR)) %>%\n",
    "  arrange(desc(TTR))"
   ]
  },
  {
   "cell_type": "markdown",
   "metadata": {
    "slideshow": {
     "slide_type": "subslide"
    }
   },
   "source": [
    "## Simple Measure of Gobbledygook (Smog)\n",
    "\n",
    "Developed by Harry McLaughlin (1969). SMOG is widely used in the evaluation of the general readbility of medical documents. The SMOG index expresses readbility as the minimum number of school years necessary to understand the text.  \n",
    "\n",
    "$$\n",
    "\\text{SMOG}_D = 1.0430 \\sqrt{\\mathrm{polysyl}_D {30 \\over s_D} } + 3.1291\n",
    "$$\n",
    "\n",
    "Whereby $s_D$ denotes the number of sentences in the text, while $\\text{polysyl}_D$ stands for the number of words with more then three syllables."
   ]
  },
  {
   "cell_type": "code",
   "execution_count": 16,
   "metadata": {
    "collapsed": true
   },
   "outputs": [],
   "source": [
    "?koRpus::readability"
   ]
  },
  {
   "cell_type": "markdown",
   "metadata": {
    "slideshow": {
     "slide_type": "slide"
    }
   },
   "source": [
    "# Similarity"
   ]
  },
  {
   "cell_type": "code",
   "execution_count": 17,
   "metadata": {
    "slideshow": {
     "slide_type": "subslide"
    }
   },
   "outputs": [
    {
     "name": "stderr",
     "output_type": "stream",
     "text": [
      "Loading required package: SnowballC\n",
      "\n",
      "Attaching package: ‘lsa’\n",
      "\n",
      "The following object is masked from ‘package:koRpus’:\n",
      "\n",
      "    query\n",
      "\n",
      "The following object is masked from ‘package:dplyr’:\n",
      "\n",
      "    query\n",
      "\n"
     ]
    }
   ],
   "source": [
    "#install.packages(\"lsa\")\n",
    "library(lsa)"
   ]
  },
  {
   "cell_type": "markdown",
   "metadata": {
    "slideshow": {
     "slide_type": "subslide"
    }
   },
   "source": [
    "## The vectorspace model\n",
    "\n",
    "Proposed by Gerard Salton (1979) as one possible model of information retrieval. Text is represented as a vector of word frequencies. This allows for the use of linear algebra to compare vectors with each other and with query vectors."
   ]
  },
  {
   "cell_type": "markdown",
   "metadata": {
    "slideshow": {
     "slide_type": "subslide"
    }
   },
   "source": [
    "> Vector space models have attractive qualities: processing vector spaces is a manageable implementational framework, they are mathematically welldefined and understood, and they are intuitively appealing, conforming to everyday metaphors such as “near in meaning”. In this way, vector spaces can be interpreted as a model of meaning, as semantic spaces. (Karlgren 2008:531)"
   ]
  },
  {
   "cell_type": "markdown",
   "metadata": {
    "slideshow": {
     "slide_type": "subslide"
    }
   },
   "source": [
    "## Salton's Cosine\n",
    "\n",
    "It is not the length of the vector that counts, but its rotation in n-dimensional space. The cosine measure calculates the cosine of the angle between two vectors. It takes on a value of $0$ for orthogonal vectors (dissimilarity) and $[1,-1]$ for parallel vectors (similarity) \n",
    " \n",
    "$$\n",
    "\\cos_i(Q, d_i) = \n",
    "\\frac{Q \\cdot d_i}{|{Q}|\\,|{d_i}|} =\n",
    "\\frac{\\sum^{t}_{j=1}{a_{ij} q_j}}{ \\sqrt{\\sum^{t}_{j=1}{a_{ij}^2}} \\sqrt{\\sum^{t}_{j=1}{q_j^2}}}.\n",
    "$$"
   ]
  },
  {
   "cell_type": "code",
   "execution_count": 18,
   "metadata": {
    "slideshow": {
     "slide_type": "subslide"
    }
   },
   "outputs": [],
   "source": [
    "dtm <- freq.df %>%\n",
    "  spread(token, n, fill=0) %>%\n",
    "  select(-1)\n",
    "\n",
    "mat <- as.matrix(dtm)"
   ]
  },
  {
   "cell_type": "code",
   "execution_count": 19,
   "metadata": {},
   "outputs": [
    {
     "data": {
      "text/html": [
       "<table>\n",
       "<thead><tr><th></th><th scope=col>1</th><th scope=col>2</th><th scope=col>3</th><th scope=col>4</th><th scope=col>5</th><th scope=col>6</th><th scope=col>7</th><th scope=col>8</th><th scope=col>9</th><th scope=col>10</th><th scope=col>11</th><th scope=col>12</th><th scope=col>13</th><th scope=col>14</th><th scope=col>15</th><th scope=col>16</th><th scope=col>17</th><th scope=col>18</th></tr></thead>\n",
       "<tbody>\n",
       "\t<tr><th scope=row>1</th><td>1.0000000</td><td>0.9734593</td><td>0.9776484</td><td>0.7798336</td><td>0.7908751</td><td>0.8511897</td><td>0.8128633</td><td>0.8835090</td><td>0.8750426</td><td>0.8693141</td><td>0.8611004</td><td>0.9515135</td><td>0.8466316</td><td>0.8299200</td><td>0.8356140</td><td>0.8617466</td><td>0.8611511</td><td>0.7893346</td></tr>\n",
       "\t<tr><th scope=row>2</th><td>0.9734593</td><td>1.0000000</td><td>0.9764619</td><td>0.8288708</td><td>0.8268466</td><td>0.8859412</td><td>0.8313164</td><td>0.8964627</td><td>0.9047839</td><td>0.9021303</td><td>0.8891418</td><td>0.9536692</td><td>0.8906722</td><td>0.8717844</td><td>0.8073765</td><td>0.8447292</td><td>0.8599206</td><td>0.8247650</td></tr>\n",
       "\t<tr><th scope=row>3</th><td>0.9776484</td><td>0.9764619</td><td>1.0000000</td><td>0.7922494</td><td>0.7980978</td><td>0.8516261</td><td>0.8003011</td><td>0.8823619</td><td>0.8758615</td><td>0.8701873</td><td>0.8596356</td><td>0.9497843</td><td>0.8602212</td><td>0.8528902</td><td>0.8200741</td><td>0.8561959</td><td>0.8584723</td><td>0.7986365</td></tr>\n",
       "\t<tr><th scope=row>4</th><td>0.7798336</td><td>0.8288708</td><td>0.7922494</td><td>1.0000000</td><td>0.9172228</td><td>0.9026732</td><td>0.7576115</td><td>0.8272517</td><td>0.8989744</td><td>0.8871145</td><td>0.8807305</td><td>0.8533382</td><td>0.9143971</td><td>0.8904458</td><td>0.7760949</td><td>0.8080121</td><td>0.8561580</td><td>0.9288922</td></tr>\n",
       "\t<tr><th scope=row>5</th><td>0.7908751</td><td>0.8268466</td><td>0.7980978</td><td>0.9172228</td><td>1.0000000</td><td>0.9165966</td><td>0.7500430</td><td>0.8504352</td><td>0.8954684</td><td>0.8965702</td><td>0.8834176</td><td>0.8618506</td><td>0.9113216</td><td>0.8907821</td><td>0.7887410</td><td>0.8268508</td><td>0.8696636</td><td>0.9349012</td></tr>\n",
       "\t<tr><th scope=row>6</th><td>0.8511897</td><td>0.8859412</td><td>0.8516261</td><td>0.9026732</td><td>0.9165966</td><td>1.0000000</td><td>0.8708003</td><td>0.9308200</td><td>0.9475925</td><td>0.9540935</td><td>0.9429821</td><td>0.9339272</td><td>0.9395193</td><td>0.8510538</td><td>0.7779919</td><td>0.8204202</td><td>0.8516616</td><td>0.9037634</td></tr>\n",
       "\t<tr><th scope=row>7</th><td>0.8128633</td><td>0.8313164</td><td>0.8003011</td><td>0.7576115</td><td>0.7500430</td><td>0.8708003</td><td>1.0000000</td><td>0.7905730</td><td>0.8545551</td><td>0.8595184</td><td>0.8554429</td><td>0.8603952</td><td>0.8163142</td><td>0.7590990</td><td>0.7259463</td><td>0.7491315</td><td>0.7620255</td><td>0.7210956</td></tr>\n",
       "\t<tr><th scope=row>8</th><td>0.8835090</td><td>0.8964627</td><td>0.8823619</td><td>0.8272517</td><td>0.8504352</td><td>0.9308200</td><td>0.7905730</td><td>1.0000000</td><td>0.9165032</td><td>0.9151994</td><td>0.9057637</td><td>0.9309375</td><td>0.9026407</td><td>0.8005253</td><td>0.7699971</td><td>0.8199510</td><td>0.8337826</td><td>0.8662063</td></tr>\n",
       "\t<tr><th scope=row>9</th><td>0.8750426</td><td>0.9047839</td><td>0.8758615</td><td>0.8989744</td><td>0.8954684</td><td>0.9475925</td><td>0.8545551</td><td>0.9165032</td><td>1.0000000</td><td>0.9860439</td><td>0.9858715</td><td>0.9430391</td><td>0.9695776</td><td>0.8627926</td><td>0.8126159</td><td>0.8586474</td><td>0.8784832</td><td>0.9135271</td></tr>\n",
       "\t<tr><th scope=row>10</th><td>0.8693141</td><td>0.9021303</td><td>0.8701873</td><td>0.8871145</td><td>0.8965702</td><td>0.9540935</td><td>0.8595184</td><td>0.9151994</td><td>0.9860439</td><td>1.0000000</td><td>0.9865119</td><td>0.9397345</td><td>0.9709463</td><td>0.8500212</td><td>0.7929837</td><td>0.8436303</td><td>0.8641507</td><td>0.9075839</td></tr>\n",
       "\t<tr><th scope=row>11</th><td>0.8611004</td><td>0.8891418</td><td>0.8596356</td><td>0.8807305</td><td>0.8834176</td><td>0.9429821</td><td>0.8554429</td><td>0.9057637</td><td>0.9858715</td><td>0.9865119</td><td>1.0000000</td><td>0.9375160</td><td>0.9624164</td><td>0.8380321</td><td>0.8048091</td><td>0.8481034</td><td>0.8675627</td><td>0.9006443</td></tr>\n",
       "\t<tr><th scope=row>12</th><td>0.9515135</td><td>0.9536692</td><td>0.9497843</td><td>0.8533382</td><td>0.8618506</td><td>0.9339272</td><td>0.8603952</td><td>0.9309375</td><td>0.9430391</td><td>0.9397345</td><td>0.9375160</td><td>1.0000000</td><td>0.9193728</td><td>0.8670340</td><td>0.8705385</td><td>0.9005316</td><td>0.9065490</td><td>0.8727598</td></tr>\n",
       "\t<tr><th scope=row>13</th><td>0.8466316</td><td>0.8906722</td><td>0.8602212</td><td>0.9143971</td><td>0.9113216</td><td>0.9395193</td><td>0.8163142</td><td>0.9026407</td><td>0.9695776</td><td>0.9709463</td><td>0.9624164</td><td>0.9193728</td><td>1.0000000</td><td>0.8842871</td><td>0.7906995</td><td>0.8453030</td><td>0.8752709</td><td>0.9405667</td></tr>\n",
       "\t<tr><th scope=row>14</th><td>0.8299200</td><td>0.8717844</td><td>0.8528902</td><td>0.8904458</td><td>0.8907821</td><td>0.8510538</td><td>0.7590990</td><td>0.8005253</td><td>0.8627926</td><td>0.8500212</td><td>0.8380321</td><td>0.8670340</td><td>0.8842871</td><td>1.0000000</td><td>0.8060605</td><td>0.8344216</td><td>0.8756023</td><td>0.8653384</td></tr>\n",
       "\t<tr><th scope=row>15</th><td>0.8356140</td><td>0.8073765</td><td>0.8200741</td><td>0.7760949</td><td>0.7887410</td><td>0.7779919</td><td>0.7259463</td><td>0.7699971</td><td>0.8126159</td><td>0.7929837</td><td>0.8048091</td><td>0.8705385</td><td>0.7906995</td><td>0.8060605</td><td>1.0000000</td><td>0.9280714</td><td>0.9302872</td><td>0.7955834</td></tr>\n",
       "\t<tr><th scope=row>16</th><td>0.8617466</td><td>0.8447292</td><td>0.8561959</td><td>0.8080121</td><td>0.8268508</td><td>0.8204202</td><td>0.7491315</td><td>0.8199510</td><td>0.8586474</td><td>0.8436303</td><td>0.8481034</td><td>0.9005316</td><td>0.8453030</td><td>0.8344216</td><td>0.9280714</td><td>1.0000000</td><td>0.9498320</td><td>0.8291975</td></tr>\n",
       "\t<tr><th scope=row>17</th><td>0.8611511</td><td>0.8599206</td><td>0.8584723</td><td>0.8561580</td><td>0.8696636</td><td>0.8516616</td><td>0.7620255</td><td>0.8337826</td><td>0.8784832</td><td>0.8641507</td><td>0.8675627</td><td>0.9065490</td><td>0.8752709</td><td>0.8756023</td><td>0.9302872</td><td>0.9498320</td><td>1.0000000</td><td>0.8706643</td></tr>\n",
       "\t<tr><th scope=row>18</th><td>0.7893346</td><td>0.8247650</td><td>0.7986365</td><td>0.9288922</td><td>0.9349012</td><td>0.9037634</td><td>0.7210956</td><td>0.8662063</td><td>0.9135271</td><td>0.9075839</td><td>0.9006443</td><td>0.8727598</td><td>0.9405667</td><td>0.8653384</td><td>0.7955834</td><td>0.8291975</td><td>0.8706643</td><td>1.0000000</td></tr>\n",
       "</tbody>\n",
       "</table>\n"
      ],
      "text/latex": [
       "\\begin{tabular}{r|llllllllllllllllll}\n",
       "  & 1 & 2 & 3 & 4 & 5 & 6 & 7 & 8 & 9 & 10 & 11 & 12 & 13 & 14 & 15 & 16 & 17 & 18\\\\\n",
       "\\hline\n",
       "\t1 & 1.0000000 & 0.9734593 & 0.9776484 & 0.7798336 & 0.7908751 & 0.8511897 & 0.8128633 & 0.8835090 & 0.8750426 & 0.8693141 & 0.8611004 & 0.9515135 & 0.8466316 & 0.8299200 & 0.8356140 & 0.8617466 & 0.8611511 & 0.7893346\\\\\n",
       "\t2 & 0.9734593 & 1.0000000 & 0.9764619 & 0.8288708 & 0.8268466 & 0.8859412 & 0.8313164 & 0.8964627 & 0.9047839 & 0.9021303 & 0.8891418 & 0.9536692 & 0.8906722 & 0.8717844 & 0.8073765 & 0.8447292 & 0.8599206 & 0.8247650\\\\\n",
       "\t3 & 0.9776484 & 0.9764619 & 1.0000000 & 0.7922494 & 0.7980978 & 0.8516261 & 0.8003011 & 0.8823619 & 0.8758615 & 0.8701873 & 0.8596356 & 0.9497843 & 0.8602212 & 0.8528902 & 0.8200741 & 0.8561959 & 0.8584723 & 0.7986365\\\\\n",
       "\t4 & 0.7798336 & 0.8288708 & 0.7922494 & 1.0000000 & 0.9172228 & 0.9026732 & 0.7576115 & 0.8272517 & 0.8989744 & 0.8871145 & 0.8807305 & 0.8533382 & 0.9143971 & 0.8904458 & 0.7760949 & 0.8080121 & 0.8561580 & 0.9288922\\\\\n",
       "\t5 & 0.7908751 & 0.8268466 & 0.7980978 & 0.9172228 & 1.0000000 & 0.9165966 & 0.7500430 & 0.8504352 & 0.8954684 & 0.8965702 & 0.8834176 & 0.8618506 & 0.9113216 & 0.8907821 & 0.7887410 & 0.8268508 & 0.8696636 & 0.9349012\\\\\n",
       "\t6 & 0.8511897 & 0.8859412 & 0.8516261 & 0.9026732 & 0.9165966 & 1.0000000 & 0.8708003 & 0.9308200 & 0.9475925 & 0.9540935 & 0.9429821 & 0.9339272 & 0.9395193 & 0.8510538 & 0.7779919 & 0.8204202 & 0.8516616 & 0.9037634\\\\\n",
       "\t7 & 0.8128633 & 0.8313164 & 0.8003011 & 0.7576115 & 0.7500430 & 0.8708003 & 1.0000000 & 0.7905730 & 0.8545551 & 0.8595184 & 0.8554429 & 0.8603952 & 0.8163142 & 0.7590990 & 0.7259463 & 0.7491315 & 0.7620255 & 0.7210956\\\\\n",
       "\t8 & 0.8835090 & 0.8964627 & 0.8823619 & 0.8272517 & 0.8504352 & 0.9308200 & 0.7905730 & 1.0000000 & 0.9165032 & 0.9151994 & 0.9057637 & 0.9309375 & 0.9026407 & 0.8005253 & 0.7699971 & 0.8199510 & 0.8337826 & 0.8662063\\\\\n",
       "\t9 & 0.8750426 & 0.9047839 & 0.8758615 & 0.8989744 & 0.8954684 & 0.9475925 & 0.8545551 & 0.9165032 & 1.0000000 & 0.9860439 & 0.9858715 & 0.9430391 & 0.9695776 & 0.8627926 & 0.8126159 & 0.8586474 & 0.8784832 & 0.9135271\\\\\n",
       "\t10 & 0.8693141 & 0.9021303 & 0.8701873 & 0.8871145 & 0.8965702 & 0.9540935 & 0.8595184 & 0.9151994 & 0.9860439 & 1.0000000 & 0.9865119 & 0.9397345 & 0.9709463 & 0.8500212 & 0.7929837 & 0.8436303 & 0.8641507 & 0.9075839\\\\\n",
       "\t11 & 0.8611004 & 0.8891418 & 0.8596356 & 0.8807305 & 0.8834176 & 0.9429821 & 0.8554429 & 0.9057637 & 0.9858715 & 0.9865119 & 1.0000000 & 0.9375160 & 0.9624164 & 0.8380321 & 0.8048091 & 0.8481034 & 0.8675627 & 0.9006443\\\\\n",
       "\t12 & 0.9515135 & 0.9536692 & 0.9497843 & 0.8533382 & 0.8618506 & 0.9339272 & 0.8603952 & 0.9309375 & 0.9430391 & 0.9397345 & 0.9375160 & 1.0000000 & 0.9193728 & 0.8670340 & 0.8705385 & 0.9005316 & 0.9065490 & 0.8727598\\\\\n",
       "\t13 & 0.8466316 & 0.8906722 & 0.8602212 & 0.9143971 & 0.9113216 & 0.9395193 & 0.8163142 & 0.9026407 & 0.9695776 & 0.9709463 & 0.9624164 & 0.9193728 & 1.0000000 & 0.8842871 & 0.7906995 & 0.8453030 & 0.8752709 & 0.9405667\\\\\n",
       "\t14 & 0.8299200 & 0.8717844 & 0.8528902 & 0.8904458 & 0.8907821 & 0.8510538 & 0.7590990 & 0.8005253 & 0.8627926 & 0.8500212 & 0.8380321 & 0.8670340 & 0.8842871 & 1.0000000 & 0.8060605 & 0.8344216 & 0.8756023 & 0.8653384\\\\\n",
       "\t15 & 0.8356140 & 0.8073765 & 0.8200741 & 0.7760949 & 0.7887410 & 0.7779919 & 0.7259463 & 0.7699971 & 0.8126159 & 0.7929837 & 0.8048091 & 0.8705385 & 0.7906995 & 0.8060605 & 1.0000000 & 0.9280714 & 0.9302872 & 0.7955834\\\\\n",
       "\t16 & 0.8617466 & 0.8447292 & 0.8561959 & 0.8080121 & 0.8268508 & 0.8204202 & 0.7491315 & 0.8199510 & 0.8586474 & 0.8436303 & 0.8481034 & 0.9005316 & 0.8453030 & 0.8344216 & 0.9280714 & 1.0000000 & 0.9498320 & 0.8291975\\\\\n",
       "\t17 & 0.8611511 & 0.8599206 & 0.8584723 & 0.8561580 & 0.8696636 & 0.8516616 & 0.7620255 & 0.8337826 & 0.8784832 & 0.8641507 & 0.8675627 & 0.9065490 & 0.8752709 & 0.8756023 & 0.9302872 & 0.9498320 & 1.0000000 & 0.8706643\\\\\n",
       "\t18 & 0.7893346 & 0.8247650 & 0.7986365 & 0.9288922 & 0.9349012 & 0.9037634 & 0.7210956 & 0.8662063 & 0.9135271 & 0.9075839 & 0.9006443 & 0.8727598 & 0.9405667 & 0.8653384 & 0.7955834 & 0.8291975 & 0.8706643 & 1.0000000\\\\\n",
       "\\end{tabular}\n"
      ],
      "text/markdown": [
       "\n",
       "| <!--/--> | 1 | 2 | 3 | 4 | 5 | 6 | 7 | 8 | 9 | 10 | 11 | 12 | 13 | 14 | 15 | 16 | 17 | 18 | \n",
       "|---|---|---|---|---|---|---|---|---|---|---|---|---|---|---|---|---|---|\n",
       "| 1 | 1.0000000 | 0.9734593 | 0.9776484 | 0.7798336 | 0.7908751 | 0.8511897 | 0.8128633 | 0.8835090 | 0.8750426 | 0.8693141 | 0.8611004 | 0.9515135 | 0.8466316 | 0.8299200 | 0.8356140 | 0.8617466 | 0.8611511 | 0.7893346 | \n",
       "| 2 | 0.9734593 | 1.0000000 | 0.9764619 | 0.8288708 | 0.8268466 | 0.8859412 | 0.8313164 | 0.8964627 | 0.9047839 | 0.9021303 | 0.8891418 | 0.9536692 | 0.8906722 | 0.8717844 | 0.8073765 | 0.8447292 | 0.8599206 | 0.8247650 | \n",
       "| 3 | 0.9776484 | 0.9764619 | 1.0000000 | 0.7922494 | 0.7980978 | 0.8516261 | 0.8003011 | 0.8823619 | 0.8758615 | 0.8701873 | 0.8596356 | 0.9497843 | 0.8602212 | 0.8528902 | 0.8200741 | 0.8561959 | 0.8584723 | 0.7986365 | \n",
       "| 4 | 0.7798336 | 0.8288708 | 0.7922494 | 1.0000000 | 0.9172228 | 0.9026732 | 0.7576115 | 0.8272517 | 0.8989744 | 0.8871145 | 0.8807305 | 0.8533382 | 0.9143971 | 0.8904458 | 0.7760949 | 0.8080121 | 0.8561580 | 0.9288922 | \n",
       "| 5 | 0.7908751 | 0.8268466 | 0.7980978 | 0.9172228 | 1.0000000 | 0.9165966 | 0.7500430 | 0.8504352 | 0.8954684 | 0.8965702 | 0.8834176 | 0.8618506 | 0.9113216 | 0.8907821 | 0.7887410 | 0.8268508 | 0.8696636 | 0.9349012 | \n",
       "| 6 | 0.8511897 | 0.8859412 | 0.8516261 | 0.9026732 | 0.9165966 | 1.0000000 | 0.8708003 | 0.9308200 | 0.9475925 | 0.9540935 | 0.9429821 | 0.9339272 | 0.9395193 | 0.8510538 | 0.7779919 | 0.8204202 | 0.8516616 | 0.9037634 | \n",
       "| 7 | 0.8128633 | 0.8313164 | 0.8003011 | 0.7576115 | 0.7500430 | 0.8708003 | 1.0000000 | 0.7905730 | 0.8545551 | 0.8595184 | 0.8554429 | 0.8603952 | 0.8163142 | 0.7590990 | 0.7259463 | 0.7491315 | 0.7620255 | 0.7210956 | \n",
       "| 8 | 0.8835090 | 0.8964627 | 0.8823619 | 0.8272517 | 0.8504352 | 0.9308200 | 0.7905730 | 1.0000000 | 0.9165032 | 0.9151994 | 0.9057637 | 0.9309375 | 0.9026407 | 0.8005253 | 0.7699971 | 0.8199510 | 0.8337826 | 0.8662063 | \n",
       "| 9 | 0.8750426 | 0.9047839 | 0.8758615 | 0.8989744 | 0.8954684 | 0.9475925 | 0.8545551 | 0.9165032 | 1.0000000 | 0.9860439 | 0.9858715 | 0.9430391 | 0.9695776 | 0.8627926 | 0.8126159 | 0.8586474 | 0.8784832 | 0.9135271 | \n",
       "| 10 | 0.8693141 | 0.9021303 | 0.8701873 | 0.8871145 | 0.8965702 | 0.9540935 | 0.8595184 | 0.9151994 | 0.9860439 | 1.0000000 | 0.9865119 | 0.9397345 | 0.9709463 | 0.8500212 | 0.7929837 | 0.8436303 | 0.8641507 | 0.9075839 | \n",
       "| 11 | 0.8611004 | 0.8891418 | 0.8596356 | 0.8807305 | 0.8834176 | 0.9429821 | 0.8554429 | 0.9057637 | 0.9858715 | 0.9865119 | 1.0000000 | 0.9375160 | 0.9624164 | 0.8380321 | 0.8048091 | 0.8481034 | 0.8675627 | 0.9006443 | \n",
       "| 12 | 0.9515135 | 0.9536692 | 0.9497843 | 0.8533382 | 0.8618506 | 0.9339272 | 0.8603952 | 0.9309375 | 0.9430391 | 0.9397345 | 0.9375160 | 1.0000000 | 0.9193728 | 0.8670340 | 0.8705385 | 0.9005316 | 0.9065490 | 0.8727598 | \n",
       "| 13 | 0.8466316 | 0.8906722 | 0.8602212 | 0.9143971 | 0.9113216 | 0.9395193 | 0.8163142 | 0.9026407 | 0.9695776 | 0.9709463 | 0.9624164 | 0.9193728 | 1.0000000 | 0.8842871 | 0.7906995 | 0.8453030 | 0.8752709 | 0.9405667 | \n",
       "| 14 | 0.8299200 | 0.8717844 | 0.8528902 | 0.8904458 | 0.8907821 | 0.8510538 | 0.7590990 | 0.8005253 | 0.8627926 | 0.8500212 | 0.8380321 | 0.8670340 | 0.8842871 | 1.0000000 | 0.8060605 | 0.8344216 | 0.8756023 | 0.8653384 | \n",
       "| 15 | 0.8356140 | 0.8073765 | 0.8200741 | 0.7760949 | 0.7887410 | 0.7779919 | 0.7259463 | 0.7699971 | 0.8126159 | 0.7929837 | 0.8048091 | 0.8705385 | 0.7906995 | 0.8060605 | 1.0000000 | 0.9280714 | 0.9302872 | 0.7955834 | \n",
       "| 16 | 0.8617466 | 0.8447292 | 0.8561959 | 0.8080121 | 0.8268508 | 0.8204202 | 0.7491315 | 0.8199510 | 0.8586474 | 0.8436303 | 0.8481034 | 0.9005316 | 0.8453030 | 0.8344216 | 0.9280714 | 1.0000000 | 0.9498320 | 0.8291975 | \n",
       "| 17 | 0.8611511 | 0.8599206 | 0.8584723 | 0.8561580 | 0.8696636 | 0.8516616 | 0.7620255 | 0.8337826 | 0.8784832 | 0.8641507 | 0.8675627 | 0.9065490 | 0.8752709 | 0.8756023 | 0.9302872 | 0.9498320 | 1.0000000 | 0.8706643 | \n",
       "| 18 | 0.7893346 | 0.8247650 | 0.7986365 | 0.9288922 | 0.9349012 | 0.9037634 | 0.7210956 | 0.8662063 | 0.9135271 | 0.9075839 | 0.9006443 | 0.8727598 | 0.9405667 | 0.8653384 | 0.7955834 | 0.8291975 | 0.8706643 | 1.0000000 | \n",
       "\n",
       "\n"
      ],
      "text/plain": [
       "   1         2         3         4         5         6         7        \n",
       "1  1.0000000 0.9734593 0.9776484 0.7798336 0.7908751 0.8511897 0.8128633\n",
       "2  0.9734593 1.0000000 0.9764619 0.8288708 0.8268466 0.8859412 0.8313164\n",
       "3  0.9776484 0.9764619 1.0000000 0.7922494 0.7980978 0.8516261 0.8003011\n",
       "4  0.7798336 0.8288708 0.7922494 1.0000000 0.9172228 0.9026732 0.7576115\n",
       "5  0.7908751 0.8268466 0.7980978 0.9172228 1.0000000 0.9165966 0.7500430\n",
       "6  0.8511897 0.8859412 0.8516261 0.9026732 0.9165966 1.0000000 0.8708003\n",
       "7  0.8128633 0.8313164 0.8003011 0.7576115 0.7500430 0.8708003 1.0000000\n",
       "8  0.8835090 0.8964627 0.8823619 0.8272517 0.8504352 0.9308200 0.7905730\n",
       "9  0.8750426 0.9047839 0.8758615 0.8989744 0.8954684 0.9475925 0.8545551\n",
       "10 0.8693141 0.9021303 0.8701873 0.8871145 0.8965702 0.9540935 0.8595184\n",
       "11 0.8611004 0.8891418 0.8596356 0.8807305 0.8834176 0.9429821 0.8554429\n",
       "12 0.9515135 0.9536692 0.9497843 0.8533382 0.8618506 0.9339272 0.8603952\n",
       "13 0.8466316 0.8906722 0.8602212 0.9143971 0.9113216 0.9395193 0.8163142\n",
       "14 0.8299200 0.8717844 0.8528902 0.8904458 0.8907821 0.8510538 0.7590990\n",
       "15 0.8356140 0.8073765 0.8200741 0.7760949 0.7887410 0.7779919 0.7259463\n",
       "16 0.8617466 0.8447292 0.8561959 0.8080121 0.8268508 0.8204202 0.7491315\n",
       "17 0.8611511 0.8599206 0.8584723 0.8561580 0.8696636 0.8516616 0.7620255\n",
       "18 0.7893346 0.8247650 0.7986365 0.9288922 0.9349012 0.9037634 0.7210956\n",
       "   8         9         10        11        12        13        14       \n",
       "1  0.8835090 0.8750426 0.8693141 0.8611004 0.9515135 0.8466316 0.8299200\n",
       "2  0.8964627 0.9047839 0.9021303 0.8891418 0.9536692 0.8906722 0.8717844\n",
       "3  0.8823619 0.8758615 0.8701873 0.8596356 0.9497843 0.8602212 0.8528902\n",
       "4  0.8272517 0.8989744 0.8871145 0.8807305 0.8533382 0.9143971 0.8904458\n",
       "5  0.8504352 0.8954684 0.8965702 0.8834176 0.8618506 0.9113216 0.8907821\n",
       "6  0.9308200 0.9475925 0.9540935 0.9429821 0.9339272 0.9395193 0.8510538\n",
       "7  0.7905730 0.8545551 0.8595184 0.8554429 0.8603952 0.8163142 0.7590990\n",
       "8  1.0000000 0.9165032 0.9151994 0.9057637 0.9309375 0.9026407 0.8005253\n",
       "9  0.9165032 1.0000000 0.9860439 0.9858715 0.9430391 0.9695776 0.8627926\n",
       "10 0.9151994 0.9860439 1.0000000 0.9865119 0.9397345 0.9709463 0.8500212\n",
       "11 0.9057637 0.9858715 0.9865119 1.0000000 0.9375160 0.9624164 0.8380321\n",
       "12 0.9309375 0.9430391 0.9397345 0.9375160 1.0000000 0.9193728 0.8670340\n",
       "13 0.9026407 0.9695776 0.9709463 0.9624164 0.9193728 1.0000000 0.8842871\n",
       "14 0.8005253 0.8627926 0.8500212 0.8380321 0.8670340 0.8842871 1.0000000\n",
       "15 0.7699971 0.8126159 0.7929837 0.8048091 0.8705385 0.7906995 0.8060605\n",
       "16 0.8199510 0.8586474 0.8436303 0.8481034 0.9005316 0.8453030 0.8344216\n",
       "17 0.8337826 0.8784832 0.8641507 0.8675627 0.9065490 0.8752709 0.8756023\n",
       "18 0.8662063 0.9135271 0.9075839 0.9006443 0.8727598 0.9405667 0.8653384\n",
       "   15        16        17        18       \n",
       "1  0.8356140 0.8617466 0.8611511 0.7893346\n",
       "2  0.8073765 0.8447292 0.8599206 0.8247650\n",
       "3  0.8200741 0.8561959 0.8584723 0.7986365\n",
       "4  0.7760949 0.8080121 0.8561580 0.9288922\n",
       "5  0.7887410 0.8268508 0.8696636 0.9349012\n",
       "6  0.7779919 0.8204202 0.8516616 0.9037634\n",
       "7  0.7259463 0.7491315 0.7620255 0.7210956\n",
       "8  0.7699971 0.8199510 0.8337826 0.8662063\n",
       "9  0.8126159 0.8586474 0.8784832 0.9135271\n",
       "10 0.7929837 0.8436303 0.8641507 0.9075839\n",
       "11 0.8048091 0.8481034 0.8675627 0.9006443\n",
       "12 0.8705385 0.9005316 0.9065490 0.8727598\n",
       "13 0.7906995 0.8453030 0.8752709 0.9405667\n",
       "14 0.8060605 0.8344216 0.8756023 0.8653384\n",
       "15 1.0000000 0.9280714 0.9302872 0.7955834\n",
       "16 0.9280714 1.0000000 0.9498320 0.8291975\n",
       "17 0.9302872 0.9498320 1.0000000 0.8706643\n",
       "18 0.7955834 0.8291975 0.8706643 1.0000000"
      ]
     },
     "metadata": {},
     "output_type": "display_data"
    }
   ],
   "source": [
    "cosine(t(mat))"
   ]
  },
  {
   "cell_type": "code",
   "execution_count": 20,
   "metadata": {
    "slideshow": {
     "slide_type": "subslide"
    }
   },
   "outputs": [
    {
     "data": {
      "text/html": [
       "<table>\n",
       "<tbody>\n",
       "\t<tr><td>0.9734593</td></tr>\n",
       "</tbody>\n",
       "</table>\n"
      ],
      "text/latex": [
       "\\begin{tabular}{l}\n",
       "\t 0.9734593\\\\\n",
       "\\end{tabular}\n"
      ],
      "text/markdown": [
       "\n",
       "| 0.9734593 | \n",
       "\n",
       "\n"
      ],
      "text/plain": [
       "     [,1]     \n",
       "[1,] 0.9734593"
      ]
     },
     "metadata": {},
     "output_type": "display_data"
    }
   ],
   "source": [
    "cosine(mat[1,], mat[2,])"
   ]
  },
  {
   "cell_type": "markdown",
   "metadata": {
    "slideshow": {
     "slide_type": "slide"
    }
   },
   "source": [
    "# Weighting"
   ]
  },
  {
   "cell_type": "markdown",
   "metadata": {
    "slideshow": {
     "slide_type": "subslide"
    }
   },
   "source": [
    "## TFiDF\n",
    "\n",
    "Combines the frequency of a specific type in a document with its inverse document frequency. The latter decreases the weight of a token in a text, by the amount of appearence of the tokens type in other documents. TFiDF has become the most popular term-weighting scheme in text analysis. \n",
    "\n",
    "$$\n",
    "\\text{tf}\\text{idf}(t, d_i, D) = f(t, d_i) \\log \\left( \\frac{N}{n_t} \\right).\n",
    "$$"
   ]
  },
  {
   "cell_type": "code",
   "execution_count": 21,
   "metadata": {
    "slideshow": {
     "slide_type": "subslide"
    }
   },
   "outputs": [],
   "source": [
    "# starting from the original df\n",
    "tfidf <- freq.df %>%  \n",
    "  bind_tf_idf(token, id, n)"
   ]
  },
  {
   "cell_type": "code",
   "execution_count": 22,
   "metadata": {},
   "outputs": [
    {
     "data": {
      "text/html": [
       "<table>\n",
       "<thead><tr><th scope=col>id</th><th scope=col>token</th><th scope=col>n</th><th scope=col>tf</th><th scope=col>idf</th><th scope=col>tf_idf</th></tr></thead>\n",
       "<tbody>\n",
       "\t<tr><td>bible-kjv.txt         </td><td>the                   </td><td>64023                 </td><td>0.075121971           </td><td>0.00000000            </td><td>0.0000000000          </td></tr>\n",
       "\t<tr><td>bible-kjv.txt         </td><td>and                   </td><td>51696                 </td><td>0.060657973           </td><td>0.00000000            </td><td>0.0000000000          </td></tr>\n",
       "\t<tr><td>bible-kjv.txt         </td><td>of                    </td><td>34670                 </td><td>0.040680361           </td><td>0.00000000            </td><td>0.0000000000          </td></tr>\n",
       "\t<tr><td>melville-moby_dick.txt</td><td>the                   </td><td>14431                 </td><td>0.066762277           </td><td>0.00000000            </td><td>0.0000000000          </td></tr>\n",
       "\t<tr><td>bible-kjv.txt         </td><td>to                    </td><td>13580                 </td><td>0.015934217           </td><td>0.00000000            </td><td>0.0000000000          </td></tr>\n",
       "\t<tr><td>bible-kjv.txt         </td><td>that                  </td><td>12912                 </td><td>0.015150413           </td><td>0.00000000            </td><td>0.0000000000          </td></tr>\n",
       "\t<tr><td>bible-kjv.txt         </td><td>in                    </td><td>12667                 </td><td>0.014862940           </td><td>0.00000000            </td><td>0.0000000000          </td></tr>\n",
       "\t<tr><td>bible-kjv.txt         </td><td>he                    </td><td>10419                 </td><td>0.012225229           </td><td>0.00000000            </td><td>0.0000000000          </td></tr>\n",
       "\t<tr><td>whitman-leaves.txt    </td><td>the                   </td><td>10113                 </td><td>0.081336711           </td><td>0.00000000            </td><td>0.0000000000          </td></tr>\n",
       "\t<tr><td>bible-kjv.txt         </td><td>shall                 </td><td> 9838                 </td><td>0.011543507           </td><td>0.05715841            </td><td>0.0006598085          </td></tr>\n",
       "\t<tr><td>bible-kjv.txt         </td><td>unto                  </td><td> 8997                 </td><td>0.010556712           </td><td>1.09861229            </td><td>0.0115977335          </td></tr>\n",
       "\t<tr><td>bible-kjv.txt         </td><td>for                   </td><td> 8970                 </td><td>0.010525031           </td><td>0.00000000            </td><td>0.0000000000          </td></tr>\n",
       "\t<tr><td>bible-kjv.txt         </td><td>i                     </td><td> 8854                 </td><td>0.010388922           </td><td>0.00000000            </td><td>0.0000000000          </td></tr>\n",
       "\t<tr><td>bible-kjv.txt         </td><td>his                   </td><td> 8473                 </td><td>0.009941872           </td><td>0.00000000            </td><td>0.0000000000          </td></tr>\n",
       "\t<tr><td>bible-kjv.txt         </td><td>a                     </td><td> 8177                 </td><td>0.009594557           </td><td>0.00000000            </td><td>0.0000000000          </td></tr>\n",
       "\t<tr><td>bible-kjv.txt         </td><td>lord                  </td><td> 7830                 </td><td>0.009187402           </td><td>0.18232156            </td><td>0.0016750614          </td></tr>\n",
       "\t<tr><td>edgeworth-parents.txt </td><td>the                   </td><td> 7728                 </td><td>0.046078168           </td><td>0.00000000            </td><td>0.0000000000          </td></tr>\n",
       "\t<tr><td>bible-kjv.txt         </td><td>they                  </td><td> 7376                 </td><td>0.008654697           </td><td>0.00000000            </td><td>0.0000000000          </td></tr>\n",
       "\t<tr><td>bible-kjv.txt         </td><td>be                    </td><td> 7013                 </td><td>0.008228767           </td><td>0.00000000            </td><td>0.0000000000          </td></tr>\n",
       "\t<tr><td>bible-kjv.txt         </td><td>is                    </td><td> 6989                 </td><td>0.008200607           </td><td>0.00000000            </td><td>0.0000000000          </td></tr>\n",
       "\t<tr><td>bible-kjv.txt         </td><td>him                   </td><td> 6659                 </td><td>0.007813398           </td><td>0.00000000            </td><td>0.0000000000          </td></tr>\n",
       "\t<tr><td>melville-moby_dick.txt</td><td>of                    </td><td> 6609                 </td><td>0.030575282           </td><td>0.00000000            </td><td>0.0000000000          </td></tr>\n",
       "\t<tr><td>bible-kjv.txt         </td><td>not                   </td><td> 6596                 </td><td>0.007739477           </td><td>0.00000000            </td><td>0.0000000000          </td></tr>\n",
       "\t<tr><td>bible-kjv.txt         </td><td>them                  </td><td> 6430                 </td><td>0.007544699           </td><td>0.00000000            </td><td>0.0000000000          </td></tr>\n",
       "\t<tr><td>melville-moby_dick.txt</td><td>and                   </td><td> 6430                 </td><td>0.029747172           </td><td>0.00000000            </td><td>0.0000000000          </td></tr>\n",
       "\t<tr><td>bible-kjv.txt         </td><td>it                    </td><td> 6129                 </td><td>0.007191518           </td><td>0.00000000            </td><td>0.0000000000          </td></tr>\n",
       "\t<tr><td>bible-kjv.txt         </td><td>with                  </td><td> 6012                 </td><td>0.007054235           </td><td>0.00000000            </td><td>0.0000000000          </td></tr>\n",
       "\t<tr><td>bible-kjv.txt         </td><td>all                   </td><td> 5620                 </td><td>0.006594278           </td><td>0.00000000            </td><td>0.0000000000          </td></tr>\n",
       "\t<tr><td>bible-kjv.txt         </td><td>thou                  </td><td> 5474                 </td><td>0.006422968           </td><td>0.32542240            </td><td>0.0020901776          </td></tr>\n",
       "\t<tr><td>whitman-leaves.txt    </td><td>and                   </td><td> 5334                 </td><td>0.042900229           </td><td>0.00000000            </td><td>0.0000000000          </td></tr>\n",
       "\t<tr><td>⋮</td><td>⋮</td><td>⋮</td><td>⋮</td><td>⋮</td><td>⋮</td></tr>\n",
       "\t<tr><td>whitman-leaves.txt</td><td>xxxi              </td><td>1                 </td><td>8.042788e-06      </td><td>2.89037176        </td><td>2.324665e-05      </td></tr>\n",
       "\t<tr><td>whitman-leaves.txt</td><td>xxxii             </td><td>1                 </td><td>8.042788e-06      </td><td>2.89037176        </td><td>2.324665e-05      </td></tr>\n",
       "\t<tr><td>whitman-leaves.txt</td><td>xxxiii            </td><td>1                 </td><td>8.042788e-06      </td><td>2.89037176        </td><td>2.324665e-05      </td></tr>\n",
       "\t<tr><td>whitman-leaves.txt</td><td>xxxiv             </td><td>1                 </td><td>8.042788e-06      </td><td>2.89037176        </td><td>2.324665e-05      </td></tr>\n",
       "\t<tr><td>whitman-leaves.txt</td><td>ya                </td><td>1                 </td><td>8.042788e-06      </td><td>2.89037176        </td><td>2.324665e-05      </td></tr>\n",
       "\t<tr><td>whitman-leaves.txt</td><td>yarn              </td><td>1                 </td><td>8.042788e-06      </td><td>1.28093385        </td><td>1.030228e-05      </td></tr>\n",
       "\t<tr><td>whitman-leaves.txt</td><td>yawp              </td><td>1                 </td><td>8.042788e-06      </td><td>2.89037176        </td><td>2.324665e-05      </td></tr>\n",
       "\t<tr><td>whitman-leaves.txt</td><td>yea               </td><td>1                 </td><td>8.042788e-06      </td><td>0.69314718        </td><td>5.574836e-06      </td></tr>\n",
       "\t<tr><td>whitman-leaves.txt</td><td>yearly            </td><td>1                 </td><td>8.042788e-06      </td><td>0.94446161        </td><td>7.596104e-06      </td></tr>\n",
       "\t<tr><td>whitman-leaves.txt</td><td>yearn'd           </td><td>1                 </td><td>8.042788e-06      </td><td>2.89037176        </td><td>2.324665e-05      </td></tr>\n",
       "\t<tr><td>whitman-leaves.txt</td><td>yearnfully        </td><td>1                 </td><td>8.042788e-06      </td><td>2.89037176        </td><td>2.324665e-05      </td></tr>\n",
       "\t<tr><td>whitman-leaves.txt</td><td>yell              </td><td>1                 </td><td>8.042788e-06      </td><td>1.28093385        </td><td>1.030228e-05      </td></tr>\n",
       "\t<tr><td>whitman-leaves.txt</td><td>yelling           </td><td>1                 </td><td>8.042788e-06      </td><td>1.50407740        </td><td>1.209698e-05      </td></tr>\n",
       "\t<tr><td>whitman-leaves.txt</td><td>yellower          </td><td>1                 </td><td>8.042788e-06      </td><td>2.89037176        </td><td>2.324665e-05      </td></tr>\n",
       "\t<tr><td>whitman-leaves.txt</td><td>yellowstone's     </td><td>1                 </td><td>8.042788e-06      </td><td>2.89037176        </td><td>2.324665e-05      </td></tr>\n",
       "\t<tr><td>whitman-leaves.txt</td><td>yells             </td><td>1                 </td><td>8.042788e-06      </td><td>2.19722458        </td><td>1.767181e-05      </td></tr>\n",
       "\t<tr><td>whitman-leaves.txt</td><td>yesterday         </td><td>1                 </td><td>8.042788e-06      </td><td>0.05715841        </td><td>4.597130e-07      </td></tr>\n",
       "\t<tr><td>whitman-leaves.txt</td><td>yiang             </td><td>1                 </td><td>8.042788e-06      </td><td>2.89037176        </td><td>2.324665e-05      </td></tr>\n",
       "\t<tr><td>whitman-leaves.txt</td><td>yields            </td><td>1                 </td><td>8.042788e-06      </td><td>1.50407740        </td><td>1.209698e-05      </td></tr>\n",
       "\t<tr><td>whitman-leaves.txt</td><td>yoke              </td><td>1                 </td><td>8.042788e-06      </td><td>1.50407740        </td><td>1.209698e-05      </td></tr>\n",
       "\t<tr><td>whitman-leaves.txt</td><td>yon               </td><td>1                 </td><td>8.042788e-06      </td><td>1.09861229        </td><td>8.835905e-06      </td></tr>\n",
       "\t<tr><td>whitman-leaves.txt</td><td>you'd             </td><td>1                 </td><td>8.042788e-06      </td><td>0.81093022        </td><td>6.522140e-06      </td></tr>\n",
       "\t<tr><td>whitman-leaves.txt</td><td>you'll            </td><td>1                 </td><td>8.042788e-06      </td><td>0.69314718        </td><td>5.574836e-06      </td></tr>\n",
       "\t<tr><td>whitman-leaves.txt</td><td>you've            </td><td>1                 </td><td>8.042788e-06      </td><td>0.94446161        </td><td>7.596104e-06      </td></tr>\n",
       "\t<tr><td>whitman-leaves.txt</td><td>youngster's       </td><td>1                 </td><td>8.042788e-06      </td><td>2.89037176        </td><td>2.324665e-05      </td></tr>\n",
       "\t<tr><td>whitman-leaves.txt</td><td>yourselp          </td><td>1                 </td><td>8.042788e-06      </td><td>2.89037176        </td><td>2.324665e-05      </td></tr>\n",
       "\t<tr><td>whitman-leaves.txt</td><td>zee               </td><td>1                 </td><td>8.042788e-06      </td><td>2.89037176        </td><td>2.324665e-05      </td></tr>\n",
       "\t<tr><td>whitman-leaves.txt</td><td>zeus              </td><td>1                 </td><td>8.042788e-06      </td><td>2.89037176        </td><td>2.324665e-05      </td></tr>\n",
       "\t<tr><td>whitman-leaves.txt</td><td>zinc              </td><td>1                 </td><td>8.042788e-06      </td><td>2.89037176        </td><td>2.324665e-05      </td></tr>\n",
       "\t<tr><td>whitman-leaves.txt</td><td>zuyder            </td><td>1                 </td><td>8.042788e-06      </td><td>2.89037176        </td><td>2.324665e-05      </td></tr>\n",
       "</tbody>\n",
       "</table>\n"
      ],
      "text/latex": [
       "\\begin{tabular}{r|llllll}\n",
       " id & token & n & tf & idf & tf\\_idf\\\\\n",
       "\\hline\n",
       "\t bible-kjv.txt          & the                    & 64023                  & 0.075121971            & 0.00000000             & 0.0000000000          \\\\\n",
       "\t bible-kjv.txt          & and                    & 51696                  & 0.060657973            & 0.00000000             & 0.0000000000          \\\\\n",
       "\t bible-kjv.txt          & of                     & 34670                  & 0.040680361            & 0.00000000             & 0.0000000000          \\\\\n",
       "\t melville-moby\\_dick.txt & the                      & 14431                    & 0.066762277              & 0.00000000               & 0.0000000000            \\\\\n",
       "\t bible-kjv.txt          & to                     & 13580                  & 0.015934217            & 0.00000000             & 0.0000000000          \\\\\n",
       "\t bible-kjv.txt          & that                   & 12912                  & 0.015150413            & 0.00000000             & 0.0000000000          \\\\\n",
       "\t bible-kjv.txt          & in                     & 12667                  & 0.014862940            & 0.00000000             & 0.0000000000          \\\\\n",
       "\t bible-kjv.txt          & he                     & 10419                  & 0.012225229            & 0.00000000             & 0.0000000000          \\\\\n",
       "\t whitman-leaves.txt     & the                    & 10113                  & 0.081336711            & 0.00000000             & 0.0000000000          \\\\\n",
       "\t bible-kjv.txt          & shall                  &  9838                  & 0.011543507            & 0.05715841             & 0.0006598085          \\\\\n",
       "\t bible-kjv.txt          & unto                   &  8997                  & 0.010556712            & 1.09861229             & 0.0115977335          \\\\\n",
       "\t bible-kjv.txt          & for                    &  8970                  & 0.010525031            & 0.00000000             & 0.0000000000          \\\\\n",
       "\t bible-kjv.txt          & i                      &  8854                  & 0.010388922            & 0.00000000             & 0.0000000000          \\\\\n",
       "\t bible-kjv.txt          & his                    &  8473                  & 0.009941872            & 0.00000000             & 0.0000000000          \\\\\n",
       "\t bible-kjv.txt          & a                      &  8177                  & 0.009594557            & 0.00000000             & 0.0000000000          \\\\\n",
       "\t bible-kjv.txt          & lord                   &  7830                  & 0.009187402            & 0.18232156             & 0.0016750614          \\\\\n",
       "\t edgeworth-parents.txt  & the                    &  7728                  & 0.046078168            & 0.00000000             & 0.0000000000          \\\\\n",
       "\t bible-kjv.txt          & they                   &  7376                  & 0.008654697            & 0.00000000             & 0.0000000000          \\\\\n",
       "\t bible-kjv.txt          & be                     &  7013                  & 0.008228767            & 0.00000000             & 0.0000000000          \\\\\n",
       "\t bible-kjv.txt          & is                     &  6989                  & 0.008200607            & 0.00000000             & 0.0000000000          \\\\\n",
       "\t bible-kjv.txt          & him                    &  6659                  & 0.007813398            & 0.00000000             & 0.0000000000          \\\\\n",
       "\t melville-moby\\_dick.txt & of                       &  6609                    & 0.030575282              & 0.00000000               & 0.0000000000            \\\\\n",
       "\t bible-kjv.txt          & not                    &  6596                  & 0.007739477            & 0.00000000             & 0.0000000000          \\\\\n",
       "\t bible-kjv.txt          & them                   &  6430                  & 0.007544699            & 0.00000000             & 0.0000000000          \\\\\n",
       "\t melville-moby\\_dick.txt & and                      &  6430                    & 0.029747172              & 0.00000000               & 0.0000000000            \\\\\n",
       "\t bible-kjv.txt          & it                     &  6129                  & 0.007191518            & 0.00000000             & 0.0000000000          \\\\\n",
       "\t bible-kjv.txt          & with                   &  6012                  & 0.007054235            & 0.00000000             & 0.0000000000          \\\\\n",
       "\t bible-kjv.txt          & all                    &  5620                  & 0.006594278            & 0.00000000             & 0.0000000000          \\\\\n",
       "\t bible-kjv.txt          & thou                   &  5474                  & 0.006422968            & 0.32542240             & 0.0020901776          \\\\\n",
       "\t whitman-leaves.txt     & and                    &  5334                  & 0.042900229            & 0.00000000             & 0.0000000000          \\\\\n",
       "\t ⋮ & ⋮ & ⋮ & ⋮ & ⋮ & ⋮\\\\\n",
       "\t whitman-leaves.txt & xxxi               & 1                  & 8.042788e-06       & 2.89037176         & 2.324665e-05      \\\\\n",
       "\t whitman-leaves.txt & xxxii              & 1                  & 8.042788e-06       & 2.89037176         & 2.324665e-05      \\\\\n",
       "\t whitman-leaves.txt & xxxiii             & 1                  & 8.042788e-06       & 2.89037176         & 2.324665e-05      \\\\\n",
       "\t whitman-leaves.txt & xxxiv              & 1                  & 8.042788e-06       & 2.89037176         & 2.324665e-05      \\\\\n",
       "\t whitman-leaves.txt & ya                 & 1                  & 8.042788e-06       & 2.89037176         & 2.324665e-05      \\\\\n",
       "\t whitman-leaves.txt & yarn               & 1                  & 8.042788e-06       & 1.28093385         & 1.030228e-05      \\\\\n",
       "\t whitman-leaves.txt & yawp               & 1                  & 8.042788e-06       & 2.89037176         & 2.324665e-05      \\\\\n",
       "\t whitman-leaves.txt & yea                & 1                  & 8.042788e-06       & 0.69314718         & 5.574836e-06      \\\\\n",
       "\t whitman-leaves.txt & yearly             & 1                  & 8.042788e-06       & 0.94446161         & 7.596104e-06      \\\\\n",
       "\t whitman-leaves.txt & yearn'd            & 1                  & 8.042788e-06       & 2.89037176         & 2.324665e-05      \\\\\n",
       "\t whitman-leaves.txt & yearnfully         & 1                  & 8.042788e-06       & 2.89037176         & 2.324665e-05      \\\\\n",
       "\t whitman-leaves.txt & yell               & 1                  & 8.042788e-06       & 1.28093385         & 1.030228e-05      \\\\\n",
       "\t whitman-leaves.txt & yelling            & 1                  & 8.042788e-06       & 1.50407740         & 1.209698e-05      \\\\\n",
       "\t whitman-leaves.txt & yellower           & 1                  & 8.042788e-06       & 2.89037176         & 2.324665e-05      \\\\\n",
       "\t whitman-leaves.txt & yellowstone's      & 1                  & 8.042788e-06       & 2.89037176         & 2.324665e-05      \\\\\n",
       "\t whitman-leaves.txt & yells              & 1                  & 8.042788e-06       & 2.19722458         & 1.767181e-05      \\\\\n",
       "\t whitman-leaves.txt & yesterday          & 1                  & 8.042788e-06       & 0.05715841         & 4.597130e-07      \\\\\n",
       "\t whitman-leaves.txt & yiang              & 1                  & 8.042788e-06       & 2.89037176         & 2.324665e-05      \\\\\n",
       "\t whitman-leaves.txt & yields             & 1                  & 8.042788e-06       & 1.50407740         & 1.209698e-05      \\\\\n",
       "\t whitman-leaves.txt & yoke               & 1                  & 8.042788e-06       & 1.50407740         & 1.209698e-05      \\\\\n",
       "\t whitman-leaves.txt & yon                & 1                  & 8.042788e-06       & 1.09861229         & 8.835905e-06      \\\\\n",
       "\t whitman-leaves.txt & you'd              & 1                  & 8.042788e-06       & 0.81093022         & 6.522140e-06      \\\\\n",
       "\t whitman-leaves.txt & you'll             & 1                  & 8.042788e-06       & 0.69314718         & 5.574836e-06      \\\\\n",
       "\t whitman-leaves.txt & you've             & 1                  & 8.042788e-06       & 0.94446161         & 7.596104e-06      \\\\\n",
       "\t whitman-leaves.txt & youngster's        & 1                  & 8.042788e-06       & 2.89037176         & 2.324665e-05      \\\\\n",
       "\t whitman-leaves.txt & yourselp           & 1                  & 8.042788e-06       & 2.89037176         & 2.324665e-05      \\\\\n",
       "\t whitman-leaves.txt & zee                & 1                  & 8.042788e-06       & 2.89037176         & 2.324665e-05      \\\\\n",
       "\t whitman-leaves.txt & zeus               & 1                  & 8.042788e-06       & 2.89037176         & 2.324665e-05      \\\\\n",
       "\t whitman-leaves.txt & zinc               & 1                  & 8.042788e-06       & 2.89037176         & 2.324665e-05      \\\\\n",
       "\t whitman-leaves.txt & zuyder             & 1                  & 8.042788e-06       & 2.89037176         & 2.324665e-05      \\\\\n",
       "\\end{tabular}\n"
      ],
      "text/markdown": [
       "\n",
       "id | token | n | tf | idf | tf_idf | \n",
       "|---|---|---|---|---|---|---|---|---|---|---|---|---|---|---|---|---|---|---|---|---|---|---|---|---|---|---|---|---|---|---|---|---|---|---|---|---|---|---|---|---|---|---|---|---|---|---|---|---|---|---|---|---|---|---|---|---|---|---|---|---|\n",
       "| bible-kjv.txt          | the                    | 64023                  | 0.075121971            | 0.00000000             | 0.0000000000           | \n",
       "| bible-kjv.txt          | and                    | 51696                  | 0.060657973            | 0.00000000             | 0.0000000000           | \n",
       "| bible-kjv.txt          | of                     | 34670                  | 0.040680361            | 0.00000000             | 0.0000000000           | \n",
       "| melville-moby_dick.txt | the                    | 14431                  | 0.066762277            | 0.00000000             | 0.0000000000           | \n",
       "| bible-kjv.txt          | to                     | 13580                  | 0.015934217            | 0.00000000             | 0.0000000000           | \n",
       "| bible-kjv.txt          | that                   | 12912                  | 0.015150413            | 0.00000000             | 0.0000000000           | \n",
       "| bible-kjv.txt          | in                     | 12667                  | 0.014862940            | 0.00000000             | 0.0000000000           | \n",
       "| bible-kjv.txt          | he                     | 10419                  | 0.012225229            | 0.00000000             | 0.0000000000           | \n",
       "| whitman-leaves.txt     | the                    | 10113                  | 0.081336711            | 0.00000000             | 0.0000000000           | \n",
       "| bible-kjv.txt          | shall                  |  9838                  | 0.011543507            | 0.05715841             | 0.0006598085           | \n",
       "| bible-kjv.txt          | unto                   |  8997                  | 0.010556712            | 1.09861229             | 0.0115977335           | \n",
       "| bible-kjv.txt          | for                    |  8970                  | 0.010525031            | 0.00000000             | 0.0000000000           | \n",
       "| bible-kjv.txt          | i                      |  8854                  | 0.010388922            | 0.00000000             | 0.0000000000           | \n",
       "| bible-kjv.txt          | his                    |  8473                  | 0.009941872            | 0.00000000             | 0.0000000000           | \n",
       "| bible-kjv.txt          | a                      |  8177                  | 0.009594557            | 0.00000000             | 0.0000000000           | \n",
       "| bible-kjv.txt          | lord                   |  7830                  | 0.009187402            | 0.18232156             | 0.0016750614           | \n",
       "| edgeworth-parents.txt  | the                    |  7728                  | 0.046078168            | 0.00000000             | 0.0000000000           | \n",
       "| bible-kjv.txt          | they                   |  7376                  | 0.008654697            | 0.00000000             | 0.0000000000           | \n",
       "| bible-kjv.txt          | be                     |  7013                  | 0.008228767            | 0.00000000             | 0.0000000000           | \n",
       "| bible-kjv.txt          | is                     |  6989                  | 0.008200607            | 0.00000000             | 0.0000000000           | \n",
       "| bible-kjv.txt          | him                    |  6659                  | 0.007813398            | 0.00000000             | 0.0000000000           | \n",
       "| melville-moby_dick.txt | of                     |  6609                  | 0.030575282            | 0.00000000             | 0.0000000000           | \n",
       "| bible-kjv.txt          | not                    |  6596                  | 0.007739477            | 0.00000000             | 0.0000000000           | \n",
       "| bible-kjv.txt          | them                   |  6430                  | 0.007544699            | 0.00000000             | 0.0000000000           | \n",
       "| melville-moby_dick.txt | and                    |  6430                  | 0.029747172            | 0.00000000             | 0.0000000000           | \n",
       "| bible-kjv.txt          | it                     |  6129                  | 0.007191518            | 0.00000000             | 0.0000000000           | \n",
       "| bible-kjv.txt          | with                   |  6012                  | 0.007054235            | 0.00000000             | 0.0000000000           | \n",
       "| bible-kjv.txt          | all                    |  5620                  | 0.006594278            | 0.00000000             | 0.0000000000           | \n",
       "| bible-kjv.txt          | thou                   |  5474                  | 0.006422968            | 0.32542240             | 0.0020901776           | \n",
       "| whitman-leaves.txt     | and                    |  5334                  | 0.042900229            | 0.00000000             | 0.0000000000           | \n",
       "| ⋮ | ⋮ | ⋮ | ⋮ | ⋮ | ⋮ | \n",
       "| whitman-leaves.txt | xxxi               | 1                  | 8.042788e-06       | 2.89037176         | 2.324665e-05       | \n",
       "| whitman-leaves.txt | xxxii              | 1                  | 8.042788e-06       | 2.89037176         | 2.324665e-05       | \n",
       "| whitman-leaves.txt | xxxiii             | 1                  | 8.042788e-06       | 2.89037176         | 2.324665e-05       | \n",
       "| whitman-leaves.txt | xxxiv              | 1                  | 8.042788e-06       | 2.89037176         | 2.324665e-05       | \n",
       "| whitman-leaves.txt | ya                 | 1                  | 8.042788e-06       | 2.89037176         | 2.324665e-05       | \n",
       "| whitman-leaves.txt | yarn               | 1                  | 8.042788e-06       | 1.28093385         | 1.030228e-05       | \n",
       "| whitman-leaves.txt | yawp               | 1                  | 8.042788e-06       | 2.89037176         | 2.324665e-05       | \n",
       "| whitman-leaves.txt | yea                | 1                  | 8.042788e-06       | 0.69314718         | 5.574836e-06       | \n",
       "| whitman-leaves.txt | yearly             | 1                  | 8.042788e-06       | 0.94446161         | 7.596104e-06       | \n",
       "| whitman-leaves.txt | yearn'd            | 1                  | 8.042788e-06       | 2.89037176         | 2.324665e-05       | \n",
       "| whitman-leaves.txt | yearnfully         | 1                  | 8.042788e-06       | 2.89037176         | 2.324665e-05       | \n",
       "| whitman-leaves.txt | yell               | 1                  | 8.042788e-06       | 1.28093385         | 1.030228e-05       | \n",
       "| whitman-leaves.txt | yelling            | 1                  | 8.042788e-06       | 1.50407740         | 1.209698e-05       | \n",
       "| whitman-leaves.txt | yellower           | 1                  | 8.042788e-06       | 2.89037176         | 2.324665e-05       | \n",
       "| whitman-leaves.txt | yellowstone's      | 1                  | 8.042788e-06       | 2.89037176         | 2.324665e-05       | \n",
       "| whitman-leaves.txt | yells              | 1                  | 8.042788e-06       | 2.19722458         | 1.767181e-05       | \n",
       "| whitman-leaves.txt | yesterday          | 1                  | 8.042788e-06       | 0.05715841         | 4.597130e-07       | \n",
       "| whitman-leaves.txt | yiang              | 1                  | 8.042788e-06       | 2.89037176         | 2.324665e-05       | \n",
       "| whitman-leaves.txt | yields             | 1                  | 8.042788e-06       | 1.50407740         | 1.209698e-05       | \n",
       "| whitman-leaves.txt | yoke               | 1                  | 8.042788e-06       | 1.50407740         | 1.209698e-05       | \n",
       "| whitman-leaves.txt | yon                | 1                  | 8.042788e-06       | 1.09861229         | 8.835905e-06       | \n",
       "| whitman-leaves.txt | you'd              | 1                  | 8.042788e-06       | 0.81093022         | 6.522140e-06       | \n",
       "| whitman-leaves.txt | you'll             | 1                  | 8.042788e-06       | 0.69314718         | 5.574836e-06       | \n",
       "| whitman-leaves.txt | you've             | 1                  | 8.042788e-06       | 0.94446161         | 7.596104e-06       | \n",
       "| whitman-leaves.txt | youngster's        | 1                  | 8.042788e-06       | 2.89037176         | 2.324665e-05       | \n",
       "| whitman-leaves.txt | yourselp           | 1                  | 8.042788e-06       | 2.89037176         | 2.324665e-05       | \n",
       "| whitman-leaves.txt | zee                | 1                  | 8.042788e-06       | 2.89037176         | 2.324665e-05       | \n",
       "| whitman-leaves.txt | zeus               | 1                  | 8.042788e-06       | 2.89037176         | 2.324665e-05       | \n",
       "| whitman-leaves.txt | zinc               | 1                  | 8.042788e-06       | 2.89037176         | 2.324665e-05       | \n",
       "| whitman-leaves.txt | zuyder             | 1                  | 8.042788e-06       | 2.89037176         | 2.324665e-05       | \n",
       "\n",
       "\n"
      ],
      "text/plain": [
       "       id                     token         n     tf           idf       \n",
       "1      bible-kjv.txt          the           64023 0.075121971  0.00000000\n",
       "2      bible-kjv.txt          and           51696 0.060657973  0.00000000\n",
       "3      bible-kjv.txt          of            34670 0.040680361  0.00000000\n",
       "4      melville-moby_dick.txt the           14431 0.066762277  0.00000000\n",
       "5      bible-kjv.txt          to            13580 0.015934217  0.00000000\n",
       "6      bible-kjv.txt          that          12912 0.015150413  0.00000000\n",
       "7      bible-kjv.txt          in            12667 0.014862940  0.00000000\n",
       "8      bible-kjv.txt          he            10419 0.012225229  0.00000000\n",
       "9      whitman-leaves.txt     the           10113 0.081336711  0.00000000\n",
       "10     bible-kjv.txt          shall          9838 0.011543507  0.05715841\n",
       "11     bible-kjv.txt          unto           8997 0.010556712  1.09861229\n",
       "12     bible-kjv.txt          for            8970 0.010525031  0.00000000\n",
       "13     bible-kjv.txt          i              8854 0.010388922  0.00000000\n",
       "14     bible-kjv.txt          his            8473 0.009941872  0.00000000\n",
       "15     bible-kjv.txt          a              8177 0.009594557  0.00000000\n",
       "16     bible-kjv.txt          lord           7830 0.009187402  0.18232156\n",
       "17     edgeworth-parents.txt  the            7728 0.046078168  0.00000000\n",
       "18     bible-kjv.txt          they           7376 0.008654697  0.00000000\n",
       "19     bible-kjv.txt          be             7013 0.008228767  0.00000000\n",
       "20     bible-kjv.txt          is             6989 0.008200607  0.00000000\n",
       "21     bible-kjv.txt          him            6659 0.007813398  0.00000000\n",
       "22     melville-moby_dick.txt of             6609 0.030575282  0.00000000\n",
       "23     bible-kjv.txt          not            6596 0.007739477  0.00000000\n",
       "24     bible-kjv.txt          them           6430 0.007544699  0.00000000\n",
       "25     melville-moby_dick.txt and            6430 0.029747172  0.00000000\n",
       "26     bible-kjv.txt          it             6129 0.007191518  0.00000000\n",
       "27     bible-kjv.txt          with           6012 0.007054235  0.00000000\n",
       "28     bible-kjv.txt          all            5620 0.006594278  0.00000000\n",
       "29     bible-kjv.txt          thou           5474 0.006422968  0.32542240\n",
       "30     whitman-leaves.txt     and            5334 0.042900229  0.00000000\n",
       "⋮      ⋮                      ⋮             ⋮     ⋮            ⋮         \n",
       "124576 whitman-leaves.txt     xxxi          1     8.042788e-06 2.89037176\n",
       "124577 whitman-leaves.txt     xxxii         1     8.042788e-06 2.89037176\n",
       "124578 whitman-leaves.txt     xxxiii        1     8.042788e-06 2.89037176\n",
       "124579 whitman-leaves.txt     xxxiv         1     8.042788e-06 2.89037176\n",
       "124580 whitman-leaves.txt     ya            1     8.042788e-06 2.89037176\n",
       "124581 whitman-leaves.txt     yarn          1     8.042788e-06 1.28093385\n",
       "124582 whitman-leaves.txt     yawp          1     8.042788e-06 2.89037176\n",
       "124583 whitman-leaves.txt     yea           1     8.042788e-06 0.69314718\n",
       "124584 whitman-leaves.txt     yearly        1     8.042788e-06 0.94446161\n",
       "124585 whitman-leaves.txt     yearn'd       1     8.042788e-06 2.89037176\n",
       "124586 whitman-leaves.txt     yearnfully    1     8.042788e-06 2.89037176\n",
       "124587 whitman-leaves.txt     yell          1     8.042788e-06 1.28093385\n",
       "124588 whitman-leaves.txt     yelling       1     8.042788e-06 1.50407740\n",
       "124589 whitman-leaves.txt     yellower      1     8.042788e-06 2.89037176\n",
       "124590 whitman-leaves.txt     yellowstone's 1     8.042788e-06 2.89037176\n",
       "124591 whitman-leaves.txt     yells         1     8.042788e-06 2.19722458\n",
       "124592 whitman-leaves.txt     yesterday     1     8.042788e-06 0.05715841\n",
       "124593 whitman-leaves.txt     yiang         1     8.042788e-06 2.89037176\n",
       "124594 whitman-leaves.txt     yields        1     8.042788e-06 1.50407740\n",
       "124595 whitman-leaves.txt     yoke          1     8.042788e-06 1.50407740\n",
       "124596 whitman-leaves.txt     yon           1     8.042788e-06 1.09861229\n",
       "124597 whitman-leaves.txt     you'd         1     8.042788e-06 0.81093022\n",
       "124598 whitman-leaves.txt     you'll        1     8.042788e-06 0.69314718\n",
       "124599 whitman-leaves.txt     you've        1     8.042788e-06 0.94446161\n",
       "124600 whitman-leaves.txt     youngster's   1     8.042788e-06 2.89037176\n",
       "124601 whitman-leaves.txt     yourselp      1     8.042788e-06 2.89037176\n",
       "124602 whitman-leaves.txt     zee           1     8.042788e-06 2.89037176\n",
       "124603 whitman-leaves.txt     zeus          1     8.042788e-06 2.89037176\n",
       "124604 whitman-leaves.txt     zinc          1     8.042788e-06 2.89037176\n",
       "124605 whitman-leaves.txt     zuyder        1     8.042788e-06 2.89037176\n",
       "       tf_idf      \n",
       "1      0.0000000000\n",
       "2      0.0000000000\n",
       "3      0.0000000000\n",
       "4      0.0000000000\n",
       "5      0.0000000000\n",
       "6      0.0000000000\n",
       "7      0.0000000000\n",
       "8      0.0000000000\n",
       "9      0.0000000000\n",
       "10     0.0006598085\n",
       "11     0.0115977335\n",
       "12     0.0000000000\n",
       "13     0.0000000000\n",
       "14     0.0000000000\n",
       "15     0.0000000000\n",
       "16     0.0016750614\n",
       "17     0.0000000000\n",
       "18     0.0000000000\n",
       "19     0.0000000000\n",
       "20     0.0000000000\n",
       "21     0.0000000000\n",
       "22     0.0000000000\n",
       "23     0.0000000000\n",
       "24     0.0000000000\n",
       "25     0.0000000000\n",
       "26     0.0000000000\n",
       "27     0.0000000000\n",
       "28     0.0000000000\n",
       "29     0.0020901776\n",
       "30     0.0000000000\n",
       "⋮      ⋮           \n",
       "124576 2.324665e-05\n",
       "124577 2.324665e-05\n",
       "124578 2.324665e-05\n",
       "124579 2.324665e-05\n",
       "124580 2.324665e-05\n",
       "124581 1.030228e-05\n",
       "124582 2.324665e-05\n",
       "124583 5.574836e-06\n",
       "124584 7.596104e-06\n",
       "124585 2.324665e-05\n",
       "124586 2.324665e-05\n",
       "124587 1.030228e-05\n",
       "124588 1.209698e-05\n",
       "124589 2.324665e-05\n",
       "124590 2.324665e-05\n",
       "124591 1.767181e-05\n",
       "124592 4.597130e-07\n",
       "124593 2.324665e-05\n",
       "124594 1.209698e-05\n",
       "124595 1.209698e-05\n",
       "124596 8.835905e-06\n",
       "124597 6.522140e-06\n",
       "124598 5.574836e-06\n",
       "124599 7.596104e-06\n",
       "124600 2.324665e-05\n",
       "124601 2.324665e-05\n",
       "124602 2.324665e-05\n",
       "124603 2.324665e-05\n",
       "124604 2.324665e-05\n",
       "124605 2.324665e-05"
      ]
     },
     "metadata": {},
     "output_type": "display_data"
    }
   ],
   "source": [
    "tfidf"
   ]
  },
  {
   "cell_type": "code",
   "execution_count": 23,
   "metadata": {
    "slideshow": {
     "slide_type": "subslide"
    }
   },
   "outputs": [
    {
     "data": {
      "text/html": [
       "<table>\n",
       "<thead><tr><th scope=col>id</th><th scope=col>token</th><th scope=col>tf_idf</th></tr></thead>\n",
       "<tbody>\n",
       "\t<tr><td>burgess-busterbrown.txt</td><td>buster                 </td><td>0.030545673            </td></tr>\n",
       "\t<tr><td>carroll-alice.txt      </td><td>alice                  </td><td>0.025914986            </td></tr>\n",
       "\t<tr><td>chesterton-thursday.txt</td><td>syme                   </td><td>0.024194264            </td></tr>\n",
       "\t<tr><td>shakespeare-macbeth.txt</td><td>macb                   </td><td>0.022209935            </td></tr>\n",
       "\t<tr><td>shakespeare-caesar.txt </td><td>bru                    </td><td>0.021536324            </td></tr>\n",
       "\t<tr><td>chesterton-ball.txt    </td><td>turnbull               </td><td>0.017854818            </td></tr>\n",
       "\t<tr><td>shakespeare-caesar.txt </td><td>brutus                 </td><td>0.017227679            </td></tr>\n",
       "\t<tr><td>shakespeare-caesar.txt </td><td>cassi                  </td><td>0.015061351            </td></tr>\n",
       "\t<tr><td>austen-sense.txt       </td><td>elinor                 </td><td>0.015010725            </td></tr>\n",
       "\t<tr><td>chesterton-ball.txt    </td><td>macian                 </td><td>0.014550974            </td></tr>\n",
       "\t<tr><td>shakespeare-caesar.txt </td><td>haue                   </td><td>0.012826952            </td></tr>\n",
       "\t<tr><td>shakespeare-hamlet.txt </td><td>ham                    </td><td>0.012466575            </td></tr>\n",
       "\t<tr><td>shakespeare-macbeth.txt</td><td>haue                   </td><td>0.012260623            </td></tr>\n",
       "\t<tr><td>shakespeare-caesar.txt </td><td>cassius                </td><td>0.011964624            </td></tr>\n",
       "\t<tr><td>bible-kjv.txt          </td><td>unto                   </td><td>0.011597733            </td></tr>\n",
       "\t<tr><td>austen-emma.txt        </td><td>emma                   </td><td>0.010726956            </td></tr>\n",
       "\t<tr><td>shakespeare-hamlet.txt </td><td>haue                   </td><td>0.010558216            </td></tr>\n",
       "\t<tr><td>burgess-busterbrown.txt</td><td>joe                    </td><td>0.010172231            </td></tr>\n",
       "\t<tr><td>shakespeare-macbeth.txt</td><td>macbeth                </td><td>0.010051211            </td></tr>\n",
       "\t<tr><td>shakespeare-macbeth.txt</td><td>macd                   </td><td>0.009402746            </td></tr>\n",
       "\t<tr><td>burgess-busterbrown.txt</td><td>blacky                 </td><td>0.009230945            </td></tr>\n",
       "\t<tr><td>burgess-busterbrown.txt</td><td>brown's                </td><td>0.009136171            </td></tr>\n",
       "\t<tr><td>austen-sense.txt       </td><td>marianne               </td><td>0.009029866            </td></tr>\n",
       "\t<tr><td>austen-persuasion.txt  </td><td>elliot                 </td><td>0.008775558            </td></tr>\n",
       "\t<tr><td>shakespeare-caesar.txt </td><td>antony                 </td><td>0.008025316            </td></tr>\n",
       "\t<tr><td>shakespeare-macbeth.txt</td><td>rosse                  </td><td>0.007943699            </td></tr>\n",
       "\t<tr><td>shakespeare-caesar.txt </td><td>caesar                 </td><td>0.007503494            </td></tr>\n",
       "\t<tr><td>austen-emma.txt        </td><td>harriet                </td><td>0.007450430            </td></tr>\n",
       "\t<tr><td>burgess-busterbrown.txt</td><td>billy                  </td><td>0.007058958            </td></tr>\n",
       "\t<tr><td>shakespeare-hamlet.txt </td><td>hor                    </td><td>0.007028633            </td></tr>\n",
       "\t<tr><td>⋮</td><td>⋮</td><td>⋮</td></tr>\n",
       "\t<tr><td>shakespeare-caesar.txt </td><td>forgot                 </td><td>0                      </td></tr>\n",
       "\t<tr><td>shakespeare-caesar.txt </td><td>gently                 </td><td>0                      </td></tr>\n",
       "\t<tr><td>shakespeare-caesar.txt </td><td>has                    </td><td>0                      </td></tr>\n",
       "\t<tr><td>shakespeare-caesar.txt </td><td>making                 </td><td>0                      </td></tr>\n",
       "\t<tr><td>shakespeare-caesar.txt </td><td>noise                  </td><td>0                      </td></tr>\n",
       "\t<tr><td>shakespeare-caesar.txt </td><td>saying                 </td><td>0                      </td></tr>\n",
       "\t<tr><td>shakespeare-caesar.txt </td><td>want                   </td><td>0                      </td></tr>\n",
       "\t<tr><td>shakespeare-caesar.txt </td><td>water                  </td><td>0                      </td></tr>\n",
       "\t<tr><td>shakespeare-caesar.txt </td><td>young                  </td><td>0                      </td></tr>\n",
       "\t<tr><td>shakespeare-hamlet.txt </td><td>among                  </td><td>0                      </td></tr>\n",
       "\t<tr><td>shakespeare-hamlet.txt </td><td>angry                  </td><td>0                      </td></tr>\n",
       "\t<tr><td>shakespeare-hamlet.txt </td><td>back                   </td><td>0                      </td></tr>\n",
       "\t<tr><td>shakespeare-hamlet.txt </td><td>besides                </td><td>0                      </td></tr>\n",
       "\t<tr><td>shakespeare-hamlet.txt </td><td>gently                 </td><td>0                      </td></tr>\n",
       "\t<tr><td>shakespeare-hamlet.txt </td><td>met                    </td><td>0                      </td></tr>\n",
       "\t<tr><td>shakespeare-hamlet.txt </td><td>ready                  </td><td>0                      </td></tr>\n",
       "\t<tr><td>shakespeare-hamlet.txt </td><td>saying                 </td><td>0                      </td></tr>\n",
       "\t<tr><td>shakespeare-hamlet.txt </td><td>write                  </td><td>0                      </td></tr>\n",
       "\t<tr><td>shakespeare-macbeth.txt</td><td>among                  </td><td>0                      </td></tr>\n",
       "\t<tr><td>shakespeare-macbeth.txt</td><td>angry                  </td><td>0                      </td></tr>\n",
       "\t<tr><td>shakespeare-macbeth.txt</td><td>back                   </td><td>0                      </td></tr>\n",
       "\t<tr><td>shakespeare-macbeth.txt</td><td>forgot                 </td><td>0                      </td></tr>\n",
       "\t<tr><td>shakespeare-macbeth.txt</td><td>gently                 </td><td>0                      </td></tr>\n",
       "\t<tr><td>shakespeare-macbeth.txt</td><td>mouth                  </td><td>0                      </td></tr>\n",
       "\t<tr><td>shakespeare-macbeth.txt</td><td>next                   </td><td>0                      </td></tr>\n",
       "\t<tr><td>shakespeare-macbeth.txt</td><td>saying                 </td><td>0                      </td></tr>\n",
       "\t<tr><td>shakespeare-macbeth.txt</td><td>speak                  </td><td>0                      </td></tr>\n",
       "\t<tr><td>shakespeare-macbeth.txt</td><td>want                   </td><td>0                      </td></tr>\n",
       "\t<tr><td>shakespeare-macbeth.txt</td><td>write                  </td><td>0                      </td></tr>\n",
       "\t<tr><td>whitman-leaves.txt     </td><td>forgot                 </td><td>0                      </td></tr>\n",
       "</tbody>\n",
       "</table>\n"
      ],
      "text/latex": [
       "\\begin{tabular}{r|lll}\n",
       " id & token & tf\\_idf\\\\\n",
       "\\hline\n",
       "\t burgess-busterbrown.txt & buster                  & 0.030545673            \\\\\n",
       "\t carroll-alice.txt       & alice                   & 0.025914986            \\\\\n",
       "\t chesterton-thursday.txt & syme                    & 0.024194264            \\\\\n",
       "\t shakespeare-macbeth.txt & macb                    & 0.022209935            \\\\\n",
       "\t shakespeare-caesar.txt  & bru                     & 0.021536324            \\\\\n",
       "\t chesterton-ball.txt     & turnbull                & 0.017854818            \\\\\n",
       "\t shakespeare-caesar.txt  & brutus                  & 0.017227679            \\\\\n",
       "\t shakespeare-caesar.txt  & cassi                   & 0.015061351            \\\\\n",
       "\t austen-sense.txt        & elinor                  & 0.015010725            \\\\\n",
       "\t chesterton-ball.txt     & macian                  & 0.014550974            \\\\\n",
       "\t shakespeare-caesar.txt  & haue                    & 0.012826952            \\\\\n",
       "\t shakespeare-hamlet.txt  & ham                     & 0.012466575            \\\\\n",
       "\t shakespeare-macbeth.txt & haue                    & 0.012260623            \\\\\n",
       "\t shakespeare-caesar.txt  & cassius                 & 0.011964624            \\\\\n",
       "\t bible-kjv.txt           & unto                    & 0.011597733            \\\\\n",
       "\t austen-emma.txt         & emma                    & 0.010726956            \\\\\n",
       "\t shakespeare-hamlet.txt  & haue                    & 0.010558216            \\\\\n",
       "\t burgess-busterbrown.txt & joe                     & 0.010172231            \\\\\n",
       "\t shakespeare-macbeth.txt & macbeth                 & 0.010051211            \\\\\n",
       "\t shakespeare-macbeth.txt & macd                    & 0.009402746            \\\\\n",
       "\t burgess-busterbrown.txt & blacky                  & 0.009230945            \\\\\n",
       "\t burgess-busterbrown.txt & brown's                 & 0.009136171            \\\\\n",
       "\t austen-sense.txt        & marianne                & 0.009029866            \\\\\n",
       "\t austen-persuasion.txt   & elliot                  & 0.008775558            \\\\\n",
       "\t shakespeare-caesar.txt  & antony                  & 0.008025316            \\\\\n",
       "\t shakespeare-macbeth.txt & rosse                   & 0.007943699            \\\\\n",
       "\t shakespeare-caesar.txt  & caesar                  & 0.007503494            \\\\\n",
       "\t austen-emma.txt         & harriet                 & 0.007450430            \\\\\n",
       "\t burgess-busterbrown.txt & billy                   & 0.007058958            \\\\\n",
       "\t shakespeare-hamlet.txt  & hor                     & 0.007028633            \\\\\n",
       "\t ⋮ & ⋮ & ⋮\\\\\n",
       "\t shakespeare-caesar.txt  & forgot                  & 0                      \\\\\n",
       "\t shakespeare-caesar.txt  & gently                  & 0                      \\\\\n",
       "\t shakespeare-caesar.txt  & has                     & 0                      \\\\\n",
       "\t shakespeare-caesar.txt  & making                  & 0                      \\\\\n",
       "\t shakespeare-caesar.txt  & noise                   & 0                      \\\\\n",
       "\t shakespeare-caesar.txt  & saying                  & 0                      \\\\\n",
       "\t shakespeare-caesar.txt  & want                    & 0                      \\\\\n",
       "\t shakespeare-caesar.txt  & water                   & 0                      \\\\\n",
       "\t shakespeare-caesar.txt  & young                   & 0                      \\\\\n",
       "\t shakespeare-hamlet.txt  & among                   & 0                      \\\\\n",
       "\t shakespeare-hamlet.txt  & angry                   & 0                      \\\\\n",
       "\t shakespeare-hamlet.txt  & back                    & 0                      \\\\\n",
       "\t shakespeare-hamlet.txt  & besides                 & 0                      \\\\\n",
       "\t shakespeare-hamlet.txt  & gently                  & 0                      \\\\\n",
       "\t shakespeare-hamlet.txt  & met                     & 0                      \\\\\n",
       "\t shakespeare-hamlet.txt  & ready                   & 0                      \\\\\n",
       "\t shakespeare-hamlet.txt  & saying                  & 0                      \\\\\n",
       "\t shakespeare-hamlet.txt  & write                   & 0                      \\\\\n",
       "\t shakespeare-macbeth.txt & among                   & 0                      \\\\\n",
       "\t shakespeare-macbeth.txt & angry                   & 0                      \\\\\n",
       "\t shakespeare-macbeth.txt & back                    & 0                      \\\\\n",
       "\t shakespeare-macbeth.txt & forgot                  & 0                      \\\\\n",
       "\t shakespeare-macbeth.txt & gently                  & 0                      \\\\\n",
       "\t shakespeare-macbeth.txt & mouth                   & 0                      \\\\\n",
       "\t shakespeare-macbeth.txt & next                    & 0                      \\\\\n",
       "\t shakespeare-macbeth.txt & saying                  & 0                      \\\\\n",
       "\t shakespeare-macbeth.txt & speak                   & 0                      \\\\\n",
       "\t shakespeare-macbeth.txt & want                    & 0                      \\\\\n",
       "\t shakespeare-macbeth.txt & write                   & 0                      \\\\\n",
       "\t whitman-leaves.txt      & forgot                  & 0                      \\\\\n",
       "\\end{tabular}\n"
      ],
      "text/markdown": [
       "\n",
       "id | token | tf_idf | \n",
       "|---|---|---|---|---|---|---|---|---|---|---|---|---|---|---|---|---|---|---|---|---|---|---|---|---|---|---|---|---|---|---|---|---|---|---|---|---|---|---|---|---|---|---|---|---|---|---|---|---|---|---|---|---|---|---|---|---|---|---|---|---|\n",
       "| burgess-busterbrown.txt | buster                  | 0.030545673             | \n",
       "| carroll-alice.txt       | alice                   | 0.025914986             | \n",
       "| chesterton-thursday.txt | syme                    | 0.024194264             | \n",
       "| shakespeare-macbeth.txt | macb                    | 0.022209935             | \n",
       "| shakespeare-caesar.txt  | bru                     | 0.021536324             | \n",
       "| chesterton-ball.txt     | turnbull                | 0.017854818             | \n",
       "| shakespeare-caesar.txt  | brutus                  | 0.017227679             | \n",
       "| shakespeare-caesar.txt  | cassi                   | 0.015061351             | \n",
       "| austen-sense.txt        | elinor                  | 0.015010725             | \n",
       "| chesterton-ball.txt     | macian                  | 0.014550974             | \n",
       "| shakespeare-caesar.txt  | haue                    | 0.012826952             | \n",
       "| shakespeare-hamlet.txt  | ham                     | 0.012466575             | \n",
       "| shakespeare-macbeth.txt | haue                    | 0.012260623             | \n",
       "| shakespeare-caesar.txt  | cassius                 | 0.011964624             | \n",
       "| bible-kjv.txt           | unto                    | 0.011597733             | \n",
       "| austen-emma.txt         | emma                    | 0.010726956             | \n",
       "| shakespeare-hamlet.txt  | haue                    | 0.010558216             | \n",
       "| burgess-busterbrown.txt | joe                     | 0.010172231             | \n",
       "| shakespeare-macbeth.txt | macbeth                 | 0.010051211             | \n",
       "| shakespeare-macbeth.txt | macd                    | 0.009402746             | \n",
       "| burgess-busterbrown.txt | blacky                  | 0.009230945             | \n",
       "| burgess-busterbrown.txt | brown's                 | 0.009136171             | \n",
       "| austen-sense.txt        | marianne                | 0.009029866             | \n",
       "| austen-persuasion.txt   | elliot                  | 0.008775558             | \n",
       "| shakespeare-caesar.txt  | antony                  | 0.008025316             | \n",
       "| shakespeare-macbeth.txt | rosse                   | 0.007943699             | \n",
       "| shakespeare-caesar.txt  | caesar                  | 0.007503494             | \n",
       "| austen-emma.txt         | harriet                 | 0.007450430             | \n",
       "| burgess-busterbrown.txt | billy                   | 0.007058958             | \n",
       "| shakespeare-hamlet.txt  | hor                     | 0.007028633             | \n",
       "| ⋮ | ⋮ | ⋮ | \n",
       "| shakespeare-caesar.txt  | forgot                  | 0                       | \n",
       "| shakespeare-caesar.txt  | gently                  | 0                       | \n",
       "| shakespeare-caesar.txt  | has                     | 0                       | \n",
       "| shakespeare-caesar.txt  | making                  | 0                       | \n",
       "| shakespeare-caesar.txt  | noise                   | 0                       | \n",
       "| shakespeare-caesar.txt  | saying                  | 0                       | \n",
       "| shakespeare-caesar.txt  | want                    | 0                       | \n",
       "| shakespeare-caesar.txt  | water                   | 0                       | \n",
       "| shakespeare-caesar.txt  | young                   | 0                       | \n",
       "| shakespeare-hamlet.txt  | among                   | 0                       | \n",
       "| shakespeare-hamlet.txt  | angry                   | 0                       | \n",
       "| shakespeare-hamlet.txt  | back                    | 0                       | \n",
       "| shakespeare-hamlet.txt  | besides                 | 0                       | \n",
       "| shakespeare-hamlet.txt  | gently                  | 0                       | \n",
       "| shakespeare-hamlet.txt  | met                     | 0                       | \n",
       "| shakespeare-hamlet.txt  | ready                   | 0                       | \n",
       "| shakespeare-hamlet.txt  | saying                  | 0                       | \n",
       "| shakespeare-hamlet.txt  | write                   | 0                       | \n",
       "| shakespeare-macbeth.txt | among                   | 0                       | \n",
       "| shakespeare-macbeth.txt | angry                   | 0                       | \n",
       "| shakespeare-macbeth.txt | back                    | 0                       | \n",
       "| shakespeare-macbeth.txt | forgot                  | 0                       | \n",
       "| shakespeare-macbeth.txt | gently                  | 0                       | \n",
       "| shakespeare-macbeth.txt | mouth                   | 0                       | \n",
       "| shakespeare-macbeth.txt | next                    | 0                       | \n",
       "| shakespeare-macbeth.txt | saying                  | 0                       | \n",
       "| shakespeare-macbeth.txt | speak                   | 0                       | \n",
       "| shakespeare-macbeth.txt | want                    | 0                       | \n",
       "| shakespeare-macbeth.txt | write                   | 0                       | \n",
       "| whitman-leaves.txt      | forgot                  | 0                       | \n",
       "\n",
       "\n"
      ],
      "text/plain": [
       "       id                      token    tf_idf     \n",
       "1      burgess-busterbrown.txt buster   0.030545673\n",
       "2      carroll-alice.txt       alice    0.025914986\n",
       "3      chesterton-thursday.txt syme     0.024194264\n",
       "4      shakespeare-macbeth.txt macb     0.022209935\n",
       "5      shakespeare-caesar.txt  bru      0.021536324\n",
       "6      chesterton-ball.txt     turnbull 0.017854818\n",
       "7      shakespeare-caesar.txt  brutus   0.017227679\n",
       "8      shakespeare-caesar.txt  cassi    0.015061351\n",
       "9      austen-sense.txt        elinor   0.015010725\n",
       "10     chesterton-ball.txt     macian   0.014550974\n",
       "11     shakespeare-caesar.txt  haue     0.012826952\n",
       "12     shakespeare-hamlet.txt  ham      0.012466575\n",
       "13     shakespeare-macbeth.txt haue     0.012260623\n",
       "14     shakespeare-caesar.txt  cassius  0.011964624\n",
       "15     bible-kjv.txt           unto     0.011597733\n",
       "16     austen-emma.txt         emma     0.010726956\n",
       "17     shakespeare-hamlet.txt  haue     0.010558216\n",
       "18     burgess-busterbrown.txt joe      0.010172231\n",
       "19     shakespeare-macbeth.txt macbeth  0.010051211\n",
       "20     shakespeare-macbeth.txt macd     0.009402746\n",
       "21     burgess-busterbrown.txt blacky   0.009230945\n",
       "22     burgess-busterbrown.txt brown's  0.009136171\n",
       "23     austen-sense.txt        marianne 0.009029866\n",
       "24     austen-persuasion.txt   elliot   0.008775558\n",
       "25     shakespeare-caesar.txt  antony   0.008025316\n",
       "26     shakespeare-macbeth.txt rosse    0.007943699\n",
       "27     shakespeare-caesar.txt  caesar   0.007503494\n",
       "28     austen-emma.txt         harriet  0.007450430\n",
       "29     burgess-busterbrown.txt billy    0.007058958\n",
       "30     shakespeare-hamlet.txt  hor      0.007028633\n",
       "⋮      ⋮                       ⋮        ⋮          \n",
       "124576 shakespeare-caesar.txt  forgot   0          \n",
       "124577 shakespeare-caesar.txt  gently   0          \n",
       "124578 shakespeare-caesar.txt  has      0          \n",
       "124579 shakespeare-caesar.txt  making   0          \n",
       "124580 shakespeare-caesar.txt  noise    0          \n",
       "124581 shakespeare-caesar.txt  saying   0          \n",
       "124582 shakespeare-caesar.txt  want     0          \n",
       "124583 shakespeare-caesar.txt  water    0          \n",
       "124584 shakespeare-caesar.txt  young    0          \n",
       "124585 shakespeare-hamlet.txt  among    0          \n",
       "124586 shakespeare-hamlet.txt  angry    0          \n",
       "124587 shakespeare-hamlet.txt  back     0          \n",
       "124588 shakespeare-hamlet.txt  besides  0          \n",
       "124589 shakespeare-hamlet.txt  gently   0          \n",
       "124590 shakespeare-hamlet.txt  met      0          \n",
       "124591 shakespeare-hamlet.txt  ready    0          \n",
       "124592 shakespeare-hamlet.txt  saying   0          \n",
       "124593 shakespeare-hamlet.txt  write    0          \n",
       "124594 shakespeare-macbeth.txt among    0          \n",
       "124595 shakespeare-macbeth.txt angry    0          \n",
       "124596 shakespeare-macbeth.txt back     0          \n",
       "124597 shakespeare-macbeth.txt forgot   0          \n",
       "124598 shakespeare-macbeth.txt gently   0          \n",
       "124599 shakespeare-macbeth.txt mouth    0          \n",
       "124600 shakespeare-macbeth.txt next     0          \n",
       "124601 shakespeare-macbeth.txt saying   0          \n",
       "124602 shakespeare-macbeth.txt speak    0          \n",
       "124603 shakespeare-macbeth.txt want     0          \n",
       "124604 shakespeare-macbeth.txt write    0          \n",
       "124605 whitman-leaves.txt      forgot   0          "
      ]
     },
     "metadata": {},
     "output_type": "display_data"
    }
   ],
   "source": [
    "## Let's take a look\n",
    "\n",
    "tfidf %>%\n",
    "  select(id, token, tf_idf) %>%\n",
    "  arrange(desc(tf_idf))"
   ]
  },
  {
   "cell_type": "code",
   "execution_count": null,
   "metadata": {
    "collapsed": true,
    "slideshow": {
     "slide_type": "subslide"
    }
   },
   "outputs": [],
   "source": [
    "dtm.mat <- tfidf %>%\n",
    "  spread(token, n, fill=0) %>%\n",
    "  select(-1) %>%\n",
    "  as.matrix()\n",
    "\n",
    "cosmat <- cosine(dtm.mat)"
   ]
  },
  {
   "cell_type": "markdown",
   "metadata": {
    "slideshow": {
     "slide_type": "slide"
    }
   },
   "source": [
    "# References\n",
    "\n",
    "* Salton, Gerard. 1979. “Mathematics and Information Retrieval.” Journal of Documentation 35 (1): 1–29.\n",
    "* Dubin, David. 2004. “The Most Influential Paper Gerard Salton Never Wrote.” Library Trends 52 (4): 748–64.\n",
    "* Robertson, Stephen. 2004. “Understanding Inverse Document Frequency: On Theoretical Arguments for IDF.” Journal of Documentation 60 (5): 503–520.\n"
   ]
  }
 ],
 "metadata": {
  "celltoolbar": "Slideshow",
  "kernelspec": {
   "display_name": "R",
   "language": "R",
   "name": "ir"
  },
  "language_info": {
   "codemirror_mode": "r",
   "file_extension": ".r",
   "mimetype": "text/x-r-source",
   "name": "R",
   "pygments_lexer": "r",
   "version": "4.2.1"
  }
 },
 "nbformat": 4,
 "nbformat_minor": 2
}
