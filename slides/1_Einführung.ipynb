{
 "cells": [
  {
   "cell_type": "markdown",
   "metadata": {
    "collapsed": true,
    "slideshow": {
     "slide_type": "slide"
    }
   },
   "source": [
    "**Text Mining in R**\n",
    "\n",
    "# Einführung in R\n",
    "\n",
    "Jan R. Riebling"
   ]
  },
  {
   "cell_type": "markdown",
   "metadata": {
    "slideshow": {
     "slide_type": "slide"
    }
   },
   "source": [
    "## Vorstellung des Workshops"
   ]
  },
  {
   "cell_type": "markdown",
   "metadata": {
    "slideshow": {
     "slide_type": "subslide"
    }
   },
   "source": [
    "##  Abstraktes Wissen statt spezifischer Fähigkeiten\n",
    "\n",
    "Ziel dieses Workshops ist es grundlegendes Wissen über die automatisierte *Erhebung*, die *Aufbereitung* und die *Analyse* von Textdaten zu vermitteln.\n",
    "\n",
    "Konkrete Techniken und Lösungen:\n",
    "\n",
    "* Web-basierte Application Programming Interfaces (webAPI).\n",
    "* Universal Ressource Locator (URL).\n",
    "* Hypertext Markup Language (HTML).\n",
    "* Parsen und Tokenisierung.\n",
    "* Reguläre Ausdrücke."
   ]
  },
  {
   "cell_type": "markdown",
   "metadata": {
    "slideshow": {
     "slide_type": "subslide"
    }
   },
   "source": [
    "## Selbststudium\n",
    "\n",
    "Neben den im Seminarplan erwähnten Ressourcen gibt es eine Reihe von weiteren Möglichkeiten auf dem grundlegenden Wissen des Seminars aufzubauen.\n",
    "\n",
    "* Dokumentationen und Hilfsfunktionen.\n",
    "* Suchmaschinen (z.B.: Google, DuckDuckGo, etc.).\n",
    "* [Mailinglisten](https://www.r-project.org/mail.html) und Frage-Antwort-Foren (z.B.: [StackExchange](https://stackexchange.com/)).\n",
    "\n",
    "You will be enabled to look for specific solutions by knowing what to google and how to understand it. This is just a rough sketch. See “Guide.pdf” for further ressources."
   ]
  },
  {
   "cell_type": "markdown",
   "metadata": {
    "slideshow": {
     "slide_type": "slide"
    }
   },
   "source": [
    "# R Grundlagen"
   ]
  },
  {
   "cell_type": "markdown",
   "metadata": {
    "slideshow": {
     "slide_type": "subslide"
    }
   },
   "source": [
    "## Werkzeugkasten\n",
    "\n",
    "* [**R**](https://cran.r-project.org/): Open-Source Programmiersprache (aufbauend auf S, Scheme und Lisp) für statistische Auswertung und Daten Analyse.\n",
    "* [**Jupyter Notebook**](https://jupyter-notebook.readthedocs.io/en/stable/): Sprachagnostische Notebook-Umgebung zur annotierten Datenanalyse.\n",
    "* [**RStudio**](https://www.rstudio.com/): Integrierte Entwicklungsumgebung für R.\n"
   ]
  },
  {
   "cell_type": "markdown",
   "metadata": {
    "slideshow": {
     "slide_type": "subslide"
    }
   },
   "source": [
    "## Eine zeitlose Tradition\n",
    "\n",
    "Traditionell das erste Programm, welches man in einer neuen Programmiersprache schreibt, ist das [\"Hello World!\" Programm](https://helloworldcollection.github.io/). Ziel dieses Programms ist es \"Hello World!\" auszugeben und damit ein Gefühl für die grundlegende Logik der Programmiersprache zu gewinnen und sie mit anderen Sprachen zu vergleichen."
   ]
  },
  {
   "cell_type": "code",
   "execution_count": 1,
   "metadata": {
    "slideshow": {
     "slide_type": "subslide"
    }
   },
   "outputs": [
    {
     "name": "stdout",
     "output_type": "stream",
     "text": [
      "[1] \"Hello World!\"\n"
     ]
    }
   ],
   "source": [
    "## Say \"Hello World!\"\n",
    "print('Hello World!')"
   ]
  },
  {
   "cell_type": "markdown",
   "metadata": {
    "slideshow": {
     "slide_type": "fragment"
    }
   },
   "source": [
    "R ist eine:\n",
    "\n",
    "* (stark) funktionale,\n",
    "* dynamische Typen nutzende,\n",
    "* interpretierte\n",
    "\n",
    "Programmiersprache."
   ]
  },
  {
   "cell_type": "markdown",
   "metadata": {
    "slideshow": {
     "slide_type": "subslide"
    }
   },
   "source": [
    "## Programiersprache\n",
    "\n",
    "Programiersprachen gelten als Turing-vollständig, d.h. alle Algorithmen können in allen Sprachen formuliert werden. Allerdings ist die tatsächliche Implementation oft sehr unterschiedlich.\n",
    "\n",
    "R kann prinzipiell die gleichen Konzepte ausdrücken, die auch in anderen Sprachen formuliert werden können.\n",
    "Praktisch hängt die Schwierigkeit der Implementation stark von der konkreten Problemstellung ab."
   ]
  },
  {
   "cell_type": "markdown",
   "metadata": {
    "slideshow": {
     "slide_type": "subslide"
    }
   },
   "source": [
    "## Grundsätzlich immer möglich\n",
    "\n",
    "* Eingabe (Input).\n",
    "* Operationen an Daten (z.B.: Arithmetik, boolsches Algebra).\n",
    "* Iterationen (z.B.: for-Schleife).\n",
    "* Konditionen (z.B.: if-else).\n",
    "* Ausgabe( Output)."
   ]
  },
  {
   "cell_type": "markdown",
   "metadata": {
    "slideshow": {
     "slide_type": "subslide"
    }
   },
   "source": [
    "## Limitationen\n",
    "\n",
    "> Large data objects will usually be read as values from external files rather than entered during an R session at the keyboard. R input facilities are simple and their requirements are fairly strict and even rather inflexible. There is a clear presumption by the designers of R that you will be able to modify your input files using other tools, such as file editors or Perl to fit in with the requirements of R. ~[An Introduction to R](https://cran.r-project.org/doc/manuals/r-release/R-intro.html)"
   ]
  },
  {
   "cell_type": "markdown",
   "metadata": {
    "slideshow": {
     "slide_type": "subslide"
    }
   },
   "source": [
    "## Tidyverse\n",
    "\n",
    "Sammlung von R Paketen, die neue Grammatik und Funktionalitäten bereitstellen.\n",
    "Ziel ist es eine konsistentere (tidier) Typenhierarchie bereitzustellen und einige der grundsätzlichen Limitationen von R zu überwinden.\n",
    "Dies kann jedoch auf Kosten der Effizienz gehen.\n",
    "\n",
    "Für diesen Workshop relevante Pakete:\n",
    "\n",
    "* `dplyr`\n",
    "* `tibble`\n",
    "* `stringi` and `stringr`"
   ]
  },
  {
   "cell_type": "markdown",
   "metadata": {
    "slideshow": {
     "slide_type": "subslide"
    }
   },
   "source": [
    "## Jupyter Notebook\n",
    "\n",
    "Server-client Architektur, welche den Browser zur Darstellung und als GUI nutzt. Eignet sich insbesondere für exploratives oder interaktives Arbeiten mit Daten bei gleichzeitiger Dokumentation des Vorgehens."
   ]
  },
  {
   "cell_type": "markdown",
   "metadata": {
    "slideshow": {
     "slide_type": "subslide"
    }
   },
   "source": [
    "## RStudio\n",
    "\n",
    "**I**ntegrated **D**evelopment **E**nvironment für R.\n",
    "Bietet viele Funktionen und eignet sich insbesondere für das Schreiben von ausführlicherem und systematischerem Code. "
   ]
  },
  {
   "cell_type": "markdown",
   "metadata": {
    "slideshow": {
     "slide_type": "slide"
    }
   },
   "source": [
    "# R Syntax"
   ]
  },
  {
   "cell_type": "markdown",
   "metadata": {
    "slideshow": {
     "slide_type": "subslide"
    }
   },
   "source": [
    "## Numerische Typen"
   ]
  },
  {
   "cell_type": "code",
   "execution_count": 22,
   "metadata": {},
   "outputs": [
    {
     "data": {
      "text/html": [
       "2"
      ],
      "text/latex": [
       "2"
      ],
      "text/markdown": [
       "2"
      ],
      "text/plain": [
       "[1] 2"
      ]
     },
     "metadata": {},
     "output_type": "display_data"
    }
   ],
   "source": [
    "2"
   ]
  },
  {
   "cell_type": "code",
   "execution_count": 26,
   "metadata": {},
   "outputs": [
    {
     "data": {
      "text/html": [
       "0.666666666666667"
      ],
      "text/latex": [
       "0.666666666666667"
      ],
      "text/markdown": [
       "0.666666666666667"
      ],
      "text/plain": [
       "[1] 0.6666667"
      ]
     },
     "metadata": {},
     "output_type": "display_data"
    }
   ],
   "source": [
    "2/3"
   ]
  },
  {
   "cell_type": "code",
   "execution_count": 21,
   "metadata": {},
   "outputs": [
    {
     "data": {
      "text/html": [
       "2+3i"
      ],
      "text/latex": [
       "2+3i"
      ],
      "text/markdown": [
       "2+3i"
      ],
      "text/plain": [
       "[1] 2+3i"
      ]
     },
     "metadata": {},
     "output_type": "display_data"
    }
   ],
   "source": [
    "complex(real=2, imaginary=3)"
   ]
  },
  {
   "cell_type": "markdown",
   "metadata": {
    "slideshow": {
     "slide_type": "subslide"
    }
   },
   "source": [
    "## Vektoren\n",
    "\n",
    "Ein *vector* ist ein elementarer Datentyp in R. Er ist definiert als eine Sequenz von Elementen des gleichen Typs. Um einen neuen Vektor zu erzeugen muss die Funktion `c()` mit den einzelnen Elementen des Argumenten (durch Kommata getrennt) gerufen werden."
   ]
  },
  {
   "cell_type": "code",
   "execution_count": 2,
   "metadata": {},
   "outputs": [
    {
     "data": {
      "text/html": [
       "<style>\n",
       ".list-inline {list-style: none; margin:0; padding: 0}\n",
       ".list-inline>li {display: inline-block}\n",
       ".list-inline>li:not(:last-child)::after {content: \"\\00b7\"; padding: 0 .5ex}\n",
       "</style>\n",
       "<ol class=list-inline><li>2</li><li>3</li><li>4</li><li>600</li></ol>\n"
      ],
      "text/latex": [
       "\\begin{enumerate*}\n",
       "\\item 2\n",
       "\\item 3\n",
       "\\item 4\n",
       "\\item 600\n",
       "\\end{enumerate*}\n"
      ],
      "text/markdown": [
       "1. 2\n",
       "2. 3\n",
       "3. 4\n",
       "4. 600\n",
       "\n",
       "\n"
      ],
      "text/plain": [
       "[1]   2   3   4 600"
      ]
     },
     "metadata": {},
     "output_type": "display_data"
    }
   ],
   "source": [
    "c(2, 3, 4, 600)"
   ]
  },
  {
   "cell_type": "markdown",
   "metadata": {
    "slideshow": {
     "slide_type": "subslide"
    }
   },
   "source": [
    "Vektoren folgen den Standardregeln der *linearen Algebra*.\n",
    "Dies erlaubt es schnell und unkompliziert eigene Modelle zu konstruieren.\n",
    "Hierin liegt die ursprüngliche Motivation zur Schaffung der R Sprache begründet."
   ]
  },
  {
   "cell_type": "code",
   "execution_count": 3,
   "metadata": {},
   "outputs": [
    {
     "data": {
      "text/html": [
       "<style>\n",
       ".list-inline {list-style: none; margin:0; padding: 0}\n",
       ".list-inline>li {display: inline-block}\n",
       ".list-inline>li:not(:last-child)::after {content: \"\\00b7\"; padding: 0 .5ex}\n",
       "</style>\n",
       "<ol class=list-inline><li>8</li><li>12</li><li>16</li><li>2400</li></ol>\n"
      ],
      "text/latex": [
       "\\begin{enumerate*}\n",
       "\\item 8\n",
       "\\item 12\n",
       "\\item 16\n",
       "\\item 2400\n",
       "\\end{enumerate*}\n"
      ],
      "text/markdown": [
       "1. 8\n",
       "2. 12\n",
       "3. 16\n",
       "4. 2400\n",
       "\n",
       "\n"
      ],
      "text/plain": [
       "[1]    8   12   16 2400"
      ]
     },
     "metadata": {},
     "output_type": "display_data"
    }
   ],
   "source": [
    "c(2, 3, 4, 600) * 4"
   ]
  },
  {
   "cell_type": "markdown",
   "metadata": {
    "slideshow": {
     "slide_type": "subslide"
    }
   },
   "source": [
    "$$\n",
    "\\text{cor}(X, Y) \n",
    "= \\frac{\\text{SRE}}{\\text{SSE}} \n",
    "= \\frac{\\sum_{i=1}^{n} ( x_i - \\bar{x} )( y_i - \\bar{y} )}{ \\sqrt{\\sum_{i=1}^{n} ( x_i - \\bar{x} )^2} \\sqrt{\\sum_{i=1}^{n} ( y_i - \\bar{y} )^2}}\n",
    "$$"
   ]
  },
  {
   "cell_type": "code",
   "execution_count": 81,
   "metadata": {
    "slideshow": {
     "slide_type": ""
    }
   },
   "outputs": [
    {
     "data": {
      "text/html": [
       "-0.333332086333537"
      ],
      "text/latex": [
       "-0.333332086333537"
      ],
      "text/markdown": [
       "-0.333332086333537"
      ],
      "text/plain": [
       "[1] -0.3333321"
      ]
     },
     "metadata": {},
     "output_type": "display_data"
    }
   ],
   "source": [
    "a <- c(2, 3, 4, 600) \n",
    "b <- c(4, 6, 4, 4)\n",
    "\n",
    "sum((a - mean(a)) * (b - mean(b))) / (sqrt((sum((a - mean(a))**2))) * sqrt((sum((b - mean(b))**2))))"
   ]
  },
  {
   "cell_type": "code",
   "execution_count": 77,
   "metadata": {},
   "outputs": [
    {
     "data": {
      "text/html": [
       "-0.333332086333537"
      ],
      "text/latex": [
       "-0.333332086333537"
      ],
      "text/markdown": [
       "-0.333332086333537"
      ],
      "text/plain": [
       "[1] -0.3333321"
      ]
     },
     "metadata": {},
     "output_type": "display_data"
    }
   ],
   "source": [
    "cor(a, b)"
   ]
  },
  {
   "cell_type": "markdown",
   "metadata": {
    "slideshow": {
     "slide_type": "subslide"
    }
   },
   "source": [
    "## Zuweisung\n",
    "\n",
    "Objekten muss ein Name zugewiesen werden, damit sie für spätere Operationen zur Verfügung stehen. Ein Name wird mittels der `<-` or `->` Operatoren zugewiesen. Die Zuweisung erfolgt in der Richtung die durch die Spitze der Winkelklammer angezeigt wird. Beispielsweise:\n",
    "\n",
    "```\n",
    "name <- objekt\n",
    "```"
   ]
  },
  {
   "cell_type": "code",
   "execution_count": 84,
   "metadata": {},
   "outputs": [],
   "source": [
    "# Gemäß Konvention:\n",
    "x <- c(2, 3)\n",
    "\n",
    "# Funktioniert auch, ist aber schwerer zu lesen.\n",
    "4 -> y"
   ]
  },
  {
   "cell_type": "code",
   "execution_count": 59,
   "metadata": {},
   "outputs": [
    {
     "data": {
      "text/html": [
       "<style>\n",
       ".list-inline {list-style: none; margin:0; padding: 0}\n",
       ".list-inline>li {display: inline-block}\n",
       ".list-inline>li:not(:last-child)::after {content: \"\\00b7\"; padding: 0 .5ex}\n",
       "</style>\n",
       "<ol class=list-inline><li>8</li><li>12</li></ol>\n"
      ],
      "text/latex": [
       "\\begin{enumerate*}\n",
       "\\item 8\n",
       "\\item 12\n",
       "\\end{enumerate*}\n"
      ],
      "text/markdown": [
       "1. 8\n",
       "2. 12\n",
       "\n",
       "\n"
      ],
      "text/plain": [
       "[1]  8 12"
      ]
     },
     "metadata": {},
     "output_type": "display_data"
    }
   ],
   "source": [
    " x * y"
   ]
  },
  {
   "cell_type": "markdown",
   "metadata": {
    "slideshow": {
     "slide_type": "subslide"
    }
   },
   "source": [
    "## Operatoren\n",
    "\n",
    "Die Standard Operatoren können in der [R Language Reference](https://cran.r-project.org/doc/manuals/r-release/R-lang.html#Operators) nachgeschlagen werden."
   ]
  },
  {
   "cell_type": "code",
   "execution_count": 2,
   "metadata": {},
   "outputs": [
    {
     "data": {
      "text/html": [
       "3"
      ],
      "text/latex": [
       "3"
      ],
      "text/markdown": [
       "3"
      ],
      "text/plain": [
       "[1] 3"
      ]
     },
     "metadata": {},
     "output_type": "display_data"
    }
   ],
   "source": [
    "1 + 2"
   ]
  },
  {
   "cell_type": "markdown",
   "metadata": {
    "slideshow": {
     "slide_type": "subslide"
    }
   },
   "source": [
    "## Funktionen"
   ]
  },
  {
   "cell_type": "markdown",
   "metadata": {
    "slideshow": {
     "slide_type": "subslide"
    }
   },
   "source": [
    "## Mit Stil!\n",
    "\n",
    "Code wird öfter gelesen als geschrieben.\n",
    "Ein sinnvoller Styleguide sorgt für lesbaren und verstehbaren Code.\n",
    "Vorschlag: [Google's R Style Guide](https://google.github.io/styleguide/Rguide.xml).\n",
    "\n",
    "Ergänzungen:\n",
    "\n",
    "* “A foolish consistency is the hobgoblin of little minds” ~ Ralph Waldo Emmerson.\n",
    "* Sprechende Variablennamen verwenden.\n",
    "* Ausgiebiges Nutzen von Kommentaren im Code."
   ]
  },
  {
   "cell_type": "markdown",
   "metadata": {
    "slideshow": {
     "slide_type": "subslide"
    }
   },
   "source": [
    "## Indexierung\n",
    "\n",
    "Objekte in R die aus einer Sammlung von Einzelobjekten bestehen (*Sequenzen*), verfügen über einen Index. Dieser kann über verschiedene Werte angesprochen werden:\n",
    "\n",
    "* Ganze Zahlen,\n",
    "* boolsche Vektoren und\n",
    "* in manchen Fällen durch Zeichenketten (`character`)."
   ]
  },
  {
   "cell_type": "code",
   "execution_count": 4,
   "metadata": {},
   "outputs": [],
   "source": [
    "# <- ein Kommentarzeichen\n",
    "y <- c(1.2, 3., 4.5, 6.7, 7.890)"
   ]
  },
  {
   "cell_type": "markdown",
   "metadata": {
    "slideshow": {
     "slide_type": "subslide"
    }
   },
   "source": [
    "## Indexierung mit Ganzen Zahlen\n",
    "\n",
    "1. Auswahl eines Zahlenbereichs von `i` bis einschließlich `j`: `[i:j]`.\n",
    "2. Voranstellen eines Minuszeichens kehrt die Auswahl um: `[-(i:j)]`.\n",
    "3. Auswahl durch einen numerischen Vektor gibt die jeweilige Position zurück: `[c(i, j, k, ...)]`"
   ]
  },
  {
   "cell_type": "code",
   "execution_count": 10,
   "metadata": {},
   "outputs": [
    {
     "data": {
      "text/html": [
       "<style>\n",
       ".list-inline {list-style: none; margin:0; padding: 0}\n",
       ".list-inline>li {display: inline-block}\n",
       ".list-inline>li:not(:last-child)::after {content: \"\\00b7\"; padding: 0 .5ex}\n",
       "</style>\n",
       "<ol class=list-inline><li>1.2</li><li>6.7</li></ol>\n"
      ],
      "text/latex": [
       "\\begin{enumerate*}\n",
       "\\item 1.2\n",
       "\\item 6.7\n",
       "\\end{enumerate*}\n"
      ],
      "text/markdown": [
       "1. 1.2\n",
       "2. 6.7\n",
       "\n",
       "\n"
      ],
      "text/plain": [
       "[1] 1.2 6.7"
      ]
     },
     "metadata": {},
     "output_type": "display_data"
    }
   ],
   "source": [
    "y[c(1, 4)]"
   ]
  },
  {
   "cell_type": "markdown",
   "metadata": {
    "slideshow": {
     "slide_type": "subslide"
    }
   },
   "source": [
    "## Boolsche Vektoren\n",
    "\n",
    "Boolsche Werte in R sind: `TRUE` und `FALSE`."
   ]
  },
  {
   "cell_type": "code",
   "execution_count": 11,
   "metadata": {},
   "outputs": [
    {
     "data": {
      "text/html": [
       "<style>\n",
       ".list-inline {list-style: none; margin:0; padding: 0}\n",
       ".list-inline>li {display: inline-block}\n",
       ".list-inline>li:not(:last-child)::after {content: \"\\00b7\"; padding: 0 .5ex}\n",
       "</style>\n",
       "<ol class=list-inline><li>FALSE</li><li>FALSE</li><li>TRUE</li><li>TRUE</li><li>TRUE</li></ol>\n"
      ],
      "text/latex": [
       "\\begin{enumerate*}\n",
       "\\item FALSE\n",
       "\\item FALSE\n",
       "\\item TRUE\n",
       "\\item TRUE\n",
       "\\item TRUE\n",
       "\\end{enumerate*}\n"
      ],
      "text/markdown": [
       "1. FALSE\n",
       "2. FALSE\n",
       "3. TRUE\n",
       "4. TRUE\n",
       "5. TRUE\n",
       "\n",
       "\n"
      ],
      "text/plain": [
       "[1] FALSE FALSE  TRUE  TRUE  TRUE"
      ]
     },
     "metadata": {},
     "output_type": "display_data"
    }
   ],
   "source": [
    "## Größer als 4. \n",
    "y > 4"
   ]
  },
  {
   "cell_type": "code",
   "execution_count": 12,
   "metadata": {},
   "outputs": [
    {
     "data": {
      "text/html": [
       "<style>\n",
       ".list-inline {list-style: none; margin:0; padding: 0}\n",
       ".list-inline>li {display: inline-block}\n",
       ".list-inline>li:not(:last-child)::after {content: \"\\00b7\"; padding: 0 .5ex}\n",
       "</style>\n",
       "<ol class=list-inline><li>4.5</li><li>6.7</li><li>7.89</li></ol>\n"
      ],
      "text/latex": [
       "\\begin{enumerate*}\n",
       "\\item 4.5\n",
       "\\item 6.7\n",
       "\\item 7.89\n",
       "\\end{enumerate*}\n"
      ],
      "text/markdown": [
       "1. 4.5\n",
       "2. 6.7\n",
       "3. 7.89\n",
       "\n",
       "\n"
      ],
      "text/plain": [
       "[1] 4.50 6.70 7.89"
      ]
     },
     "metadata": {},
     "output_type": "display_data"
    }
   ],
   "source": [
    "y[y > 4]"
   ]
  },
  {
   "cell_type": "markdown",
   "metadata": {
    "slideshow": {
     "slide_type": "subslide"
    }
   },
   "source": [
    "## Iteration\n",
    "\n",
    "* While-Schleife: `while (condition) {do...}`\n",
    "* For-Schleife: `for (var in x) {do...}`"
   ]
  },
  {
   "cell_type": "code",
   "execution_count": 93,
   "metadata": {
    "slideshow": {
     "slide_type": "subslide"
    }
   },
   "outputs": [
    {
     "name": "stdout",
     "output_type": "stream",
     "text": [
      "[1] 0\n",
      "[1] 1\n",
      "[1] 1\n",
      "[1] 2\n",
      "[1] 3\n",
      "[1] 5\n",
      "[1] 8\n",
      "[1] 13\n",
      "[1] 21\n"
     ]
    }
   ],
   "source": [
    "## Fibonacci sequence\n",
    "a <- 0 \n",
    "b <- 1\n",
    "while (a <= 30) {\n",
    "  print(a);  \n",
    "  c <- a+b; \n",
    "  a <- b; \n",
    "  b <- c\n",
    "}"
   ]
  },
  {
   "cell_type": "code",
   "execution_count": 94,
   "metadata": {
    "slideshow": {
     "slide_type": "subslide"
    }
   },
   "outputs": [
    {
     "name": "stdout",
     "output_type": "stream",
     "text": [
      "[1] 2.4\n",
      "[1] 6\n",
      "[1] 9\n",
      "[1] 13.4\n",
      "[1] 15.78\n"
     ]
    }
   ],
   "source": [
    "for (element in y) {\n",
    "  print(element*2)\n",
    "}"
   ]
  },
  {
   "cell_type": "markdown",
   "metadata": {
    "slideshow": {
     "slide_type": "subslide"
    }
   },
   "source": [
    "## Bedingungen\n",
    "\n",
    "Können entweder auf einzelne Elemente oder Vektoren angewendet werden oder als Ausdrücke verwendet werden um die Abfolge von Befehlen zu steuern.."
   ]
  },
  {
   "cell_type": "code",
   "execution_count": 13,
   "metadata": {
    "slideshow": {
     "slide_type": "-"
    }
   },
   "outputs": [
    {
     "data": {
      "text/html": [
       "<style>\n",
       ".list-inline {list-style: none; margin:0; padding: 0}\n",
       ".list-inline>li {display: inline-block}\n",
       ".list-inline>li:not(:last-child)::after {content: \"\\00b7\"; padding: 0 .5ex}\n",
       "</style>\n",
       "<ol class=list-inline><li>TRUE</li><li>TRUE</li><li>FALSE</li><li>FALSE</li><li>FALSE</li></ol>\n"
      ],
      "text/latex": [
       "\\begin{enumerate*}\n",
       "\\item TRUE\n",
       "\\item TRUE\n",
       "\\item FALSE\n",
       "\\item FALSE\n",
       "\\item FALSE\n",
       "\\end{enumerate*}\n"
      ],
      "text/markdown": [
       "1. TRUE\n",
       "2. TRUE\n",
       "3. FALSE\n",
       "4. FALSE\n",
       "5. FALSE\n",
       "\n",
       "\n"
      ],
      "text/plain": [
       "[1]  TRUE  TRUE FALSE FALSE FALSE"
      ]
     },
     "metadata": {},
     "output_type": "display_data"
    }
   ],
   "source": [
    "y < 4"
   ]
  },
  {
   "cell_type": "code",
   "execution_count": 96,
   "metadata": {},
   "outputs": [
    {
     "name": "stdout",
     "output_type": "stream",
     "text": [
      "[1] \"Tada\"\n",
      "[1] \"Tada\"\n",
      "[1] 4.5\n",
      "[1] 6.7\n",
      "[1] 7.89\n"
     ]
    }
   ],
   "source": [
    "## This is control flow\n",
    "for (element in y) {\n",
    "  if (element < 4) {\n",
    "    print('Tada')\n",
    "  }\n",
    "  else print(element)\n",
    "}"
   ]
  },
  {
   "cell_type": "markdown",
   "metadata": {
    "slideshow": {
     "slide_type": "slide"
    }
   },
   "source": [
    "# R Datentabellen"
   ]
  },
  {
   "cell_type": "markdown",
   "metadata": {
    "slideshow": {
     "slide_type": "subslide"
    }
   },
   "source": [
    "## data.frame\n",
    "\n",
    "Ein `data.frame` ist eine abstrakte Datenstruktur zur Analyse, Transformation und Managament von Datenreihen. Besteht aus Zeilen (Beobachtungen) und Spalten (Variablen). Konzeptuell handelt es sich hierbei um benannte Listen von Vektoren."
   ]
  },
  {
   "cell_type": "code",
   "execution_count": 14,
   "metadata": {},
   "outputs": [
    {
     "data": {
      "text/html": [
       "<table class=\"dataframe\">\n",
       "<caption>A data.frame: 4 × 3</caption>\n",
       "<thead>\n",
       "\t<tr><th scope=col>x</th><th scope=col>y</th><th scope=col>z</th></tr>\n",
       "\t<tr><th scope=col>&lt;int&gt;</th><th scope=col>&lt;dbl&gt;</th><th scope=col>&lt;chr&gt;</th></tr>\n",
       "</thead>\n",
       "<tbody>\n",
       "\t<tr><td>1</td><td> 5</td><td>a  </td></tr>\n",
       "\t<tr><td>2</td><td>10</td><td>b  </td></tr>\n",
       "\t<tr><td>3</td><td>15</td><td>c  </td></tr>\n",
       "\t<tr><td>4</td><td>20</td><td>foo</td></tr>\n",
       "</tbody>\n",
       "</table>\n"
      ],
      "text/latex": [
       "A data.frame: 4 × 3\n",
       "\\begin{tabular}{lll}\n",
       " x & y & z\\\\\n",
       " <int> & <dbl> & <chr>\\\\\n",
       "\\hline\n",
       "\t 1 &  5 & a  \\\\\n",
       "\t 2 & 10 & b  \\\\\n",
       "\t 3 & 15 & c  \\\\\n",
       "\t 4 & 20 & foo\\\\\n",
       "\\end{tabular}\n"
      ],
      "text/markdown": [
       "\n",
       "A data.frame: 4 × 3\n",
       "\n",
       "| x &lt;int&gt; | y &lt;dbl&gt; | z &lt;chr&gt; |\n",
       "|---|---|---|\n",
       "| 1 |  5 | a   |\n",
       "| 2 | 10 | b   |\n",
       "| 3 | 15 | c   |\n",
       "| 4 | 20 | foo |\n",
       "\n"
      ],
      "text/plain": [
       "  x y  z  \n",
       "1 1  5 a  \n",
       "2 2 10 b  \n",
       "3 3 15 c  \n",
       "4 4 20 foo"
      ]
     },
     "metadata": {},
     "output_type": "display_data"
    }
   ],
   "source": [
    "df <- data.frame(x=1:4, y=seq(5, 20, by=5), z=c('a', 'b', 'c', 'foo'))\n",
    "df"
   ]
  },
  {
   "cell_type": "code",
   "execution_count": 16,
   "metadata": {
    "slideshow": {
     "slide_type": "subslide"
    }
   },
   "outputs": [
    {
     "data": {
      "text/html": [
       "<style>\n",
       ".list-inline {list-style: none; margin:0; padding: 0}\n",
       ".list-inline>li {display: inline-block}\n",
       ".list-inline>li:not(:last-child)::after {content: \"\\00b7\"; padding: 0 .5ex}\n",
       "</style>\n",
       "<ol class=list-inline><li>1</li><li>2</li><li>3</li><li>4</li></ol>\n"
      ],
      "text/latex": [
       "\\begin{enumerate*}\n",
       "\\item 1\n",
       "\\item 2\n",
       "\\item 3\n",
       "\\item 4\n",
       "\\end{enumerate*}\n"
      ],
      "text/markdown": [
       "1. 1\n",
       "2. 2\n",
       "3. 3\n",
       "4. 4\n",
       "\n",
       "\n"
      ],
      "text/plain": [
       "[1] 1 2 3 4"
      ]
     },
     "metadata": {},
     "output_type": "display_data"
    }
   ],
   "source": [
    "df$x"
   ]
  },
  {
   "cell_type": "code",
   "execution_count": 18,
   "metadata": {},
   "outputs": [
    {
     "data": {
      "text/html": [
       "<table class=\"dataframe\">\n",
       "<caption>A data.frame: 1 × 2</caption>\n",
       "<thead>\n",
       "\t<tr><th></th><th scope=col>y</th><th scope=col>z</th></tr>\n",
       "\t<tr><th></th><th scope=col>&lt;dbl&gt;</th><th scope=col>&lt;chr&gt;</th></tr>\n",
       "</thead>\n",
       "<tbody>\n",
       "\t<tr><th scope=row>2</th><td>10</td><td>b</td></tr>\n",
       "</tbody>\n",
       "</table>\n"
      ],
      "text/latex": [
       "A data.frame: 1 × 2\n",
       "\\begin{tabular}{r|ll}\n",
       "  & y & z\\\\\n",
       "  & <dbl> & <chr>\\\\\n",
       "\\hline\n",
       "\t2 & 10 & b\\\\\n",
       "\\end{tabular}\n"
      ],
      "text/markdown": [
       "\n",
       "A data.frame: 1 × 2\n",
       "\n",
       "| <!--/--> | y &lt;dbl&gt; | z &lt;chr&gt; |\n",
       "|---|---|---|\n",
       "| 2 | 10 | b |\n",
       "\n"
      ],
      "text/plain": [
       "  y  z\n",
       "2 10 b"
      ]
     },
     "metadata": {},
     "output_type": "display_data"
    }
   ],
   "source": [
    "## df[row_index, column_index]\n",
    "\n",
    "df[2, 2:3]"
   ]
  },
  {
   "cell_type": "markdown",
   "metadata": {
    "slideshow": {
     "slide_type": "subslide"
    }
   },
   "source": [
    "## Alternative Syntax\n",
    "\n",
    "Das Paket `dplyr` stellt eine weitere Syntax zur Verfügung welche mit dem Pipe-Symbol `%>%` operiert. "
   ]
  },
  {
   "cell_type": "code",
   "execution_count": 64,
   "metadata": {},
   "outputs": [
    {
     "name": "stderr",
     "output_type": "stream",
     "text": [
      "\n",
      "Attache Paket: ‘dplyr’\n",
      "\n",
      "\n",
      "Die folgenden Objekte sind maskiert von ‘package:stats’:\n",
      "\n",
      "    filter, lag\n",
      "\n",
      "\n",
      "Die folgenden Objekte sind maskiert von ‘package:base’:\n",
      "\n",
      "    intersect, setdiff, setequal, union\n",
      "\n",
      "\n"
     ]
    }
   ],
   "source": [
    "library(dplyr)"
   ]
  },
  {
   "cell_type": "markdown",
   "metadata": {
    "slideshow": {
     "slide_type": "slide"
    }
   },
   "source": [
    "# Zen of Python\n",
    "\n",
    "```\n",
    "Beautiful is better than ugly.\n",
    "Explicit is better than implicit.\n",
    "Simple is better than complex.\n",
    "Complex is better than complicated.\n",
    "Flat is better than nested.\n",
    "Sparse is better than dense.\n",
    "Readability counts.\n",
    "Special cases aren't special enough to break the rules.\n",
    "Although practicality beats purity.\n",
    "Errors should never pass silently.\n",
    "Unless explicitly silenced.\n",
    "In the face of ambiguity, refuse the temptation to guess.\n",
    "There should be one-- and preferably only one --obvious way to do it.\n",
    "Although that way may not be obvious at first unless you're Dutch.\n",
    "Now is better than never.\n",
    "Although never is often better than *right* now.\n",
    "If the implementation is hard to explain, it's a bad idea.\n",
    "If the implementation is easy to explain, it may be a good idea.\n",
    "Namespaces are one honking great idea -- let's do more of those!\n",
    "```"
   ]
  }
 ],
 "metadata": {
  "celltoolbar": "Slideshow",
  "kernelspec": {
   "display_name": "R",
   "language": "R",
   "name": "ir"
  },
  "language_info": {
   "codemirror_mode": "r",
   "file_extension": ".r",
   "mimetype": "text/x-r-source",
   "name": "R",
   "pygments_lexer": "r",
   "version": "4.2.1"
  }
 },
 "nbformat": 4,
 "nbformat_minor": 1
}
