{
 "cells": [
  {
   "cell_type": "markdown",
   "metadata": {
    "slideshow": {
     "slide_type": "slide"
    }
   },
   "source": [
    "**Data Mining and Machine Learning**\n",
    "\n",
    "# Machine Learning I\n",
    "\n",
    "Jan Riebling, **Universität Wuppertal**"
   ]
  },
  {
   "cell_type": "code",
   "execution_count": 1,
   "metadata": {
    "slideshow": {
     "slide_type": "subslide"
    }
   },
   "outputs": [
    {
     "name": "stderr",
     "output_type": "stream",
     "text": [
      "── \u001b[1mAttaching packages\u001b[22m ──────────────────────────────────────────────────────────────────────────── tidyverse 1.3.2 ──\n",
      "\u001b[32m✔\u001b[39m \u001b[34mggplot2\u001b[39m 3.3.6      \u001b[32m✔\u001b[39m \u001b[34mpurrr  \u001b[39m 0.3.5 \n",
      "\u001b[32m✔\u001b[39m \u001b[34mtibble \u001b[39m 3.1.8      \u001b[32m✔\u001b[39m \u001b[34mdplyr  \u001b[39m 1.0.10\n",
      "\u001b[32m✔\u001b[39m \u001b[34mtidyr  \u001b[39m 1.2.1      \u001b[32m✔\u001b[39m \u001b[34mstringr\u001b[39m 1.4.1 \n",
      "\u001b[32m✔\u001b[39m \u001b[34mreadr  \u001b[39m 2.1.3      \u001b[32m✔\u001b[39m \u001b[34mforcats\u001b[39m 0.5.2 \n",
      "── \u001b[1mConflicts\u001b[22m ─────────────────────────────────────────────────────────────────────────────── tidyverse_conflicts() ──\n",
      "\u001b[31m✖\u001b[39m \u001b[34mdplyr\u001b[39m::\u001b[32mfilter()\u001b[39m masks \u001b[34mstats\u001b[39m::filter()\n",
      "\u001b[31m✖\u001b[39m \u001b[34mdplyr\u001b[39m::\u001b[32mlag()\u001b[39m    masks \u001b[34mstats\u001b[39m::lag()\n"
     ]
    }
   ],
   "source": [
    "#install.packages(c('topicmodels', 'reshape2', 'caTools', 'ROCR'))\n",
    "    \n",
    "# Loading packages\n",
    "library(caTools)\n",
    "library(ROCR) \n",
    "library(topicmodels)\n",
    "library(tidyverse)\n",
    "library(tidytext)"
   ]
  },
  {
   "cell_type": "markdown",
   "metadata": {
    "slideshow": {
     "slide_type": "slide"
    }
   },
   "source": [
    "# Grundlagen des Machine Learnings"
   ]
  },
  {
   "cell_type": "markdown",
   "metadata": {
    "slideshow": {
     "slide_type": "subslide"
    }
   },
   "source": [
    "## Machine Learning\n",
    "\n",
    "Maschinelles Lernen bezeichnet eine Vielzahl von Verfahren, die auf Mustererkennung und die Klassifikation von Daten abzielen."
   ]
  },
  {
   "cell_type": "markdown",
   "metadata": {
    "slideshow": {
     "slide_type": "subslide"
    }
   },
   "source": [
    "## Arten des Lernens\n",
    "\n",
    "* **Unsupervised learning**: Klassifikationen von Daten ohne vorherige Informationen welche Klassen korrekt sein könnten (ohne Überwachung des Modells). \n",
    "* **Supervised learning**: Klassifiaktion von Daten durch Training eines Modells mit bereits bekannten Daten."
   ]
  },
  {
   "cell_type": "markdown",
   "metadata": {
    "slideshow": {
     "slide_type": "subslide"
    }
   },
   "source": [
    "## Workflow\n",
    "\n",
    "1. Datensatz zusammenstellen:\n",
    "    * UL und SL: Datensatz der Eigenschaften (*features*).\n",
    "    * Nur SL: Vektor der Zielvariable (*target*).\n",
    "        * Trennung in Trainings- und Testdaten.\n",
    "2. Modell trainieren klassifizieren.\n",
    "3. Modell überprüfen:\n",
    "    * Modell auf die zurückgehaltenen Testdaten anwenden und Fehler identifizieren.\n",
    "4. (Klassifizierer implementieren)."
   ]
  },
  {
   "cell_type": "markdown",
   "metadata": {
    "slideshow": {
     "slide_type": "slide"
    }
   },
   "source": [
    "# Unsupervised Learning"
   ]
  },
  {
   "cell_type": "markdown",
   "metadata": {
    "slideshow": {
     "slide_type": "subslide"
    }
   },
   "source": [
    "## Vorgehen und Ziel\n",
    "\n",
    "Klassifikation oder dimensionelle Reduktion von Daten mit dem Ziel der Mustererkennung."
   ]
  },
  {
   "cell_type": "markdown",
   "metadata": {
    "slideshow": {
     "slide_type": "subslide"
    }
   },
   "source": [
    "## Topic Models\n",
    "\n",
    "Im Bereich der quantitativen Textanalyse eingesetzte Verfahren zur unüberwachten Extraktion von Themen aus Texten. Der Begriff bezieht sich auch oft auf die *Latent Dirichlet Allocation (LDA)* als einem der bekanntesten Verfahren in diesem Bereich. In R wird dieses und direkt damit verwandte Verfahren durch das Paket `topicmodels` bereitgestellt. Siehe auch diese [Vignette](https://cran.r-project.org/web/packages/topicmodels/vignettes/topicmodels.pdf) und insbesondere [„Text Mining with R: A Tidy Approach“](https://www.tidytextmining.com/topicmodeling.html#latent-dirichlet-allocation)."
   ]
  },
  {
   "cell_type": "code",
   "execution_count": 29,
   "metadata": {},
   "outputs": [],
   "source": [
    "library(topicmodels)"
   ]
  },
  {
   "cell_type": "code",
   "execution_count": 3,
   "metadata": {
    "slideshow": {
     "slide_type": "subslide"
    }
   },
   "outputs": [
    {
     "name": "stderr",
     "output_type": "stream",
     "text": [
      "Warning message:\n",
      "“\u001b[1m\u001b[22mOne or more parsing issues, call `problems()` on your data frame for details, e.g.:\n",
      "  dat <- vroom(...)\n",
      "  problems(dat)”\n",
      "\u001b[1mRows: \u001b[22m\u001b[34m730760\u001b[39m \u001b[1mColumns: \u001b[22m\u001b[34m4\u001b[39m\n",
      "\u001b[36m──\u001b[39m \u001b[1mColumn specification\u001b[22m \u001b[36m───────────────────────────────────────────────────────────────────────────────────────────────────────────────────────\u001b[39m\n",
      "\u001b[1mDelimiter:\u001b[22m \"\\t\"\n",
      "\u001b[31mchr\u001b[39m (4): DocID, Token, Tag, Lemma\n",
      "\n",
      "\u001b[36mℹ\u001b[39m Use `spec()` to retrieve the full column specification for this data.\n",
      "\u001b[36mℹ\u001b[39m Specify the column types or set `show_col_types = FALSE` to quiet this message.\n"
     ]
    }
   ],
   "source": [
    "ttl_df <- read_delim('../data/GesetzeBayernTTL.tsv', col_names=c('DocID', 'Token', 'Tag', 'Lemma'))"
   ]
  },
  {
   "cell_type": "code",
   "execution_count": 10,
   "metadata": {
    "scrolled": true,
    "slideshow": {
     "slide_type": "subslide"
    }
   },
   "outputs": [
    {
     "data": {
      "text/html": [
       "<table class=\"dataframe\">\n",
       "<caption>A spec_tbl_df: 52 × 2</caption>\n",
       "<thead>\n",
       "\t<tr><th scope=col>Tag</th><th scope=col>n</th></tr>\n",
       "\t<tr><th scope=col>&lt;chr&gt;</th><th scope=col>&lt;int&gt;</th></tr>\n",
       "</thead>\n",
       "<tbody>\n",
       "\t<tr><td>NN     </td><td>205760</td></tr>\n",
       "\t<tr><td>ART    </td><td> 81944</td></tr>\n",
       "\t<tr><td>APPR   </td><td> 59533</td></tr>\n",
       "\t<tr><td>CARD   </td><td> 55396</td></tr>\n",
       "\t<tr><td>ADJA   </td><td> 46629</td></tr>\n",
       "\t<tr><td>$.     </td><td> 35523</td></tr>\n",
       "\t<tr><td>$(     </td><td> 29852</td></tr>\n",
       "\t<tr><td>$,     </td><td> 28581</td></tr>\n",
       "\t<tr><td>KON    </td><td> 27789</td></tr>\n",
       "\t<tr><td>VAFIN  </td><td> 18240</td></tr>\n",
       "\t<tr><td>ADV    </td><td> 16821</td></tr>\n",
       "\t<tr><td>VVFIN  </td><td> 14132</td></tr>\n",
       "\t<tr><td>VVPP   </td><td> 13106</td></tr>\n",
       "\t<tr><td>ADJD   </td><td> 12530</td></tr>\n",
       "\t<tr><td>APPRART</td><td> 11771</td></tr>\n",
       "\t<tr><td>NE     </td><td> 11032</td></tr>\n",
       "\t<tr><td>VVINF  </td><td>  7085</td></tr>\n",
       "\t<tr><td>KOUS   </td><td>  5423</td></tr>\n",
       "\t<tr><td>VMFIN  </td><td>  5054</td></tr>\n",
       "\t<tr><td>PTKZU  </td><td>  4678</td></tr>\n",
       "\t<tr><td>PTKNEG </td><td>  4243</td></tr>\n",
       "\t<tr><td>PRELS  </td><td>  4008</td></tr>\n",
       "\t<tr><td>VAINF  </td><td>  3333</td></tr>\n",
       "\t<tr><td>VVIZU  </td><td>  3283</td></tr>\n",
       "\t<tr><td>PPER   </td><td>  3079</td></tr>\n",
       "\t<tr><td>TRUNC  </td><td>  2595</td></tr>\n",
       "\t<tr><td>PDAT   </td><td>  2493</td></tr>\n",
       "\t<tr><td>PIAT   </td><td>  2492</td></tr>\n",
       "\t<tr><td>KOKOM  </td><td>  2311</td></tr>\n",
       "\t<tr><td>PAV    </td><td>  2135</td></tr>\n",
       "\t<tr><td>PRF    </td><td>  1849</td></tr>\n",
       "\t<tr><td>PTKVZ  </td><td>  1703</td></tr>\n",
       "\t<tr><td>PPOSAT </td><td>  1539</td></tr>\n",
       "\t<tr><td>PDS    </td><td>  1060</td></tr>\n",
       "\t<tr><td>PIS    </td><td>   820</td></tr>\n",
       "\t<tr><td>FM     </td><td>   769</td></tr>\n",
       "\t<tr><td>VAPP   </td><td>   555</td></tr>\n",
       "\t<tr><td>XY     </td><td>   365</td></tr>\n",
       "\t<tr><td>PRELAT </td><td>   252</td></tr>\n",
       "\t<tr><td>VVIMP  </td><td>   207</td></tr>\n",
       "\t<tr><td>APPO   </td><td>   167</td></tr>\n",
       "\t<tr><td>KOUI   </td><td>   154</td></tr>\n",
       "\t<tr><td>VMINF  </td><td>   126</td></tr>\n",
       "\t<tr><td>PWAV   </td><td>   109</td></tr>\n",
       "\t<tr><td>PWS    </td><td>    77</td></tr>\n",
       "\t<tr><td>PTKA   </td><td>    70</td></tr>\n",
       "\t<tr><td>APZR   </td><td>    46</td></tr>\n",
       "\t<tr><td>NA     </td><td>    20</td></tr>\n",
       "\t<tr><td>PWAT   </td><td>    12</td></tr>\n",
       "\t<tr><td>ITJ    </td><td>     6</td></tr>\n",
       "\t<tr><td>PTKANT </td><td>     2</td></tr>\n",
       "\t<tr><td>VMPP   </td><td>     1</td></tr>\n",
       "</tbody>\n",
       "</table>\n"
      ],
      "text/latex": [
       "A spec\\_tbl\\_df: 52 × 2\n",
       "\\begin{tabular}{ll}\n",
       " Tag & n\\\\\n",
       " <chr> & <int>\\\\\n",
       "\\hline\n",
       "\t NN      & 205760\\\\\n",
       "\t ART     &  81944\\\\\n",
       "\t APPR    &  59533\\\\\n",
       "\t CARD    &  55396\\\\\n",
       "\t ADJA    &  46629\\\\\n",
       "\t \\$.      &  35523\\\\\n",
       "\t \\$(      &  29852\\\\\n",
       "\t \\$,      &  28581\\\\\n",
       "\t KON     &  27789\\\\\n",
       "\t VAFIN   &  18240\\\\\n",
       "\t ADV     &  16821\\\\\n",
       "\t VVFIN   &  14132\\\\\n",
       "\t VVPP    &  13106\\\\\n",
       "\t ADJD    &  12530\\\\\n",
       "\t APPRART &  11771\\\\\n",
       "\t NE      &  11032\\\\\n",
       "\t VVINF   &   7085\\\\\n",
       "\t KOUS    &   5423\\\\\n",
       "\t VMFIN   &   5054\\\\\n",
       "\t PTKZU   &   4678\\\\\n",
       "\t PTKNEG  &   4243\\\\\n",
       "\t PRELS   &   4008\\\\\n",
       "\t VAINF   &   3333\\\\\n",
       "\t VVIZU   &   3283\\\\\n",
       "\t PPER    &   3079\\\\\n",
       "\t TRUNC   &   2595\\\\\n",
       "\t PDAT    &   2493\\\\\n",
       "\t PIAT    &   2492\\\\\n",
       "\t KOKOM   &   2311\\\\\n",
       "\t PAV     &   2135\\\\\n",
       "\t PRF     &   1849\\\\\n",
       "\t PTKVZ   &   1703\\\\\n",
       "\t PPOSAT  &   1539\\\\\n",
       "\t PDS     &   1060\\\\\n",
       "\t PIS     &    820\\\\\n",
       "\t FM      &    769\\\\\n",
       "\t VAPP    &    555\\\\\n",
       "\t XY      &    365\\\\\n",
       "\t PRELAT  &    252\\\\\n",
       "\t VVIMP   &    207\\\\\n",
       "\t APPO    &    167\\\\\n",
       "\t KOUI    &    154\\\\\n",
       "\t VMINF   &    126\\\\\n",
       "\t PWAV    &    109\\\\\n",
       "\t PWS     &     77\\\\\n",
       "\t PTKA    &     70\\\\\n",
       "\t APZR    &     46\\\\\n",
       "\t NA      &     20\\\\\n",
       "\t PWAT    &     12\\\\\n",
       "\t ITJ     &      6\\\\\n",
       "\t PTKANT  &      2\\\\\n",
       "\t VMPP    &      1\\\\\n",
       "\\end{tabular}\n"
      ],
      "text/markdown": [
       "\n",
       "A spec_tbl_df: 52 × 2\n",
       "\n",
       "| Tag &lt;chr&gt; | n &lt;int&gt; |\n",
       "|---|---|\n",
       "| NN      | 205760 |\n",
       "| ART     |  81944 |\n",
       "| APPR    |  59533 |\n",
       "| CARD    |  55396 |\n",
       "| ADJA    |  46629 |\n",
       "| $.      |  35523 |\n",
       "| $(      |  29852 |\n",
       "| $,      |  28581 |\n",
       "| KON     |  27789 |\n",
       "| VAFIN   |  18240 |\n",
       "| ADV     |  16821 |\n",
       "| VVFIN   |  14132 |\n",
       "| VVPP    |  13106 |\n",
       "| ADJD    |  12530 |\n",
       "| APPRART |  11771 |\n",
       "| NE      |  11032 |\n",
       "| VVINF   |   7085 |\n",
       "| KOUS    |   5423 |\n",
       "| VMFIN   |   5054 |\n",
       "| PTKZU   |   4678 |\n",
       "| PTKNEG  |   4243 |\n",
       "| PRELS   |   4008 |\n",
       "| VAINF   |   3333 |\n",
       "| VVIZU   |   3283 |\n",
       "| PPER    |   3079 |\n",
       "| TRUNC   |   2595 |\n",
       "| PDAT    |   2493 |\n",
       "| PIAT    |   2492 |\n",
       "| KOKOM   |   2311 |\n",
       "| PAV     |   2135 |\n",
       "| PRF     |   1849 |\n",
       "| PTKVZ   |   1703 |\n",
       "| PPOSAT  |   1539 |\n",
       "| PDS     |   1060 |\n",
       "| PIS     |    820 |\n",
       "| FM      |    769 |\n",
       "| VAPP    |    555 |\n",
       "| XY      |    365 |\n",
       "| PRELAT  |    252 |\n",
       "| VVIMP   |    207 |\n",
       "| APPO    |    167 |\n",
       "| KOUI    |    154 |\n",
       "| VMINF   |    126 |\n",
       "| PWAV    |    109 |\n",
       "| PWS     |     77 |\n",
       "| PTKA    |     70 |\n",
       "| APZR    |     46 |\n",
       "| NA      |     20 |\n",
       "| PWAT    |     12 |\n",
       "| ITJ     |      6 |\n",
       "| PTKANT  |      2 |\n",
       "| VMPP    |      1 |\n",
       "\n"
      ],
      "text/plain": [
       "   Tag     n     \n",
       "1  NN      205760\n",
       "2  ART      81944\n",
       "3  APPR     59533\n",
       "4  CARD     55396\n",
       "5  ADJA     46629\n",
       "6  $.       35523\n",
       "7  $(       29852\n",
       "8  $,       28581\n",
       "9  KON      27789\n",
       "10 VAFIN    18240\n",
       "11 ADV      16821\n",
       "12 VVFIN    14132\n",
       "13 VVPP     13106\n",
       "14 ADJD     12530\n",
       "15 APPRART  11771\n",
       "16 NE       11032\n",
       "17 VVINF     7085\n",
       "18 KOUS      5423\n",
       "19 VMFIN     5054\n",
       "20 PTKZU     4678\n",
       "21 PTKNEG    4243\n",
       "22 PRELS     4008\n",
       "23 VAINF     3333\n",
       "24 VVIZU     3283\n",
       "25 PPER      3079\n",
       "26 TRUNC     2595\n",
       "27 PDAT      2493\n",
       "28 PIAT      2492\n",
       "29 KOKOM     2311\n",
       "30 PAV       2135\n",
       "31 PRF       1849\n",
       "32 PTKVZ     1703\n",
       "33 PPOSAT    1539\n",
       "34 PDS       1060\n",
       "35 PIS        820\n",
       "36 FM         769\n",
       "37 VAPP       555\n",
       "38 XY         365\n",
       "39 PRELAT     252\n",
       "40 VVIMP      207\n",
       "41 APPO       167\n",
       "42 KOUI       154\n",
       "43 VMINF      126\n",
       "44 PWAV       109\n",
       "45 PWS         77\n",
       "46 PTKA        70\n",
       "47 APZR        46\n",
       "48 NA          20\n",
       "49 PWAT        12\n",
       "50 ITJ          6\n",
       "51 PTKANT       2\n",
       "52 VMPP         1"
      ]
     },
     "metadata": {},
     "output_type": "display_data"
    }
   ],
   "source": [
    "## Verteilung der Tags\n",
    "\n",
    "ttl_df %>%\n",
    "  count(Tag, sort=TRUE)"
   ]
  },
  {
   "cell_type": "markdown",
   "metadata": {
    "slideshow": {
     "slide_type": "subslide"
    }
   },
   "source": [
    "## Document Term Matrix"
   ]
  },
  {
   "cell_type": "code",
   "execution_count": 22,
   "metadata": {
    "slideshow": {
     "slide_type": ""
    }
   },
   "outputs": [
    {
     "data": {
      "text/plain": [
       "<<DocumentTermMatrix (documents: 99, terms: 14958)>>\n",
       "Non-/sparse entries: 51784/1429058\n",
       "Sparsity           : 97%\n",
       "Maximal term length: 35\n",
       "Weighting          : term frequency (tf)"
      ]
     },
     "metadata": {},
     "output_type": "display_data"
    }
   ],
   "source": [
    "gesetzebay_dtm <- ttl_df %>%\n",
    "  filter(Tag %in% c('NN', 'NE', 'ADJA', 'ADV', 'ADJD' ), Lemma != '<unknown>') %>%\n",
    "  count(DocID, Lemma, sort=TRUE) %>%\n",
    "  cast_dtm(DocID, Lemma, n)\n",
    "\n",
    "gesetzebay_dtm"
   ]
  },
  {
   "cell_type": "markdown",
   "metadata": {
    "slideshow": {
     "slide_type": "subslide"
    }
   },
   "source": [
    "## Topic Model"
   ]
  },
  {
   "cell_type": "code",
   "execution_count": 26,
   "metadata": {},
   "outputs": [
    {
     "data": {
      "text/plain": [
       "A LDA_VEM topic model with 4 topics."
      ]
     },
     "metadata": {},
     "output_type": "display_data"
    }
   ],
   "source": [
    "gbay_lda <- LDA(gesetzebay_dtm, k=4, control=list(seed = 1234))\n",
    "gbay_lda"
   ]
  },
  {
   "cell_type": "markdown",
   "metadata": {
    "slideshow": {
     "slide_type": "subslide"
    }
   },
   "source": [
    "## $\\beta$ Werte\n",
    "\n",
    "Die $\\beta$ Werte geben die Wahrscheinlichkeit für ein Wort, bei zufälliger Ziehung, aus einem bestimmten Thema zu entstammen."
   ]
  },
  {
   "cell_type": "code",
   "execution_count": 30,
   "metadata": {
    "scrolled": true
   },
   "outputs": [
    {
     "data": {
      "text/html": [
       "<table class=\"dataframe\">\n",
       "<caption>A tibble: 59832 × 3</caption>\n",
       "<thead>\n",
       "\t<tr><th scope=col>topic</th><th scope=col>term</th><th scope=col>beta</th></tr>\n",
       "\t<tr><th scope=col>&lt;int&gt;</th><th scope=col>&lt;chr&gt;</th><th scope=col>&lt;dbl&gt;</th></tr>\n",
       "</thead>\n",
       "<tbody>\n",
       "\t<tr><td>1</td><td>Art.             </td><td>2.447101e-02</td></tr>\n",
       "\t<tr><td>2</td><td>Art.             </td><td>4.019173e-03</td></tr>\n",
       "\t<tr><td>3</td><td>Art.             </td><td>3.956598e-02</td></tr>\n",
       "\t<tr><td>4</td><td>Art.             </td><td>3.302299e-05</td></tr>\n",
       "\t<tr><td>1</td><td>Abs.             </td><td>3.367748e-02</td></tr>\n",
       "\t<tr><td>2</td><td>Abs.             </td><td>7.027900e-03</td></tr>\n",
       "\t<tr><td>3</td><td>Abs.             </td><td>2.822412e-02</td></tr>\n",
       "\t<tr><td>4</td><td>Abs.             </td><td>4.988648e-03</td></tr>\n",
       "\t<tr><td>1</td><td>Nummer           </td><td>1.102004e-02</td></tr>\n",
       "\t<tr><td>2</td><td>Nummer           </td><td>7.168708e-03</td></tr>\n",
       "\t<tr><td>3</td><td>Nummer           </td><td>1.961495e-02</td></tr>\n",
       "\t<tr><td>4</td><td>Nummer           </td><td>9.306615e-03</td></tr>\n",
       "\t<tr><td>1</td><td>Satz             </td><td>1.228415e-02</td></tr>\n",
       "\t<tr><td>2</td><td>Satz             </td><td>3.979529e-03</td></tr>\n",
       "\t<tr><td>3</td><td>Satz             </td><td>1.433148e-02</td></tr>\n",
       "\t<tr><td>4</td><td>Satz             </td><td>2.452170e-03</td></tr>\n",
       "\t<tr><td>1</td><td>§                </td><td>2.743457e-02</td></tr>\n",
       "\t<tr><td>2</td><td>§                </td><td>1.380519e-02</td></tr>\n",
       "\t<tr><td>3</td><td>§                </td><td>9.063193e-03</td></tr>\n",
       "\t<tr><td>4</td><td>§                </td><td>2.289315e-02</td></tr>\n",
       "\t<tr><td>1</td><td>zuständig        </td><td>5.353478e-03</td></tr>\n",
       "\t<tr><td>2</td><td>zuständig        </td><td>4.088624e-03</td></tr>\n",
       "\t<tr><td>3</td><td>zuständig        </td><td>5.569986e-03</td></tr>\n",
       "\t<tr><td>4</td><td>zuständig        </td><td>2.433703e-03</td></tr>\n",
       "\t<tr><td>1</td><td>@card@           </td><td>6.727636e-03</td></tr>\n",
       "\t<tr><td>2</td><td>@card@           </td><td>2.594233e-03</td></tr>\n",
       "\t<tr><td>3</td><td>@card@           </td><td>1.022828e-02</td></tr>\n",
       "\t<tr><td>4</td><td>@card@           </td><td>5.194377e-03</td></tr>\n",
       "\t<tr><td>1</td><td>Staatsministerium</td><td>1.452090e-03</td></tr>\n",
       "\t<tr><td>2</td><td>Staatsministerium</td><td>6.934954e-03</td></tr>\n",
       "\t<tr><td>⋮</td><td>⋮</td><td>⋮</td></tr>\n",
       "\t<tr><td>3</td><td>Registrierungspflicht  </td><td>6.524801e-120</td></tr>\n",
       "\t<tr><td>4</td><td>Registrierungspflicht  </td><td>3.822362e-102</td></tr>\n",
       "\t<tr><td>1</td><td>Überwachungseinrichtung</td><td>5.287130e-114</td></tr>\n",
       "\t<tr><td>2</td><td>Überwachungseinrichtung</td><td> 2.837584e-05</td></tr>\n",
       "\t<tr><td>3</td><td>Überwachungseinrichtung</td><td>1.332994e-119</td></tr>\n",
       "\t<tr><td>4</td><td>Überwachungseinrichtung</td><td>3.844864e-102</td></tr>\n",
       "\t<tr><td>1</td><td>Überwachungstätigkeit  </td><td>6.098635e-114</td></tr>\n",
       "\t<tr><td>2</td><td>Überwachungstätigkeit  </td><td> 2.837584e-05</td></tr>\n",
       "\t<tr><td>3</td><td>Überwachungstätigkeit  </td><td>7.287434e-120</td></tr>\n",
       "\t<tr><td>4</td><td>Überwachungstätigkeit  </td><td>3.674172e-102</td></tr>\n",
       "\t<tr><td>1</td><td>Verbraucherverband     </td><td>3.197469e-114</td></tr>\n",
       "\t<tr><td>2</td><td>Verbraucherverband     </td><td> 2.837584e-05</td></tr>\n",
       "\t<tr><td>3</td><td>Verbraucherverband     </td><td>2.547344e-120</td></tr>\n",
       "\t<tr><td>4</td><td>Verbraucherverband     </td><td>3.653799e-102</td></tr>\n",
       "\t<tr><td>1</td><td>vertrauensbildend      </td><td>4.543971e-114</td></tr>\n",
       "\t<tr><td>2</td><td>vertrauensbildend      </td><td> 2.837584e-05</td></tr>\n",
       "\t<tr><td>3</td><td>vertrauensbildend      </td><td>5.567178e-120</td></tr>\n",
       "\t<tr><td>4</td><td>vertrauensbildend      </td><td>4.711504e-103</td></tr>\n",
       "\t<tr><td>1</td><td>Wirkstoff              </td><td>1.721689e-114</td></tr>\n",
       "\t<tr><td>2</td><td>Wirkstoff              </td><td> 2.837584e-05</td></tr>\n",
       "\t<tr><td>3</td><td>Wirkstoff              </td><td>2.278008e-120</td></tr>\n",
       "\t<tr><td>4</td><td>Wirkstoff              </td><td>3.349005e-102</td></tr>\n",
       "\t<tr><td>1</td><td>zugrundegelegt         </td><td>8.512044e-115</td></tr>\n",
       "\t<tr><td>2</td><td>zugrundegelegt         </td><td> 2.837584e-05</td></tr>\n",
       "\t<tr><td>3</td><td>zugrundegelegt         </td><td>1.005401e-119</td></tr>\n",
       "\t<tr><td>4</td><td>zugrundegelegt         </td><td>1.172063e-102</td></tr>\n",
       "\t<tr><td>1</td><td>Zulassungsverfahren    </td><td>9.670535e-114</td></tr>\n",
       "\t<tr><td>2</td><td>Zulassungsverfahren    </td><td> 2.837584e-05</td></tr>\n",
       "\t<tr><td>3</td><td>Zulassungsverfahren    </td><td>9.961476e-120</td></tr>\n",
       "\t<tr><td>4</td><td>Zulassungsverfahren    </td><td>2.583252e-103</td></tr>\n",
       "</tbody>\n",
       "</table>\n"
      ],
      "text/latex": [
       "A tibble: 59832 × 3\n",
       "\\begin{tabular}{lll}\n",
       " topic & term & beta\\\\\n",
       " <int> & <chr> & <dbl>\\\\\n",
       "\\hline\n",
       "\t 1 & Art.              & 2.447101e-02\\\\\n",
       "\t 2 & Art.              & 4.019173e-03\\\\\n",
       "\t 3 & Art.              & 3.956598e-02\\\\\n",
       "\t 4 & Art.              & 3.302299e-05\\\\\n",
       "\t 1 & Abs.              & 3.367748e-02\\\\\n",
       "\t 2 & Abs.              & 7.027900e-03\\\\\n",
       "\t 3 & Abs.              & 2.822412e-02\\\\\n",
       "\t 4 & Abs.              & 4.988648e-03\\\\\n",
       "\t 1 & Nummer            & 1.102004e-02\\\\\n",
       "\t 2 & Nummer            & 7.168708e-03\\\\\n",
       "\t 3 & Nummer            & 1.961495e-02\\\\\n",
       "\t 4 & Nummer            & 9.306615e-03\\\\\n",
       "\t 1 & Satz              & 1.228415e-02\\\\\n",
       "\t 2 & Satz              & 3.979529e-03\\\\\n",
       "\t 3 & Satz              & 1.433148e-02\\\\\n",
       "\t 4 & Satz              & 2.452170e-03\\\\\n",
       "\t 1 & §                 & 2.743457e-02\\\\\n",
       "\t 2 & §                 & 1.380519e-02\\\\\n",
       "\t 3 & §                 & 9.063193e-03\\\\\n",
       "\t 4 & §                 & 2.289315e-02\\\\\n",
       "\t 1 & zuständig         & 5.353478e-03\\\\\n",
       "\t 2 & zuständig         & 4.088624e-03\\\\\n",
       "\t 3 & zuständig         & 5.569986e-03\\\\\n",
       "\t 4 & zuständig         & 2.433703e-03\\\\\n",
       "\t 1 & @card@            & 6.727636e-03\\\\\n",
       "\t 2 & @card@            & 2.594233e-03\\\\\n",
       "\t 3 & @card@            & 1.022828e-02\\\\\n",
       "\t 4 & @card@            & 5.194377e-03\\\\\n",
       "\t 1 & Staatsministerium & 1.452090e-03\\\\\n",
       "\t 2 & Staatsministerium & 6.934954e-03\\\\\n",
       "\t ⋮ & ⋮ & ⋮\\\\\n",
       "\t 3 & Registrierungspflicht   & 6.524801e-120\\\\\n",
       "\t 4 & Registrierungspflicht   & 3.822362e-102\\\\\n",
       "\t 1 & Überwachungseinrichtung & 5.287130e-114\\\\\n",
       "\t 2 & Überwachungseinrichtung &  2.837584e-05\\\\\n",
       "\t 3 & Überwachungseinrichtung & 1.332994e-119\\\\\n",
       "\t 4 & Überwachungseinrichtung & 3.844864e-102\\\\\n",
       "\t 1 & Überwachungstätigkeit   & 6.098635e-114\\\\\n",
       "\t 2 & Überwachungstätigkeit   &  2.837584e-05\\\\\n",
       "\t 3 & Überwachungstätigkeit   & 7.287434e-120\\\\\n",
       "\t 4 & Überwachungstätigkeit   & 3.674172e-102\\\\\n",
       "\t 1 & Verbraucherverband      & 3.197469e-114\\\\\n",
       "\t 2 & Verbraucherverband      &  2.837584e-05\\\\\n",
       "\t 3 & Verbraucherverband      & 2.547344e-120\\\\\n",
       "\t 4 & Verbraucherverband      & 3.653799e-102\\\\\n",
       "\t 1 & vertrauensbildend       & 4.543971e-114\\\\\n",
       "\t 2 & vertrauensbildend       &  2.837584e-05\\\\\n",
       "\t 3 & vertrauensbildend       & 5.567178e-120\\\\\n",
       "\t 4 & vertrauensbildend       & 4.711504e-103\\\\\n",
       "\t 1 & Wirkstoff               & 1.721689e-114\\\\\n",
       "\t 2 & Wirkstoff               &  2.837584e-05\\\\\n",
       "\t 3 & Wirkstoff               & 2.278008e-120\\\\\n",
       "\t 4 & Wirkstoff               & 3.349005e-102\\\\\n",
       "\t 1 & zugrundegelegt          & 8.512044e-115\\\\\n",
       "\t 2 & zugrundegelegt          &  2.837584e-05\\\\\n",
       "\t 3 & zugrundegelegt          & 1.005401e-119\\\\\n",
       "\t 4 & zugrundegelegt          & 1.172063e-102\\\\\n",
       "\t 1 & Zulassungsverfahren     & 9.670535e-114\\\\\n",
       "\t 2 & Zulassungsverfahren     &  2.837584e-05\\\\\n",
       "\t 3 & Zulassungsverfahren     & 9.961476e-120\\\\\n",
       "\t 4 & Zulassungsverfahren     & 2.583252e-103\\\\\n",
       "\\end{tabular}\n"
      ],
      "text/markdown": [
       "\n",
       "A tibble: 59832 × 3\n",
       "\n",
       "| topic &lt;int&gt; | term &lt;chr&gt; | beta &lt;dbl&gt; |\n",
       "|---|---|---|\n",
       "| 1 | Art.              | 2.447101e-02 |\n",
       "| 2 | Art.              | 4.019173e-03 |\n",
       "| 3 | Art.              | 3.956598e-02 |\n",
       "| 4 | Art.              | 3.302299e-05 |\n",
       "| 1 | Abs.              | 3.367748e-02 |\n",
       "| 2 | Abs.              | 7.027900e-03 |\n",
       "| 3 | Abs.              | 2.822412e-02 |\n",
       "| 4 | Abs.              | 4.988648e-03 |\n",
       "| 1 | Nummer            | 1.102004e-02 |\n",
       "| 2 | Nummer            | 7.168708e-03 |\n",
       "| 3 | Nummer            | 1.961495e-02 |\n",
       "| 4 | Nummer            | 9.306615e-03 |\n",
       "| 1 | Satz              | 1.228415e-02 |\n",
       "| 2 | Satz              | 3.979529e-03 |\n",
       "| 3 | Satz              | 1.433148e-02 |\n",
       "| 4 | Satz              | 2.452170e-03 |\n",
       "| 1 | §                 | 2.743457e-02 |\n",
       "| 2 | §                 | 1.380519e-02 |\n",
       "| 3 | §                 | 9.063193e-03 |\n",
       "| 4 | §                 | 2.289315e-02 |\n",
       "| 1 | zuständig         | 5.353478e-03 |\n",
       "| 2 | zuständig         | 4.088624e-03 |\n",
       "| 3 | zuständig         | 5.569986e-03 |\n",
       "| 4 | zuständig         | 2.433703e-03 |\n",
       "| 1 | @card@            | 6.727636e-03 |\n",
       "| 2 | @card@            | 2.594233e-03 |\n",
       "| 3 | @card@            | 1.022828e-02 |\n",
       "| 4 | @card@            | 5.194377e-03 |\n",
       "| 1 | Staatsministerium | 1.452090e-03 |\n",
       "| 2 | Staatsministerium | 6.934954e-03 |\n",
       "| ⋮ | ⋮ | ⋮ |\n",
       "| 3 | Registrierungspflicht   | 6.524801e-120 |\n",
       "| 4 | Registrierungspflicht   | 3.822362e-102 |\n",
       "| 1 | Überwachungseinrichtung | 5.287130e-114 |\n",
       "| 2 | Überwachungseinrichtung |  2.837584e-05 |\n",
       "| 3 | Überwachungseinrichtung | 1.332994e-119 |\n",
       "| 4 | Überwachungseinrichtung | 3.844864e-102 |\n",
       "| 1 | Überwachungstätigkeit   | 6.098635e-114 |\n",
       "| 2 | Überwachungstätigkeit   |  2.837584e-05 |\n",
       "| 3 | Überwachungstätigkeit   | 7.287434e-120 |\n",
       "| 4 | Überwachungstätigkeit   | 3.674172e-102 |\n",
       "| 1 | Verbraucherverband      | 3.197469e-114 |\n",
       "| 2 | Verbraucherverband      |  2.837584e-05 |\n",
       "| 3 | Verbraucherverband      | 2.547344e-120 |\n",
       "| 4 | Verbraucherverband      | 3.653799e-102 |\n",
       "| 1 | vertrauensbildend       | 4.543971e-114 |\n",
       "| 2 | vertrauensbildend       |  2.837584e-05 |\n",
       "| 3 | vertrauensbildend       | 5.567178e-120 |\n",
       "| 4 | vertrauensbildend       | 4.711504e-103 |\n",
       "| 1 | Wirkstoff               | 1.721689e-114 |\n",
       "| 2 | Wirkstoff               |  2.837584e-05 |\n",
       "| 3 | Wirkstoff               | 2.278008e-120 |\n",
       "| 4 | Wirkstoff               | 3.349005e-102 |\n",
       "| 1 | zugrundegelegt          | 8.512044e-115 |\n",
       "| 2 | zugrundegelegt          |  2.837584e-05 |\n",
       "| 3 | zugrundegelegt          | 1.005401e-119 |\n",
       "| 4 | zugrundegelegt          | 1.172063e-102 |\n",
       "| 1 | Zulassungsverfahren     | 9.670535e-114 |\n",
       "| 2 | Zulassungsverfahren     |  2.837584e-05 |\n",
       "| 3 | Zulassungsverfahren     | 9.961476e-120 |\n",
       "| 4 | Zulassungsverfahren     | 2.583252e-103 |\n",
       "\n"
      ],
      "text/plain": [
       "      topic term                    beta         \n",
       "1     1     Art.                    2.447101e-02 \n",
       "2     2     Art.                    4.019173e-03 \n",
       "3     3     Art.                    3.956598e-02 \n",
       "4     4     Art.                    3.302299e-05 \n",
       "5     1     Abs.                    3.367748e-02 \n",
       "6     2     Abs.                    7.027900e-03 \n",
       "7     3     Abs.                    2.822412e-02 \n",
       "8     4     Abs.                    4.988648e-03 \n",
       "9     1     Nummer                  1.102004e-02 \n",
       "10    2     Nummer                  7.168708e-03 \n",
       "11    3     Nummer                  1.961495e-02 \n",
       "12    4     Nummer                  9.306615e-03 \n",
       "13    1     Satz                    1.228415e-02 \n",
       "14    2     Satz                    3.979529e-03 \n",
       "15    3     Satz                    1.433148e-02 \n",
       "16    4     Satz                    2.452170e-03 \n",
       "17    1     §                       2.743457e-02 \n",
       "18    2     §                       1.380519e-02 \n",
       "19    3     §                       9.063193e-03 \n",
       "20    4     §                       2.289315e-02 \n",
       "21    1     zuständig               5.353478e-03 \n",
       "22    2     zuständig               4.088624e-03 \n",
       "23    3     zuständig               5.569986e-03 \n",
       "24    4     zuständig               2.433703e-03 \n",
       "25    1     @card@                  6.727636e-03 \n",
       "26    2     @card@                  2.594233e-03 \n",
       "27    3     @card@                  1.022828e-02 \n",
       "28    4     @card@                  5.194377e-03 \n",
       "29    1     Staatsministerium       1.452090e-03 \n",
       "30    2     Staatsministerium       6.934954e-03 \n",
       "⋮     ⋮     ⋮                       ⋮            \n",
       "59803 3     Registrierungspflicht   6.524801e-120\n",
       "59804 4     Registrierungspflicht   3.822362e-102\n",
       "59805 1     Überwachungseinrichtung 5.287130e-114\n",
       "59806 2     Überwachungseinrichtung  2.837584e-05\n",
       "59807 3     Überwachungseinrichtung 1.332994e-119\n",
       "59808 4     Überwachungseinrichtung 3.844864e-102\n",
       "59809 1     Überwachungstätigkeit   6.098635e-114\n",
       "59810 2     Überwachungstätigkeit    2.837584e-05\n",
       "59811 3     Überwachungstätigkeit   7.287434e-120\n",
       "59812 4     Überwachungstätigkeit   3.674172e-102\n",
       "59813 1     Verbraucherverband      3.197469e-114\n",
       "59814 2     Verbraucherverband       2.837584e-05\n",
       "59815 3     Verbraucherverband      2.547344e-120\n",
       "59816 4     Verbraucherverband      3.653799e-102\n",
       "59817 1     vertrauensbildend       4.543971e-114\n",
       "59818 2     vertrauensbildend        2.837584e-05\n",
       "59819 3     vertrauensbildend       5.567178e-120\n",
       "59820 4     vertrauensbildend       4.711504e-103\n",
       "59821 1     Wirkstoff               1.721689e-114\n",
       "59822 2     Wirkstoff                2.837584e-05\n",
       "59823 3     Wirkstoff               2.278008e-120\n",
       "59824 4     Wirkstoff               3.349005e-102\n",
       "59825 1     zugrundegelegt          8.512044e-115\n",
       "59826 2     zugrundegelegt           2.837584e-05\n",
       "59827 3     zugrundegelegt          1.005401e-119\n",
       "59828 4     zugrundegelegt          1.172063e-102\n",
       "59829 1     Zulassungsverfahren     9.670535e-114\n",
       "59830 2     Zulassungsverfahren      2.837584e-05\n",
       "59831 3     Zulassungsverfahren     9.961476e-120\n",
       "59832 4     Zulassungsverfahren     2.583252e-103"
      ]
     },
     "metadata": {},
     "output_type": "display_data"
    }
   ],
   "source": [
    "gbay_topics <- tidy(gbay_lda, matrix=\"beta\")\n",
    "gbay_topics"
   ]
  },
  {
   "cell_type": "markdown",
   "metadata": {
    "slideshow": {
     "slide_type": "subslide"
    }
   },
   "source": [
    "## Top 10\n",
    "\n",
    "Worte pro Thema"
   ]
  },
  {
   "cell_type": "code",
   "execution_count": 31,
   "metadata": {
    "scrolled": true
   },
   "outputs": [
    {
     "data": {
      "text/html": [
       "<table class=\"dataframe\">\n",
       "<caption>A tibble: 40 × 3</caption>\n",
       "<thead>\n",
       "\t<tr><th scope=col>topic</th><th scope=col>term</th><th scope=col>beta</th></tr>\n",
       "\t<tr><th scope=col>&lt;int&gt;</th><th scope=col>&lt;chr&gt;</th><th scope=col>&lt;dbl&gt;</th></tr>\n",
       "</thead>\n",
       "<tbody>\n",
       "\t<tr><td>1</td><td>Abs.             </td><td>0.033677476</td></tr>\n",
       "\t<tr><td>1</td><td>§                </td><td>0.027434566</td></tr>\n",
       "\t<tr><td>1</td><td>Art.             </td><td>0.024471009</td></tr>\n",
       "\t<tr><td>1</td><td>Person           </td><td>0.015800986</td></tr>\n",
       "\t<tr><td>1</td><td>Satz             </td><td>0.012284155</td></tr>\n",
       "\t<tr><td>1</td><td>Nummer           </td><td>0.011020042</td></tr>\n",
       "\t<tr><td>1</td><td>auch             </td><td>0.010230994</td></tr>\n",
       "\t<tr><td>1</td><td>so               </td><td>0.009920655</td></tr>\n",
       "\t<tr><td>1</td><td>@card@           </td><td>0.006727636</td></tr>\n",
       "\t<tr><td>1</td><td>nur              </td><td>0.006392323</td></tr>\n",
       "\t<tr><td>2</td><td>§                </td><td>0.013805191</td></tr>\n",
       "\t<tr><td>2</td><td>bayerisch        </td><td>0.013079311</td></tr>\n",
       "\t<tr><td>2</td><td>Land             </td><td>0.012933422</td></tr>\n",
       "\t<tr><td>2</td><td>Bayern           </td><td>0.007309068</td></tr>\n",
       "\t<tr><td>2</td><td>Nummer           </td><td>0.007168708</td></tr>\n",
       "\t<tr><td>2</td><td>Abs.             </td><td>0.007027900</td></tr>\n",
       "\t<tr><td>2</td><td>Staatsministerium</td><td>0.006934954</td></tr>\n",
       "\t<tr><td>2</td><td>Bekanntmachung   </td><td>0.006113683</td></tr>\n",
       "\t<tr><td>2</td><td>A                </td><td>0.006094694</td></tr>\n",
       "\t<tr><td>2</td><td>staatlich        </td><td>0.005956744</td></tr>\n",
       "\t<tr><td>3</td><td>Art.             </td><td>0.039565982</td></tr>\n",
       "\t<tr><td>3</td><td>Abs.             </td><td>0.028224124</td></tr>\n",
       "\t<tr><td>3</td><td>Nummer           </td><td>0.019614955</td></tr>\n",
       "\t<tr><td>3</td><td>Satz             </td><td>0.014331479</td></tr>\n",
       "\t<tr><td>3</td><td>auch             </td><td>0.010496177</td></tr>\n",
       "\t<tr><td>3</td><td>@card@           </td><td>0.010228279</td></tr>\n",
       "\t<tr><td>3</td><td>Beamter          </td><td>0.009435351</td></tr>\n",
       "\t<tr><td>3</td><td>§                </td><td>0.009063193</td></tr>\n",
       "\t<tr><td>3</td><td>Beamtin          </td><td>0.007881321</td></tr>\n",
       "\t<tr><td>3</td><td>nur              </td><td>0.006889189</td></tr>\n",
       "\t<tr><td>4</td><td>§                </td><td>0.022893148</td></tr>\n",
       "\t<tr><td>4</td><td>Nummer           </td><td>0.009306615</td></tr>\n",
       "\t<tr><td>4</td><td>Antrag           </td><td>0.007765237</td></tr>\n",
       "\t<tr><td>4</td><td>Zuwendung        </td><td>0.006855351</td></tr>\n",
       "\t<tr><td>4</td><td>Akte|Akt         </td><td>0.006316449</td></tr>\n",
       "\t<tr><td>4</td><td>Förderung        </td><td>0.006220455</td></tr>\n",
       "\t<tr><td>4</td><td>Vorhaben         </td><td>0.006054213</td></tr>\n",
       "\t<tr><td>4</td><td>Verfahren        </td><td>0.005985274</td></tr>\n",
       "\t<tr><td>4</td><td>Gericht          </td><td>0.005586163</td></tr>\n",
       "\t<tr><td>4</td><td>Ausgabe          </td><td>0.005333683</td></tr>\n",
       "</tbody>\n",
       "</table>\n"
      ],
      "text/latex": [
       "A tibble: 40 × 3\n",
       "\\begin{tabular}{lll}\n",
       " topic & term & beta\\\\\n",
       " <int> & <chr> & <dbl>\\\\\n",
       "\\hline\n",
       "\t 1 & Abs.              & 0.033677476\\\\\n",
       "\t 1 & §                 & 0.027434566\\\\\n",
       "\t 1 & Art.              & 0.024471009\\\\\n",
       "\t 1 & Person            & 0.015800986\\\\\n",
       "\t 1 & Satz              & 0.012284155\\\\\n",
       "\t 1 & Nummer            & 0.011020042\\\\\n",
       "\t 1 & auch              & 0.010230994\\\\\n",
       "\t 1 & so                & 0.009920655\\\\\n",
       "\t 1 & @card@            & 0.006727636\\\\\n",
       "\t 1 & nur               & 0.006392323\\\\\n",
       "\t 2 & §                 & 0.013805191\\\\\n",
       "\t 2 & bayerisch         & 0.013079311\\\\\n",
       "\t 2 & Land              & 0.012933422\\\\\n",
       "\t 2 & Bayern            & 0.007309068\\\\\n",
       "\t 2 & Nummer            & 0.007168708\\\\\n",
       "\t 2 & Abs.              & 0.007027900\\\\\n",
       "\t 2 & Staatsministerium & 0.006934954\\\\\n",
       "\t 2 & Bekanntmachung    & 0.006113683\\\\\n",
       "\t 2 & A                 & 0.006094694\\\\\n",
       "\t 2 & staatlich         & 0.005956744\\\\\n",
       "\t 3 & Art.              & 0.039565982\\\\\n",
       "\t 3 & Abs.              & 0.028224124\\\\\n",
       "\t 3 & Nummer            & 0.019614955\\\\\n",
       "\t 3 & Satz              & 0.014331479\\\\\n",
       "\t 3 & auch              & 0.010496177\\\\\n",
       "\t 3 & @card@            & 0.010228279\\\\\n",
       "\t 3 & Beamter           & 0.009435351\\\\\n",
       "\t 3 & §                 & 0.009063193\\\\\n",
       "\t 3 & Beamtin           & 0.007881321\\\\\n",
       "\t 3 & nur               & 0.006889189\\\\\n",
       "\t 4 & §                 & 0.022893148\\\\\n",
       "\t 4 & Nummer            & 0.009306615\\\\\n",
       "\t 4 & Antrag            & 0.007765237\\\\\n",
       "\t 4 & Zuwendung         & 0.006855351\\\\\n",
       "\t 4 & Akte\\textbar{}Akt          & 0.006316449\\\\\n",
       "\t 4 & Förderung         & 0.006220455\\\\\n",
       "\t 4 & Vorhaben          & 0.006054213\\\\\n",
       "\t 4 & Verfahren         & 0.005985274\\\\\n",
       "\t 4 & Gericht           & 0.005586163\\\\\n",
       "\t 4 & Ausgabe           & 0.005333683\\\\\n",
       "\\end{tabular}\n"
      ],
      "text/markdown": [
       "\n",
       "A tibble: 40 × 3\n",
       "\n",
       "| topic &lt;int&gt; | term &lt;chr&gt; | beta &lt;dbl&gt; |\n",
       "|---|---|---|\n",
       "| 1 | Abs.              | 0.033677476 |\n",
       "| 1 | §                 | 0.027434566 |\n",
       "| 1 | Art.              | 0.024471009 |\n",
       "| 1 | Person            | 0.015800986 |\n",
       "| 1 | Satz              | 0.012284155 |\n",
       "| 1 | Nummer            | 0.011020042 |\n",
       "| 1 | auch              | 0.010230994 |\n",
       "| 1 | so                | 0.009920655 |\n",
       "| 1 | @card@            | 0.006727636 |\n",
       "| 1 | nur               | 0.006392323 |\n",
       "| 2 | §                 | 0.013805191 |\n",
       "| 2 | bayerisch         | 0.013079311 |\n",
       "| 2 | Land              | 0.012933422 |\n",
       "| 2 | Bayern            | 0.007309068 |\n",
       "| 2 | Nummer            | 0.007168708 |\n",
       "| 2 | Abs.              | 0.007027900 |\n",
       "| 2 | Staatsministerium | 0.006934954 |\n",
       "| 2 | Bekanntmachung    | 0.006113683 |\n",
       "| 2 | A                 | 0.006094694 |\n",
       "| 2 | staatlich         | 0.005956744 |\n",
       "| 3 | Art.              | 0.039565982 |\n",
       "| 3 | Abs.              | 0.028224124 |\n",
       "| 3 | Nummer            | 0.019614955 |\n",
       "| 3 | Satz              | 0.014331479 |\n",
       "| 3 | auch              | 0.010496177 |\n",
       "| 3 | @card@            | 0.010228279 |\n",
       "| 3 | Beamter           | 0.009435351 |\n",
       "| 3 | §                 | 0.009063193 |\n",
       "| 3 | Beamtin           | 0.007881321 |\n",
       "| 3 | nur               | 0.006889189 |\n",
       "| 4 | §                 | 0.022893148 |\n",
       "| 4 | Nummer            | 0.009306615 |\n",
       "| 4 | Antrag            | 0.007765237 |\n",
       "| 4 | Zuwendung         | 0.006855351 |\n",
       "| 4 | Akte|Akt          | 0.006316449 |\n",
       "| 4 | Förderung         | 0.006220455 |\n",
       "| 4 | Vorhaben          | 0.006054213 |\n",
       "| 4 | Verfahren         | 0.005985274 |\n",
       "| 4 | Gericht           | 0.005586163 |\n",
       "| 4 | Ausgabe           | 0.005333683 |\n",
       "\n"
      ],
      "text/plain": [
       "   topic term              beta       \n",
       "1  1     Abs.              0.033677476\n",
       "2  1     §                 0.027434566\n",
       "3  1     Art.              0.024471009\n",
       "4  1     Person            0.015800986\n",
       "5  1     Satz              0.012284155\n",
       "6  1     Nummer            0.011020042\n",
       "7  1     auch              0.010230994\n",
       "8  1     so                0.009920655\n",
       "9  1     @card@            0.006727636\n",
       "10 1     nur               0.006392323\n",
       "11 2     §                 0.013805191\n",
       "12 2     bayerisch         0.013079311\n",
       "13 2     Land              0.012933422\n",
       "14 2     Bayern            0.007309068\n",
       "15 2     Nummer            0.007168708\n",
       "16 2     Abs.              0.007027900\n",
       "17 2     Staatsministerium 0.006934954\n",
       "18 2     Bekanntmachung    0.006113683\n",
       "19 2     A                 0.006094694\n",
       "20 2     staatlich         0.005956744\n",
       "21 3     Art.              0.039565982\n",
       "22 3     Abs.              0.028224124\n",
       "23 3     Nummer            0.019614955\n",
       "24 3     Satz              0.014331479\n",
       "25 3     auch              0.010496177\n",
       "26 3     @card@            0.010228279\n",
       "27 3     Beamter           0.009435351\n",
       "28 3     §                 0.009063193\n",
       "29 3     Beamtin           0.007881321\n",
       "30 3     nur               0.006889189\n",
       "31 4     §                 0.022893148\n",
       "32 4     Nummer            0.009306615\n",
       "33 4     Antrag            0.007765237\n",
       "34 4     Zuwendung         0.006855351\n",
       "35 4     Akte|Akt          0.006316449\n",
       "36 4     Förderung         0.006220455\n",
       "37 4     Vorhaben          0.006054213\n",
       "38 4     Verfahren         0.005985274\n",
       "39 4     Gericht           0.005586163\n",
       "40 4     Ausgabe           0.005333683"
      ]
     },
     "metadata": {},
     "output_type": "display_data"
    }
   ],
   "source": [
    "gbay_top_terms <- gbay_topics %>%\n",
    "  group_by(topic) %>%\n",
    "  slice_max(beta, n = 10) %>% \n",
    "  ungroup() %>%\n",
    "  arrange(topic, -beta)\n",
    "\n",
    "gbay_top_terms"
   ]
  },
  {
   "cell_type": "code",
   "execution_count": 32,
   "metadata": {
    "slideshow": {
     "slide_type": "subslide"
    }
   },
   "outputs": [
    {
     "data": {
      "image/png": "[encoded data removed]",
      "text/plain": [
       "plot without title"
      ]
     },
     "metadata": {
      "image/png": {
       "height": 420,
       "width": 420
      }
     },
     "output_type": "display_data"
    }
   ],
   "source": [
    "gbay_top_terms %>%\n",
    "  mutate(term = reorder_within(term, beta, topic)) %>%\n",
    "  ggplot(aes(beta, term, fill = factor(topic))) +\n",
    "  geom_col(show.legend = FALSE) +\n",
    "  facet_wrap(~ topic, scales = \"free\") +\n",
    "  scale_y_reordered()"
   ]
  },
  {
   "cell_type": "markdown",
   "metadata": {
    "slideshow": {
     "slide_type": "slide"
    }
   },
   "source": [
    "# Supervised Learning"
   ]
  },
  {
   "cell_type": "markdown",
   "metadata": {
    "slideshow": {
     "slide_type": "subslide"
    }
   },
   "source": [
    "## Vorgehen und Ziel\n",
    "\n",
    "Die Zielvariablen (die Sorte im Iris-Beispiel) werden genutzt um ein Modell auf die Unterschiede in den Daten anzupassen (*trainieren*). Statistisch gesprochen nutzen wir die Zielvariablen als *abhängige Variablen* und die beobachteten Ausprägungen in den Daten als *unabhängige Variablen*. Ziel dieses Vorgehens ist es einen Klassifikator zu erzeugen, der neue Objekte aufgrund der bekannten Eigenschaften klassifizieren kann.\n",
    "\n",
    "* [Machine Learning with R](https://www.geeksforgeeks.org/machine-learning-with-r/).\n",
    "* [R for Statistical Learning](https://daviddalpiaz.github.io/r4sl/)."
   ]
  },
  {
   "cell_type": "markdown",
   "metadata": {
    "slideshow": {
     "slide_type": "subslide"
    }
   },
   "source": [
    "## Logistische Regression\n",
    "\n",
    "Siehe [Beschreibung des Verfahrens](https://scikit-learn.org/stable/modules/linear_model.html#logistic-regression) und [Dokumentation des scikit-Objekts](https://scikit-learn.org/stable/modules/generated/sklearn.linear_model.LogisticRegression.html#sklearn.linear_model.LogisticRegression). Statt einer linearen Regressionsgerade wird eine logistische Funktion zur Schätzung des Zusammenhangs von unabhängigen und abhängiger Variablen verwendet. Im Bereich des maschinellen Lernens wird dieses Verfahren auch als Maximum Entropie Klassifikation bezeichnet."
   ]
  },
  {
   "cell_type": "markdown",
   "metadata": {
    "slideshow": {
     "slide_type": "subslide"
    }
   },
   "source": [
    "## Vergleich von Regressionsverfahren\n",
    "\n",
    "![Logistische vs. Lineare Regression.](../figures/LogisticRegression.svg)"
   ]
  },
  {
   "cell_type": "markdown",
   "metadata": {
    "slideshow": {
     "slide_type": "subslide"
    }
   },
   "source": [
    "## Beispiel: Sentiment Analysis\n",
    "\n",
    "Ein Klassifikator der aus den Worten eines Textes auf die Konnotation (meist: positiv oder negativ) eines Textes schließen soll. Hier auf der Basis von Movie Reviews der IMDB. Kompletter Datensatz ist [hier](https://www.rdocumentation.org/packages/textdata/versions/0.4.4) erhältlich."
   ]
  },
  {
   "cell_type": "markdown",
   "metadata": {
    "slideshow": {
     "slide_type": "subslide"
    }
   },
   "source": [
    "## Text zu Daten\n",
    "\n",
    "Drei Schritte:\n",
    "\n",
    "1. Tokenisierung.\n",
    "2. Aufbereitung (Bsp. Entfernung von Stopwörtern).\n",
    "3. Numerische Repräsentation.\n",
    "\n",
    "Da die Transformation zu zeitaufwendig war und den Speicherbedarf dieses Rechners übersteigt, wird auf ein einfacheres Beispiel zurückgegriffen."
   ]
  },
  {
   "cell_type": "markdown",
   "metadata": {
    "slideshow": {
     "slide_type": "subslide"
    }
   },
   "source": [
    "```R\n",
    "text_df <- read_delim('../data/IMDBReviews.tsv')\n",
    "\n",
    "data_df <- text_df %>%\n",
    "  unnest_tokens(Token, RawText) %>%\n",
    "  count(DocID, Token) %>%\n",
    "  pivot_wider(DocID, names_from=Token, values_from=n, values_fill=0)\n",
    "\n",
    "data_df <- merge(data_df, text_df %>% distinct(DocID, Sentiment), by='DocID')\n",
    "```"
   ]
  },
  {
   "cell_type": "code",
   "execution_count": 2,
   "metadata": {
    "slideshow": {
     "slide_type": "skip"
    }
   },
   "outputs": [],
   "source": [
    "data_df <- read_csv('../data/IMDBReviewsData.csv')\n",
    "\n",
    "## DocID entfernen\n",
    "data_df <- data_df[,-1]\n",
    "## Sentiment als factor\n",
    "data_df$Sentiment <- as.factor(data_df$Sentiment)"
   ]
  },
  {
   "cell_type": "code",
   "execution_count": 3,
   "metadata": {
    "slideshow": {
     "slide_type": "subslide"
    }
   },
   "outputs": [
    {
     "name": "stderr",
     "output_type": "stream",
     "text": [
      "\u001b[1mRows: \u001b[22m\u001b[34m7944\u001b[39m \u001b[1mColumns: \u001b[22m\u001b[34m2\u001b[39m\n",
      "\u001b[36m──\u001b[39m \u001b[1mColumn specification\u001b[22m \u001b[36m─────────────────────────────────────────────────────────────────────────────────────────────\u001b[39m\n",
      "\u001b[1mDelimiter:\u001b[22m \",\"\n",
      "\u001b[31mchr\u001b[39m (2): FirstName, Sex\n",
      "\n",
      "\u001b[36mℹ\u001b[39m Use `spec()` to retrieve the full column specification for this data.\n",
      "\u001b[36mℹ\u001b[39m Specify the column types or set `show_col_types = FALSE` to quiet this message.\n"
     ]
    }
   ],
   "source": [
    "names_df <- read_csv('../data/Names.csv')\n",
    "## Sex als kategoriale Variable\n",
    "names_df$Sex <- as.factor(names_df$Sex)"
   ]
  },
  {
   "cell_type": "code",
   "execution_count": 29,
   "metadata": {
    "scrolled": true
   },
   "outputs": [
    {
     "data": {
      "text/html": [
       "<table class=\"dataframe\">\n",
       "<caption>A tibble: 7943 × 27</caption>\n",
       "<thead>\n",
       "\t<tr><th scope=col>FirstName</th><th scope=col>Sex</th><th scope=col>r</th><th scope=col>n</th><th scope=col>l</th><th scope=col>e</th><th scope=col>y</th><th scope=col>i</th><th scope=col>t</th><th scope=col>m</th><th scope=col>⋯</th><th scope=col>g</th><th scope=col>c</th><th scope=col>x</th><th scope=col>j</th><th scope=col>w</th><th scope=col>b</th><th scope=col>z</th><th scope=col>u</th><th scope=col>v</th><th scope=col>p</th></tr>\n",
       "\t<tr><th scope=col>&lt;chr&gt;</th><th scope=col>&lt;fct&gt;</th><th scope=col>&lt;int&gt;</th><th scope=col>&lt;int&gt;</th><th scope=col>&lt;int&gt;</th><th scope=col>&lt;int&gt;</th><th scope=col>&lt;int&gt;</th><th scope=col>&lt;int&gt;</th><th scope=col>&lt;int&gt;</th><th scope=col>&lt;int&gt;</th><th scope=col>⋯</th><th scope=col>&lt;int&gt;</th><th scope=col>&lt;int&gt;</th><th scope=col>&lt;int&gt;</th><th scope=col>&lt;int&gt;</th><th scope=col>&lt;int&gt;</th><th scope=col>&lt;int&gt;</th><th scope=col>&lt;int&gt;</th><th scope=col>&lt;int&gt;</th><th scope=col>&lt;int&gt;</th><th scope=col>&lt;int&gt;</th></tr>\n",
       "</thead>\n",
       "<tbody>\n",
       "\t<tr><td>Aamir     </td><td>male  </td><td>1</td><td>0</td><td>0</td><td>0</td><td>0</td><td>0</td><td>0</td><td>0</td><td>⋯</td><td>0</td><td>0</td><td>0</td><td>0</td><td>0</td><td>0</td><td>0</td><td>0</td><td>0</td><td>0</td></tr>\n",
       "\t<tr><td>Aaron     </td><td>male  </td><td>0</td><td>1</td><td>0</td><td>0</td><td>0</td><td>0</td><td>0</td><td>0</td><td>⋯</td><td>0</td><td>0</td><td>0</td><td>0</td><td>0</td><td>0</td><td>0</td><td>0</td><td>0</td><td>0</td></tr>\n",
       "\t<tr><td>Abagael   </td><td>female</td><td>0</td><td>0</td><td>1</td><td>0</td><td>0</td><td>0</td><td>0</td><td>0</td><td>⋯</td><td>0</td><td>0</td><td>0</td><td>0</td><td>0</td><td>0</td><td>0</td><td>0</td><td>0</td><td>0</td></tr>\n",
       "\t<tr><td>Abagail   </td><td>female</td><td>0</td><td>0</td><td>1</td><td>0</td><td>0</td><td>0</td><td>0</td><td>0</td><td>⋯</td><td>0</td><td>0</td><td>0</td><td>0</td><td>0</td><td>0</td><td>0</td><td>0</td><td>0</td><td>0</td></tr>\n",
       "\t<tr><td>Abbe      </td><td>female</td><td>0</td><td>0</td><td>0</td><td>1</td><td>0</td><td>0</td><td>0</td><td>0</td><td>⋯</td><td>0</td><td>0</td><td>0</td><td>0</td><td>0</td><td>0</td><td>0</td><td>0</td><td>0</td><td>0</td></tr>\n",
       "\t<tr><td>Abbey     </td><td>female</td><td>0</td><td>0</td><td>0</td><td>0</td><td>1</td><td>0</td><td>0</td><td>0</td><td>⋯</td><td>0</td><td>0</td><td>0</td><td>0</td><td>0</td><td>0</td><td>0</td><td>0</td><td>0</td><td>0</td></tr>\n",
       "\t<tr><td>Abbey     </td><td>male  </td><td>0</td><td>0</td><td>0</td><td>0</td><td>1</td><td>0</td><td>0</td><td>0</td><td>⋯</td><td>0</td><td>0</td><td>0</td><td>0</td><td>0</td><td>0</td><td>0</td><td>0</td><td>0</td><td>0</td></tr>\n",
       "\t<tr><td>Abbi      </td><td>female</td><td>0</td><td>0</td><td>0</td><td>0</td><td>0</td><td>1</td><td>0</td><td>0</td><td>⋯</td><td>0</td><td>0</td><td>0</td><td>0</td><td>0</td><td>0</td><td>0</td><td>0</td><td>0</td><td>0</td></tr>\n",
       "\t<tr><td>Abbie     </td><td>female</td><td>0</td><td>0</td><td>0</td><td>1</td><td>0</td><td>0</td><td>0</td><td>0</td><td>⋯</td><td>0</td><td>0</td><td>0</td><td>0</td><td>0</td><td>0</td><td>0</td><td>0</td><td>0</td><td>0</td></tr>\n",
       "\t<tr><td>Abbie     </td><td>male  </td><td>0</td><td>0</td><td>0</td><td>1</td><td>0</td><td>0</td><td>0</td><td>0</td><td>⋯</td><td>0</td><td>0</td><td>0</td><td>0</td><td>0</td><td>0</td><td>0</td><td>0</td><td>0</td><td>0</td></tr>\n",
       "\t<tr><td>Abbot     </td><td>male  </td><td>0</td><td>0</td><td>0</td><td>0</td><td>0</td><td>0</td><td>1</td><td>0</td><td>⋯</td><td>0</td><td>0</td><td>0</td><td>0</td><td>0</td><td>0</td><td>0</td><td>0</td><td>0</td><td>0</td></tr>\n",
       "\t<tr><td>Abbott    </td><td>male  </td><td>0</td><td>0</td><td>0</td><td>0</td><td>0</td><td>0</td><td>1</td><td>0</td><td>⋯</td><td>0</td><td>0</td><td>0</td><td>0</td><td>0</td><td>0</td><td>0</td><td>0</td><td>0</td><td>0</td></tr>\n",
       "\t<tr><td>Abby      </td><td>female</td><td>0</td><td>0</td><td>0</td><td>0</td><td>1</td><td>0</td><td>0</td><td>0</td><td>⋯</td><td>0</td><td>0</td><td>0</td><td>0</td><td>0</td><td>0</td><td>0</td><td>0</td><td>0</td><td>0</td></tr>\n",
       "\t<tr><td>Abby      </td><td>male  </td><td>0</td><td>0</td><td>0</td><td>0</td><td>1</td><td>0</td><td>0</td><td>0</td><td>⋯</td><td>0</td><td>0</td><td>0</td><td>0</td><td>0</td><td>0</td><td>0</td><td>0</td><td>0</td><td>0</td></tr>\n",
       "\t<tr><td>Abdel     </td><td>male  </td><td>0</td><td>0</td><td>1</td><td>0</td><td>0</td><td>0</td><td>0</td><td>0</td><td>⋯</td><td>0</td><td>0</td><td>0</td><td>0</td><td>0</td><td>0</td><td>0</td><td>0</td><td>0</td><td>0</td></tr>\n",
       "\t<tr><td>Abdul     </td><td>male  </td><td>0</td><td>0</td><td>1</td><td>0</td><td>0</td><td>0</td><td>0</td><td>0</td><td>⋯</td><td>0</td><td>0</td><td>0</td><td>0</td><td>0</td><td>0</td><td>0</td><td>0</td><td>0</td><td>0</td></tr>\n",
       "\t<tr><td>Abdulkarim</td><td>male  </td><td>0</td><td>0</td><td>0</td><td>0</td><td>0</td><td>0</td><td>0</td><td>1</td><td>⋯</td><td>0</td><td>0</td><td>0</td><td>0</td><td>0</td><td>0</td><td>0</td><td>0</td><td>0</td><td>0</td></tr>\n",
       "\t<tr><td>Abdullah  </td><td>male  </td><td>0</td><td>0</td><td>0</td><td>0</td><td>0</td><td>0</td><td>0</td><td>0</td><td>⋯</td><td>0</td><td>0</td><td>0</td><td>0</td><td>0</td><td>0</td><td>0</td><td>0</td><td>0</td><td>0</td></tr>\n",
       "\t<tr><td>Abe       </td><td>male  </td><td>0</td><td>0</td><td>0</td><td>1</td><td>0</td><td>0</td><td>0</td><td>0</td><td>⋯</td><td>0</td><td>0</td><td>0</td><td>0</td><td>0</td><td>0</td><td>0</td><td>0</td><td>0</td><td>0</td></tr>\n",
       "\t<tr><td>Abel      </td><td>male  </td><td>0</td><td>0</td><td>1</td><td>0</td><td>0</td><td>0</td><td>0</td><td>0</td><td>⋯</td><td>0</td><td>0</td><td>0</td><td>0</td><td>0</td><td>0</td><td>0</td><td>0</td><td>0</td><td>0</td></tr>\n",
       "\t<tr><td>Abelard   </td><td>male  </td><td>0</td><td>0</td><td>0</td><td>0</td><td>0</td><td>0</td><td>0</td><td>0</td><td>⋯</td><td>0</td><td>0</td><td>0</td><td>0</td><td>0</td><td>0</td><td>0</td><td>0</td><td>0</td><td>0</td></tr>\n",
       "\t<tr><td>Abigael   </td><td>female</td><td>0</td><td>0</td><td>1</td><td>0</td><td>0</td><td>0</td><td>0</td><td>0</td><td>⋯</td><td>0</td><td>0</td><td>0</td><td>0</td><td>0</td><td>0</td><td>0</td><td>0</td><td>0</td><td>0</td></tr>\n",
       "\t<tr><td>Abigail   </td><td>female</td><td>0</td><td>0</td><td>1</td><td>0</td><td>0</td><td>0</td><td>0</td><td>0</td><td>⋯</td><td>0</td><td>0</td><td>0</td><td>0</td><td>0</td><td>0</td><td>0</td><td>0</td><td>0</td><td>0</td></tr>\n",
       "\t<tr><td>Abigale   </td><td>female</td><td>0</td><td>0</td><td>0</td><td>1</td><td>0</td><td>0</td><td>0</td><td>0</td><td>⋯</td><td>0</td><td>0</td><td>0</td><td>0</td><td>0</td><td>0</td><td>0</td><td>0</td><td>0</td><td>0</td></tr>\n",
       "\t<tr><td>Abner     </td><td>male  </td><td>1</td><td>0</td><td>0</td><td>0</td><td>0</td><td>0</td><td>0</td><td>0</td><td>⋯</td><td>0</td><td>0</td><td>0</td><td>0</td><td>0</td><td>0</td><td>0</td><td>0</td><td>0</td><td>0</td></tr>\n",
       "\t<tr><td>Abra      </td><td>female</td><td>0</td><td>0</td><td>0</td><td>0</td><td>0</td><td>0</td><td>0</td><td>0</td><td>⋯</td><td>0</td><td>0</td><td>0</td><td>0</td><td>0</td><td>0</td><td>0</td><td>0</td><td>0</td><td>0</td></tr>\n",
       "\t<tr><td>Abraham   </td><td>male  </td><td>0</td><td>0</td><td>0</td><td>0</td><td>0</td><td>0</td><td>0</td><td>1</td><td>⋯</td><td>0</td><td>0</td><td>0</td><td>0</td><td>0</td><td>0</td><td>0</td><td>0</td><td>0</td><td>0</td></tr>\n",
       "\t<tr><td>Abram     </td><td>male  </td><td>0</td><td>0</td><td>0</td><td>0</td><td>0</td><td>0</td><td>0</td><td>1</td><td>⋯</td><td>0</td><td>0</td><td>0</td><td>0</td><td>0</td><td>0</td><td>0</td><td>0</td><td>0</td><td>0</td></tr>\n",
       "\t<tr><td>Acacia    </td><td>female</td><td>0</td><td>0</td><td>0</td><td>0</td><td>0</td><td>0</td><td>0</td><td>0</td><td>⋯</td><td>0</td><td>0</td><td>0</td><td>0</td><td>0</td><td>0</td><td>0</td><td>0</td><td>0</td><td>0</td></tr>\n",
       "\t<tr><td>Ace       </td><td>male  </td><td>0</td><td>0</td><td>0</td><td>1</td><td>0</td><td>0</td><td>0</td><td>0</td><td>⋯</td><td>0</td><td>0</td><td>0</td><td>0</td><td>0</td><td>0</td><td>0</td><td>0</td><td>0</td><td>0</td></tr>\n",
       "\t<tr><td>⋮</td><td>⋮</td><td>⋮</td><td>⋮</td><td>⋮</td><td>⋮</td><td>⋮</td><td>⋮</td><td>⋮</td><td>⋮</td><td>⋱</td><td>⋮</td><td>⋮</td><td>⋮</td><td>⋮</td><td>⋮</td><td>⋮</td><td>⋮</td><td>⋮</td><td>⋮</td><td>⋮</td></tr>\n",
       "\t<tr><td>Zeke   </td><td>male  </td><td>0</td><td>0</td><td>0</td><td>1</td><td>0</td><td>0</td><td>0</td><td>0</td><td>⋯</td><td>0</td><td>0</td><td>0</td><td>0</td><td>0</td><td>0</td><td>0</td><td>0</td><td>0</td><td>0</td></tr>\n",
       "\t<tr><td>Zelda  </td><td>female</td><td>0</td><td>0</td><td>0</td><td>0</td><td>0</td><td>0</td><td>0</td><td>0</td><td>⋯</td><td>0</td><td>0</td><td>0</td><td>0</td><td>0</td><td>0</td><td>0</td><td>0</td><td>0</td><td>0</td></tr>\n",
       "\t<tr><td>Zelig  </td><td>male  </td><td>0</td><td>0</td><td>0</td><td>0</td><td>0</td><td>0</td><td>0</td><td>0</td><td>⋯</td><td>1</td><td>0</td><td>0</td><td>0</td><td>0</td><td>0</td><td>0</td><td>0</td><td>0</td><td>0</td></tr>\n",
       "\t<tr><td>Zelma  </td><td>female</td><td>0</td><td>0</td><td>0</td><td>0</td><td>0</td><td>0</td><td>0</td><td>0</td><td>⋯</td><td>0</td><td>0</td><td>0</td><td>0</td><td>0</td><td>0</td><td>0</td><td>0</td><td>0</td><td>0</td></tr>\n",
       "\t<tr><td>Zena   </td><td>female</td><td>0</td><td>0</td><td>0</td><td>0</td><td>0</td><td>0</td><td>0</td><td>0</td><td>⋯</td><td>0</td><td>0</td><td>0</td><td>0</td><td>0</td><td>0</td><td>0</td><td>0</td><td>0</td><td>0</td></tr>\n",
       "\t<tr><td>Zenia  </td><td>female</td><td>0</td><td>0</td><td>0</td><td>0</td><td>0</td><td>0</td><td>0</td><td>0</td><td>⋯</td><td>0</td><td>0</td><td>0</td><td>0</td><td>0</td><td>0</td><td>0</td><td>0</td><td>0</td><td>0</td></tr>\n",
       "\t<tr><td>Zerk   </td><td>male  </td><td>0</td><td>0</td><td>0</td><td>0</td><td>0</td><td>0</td><td>0</td><td>0</td><td>⋯</td><td>0</td><td>0</td><td>0</td><td>0</td><td>0</td><td>0</td><td>0</td><td>0</td><td>0</td><td>0</td></tr>\n",
       "\t<tr><td>Zeus   </td><td>male  </td><td>0</td><td>0</td><td>0</td><td>0</td><td>0</td><td>0</td><td>0</td><td>0</td><td>⋯</td><td>0</td><td>0</td><td>0</td><td>0</td><td>0</td><td>0</td><td>0</td><td>0</td><td>0</td><td>0</td></tr>\n",
       "\t<tr><td>Zia    </td><td>female</td><td>0</td><td>0</td><td>0</td><td>0</td><td>0</td><td>0</td><td>0</td><td>0</td><td>⋯</td><td>0</td><td>0</td><td>0</td><td>0</td><td>0</td><td>0</td><td>0</td><td>0</td><td>0</td><td>0</td></tr>\n",
       "\t<tr><td>Zilvia </td><td>female</td><td>0</td><td>0</td><td>0</td><td>0</td><td>0</td><td>0</td><td>0</td><td>0</td><td>⋯</td><td>0</td><td>0</td><td>0</td><td>0</td><td>0</td><td>0</td><td>0</td><td>0</td><td>0</td><td>0</td></tr>\n",
       "\t<tr><td>Zippy  </td><td>male  </td><td>0</td><td>0</td><td>0</td><td>0</td><td>1</td><td>0</td><td>0</td><td>0</td><td>⋯</td><td>0</td><td>0</td><td>0</td><td>0</td><td>0</td><td>0</td><td>0</td><td>0</td><td>0</td><td>0</td></tr>\n",
       "\t<tr><td>Zita   </td><td>female</td><td>0</td><td>0</td><td>0</td><td>0</td><td>0</td><td>0</td><td>0</td><td>0</td><td>⋯</td><td>0</td><td>0</td><td>0</td><td>0</td><td>0</td><td>0</td><td>0</td><td>0</td><td>0</td><td>0</td></tr>\n",
       "\t<tr><td>Zitella</td><td>female</td><td>0</td><td>0</td><td>0</td><td>0</td><td>0</td><td>0</td><td>0</td><td>0</td><td>⋯</td><td>0</td><td>0</td><td>0</td><td>0</td><td>0</td><td>0</td><td>0</td><td>0</td><td>0</td><td>0</td></tr>\n",
       "\t<tr><td>Zoe    </td><td>female</td><td>0</td><td>0</td><td>0</td><td>1</td><td>0</td><td>0</td><td>0</td><td>0</td><td>⋯</td><td>0</td><td>0</td><td>0</td><td>0</td><td>0</td><td>0</td><td>0</td><td>0</td><td>0</td><td>0</td></tr>\n",
       "\t<tr><td>Zola   </td><td>female</td><td>0</td><td>0</td><td>0</td><td>0</td><td>0</td><td>0</td><td>0</td><td>0</td><td>⋯</td><td>0</td><td>0</td><td>0</td><td>0</td><td>0</td><td>0</td><td>0</td><td>0</td><td>0</td><td>0</td></tr>\n",
       "\t<tr><td>Zollie </td><td>male  </td><td>0</td><td>0</td><td>0</td><td>1</td><td>0</td><td>0</td><td>0</td><td>0</td><td>⋯</td><td>0</td><td>0</td><td>0</td><td>0</td><td>0</td><td>0</td><td>0</td><td>0</td><td>0</td><td>0</td></tr>\n",
       "\t<tr><td>Zolly  </td><td>male  </td><td>0</td><td>0</td><td>0</td><td>0</td><td>1</td><td>0</td><td>0</td><td>0</td><td>⋯</td><td>0</td><td>0</td><td>0</td><td>0</td><td>0</td><td>0</td><td>0</td><td>0</td><td>0</td><td>0</td></tr>\n",
       "\t<tr><td>Zonda  </td><td>female</td><td>0</td><td>0</td><td>0</td><td>0</td><td>0</td><td>0</td><td>0</td><td>0</td><td>⋯</td><td>0</td><td>0</td><td>0</td><td>0</td><td>0</td><td>0</td><td>0</td><td>0</td><td>0</td><td>0</td></tr>\n",
       "\t<tr><td>Zondra </td><td>female</td><td>0</td><td>0</td><td>0</td><td>0</td><td>0</td><td>0</td><td>0</td><td>0</td><td>⋯</td><td>0</td><td>0</td><td>0</td><td>0</td><td>0</td><td>0</td><td>0</td><td>0</td><td>0</td><td>0</td></tr>\n",
       "\t<tr><td>Zonnya </td><td>female</td><td>0</td><td>0</td><td>0</td><td>0</td><td>0</td><td>0</td><td>0</td><td>0</td><td>⋯</td><td>0</td><td>0</td><td>0</td><td>0</td><td>0</td><td>0</td><td>0</td><td>0</td><td>0</td><td>0</td></tr>\n",
       "\t<tr><td>Zora   </td><td>female</td><td>0</td><td>0</td><td>0</td><td>0</td><td>0</td><td>0</td><td>0</td><td>0</td><td>⋯</td><td>0</td><td>0</td><td>0</td><td>0</td><td>0</td><td>0</td><td>0</td><td>0</td><td>0</td><td>0</td></tr>\n",
       "\t<tr><td>Zorah  </td><td>female</td><td>0</td><td>0</td><td>0</td><td>0</td><td>0</td><td>0</td><td>0</td><td>0</td><td>⋯</td><td>0</td><td>0</td><td>0</td><td>0</td><td>0</td><td>0</td><td>0</td><td>0</td><td>0</td><td>0</td></tr>\n",
       "\t<tr><td>Zorana </td><td>female</td><td>0</td><td>0</td><td>0</td><td>0</td><td>0</td><td>0</td><td>0</td><td>0</td><td>⋯</td><td>0</td><td>0</td><td>0</td><td>0</td><td>0</td><td>0</td><td>0</td><td>0</td><td>0</td><td>0</td></tr>\n",
       "\t<tr><td>Zorina </td><td>female</td><td>0</td><td>0</td><td>0</td><td>0</td><td>0</td><td>0</td><td>0</td><td>0</td><td>⋯</td><td>0</td><td>0</td><td>0</td><td>0</td><td>0</td><td>0</td><td>0</td><td>0</td><td>0</td><td>0</td></tr>\n",
       "\t<tr><td>Zorine </td><td>female</td><td>0</td><td>0</td><td>0</td><td>1</td><td>0</td><td>0</td><td>0</td><td>0</td><td>⋯</td><td>0</td><td>0</td><td>0</td><td>0</td><td>0</td><td>0</td><td>0</td><td>0</td><td>0</td><td>0</td></tr>\n",
       "\t<tr><td>Zorro  </td><td>male  </td><td>0</td><td>0</td><td>0</td><td>0</td><td>0</td><td>0</td><td>0</td><td>0</td><td>⋯</td><td>0</td><td>0</td><td>0</td><td>0</td><td>0</td><td>0</td><td>0</td><td>0</td><td>0</td><td>0</td></tr>\n",
       "\t<tr><td>Zsa Zsa</td><td>female</td><td>0</td><td>0</td><td>0</td><td>0</td><td>0</td><td>0</td><td>0</td><td>0</td><td>⋯</td><td>0</td><td>0</td><td>0</td><td>0</td><td>0</td><td>0</td><td>0</td><td>0</td><td>0</td><td>0</td></tr>\n",
       "\t<tr><td>Zsazsa </td><td>female</td><td>0</td><td>0</td><td>0</td><td>0</td><td>0</td><td>0</td><td>0</td><td>0</td><td>⋯</td><td>0</td><td>0</td><td>0</td><td>0</td><td>0</td><td>0</td><td>0</td><td>0</td><td>0</td><td>0</td></tr>\n",
       "\t<tr><td>Zulema </td><td>female</td><td>0</td><td>0</td><td>0</td><td>0</td><td>0</td><td>0</td><td>0</td><td>0</td><td>⋯</td><td>0</td><td>0</td><td>0</td><td>0</td><td>0</td><td>0</td><td>0</td><td>0</td><td>0</td><td>0</td></tr>\n",
       "\t<tr><td>Zuzana </td><td>female</td><td>0</td><td>0</td><td>0</td><td>0</td><td>0</td><td>0</td><td>0</td><td>0</td><td>⋯</td><td>0</td><td>0</td><td>0</td><td>0</td><td>0</td><td>0</td><td>0</td><td>0</td><td>0</td><td>0</td></tr>\n",
       "</tbody>\n",
       "</table>\n"
      ],
      "text/latex": [
       "A tibble: 7943 × 27\n",
       "\\begin{tabular}{lllllllllllllllllllll}\n",
       " FirstName & Sex & r & n & l & e & y & i & t & m & ⋯ & g & c & x & j & w & b & z & u & v & p\\\\\n",
       " <chr> & <fct> & <int> & <int> & <int> & <int> & <int> & <int> & <int> & <int> & ⋯ & <int> & <int> & <int> & <int> & <int> & <int> & <int> & <int> & <int> & <int>\\\\\n",
       "\\hline\n",
       "\t Aamir      & male   & 1 & 0 & 0 & 0 & 0 & 0 & 0 & 0 & ⋯ & 0 & 0 & 0 & 0 & 0 & 0 & 0 & 0 & 0 & 0\\\\\n",
       "\t Aaron      & male   & 0 & 1 & 0 & 0 & 0 & 0 & 0 & 0 & ⋯ & 0 & 0 & 0 & 0 & 0 & 0 & 0 & 0 & 0 & 0\\\\\n",
       "\t Abagael    & female & 0 & 0 & 1 & 0 & 0 & 0 & 0 & 0 & ⋯ & 0 & 0 & 0 & 0 & 0 & 0 & 0 & 0 & 0 & 0\\\\\n",
       "\t Abagail    & female & 0 & 0 & 1 & 0 & 0 & 0 & 0 & 0 & ⋯ & 0 & 0 & 0 & 0 & 0 & 0 & 0 & 0 & 0 & 0\\\\\n",
       "\t Abbe       & female & 0 & 0 & 0 & 1 & 0 & 0 & 0 & 0 & ⋯ & 0 & 0 & 0 & 0 & 0 & 0 & 0 & 0 & 0 & 0\\\\\n",
       "\t Abbey      & female & 0 & 0 & 0 & 0 & 1 & 0 & 0 & 0 & ⋯ & 0 & 0 & 0 & 0 & 0 & 0 & 0 & 0 & 0 & 0\\\\\n",
       "\t Abbey      & male   & 0 & 0 & 0 & 0 & 1 & 0 & 0 & 0 & ⋯ & 0 & 0 & 0 & 0 & 0 & 0 & 0 & 0 & 0 & 0\\\\\n",
       "\t Abbi       & female & 0 & 0 & 0 & 0 & 0 & 1 & 0 & 0 & ⋯ & 0 & 0 & 0 & 0 & 0 & 0 & 0 & 0 & 0 & 0\\\\\n",
       "\t Abbie      & female & 0 & 0 & 0 & 1 & 0 & 0 & 0 & 0 & ⋯ & 0 & 0 & 0 & 0 & 0 & 0 & 0 & 0 & 0 & 0\\\\\n",
       "\t Abbie      & male   & 0 & 0 & 0 & 1 & 0 & 0 & 0 & 0 & ⋯ & 0 & 0 & 0 & 0 & 0 & 0 & 0 & 0 & 0 & 0\\\\\n",
       "\t Abbot      & male   & 0 & 0 & 0 & 0 & 0 & 0 & 1 & 0 & ⋯ & 0 & 0 & 0 & 0 & 0 & 0 & 0 & 0 & 0 & 0\\\\\n",
       "\t Abbott     & male   & 0 & 0 & 0 & 0 & 0 & 0 & 1 & 0 & ⋯ & 0 & 0 & 0 & 0 & 0 & 0 & 0 & 0 & 0 & 0\\\\\n",
       "\t Abby       & female & 0 & 0 & 0 & 0 & 1 & 0 & 0 & 0 & ⋯ & 0 & 0 & 0 & 0 & 0 & 0 & 0 & 0 & 0 & 0\\\\\n",
       "\t Abby       & male   & 0 & 0 & 0 & 0 & 1 & 0 & 0 & 0 & ⋯ & 0 & 0 & 0 & 0 & 0 & 0 & 0 & 0 & 0 & 0\\\\\n",
       "\t Abdel      & male   & 0 & 0 & 1 & 0 & 0 & 0 & 0 & 0 & ⋯ & 0 & 0 & 0 & 0 & 0 & 0 & 0 & 0 & 0 & 0\\\\\n",
       "\t Abdul      & male   & 0 & 0 & 1 & 0 & 0 & 0 & 0 & 0 & ⋯ & 0 & 0 & 0 & 0 & 0 & 0 & 0 & 0 & 0 & 0\\\\\n",
       "\t Abdulkarim & male   & 0 & 0 & 0 & 0 & 0 & 0 & 0 & 1 & ⋯ & 0 & 0 & 0 & 0 & 0 & 0 & 0 & 0 & 0 & 0\\\\\n",
       "\t Abdullah   & male   & 0 & 0 & 0 & 0 & 0 & 0 & 0 & 0 & ⋯ & 0 & 0 & 0 & 0 & 0 & 0 & 0 & 0 & 0 & 0\\\\\n",
       "\t Abe        & male   & 0 & 0 & 0 & 1 & 0 & 0 & 0 & 0 & ⋯ & 0 & 0 & 0 & 0 & 0 & 0 & 0 & 0 & 0 & 0\\\\\n",
       "\t Abel       & male   & 0 & 0 & 1 & 0 & 0 & 0 & 0 & 0 & ⋯ & 0 & 0 & 0 & 0 & 0 & 0 & 0 & 0 & 0 & 0\\\\\n",
       "\t Abelard    & male   & 0 & 0 & 0 & 0 & 0 & 0 & 0 & 0 & ⋯ & 0 & 0 & 0 & 0 & 0 & 0 & 0 & 0 & 0 & 0\\\\\n",
       "\t Abigael    & female & 0 & 0 & 1 & 0 & 0 & 0 & 0 & 0 & ⋯ & 0 & 0 & 0 & 0 & 0 & 0 & 0 & 0 & 0 & 0\\\\\n",
       "\t Abigail    & female & 0 & 0 & 1 & 0 & 0 & 0 & 0 & 0 & ⋯ & 0 & 0 & 0 & 0 & 0 & 0 & 0 & 0 & 0 & 0\\\\\n",
       "\t Abigale    & female & 0 & 0 & 0 & 1 & 0 & 0 & 0 & 0 & ⋯ & 0 & 0 & 0 & 0 & 0 & 0 & 0 & 0 & 0 & 0\\\\\n",
       "\t Abner      & male   & 1 & 0 & 0 & 0 & 0 & 0 & 0 & 0 & ⋯ & 0 & 0 & 0 & 0 & 0 & 0 & 0 & 0 & 0 & 0\\\\\n",
       "\t Abra       & female & 0 & 0 & 0 & 0 & 0 & 0 & 0 & 0 & ⋯ & 0 & 0 & 0 & 0 & 0 & 0 & 0 & 0 & 0 & 0\\\\\n",
       "\t Abraham    & male   & 0 & 0 & 0 & 0 & 0 & 0 & 0 & 1 & ⋯ & 0 & 0 & 0 & 0 & 0 & 0 & 0 & 0 & 0 & 0\\\\\n",
       "\t Abram      & male   & 0 & 0 & 0 & 0 & 0 & 0 & 0 & 1 & ⋯ & 0 & 0 & 0 & 0 & 0 & 0 & 0 & 0 & 0 & 0\\\\\n",
       "\t Acacia     & female & 0 & 0 & 0 & 0 & 0 & 0 & 0 & 0 & ⋯ & 0 & 0 & 0 & 0 & 0 & 0 & 0 & 0 & 0 & 0\\\\\n",
       "\t Ace        & male   & 0 & 0 & 0 & 1 & 0 & 0 & 0 & 0 & ⋯ & 0 & 0 & 0 & 0 & 0 & 0 & 0 & 0 & 0 & 0\\\\\n",
       "\t ⋮ & ⋮ & ⋮ & ⋮ & ⋮ & ⋮ & ⋮ & ⋮ & ⋮ & ⋮ & ⋱ & ⋮ & ⋮ & ⋮ & ⋮ & ⋮ & ⋮ & ⋮ & ⋮ & ⋮ & ⋮\\\\\n",
       "\t Zeke    & male   & 0 & 0 & 0 & 1 & 0 & 0 & 0 & 0 & ⋯ & 0 & 0 & 0 & 0 & 0 & 0 & 0 & 0 & 0 & 0\\\\\n",
       "\t Zelda   & female & 0 & 0 & 0 & 0 & 0 & 0 & 0 & 0 & ⋯ & 0 & 0 & 0 & 0 & 0 & 0 & 0 & 0 & 0 & 0\\\\\n",
       "\t Zelig   & male   & 0 & 0 & 0 & 0 & 0 & 0 & 0 & 0 & ⋯ & 1 & 0 & 0 & 0 & 0 & 0 & 0 & 0 & 0 & 0\\\\\n",
       "\t Zelma   & female & 0 & 0 & 0 & 0 & 0 & 0 & 0 & 0 & ⋯ & 0 & 0 & 0 & 0 & 0 & 0 & 0 & 0 & 0 & 0\\\\\n",
       "\t Zena    & female & 0 & 0 & 0 & 0 & 0 & 0 & 0 & 0 & ⋯ & 0 & 0 & 0 & 0 & 0 & 0 & 0 & 0 & 0 & 0\\\\\n",
       "\t Zenia   & female & 0 & 0 & 0 & 0 & 0 & 0 & 0 & 0 & ⋯ & 0 & 0 & 0 & 0 & 0 & 0 & 0 & 0 & 0 & 0\\\\\n",
       "\t Zerk    & male   & 0 & 0 & 0 & 0 & 0 & 0 & 0 & 0 & ⋯ & 0 & 0 & 0 & 0 & 0 & 0 & 0 & 0 & 0 & 0\\\\\n",
       "\t Zeus    & male   & 0 & 0 & 0 & 0 & 0 & 0 & 0 & 0 & ⋯ & 0 & 0 & 0 & 0 & 0 & 0 & 0 & 0 & 0 & 0\\\\\n",
       "\t Zia     & female & 0 & 0 & 0 & 0 & 0 & 0 & 0 & 0 & ⋯ & 0 & 0 & 0 & 0 & 0 & 0 & 0 & 0 & 0 & 0\\\\\n",
       "\t Zilvia  & female & 0 & 0 & 0 & 0 & 0 & 0 & 0 & 0 & ⋯ & 0 & 0 & 0 & 0 & 0 & 0 & 0 & 0 & 0 & 0\\\\\n",
       "\t Zippy   & male   & 0 & 0 & 0 & 0 & 1 & 0 & 0 & 0 & ⋯ & 0 & 0 & 0 & 0 & 0 & 0 & 0 & 0 & 0 & 0\\\\\n",
       "\t Zita    & female & 0 & 0 & 0 & 0 & 0 & 0 & 0 & 0 & ⋯ & 0 & 0 & 0 & 0 & 0 & 0 & 0 & 0 & 0 & 0\\\\\n",
       "\t Zitella & female & 0 & 0 & 0 & 0 & 0 & 0 & 0 & 0 & ⋯ & 0 & 0 & 0 & 0 & 0 & 0 & 0 & 0 & 0 & 0\\\\\n",
       "\t Zoe     & female & 0 & 0 & 0 & 1 & 0 & 0 & 0 & 0 & ⋯ & 0 & 0 & 0 & 0 & 0 & 0 & 0 & 0 & 0 & 0\\\\\n",
       "\t Zola    & female & 0 & 0 & 0 & 0 & 0 & 0 & 0 & 0 & ⋯ & 0 & 0 & 0 & 0 & 0 & 0 & 0 & 0 & 0 & 0\\\\\n",
       "\t Zollie  & male   & 0 & 0 & 0 & 1 & 0 & 0 & 0 & 0 & ⋯ & 0 & 0 & 0 & 0 & 0 & 0 & 0 & 0 & 0 & 0\\\\\n",
       "\t Zolly   & male   & 0 & 0 & 0 & 0 & 1 & 0 & 0 & 0 & ⋯ & 0 & 0 & 0 & 0 & 0 & 0 & 0 & 0 & 0 & 0\\\\\n",
       "\t Zonda   & female & 0 & 0 & 0 & 0 & 0 & 0 & 0 & 0 & ⋯ & 0 & 0 & 0 & 0 & 0 & 0 & 0 & 0 & 0 & 0\\\\\n",
       "\t Zondra  & female & 0 & 0 & 0 & 0 & 0 & 0 & 0 & 0 & ⋯ & 0 & 0 & 0 & 0 & 0 & 0 & 0 & 0 & 0 & 0\\\\\n",
       "\t Zonnya  & female & 0 & 0 & 0 & 0 & 0 & 0 & 0 & 0 & ⋯ & 0 & 0 & 0 & 0 & 0 & 0 & 0 & 0 & 0 & 0\\\\\n",
       "\t Zora    & female & 0 & 0 & 0 & 0 & 0 & 0 & 0 & 0 & ⋯ & 0 & 0 & 0 & 0 & 0 & 0 & 0 & 0 & 0 & 0\\\\\n",
       "\t Zorah   & female & 0 & 0 & 0 & 0 & 0 & 0 & 0 & 0 & ⋯ & 0 & 0 & 0 & 0 & 0 & 0 & 0 & 0 & 0 & 0\\\\\n",
       "\t Zorana  & female & 0 & 0 & 0 & 0 & 0 & 0 & 0 & 0 & ⋯ & 0 & 0 & 0 & 0 & 0 & 0 & 0 & 0 & 0 & 0\\\\\n",
       "\t Zorina  & female & 0 & 0 & 0 & 0 & 0 & 0 & 0 & 0 & ⋯ & 0 & 0 & 0 & 0 & 0 & 0 & 0 & 0 & 0 & 0\\\\\n",
       "\t Zorine  & female & 0 & 0 & 0 & 1 & 0 & 0 & 0 & 0 & ⋯ & 0 & 0 & 0 & 0 & 0 & 0 & 0 & 0 & 0 & 0\\\\\n",
       "\t Zorro   & male   & 0 & 0 & 0 & 0 & 0 & 0 & 0 & 0 & ⋯ & 0 & 0 & 0 & 0 & 0 & 0 & 0 & 0 & 0 & 0\\\\\n",
       "\t Zsa Zsa & female & 0 & 0 & 0 & 0 & 0 & 0 & 0 & 0 & ⋯ & 0 & 0 & 0 & 0 & 0 & 0 & 0 & 0 & 0 & 0\\\\\n",
       "\t Zsazsa  & female & 0 & 0 & 0 & 0 & 0 & 0 & 0 & 0 & ⋯ & 0 & 0 & 0 & 0 & 0 & 0 & 0 & 0 & 0 & 0\\\\\n",
       "\t Zulema  & female & 0 & 0 & 0 & 0 & 0 & 0 & 0 & 0 & ⋯ & 0 & 0 & 0 & 0 & 0 & 0 & 0 & 0 & 0 & 0\\\\\n",
       "\t Zuzana  & female & 0 & 0 & 0 & 0 & 0 & 0 & 0 & 0 & ⋯ & 0 & 0 & 0 & 0 & 0 & 0 & 0 & 0 & 0 & 0\\\\\n",
       "\\end{tabular}\n"
      ],
      "text/markdown": [
       "\n",
       "A tibble: 7943 × 27\n",
       "\n",
       "| FirstName &lt;chr&gt; | Sex &lt;fct&gt; | r &lt;int&gt; | n &lt;int&gt; | l &lt;int&gt; | e &lt;int&gt; | y &lt;int&gt; | i &lt;int&gt; | t &lt;int&gt; | m &lt;int&gt; | ⋯ ⋯ | g &lt;int&gt; | c &lt;int&gt; | x &lt;int&gt; | j &lt;int&gt; | w &lt;int&gt; | b &lt;int&gt; | z &lt;int&gt; | u &lt;int&gt; | v &lt;int&gt; | p &lt;int&gt; |\n",
       "|---|---|---|---|---|---|---|---|---|---|---|---|---|---|---|---|---|---|---|---|---|\n",
       "| Aamir      | male   | 1 | 0 | 0 | 0 | 0 | 0 | 0 | 0 | ⋯ | 0 | 0 | 0 | 0 | 0 | 0 | 0 | 0 | 0 | 0 |\n",
       "| Aaron      | male   | 0 | 1 | 0 | 0 | 0 | 0 | 0 | 0 | ⋯ | 0 | 0 | 0 | 0 | 0 | 0 | 0 | 0 | 0 | 0 |\n",
       "| Abagael    | female | 0 | 0 | 1 | 0 | 0 | 0 | 0 | 0 | ⋯ | 0 | 0 | 0 | 0 | 0 | 0 | 0 | 0 | 0 | 0 |\n",
       "| Abagail    | female | 0 | 0 | 1 | 0 | 0 | 0 | 0 | 0 | ⋯ | 0 | 0 | 0 | 0 | 0 | 0 | 0 | 0 | 0 | 0 |\n",
       "| Abbe       | female | 0 | 0 | 0 | 1 | 0 | 0 | 0 | 0 | ⋯ | 0 | 0 | 0 | 0 | 0 | 0 | 0 | 0 | 0 | 0 |\n",
       "| Abbey      | female | 0 | 0 | 0 | 0 | 1 | 0 | 0 | 0 | ⋯ | 0 | 0 | 0 | 0 | 0 | 0 | 0 | 0 | 0 | 0 |\n",
       "| Abbey      | male   | 0 | 0 | 0 | 0 | 1 | 0 | 0 | 0 | ⋯ | 0 | 0 | 0 | 0 | 0 | 0 | 0 | 0 | 0 | 0 |\n",
       "| Abbi       | female | 0 | 0 | 0 | 0 | 0 | 1 | 0 | 0 | ⋯ | 0 | 0 | 0 | 0 | 0 | 0 | 0 | 0 | 0 | 0 |\n",
       "| Abbie      | female | 0 | 0 | 0 | 1 | 0 | 0 | 0 | 0 | ⋯ | 0 | 0 | 0 | 0 | 0 | 0 | 0 | 0 | 0 | 0 |\n",
       "| Abbie      | male   | 0 | 0 | 0 | 1 | 0 | 0 | 0 | 0 | ⋯ | 0 | 0 | 0 | 0 | 0 | 0 | 0 | 0 | 0 | 0 |\n",
       "| Abbot      | male   | 0 | 0 | 0 | 0 | 0 | 0 | 1 | 0 | ⋯ | 0 | 0 | 0 | 0 | 0 | 0 | 0 | 0 | 0 | 0 |\n",
       "| Abbott     | male   | 0 | 0 | 0 | 0 | 0 | 0 | 1 | 0 | ⋯ | 0 | 0 | 0 | 0 | 0 | 0 | 0 | 0 | 0 | 0 |\n",
       "| Abby       | female | 0 | 0 | 0 | 0 | 1 | 0 | 0 | 0 | ⋯ | 0 | 0 | 0 | 0 | 0 | 0 | 0 | 0 | 0 | 0 |\n",
       "| Abby       | male   | 0 | 0 | 0 | 0 | 1 | 0 | 0 | 0 | ⋯ | 0 | 0 | 0 | 0 | 0 | 0 | 0 | 0 | 0 | 0 |\n",
       "| Abdel      | male   | 0 | 0 | 1 | 0 | 0 | 0 | 0 | 0 | ⋯ | 0 | 0 | 0 | 0 | 0 | 0 | 0 | 0 | 0 | 0 |\n",
       "| Abdul      | male   | 0 | 0 | 1 | 0 | 0 | 0 | 0 | 0 | ⋯ | 0 | 0 | 0 | 0 | 0 | 0 | 0 | 0 | 0 | 0 |\n",
       "| Abdulkarim | male   | 0 | 0 | 0 | 0 | 0 | 0 | 0 | 1 | ⋯ | 0 | 0 | 0 | 0 | 0 | 0 | 0 | 0 | 0 | 0 |\n",
       "| Abdullah   | male   | 0 | 0 | 0 | 0 | 0 | 0 | 0 | 0 | ⋯ | 0 | 0 | 0 | 0 | 0 | 0 | 0 | 0 | 0 | 0 |\n",
       "| Abe        | male   | 0 | 0 | 0 | 1 | 0 | 0 | 0 | 0 | ⋯ | 0 | 0 | 0 | 0 | 0 | 0 | 0 | 0 | 0 | 0 |\n",
       "| Abel       | male   | 0 | 0 | 1 | 0 | 0 | 0 | 0 | 0 | ⋯ | 0 | 0 | 0 | 0 | 0 | 0 | 0 | 0 | 0 | 0 |\n",
       "| Abelard    | male   | 0 | 0 | 0 | 0 | 0 | 0 | 0 | 0 | ⋯ | 0 | 0 | 0 | 0 | 0 | 0 | 0 | 0 | 0 | 0 |\n",
       "| Abigael    | female | 0 | 0 | 1 | 0 | 0 | 0 | 0 | 0 | ⋯ | 0 | 0 | 0 | 0 | 0 | 0 | 0 | 0 | 0 | 0 |\n",
       "| Abigail    | female | 0 | 0 | 1 | 0 | 0 | 0 | 0 | 0 | ⋯ | 0 | 0 | 0 | 0 | 0 | 0 | 0 | 0 | 0 | 0 |\n",
       "| Abigale    | female | 0 | 0 | 0 | 1 | 0 | 0 | 0 | 0 | ⋯ | 0 | 0 | 0 | 0 | 0 | 0 | 0 | 0 | 0 | 0 |\n",
       "| Abner      | male   | 1 | 0 | 0 | 0 | 0 | 0 | 0 | 0 | ⋯ | 0 | 0 | 0 | 0 | 0 | 0 | 0 | 0 | 0 | 0 |\n",
       "| Abra       | female | 0 | 0 | 0 | 0 | 0 | 0 | 0 | 0 | ⋯ | 0 | 0 | 0 | 0 | 0 | 0 | 0 | 0 | 0 | 0 |\n",
       "| Abraham    | male   | 0 | 0 | 0 | 0 | 0 | 0 | 0 | 1 | ⋯ | 0 | 0 | 0 | 0 | 0 | 0 | 0 | 0 | 0 | 0 |\n",
       "| Abram      | male   | 0 | 0 | 0 | 0 | 0 | 0 | 0 | 1 | ⋯ | 0 | 0 | 0 | 0 | 0 | 0 | 0 | 0 | 0 | 0 |\n",
       "| Acacia     | female | 0 | 0 | 0 | 0 | 0 | 0 | 0 | 0 | ⋯ | 0 | 0 | 0 | 0 | 0 | 0 | 0 | 0 | 0 | 0 |\n",
       "| Ace        | male   | 0 | 0 | 0 | 1 | 0 | 0 | 0 | 0 | ⋯ | 0 | 0 | 0 | 0 | 0 | 0 | 0 | 0 | 0 | 0 |\n",
       "| ⋮ | ⋮ | ⋮ | ⋮ | ⋮ | ⋮ | ⋮ | ⋮ | ⋮ | ⋮ | ⋱ | ⋮ | ⋮ | ⋮ | ⋮ | ⋮ | ⋮ | ⋮ | ⋮ | ⋮ | ⋮ |\n",
       "| Zeke    | male   | 0 | 0 | 0 | 1 | 0 | 0 | 0 | 0 | ⋯ | 0 | 0 | 0 | 0 | 0 | 0 | 0 | 0 | 0 | 0 |\n",
       "| Zelda   | female | 0 | 0 | 0 | 0 | 0 | 0 | 0 | 0 | ⋯ | 0 | 0 | 0 | 0 | 0 | 0 | 0 | 0 | 0 | 0 |\n",
       "| Zelig   | male   | 0 | 0 | 0 | 0 | 0 | 0 | 0 | 0 | ⋯ | 1 | 0 | 0 | 0 | 0 | 0 | 0 | 0 | 0 | 0 |\n",
       "| Zelma   | female | 0 | 0 | 0 | 0 | 0 | 0 | 0 | 0 | ⋯ | 0 | 0 | 0 | 0 | 0 | 0 | 0 | 0 | 0 | 0 |\n",
       "| Zena    | female | 0 | 0 | 0 | 0 | 0 | 0 | 0 | 0 | ⋯ | 0 | 0 | 0 | 0 | 0 | 0 | 0 | 0 | 0 | 0 |\n",
       "| Zenia   | female | 0 | 0 | 0 | 0 | 0 | 0 | 0 | 0 | ⋯ | 0 | 0 | 0 | 0 | 0 | 0 | 0 | 0 | 0 | 0 |\n",
       "| Zerk    | male   | 0 | 0 | 0 | 0 | 0 | 0 | 0 | 0 | ⋯ | 0 | 0 | 0 | 0 | 0 | 0 | 0 | 0 | 0 | 0 |\n",
       "| Zeus    | male   | 0 | 0 | 0 | 0 | 0 | 0 | 0 | 0 | ⋯ | 0 | 0 | 0 | 0 | 0 | 0 | 0 | 0 | 0 | 0 |\n",
       "| Zia     | female | 0 | 0 | 0 | 0 | 0 | 0 | 0 | 0 | ⋯ | 0 | 0 | 0 | 0 | 0 | 0 | 0 | 0 | 0 | 0 |\n",
       "| Zilvia  | female | 0 | 0 | 0 | 0 | 0 | 0 | 0 | 0 | ⋯ | 0 | 0 | 0 | 0 | 0 | 0 | 0 | 0 | 0 | 0 |\n",
       "| Zippy   | male   | 0 | 0 | 0 | 0 | 1 | 0 | 0 | 0 | ⋯ | 0 | 0 | 0 | 0 | 0 | 0 | 0 | 0 | 0 | 0 |\n",
       "| Zita    | female | 0 | 0 | 0 | 0 | 0 | 0 | 0 | 0 | ⋯ | 0 | 0 | 0 | 0 | 0 | 0 | 0 | 0 | 0 | 0 |\n",
       "| Zitella | female | 0 | 0 | 0 | 0 | 0 | 0 | 0 | 0 | ⋯ | 0 | 0 | 0 | 0 | 0 | 0 | 0 | 0 | 0 | 0 |\n",
       "| Zoe     | female | 0 | 0 | 0 | 1 | 0 | 0 | 0 | 0 | ⋯ | 0 | 0 | 0 | 0 | 0 | 0 | 0 | 0 | 0 | 0 |\n",
       "| Zola    | female | 0 | 0 | 0 | 0 | 0 | 0 | 0 | 0 | ⋯ | 0 | 0 | 0 | 0 | 0 | 0 | 0 | 0 | 0 | 0 |\n",
       "| Zollie  | male   | 0 | 0 | 0 | 1 | 0 | 0 | 0 | 0 | ⋯ | 0 | 0 | 0 | 0 | 0 | 0 | 0 | 0 | 0 | 0 |\n",
       "| Zolly   | male   | 0 | 0 | 0 | 0 | 1 | 0 | 0 | 0 | ⋯ | 0 | 0 | 0 | 0 | 0 | 0 | 0 | 0 | 0 | 0 |\n",
       "| Zonda   | female | 0 | 0 | 0 | 0 | 0 | 0 | 0 | 0 | ⋯ | 0 | 0 | 0 | 0 | 0 | 0 | 0 | 0 | 0 | 0 |\n",
       "| Zondra  | female | 0 | 0 | 0 | 0 | 0 | 0 | 0 | 0 | ⋯ | 0 | 0 | 0 | 0 | 0 | 0 | 0 | 0 | 0 | 0 |\n",
       "| Zonnya  | female | 0 | 0 | 0 | 0 | 0 | 0 | 0 | 0 | ⋯ | 0 | 0 | 0 | 0 | 0 | 0 | 0 | 0 | 0 | 0 |\n",
       "| Zora    | female | 0 | 0 | 0 | 0 | 0 | 0 | 0 | 0 | ⋯ | 0 | 0 | 0 | 0 | 0 | 0 | 0 | 0 | 0 | 0 |\n",
       "| Zorah   | female | 0 | 0 | 0 | 0 | 0 | 0 | 0 | 0 | ⋯ | 0 | 0 | 0 | 0 | 0 | 0 | 0 | 0 | 0 | 0 |\n",
       "| Zorana  | female | 0 | 0 | 0 | 0 | 0 | 0 | 0 | 0 | ⋯ | 0 | 0 | 0 | 0 | 0 | 0 | 0 | 0 | 0 | 0 |\n",
       "| Zorina  | female | 0 | 0 | 0 | 0 | 0 | 0 | 0 | 0 | ⋯ | 0 | 0 | 0 | 0 | 0 | 0 | 0 | 0 | 0 | 0 |\n",
       "| Zorine  | female | 0 | 0 | 0 | 1 | 0 | 0 | 0 | 0 | ⋯ | 0 | 0 | 0 | 0 | 0 | 0 | 0 | 0 | 0 | 0 |\n",
       "| Zorro   | male   | 0 | 0 | 0 | 0 | 0 | 0 | 0 | 0 | ⋯ | 0 | 0 | 0 | 0 | 0 | 0 | 0 | 0 | 0 | 0 |\n",
       "| Zsa Zsa | female | 0 | 0 | 0 | 0 | 0 | 0 | 0 | 0 | ⋯ | 0 | 0 | 0 | 0 | 0 | 0 | 0 | 0 | 0 | 0 |\n",
       "| Zsazsa  | female | 0 | 0 | 0 | 0 | 0 | 0 | 0 | 0 | ⋯ | 0 | 0 | 0 | 0 | 0 | 0 | 0 | 0 | 0 | 0 |\n",
       "| Zulema  | female | 0 | 0 | 0 | 0 | 0 | 0 | 0 | 0 | ⋯ | 0 | 0 | 0 | 0 | 0 | 0 | 0 | 0 | 0 | 0 |\n",
       "| Zuzana  | female | 0 | 0 | 0 | 0 | 0 | 0 | 0 | 0 | ⋯ | 0 | 0 | 0 | 0 | 0 | 0 | 0 | 0 | 0 | 0 |\n",
       "\n"
      ],
      "text/plain": [
       "     FirstName  Sex    r n l e y i t m ⋯ g c x j w b z u v p\n",
       "1    Aamir      male   1 0 0 0 0 0 0 0 ⋯ 0 0 0 0 0 0 0 0 0 0\n",
       "2    Aaron      male   0 1 0 0 0 0 0 0 ⋯ 0 0 0 0 0 0 0 0 0 0\n",
       "3    Abagael    female 0 0 1 0 0 0 0 0 ⋯ 0 0 0 0 0 0 0 0 0 0\n",
       "4    Abagail    female 0 0 1 0 0 0 0 0 ⋯ 0 0 0 0 0 0 0 0 0 0\n",
       "5    Abbe       female 0 0 0 1 0 0 0 0 ⋯ 0 0 0 0 0 0 0 0 0 0\n",
       "6    Abbey      female 0 0 0 0 1 0 0 0 ⋯ 0 0 0 0 0 0 0 0 0 0\n",
       "7    Abbey      male   0 0 0 0 1 0 0 0 ⋯ 0 0 0 0 0 0 0 0 0 0\n",
       "8    Abbi       female 0 0 0 0 0 1 0 0 ⋯ 0 0 0 0 0 0 0 0 0 0\n",
       "9    Abbie      female 0 0 0 1 0 0 0 0 ⋯ 0 0 0 0 0 0 0 0 0 0\n",
       "10   Abbie      male   0 0 0 1 0 0 0 0 ⋯ 0 0 0 0 0 0 0 0 0 0\n",
       "11   Abbot      male   0 0 0 0 0 0 1 0 ⋯ 0 0 0 0 0 0 0 0 0 0\n",
       "12   Abbott     male   0 0 0 0 0 0 1 0 ⋯ 0 0 0 0 0 0 0 0 0 0\n",
       "13   Abby       female 0 0 0 0 1 0 0 0 ⋯ 0 0 0 0 0 0 0 0 0 0\n",
       "14   Abby       male   0 0 0 0 1 0 0 0 ⋯ 0 0 0 0 0 0 0 0 0 0\n",
       "15   Abdel      male   0 0 1 0 0 0 0 0 ⋯ 0 0 0 0 0 0 0 0 0 0\n",
       "16   Abdul      male   0 0 1 0 0 0 0 0 ⋯ 0 0 0 0 0 0 0 0 0 0\n",
       "17   Abdulkarim male   0 0 0 0 0 0 0 1 ⋯ 0 0 0 0 0 0 0 0 0 0\n",
       "18   Abdullah   male   0 0 0 0 0 0 0 0 ⋯ 0 0 0 0 0 0 0 0 0 0\n",
       "19   Abe        male   0 0 0 1 0 0 0 0 ⋯ 0 0 0 0 0 0 0 0 0 0\n",
       "20   Abel       male   0 0 1 0 0 0 0 0 ⋯ 0 0 0 0 0 0 0 0 0 0\n",
       "21   Abelard    male   0 0 0 0 0 0 0 0 ⋯ 0 0 0 0 0 0 0 0 0 0\n",
       "22   Abigael    female 0 0 1 0 0 0 0 0 ⋯ 0 0 0 0 0 0 0 0 0 0\n",
       "23   Abigail    female 0 0 1 0 0 0 0 0 ⋯ 0 0 0 0 0 0 0 0 0 0\n",
       "24   Abigale    female 0 0 0 1 0 0 0 0 ⋯ 0 0 0 0 0 0 0 0 0 0\n",
       "25   Abner      male   1 0 0 0 0 0 0 0 ⋯ 0 0 0 0 0 0 0 0 0 0\n",
       "26   Abra       female 0 0 0 0 0 0 0 0 ⋯ 0 0 0 0 0 0 0 0 0 0\n",
       "27   Abraham    male   0 0 0 0 0 0 0 1 ⋯ 0 0 0 0 0 0 0 0 0 0\n",
       "28   Abram      male   0 0 0 0 0 0 0 1 ⋯ 0 0 0 0 0 0 0 0 0 0\n",
       "29   Acacia     female 0 0 0 0 0 0 0 0 ⋯ 0 0 0 0 0 0 0 0 0 0\n",
       "30   Ace        male   0 0 0 1 0 0 0 0 ⋯ 0 0 0 0 0 0 0 0 0 0\n",
       "⋮    ⋮          ⋮      ⋮ ⋮ ⋮ ⋮ ⋮ ⋮ ⋮ ⋮ ⋱ ⋮ ⋮ ⋮ ⋮ ⋮ ⋮ ⋮ ⋮ ⋮ ⋮\n",
       "7914 Zeke       male   0 0 0 1 0 0 0 0 ⋯ 0 0 0 0 0 0 0 0 0 0\n",
       "7915 Zelda      female 0 0 0 0 0 0 0 0 ⋯ 0 0 0 0 0 0 0 0 0 0\n",
       "7916 Zelig      male   0 0 0 0 0 0 0 0 ⋯ 1 0 0 0 0 0 0 0 0 0\n",
       "7917 Zelma      female 0 0 0 0 0 0 0 0 ⋯ 0 0 0 0 0 0 0 0 0 0\n",
       "7918 Zena       female 0 0 0 0 0 0 0 0 ⋯ 0 0 0 0 0 0 0 0 0 0\n",
       "7919 Zenia      female 0 0 0 0 0 0 0 0 ⋯ 0 0 0 0 0 0 0 0 0 0\n",
       "7920 Zerk       male   0 0 0 0 0 0 0 0 ⋯ 0 0 0 0 0 0 0 0 0 0\n",
       "7921 Zeus       male   0 0 0 0 0 0 0 0 ⋯ 0 0 0 0 0 0 0 0 0 0\n",
       "7922 Zia        female 0 0 0 0 0 0 0 0 ⋯ 0 0 0 0 0 0 0 0 0 0\n",
       "7923 Zilvia     female 0 0 0 0 0 0 0 0 ⋯ 0 0 0 0 0 0 0 0 0 0\n",
       "7924 Zippy      male   0 0 0 0 1 0 0 0 ⋯ 0 0 0 0 0 0 0 0 0 0\n",
       "7925 Zita       female 0 0 0 0 0 0 0 0 ⋯ 0 0 0 0 0 0 0 0 0 0\n",
       "7926 Zitella    female 0 0 0 0 0 0 0 0 ⋯ 0 0 0 0 0 0 0 0 0 0\n",
       "7927 Zoe        female 0 0 0 1 0 0 0 0 ⋯ 0 0 0 0 0 0 0 0 0 0\n",
       "7928 Zola       female 0 0 0 0 0 0 0 0 ⋯ 0 0 0 0 0 0 0 0 0 0\n",
       "7929 Zollie     male   0 0 0 1 0 0 0 0 ⋯ 0 0 0 0 0 0 0 0 0 0\n",
       "7930 Zolly      male   0 0 0 0 1 0 0 0 ⋯ 0 0 0 0 0 0 0 0 0 0\n",
       "7931 Zonda      female 0 0 0 0 0 0 0 0 ⋯ 0 0 0 0 0 0 0 0 0 0\n",
       "7932 Zondra     female 0 0 0 0 0 0 0 0 ⋯ 0 0 0 0 0 0 0 0 0 0\n",
       "7933 Zonnya     female 0 0 0 0 0 0 0 0 ⋯ 0 0 0 0 0 0 0 0 0 0\n",
       "7934 Zora       female 0 0 0 0 0 0 0 0 ⋯ 0 0 0 0 0 0 0 0 0 0\n",
       "7935 Zorah      female 0 0 0 0 0 0 0 0 ⋯ 0 0 0 0 0 0 0 0 0 0\n",
       "7936 Zorana     female 0 0 0 0 0 0 0 0 ⋯ 0 0 0 0 0 0 0 0 0 0\n",
       "7937 Zorina     female 0 0 0 0 0 0 0 0 ⋯ 0 0 0 0 0 0 0 0 0 0\n",
       "7938 Zorine     female 0 0 0 1 0 0 0 0 ⋯ 0 0 0 0 0 0 0 0 0 0\n",
       "7939 Zorro      male   0 0 0 0 0 0 0 0 ⋯ 0 0 0 0 0 0 0 0 0 0\n",
       "7940 Zsa Zsa    female 0 0 0 0 0 0 0 0 ⋯ 0 0 0 0 0 0 0 0 0 0\n",
       "7941 Zsazsa     female 0 0 0 0 0 0 0 0 ⋯ 0 0 0 0 0 0 0 0 0 0\n",
       "7942 Zulema     female 0 0 0 0 0 0 0 0 ⋯ 0 0 0 0 0 0 0 0 0 0\n",
       "7943 Zuzana     female 0 0 0 0 0 0 0 0 ⋯ 0 0 0 0 0 0 0 0 0 0"
      ]
     },
     "metadata": {},
     "output_type": "display_data"
    }
   ],
   "source": [
    "data_df <- names_df %>%\n",
    "  mutate(LastOne=str_to_lower(str_sub(FirstName, start=-1))) %>%\n",
    "  count(FirstName, Sex, LastOne) %>%\n",
    "  pivot_wider(names_from=LastOne, values_from=n, values_fill=0)\n",
    "\n",
    "data_df"
   ]
  },
  {
   "cell_type": "markdown",
   "metadata": {
    "slideshow": {
     "slide_type": "subslide"
    }
   },
   "source": [
    "## Aufsplitten in Test- und Trainingsdaten\n",
    "\n",
    "Eine zentrale Technik des maschinellen Lernens ist der Test der Modellgüte anhand zurückgehaltener Daten (*holdout data*). Da in den zurückgehaltenen Testdaten ebenfalls die wahre Ausprägung der Zielvariablen bekannt ist, kann so die Vorhersagekraft des Klassifikators abgeschätzt werden. Dazu ist es notwendig Zufallsstichproben aus dem ursprünglichen Datensatz zu generieren."
   ]
  },
  {
   "cell_type": "code",
   "execution_count": 30,
   "metadata": {
    "slideshow": {
     "slide_type": ""
    }
   },
   "outputs": [],
   "source": [
    "set.seed(1234)\n",
    "num_obs <- nrow(data_df)\n",
    "index <- sample(num_obs, size=trunc(0.60 * num_obs))\n",
    "\n",
    "train_df <- data_df[index,-1]\n",
    "test_df <- data_df[-index,-1]"
   ]
  },
  {
   "cell_type": "markdown",
   "metadata": {
    "slideshow": {
     "slide_type": "subslide"
    }
   },
   "source": [
    "## Modell trainieren"
   ]
  },
  {
   "cell_type": "code",
   "execution_count": 31,
   "metadata": {
    "slideshow": {
     "slide_type": ""
    }
   },
   "outputs": [],
   "source": [
    "logistic_model <- glm(Sex ~ ., \n",
    "                      data = train_df, \n",
    "                      family = \"binomial\")\n",
    "#logistic_model"
   ]
  },
  {
   "cell_type": "markdown",
   "metadata": {
    "slideshow": {
     "slide_type": "subslide"
    }
   },
   "source": [
    "## Vorhersage auf Basis des Test-Datensatzes\n",
    "\n",
    "Eine zentrale Besonderheit des maschinellen Lernens ist der Test der Vorhersage mit Daten, die **nicht** zum Training des Modells herangezogen wurden. Auf der Basis dieser Vorhersage können dann Metriken zur Einschätzung der Modellgüte berechnet werden."
   ]
  },
  {
   "cell_type": "code",
   "execution_count": 44,
   "metadata": {
    "slideshow": {
     "slide_type": ""
    }
   },
   "outputs": [
    {
     "name": "stderr",
     "output_type": "stream",
     "text": [
      "Warning message in predict.lm(object, newdata, se.fit, scale = 1, type = if (type == :\n",
      "“Vorhersage durch Fit ohne vollen Rang mag täuschen”\n"
     ]
    }
   ],
   "source": [
    "prediction <- predict(logistic_model, \n",
    "                      test_df, \n",
    "                      type = \"response\") \n",
    "\n",
    "# Wahrscheinlichkeiten dichotomisieren\n",
    "prediction <- as.factor(ifelse(prediction > 0.5, 'male', 'female'))"
   ]
  },
  {
   "cell_type": "markdown",
   "metadata": {
    "slideshow": {
     "slide_type": "subslide"
    }
   },
   "source": [
    "## Korrespondenz mit zugrundeliegenden Fakten\n",
    "\n",
    "Konfusions-Matrix:\n",
    "\n",
    "| $\\,$                   | Tatsächlich positiv                    | Tatsächlich negativ                    |\n",
    "|------------------------|----------------------------------------|----------------------------------------|\n",
    "| **Vorhersage positiv** | Wahres positiv, Power                  | Falsch positiv, Typ I, $\\alpha$-Fehler |\n",
    "| **Vorhersage negativ** | Falsch negativ, Typ II, $\\beta$-Fehler | Wahres negativ                         |"
   ]
  },
  {
   "cell_type": "code",
   "execution_count": 50,
   "metadata": {
    "slideshow": {
     "slide_type": "subslide"
    }
   },
   "outputs": [
    {
     "data": {
      "text/plain": [
       "          truth\n",
       "prediction female male\n",
       "    female   1637  394\n",
       "    male      362  785"
      ]
     },
     "metadata": {},
     "output_type": "display_data"
    }
   ],
   "source": [
    "table(prediction, test_df$Sex, dnn=c('prediction', 'truth'))"
   ]
  },
  {
   "cell_type": "markdown",
   "metadata": {
    "slideshow": {
     "slide_type": "subslide"
    }
   },
   "source": [
    "## Formale Accuracy\n",
    "\n",
    "Formale Beschreibung der Treffgenauigkeit:\n",
    "\n",
    "$$\n",
    "\\text{Accuracy} = \\frac{\\text{TP} + \\text{TN}}{\\text{TP} + \\text{TN} + \\text{FP} + \\text{FN}} = \\frac{\\sum \\text{korrekte Klassifikationen}}{\\sum \\text{Stichprobengröße}}\n",
    "$$\n",
    "\n",
    "Hinzu kommt die *balanced accuracy* welche durch die Relativierung der wahr positiven und wahr negativen Vorhersagen mit der respektiven Stichprobengröße gebildet wird. Dies ist insbesondere im Fall binärer Klassifikatoren von Bedeutung. "
   ]
  },
  {
   "cell_type": "code",
   "execution_count": 47,
   "metadata": {
    "slideshow": {
     "slide_type": "subslide"
    }
   },
   "outputs": [
    {
     "name": "stdout",
     "output_type": "stream",
     "text": [
      "[1] \"Accuracy:  0.762114537444934\"\n"
     ]
    }
   ],
   "source": [
    "missing_classerr <- mean(prediction != test_df$Sex)\n",
    "print(paste('Accuracy: ', 1 - missing_classerr))"
   ]
  },
  {
   "cell_type": "markdown",
   "metadata": {
    "slideshow": {
     "slide_type": "subslide"
    }
   },
   "source": [
    "## Präzision\n",
    "\n",
    "Präzision (Precision) ist das Verhältnis der korrekten positiven Vorhersagen zu allen positiven Vorhersagen (inklusive Typ I Fehler).\n",
    "\n",
    "$$\n",
    "\\text{Precision} = \\frac{\\text{TP}}{\\text{TP} + \\text{FP}} = \\frac{\\sum \\text{true positive}}{\\sum \\text{predicted positive}}\n",
    "$$\n",
    "\n"
   ]
  },
  {
   "cell_type": "markdown",
   "metadata": {
    "slideshow": {
     "slide_type": "subslide"
    }
   },
   "source": [
    "## Recall\n",
    "\n",
    "Recall oder Sensitivität ist eine Maßzahl für die relative Anzahl der korrekten positiven Schätzungen gegeben alle Schätzungen (einschließlich Falsch negativ und Typ II Fehler).\n",
    "\n",
    "$$\n",
    "\\text{Recall} = \\frac{\\text{TP}}{\\text{TP} + \\text{FN}} = \\frac{\\sum \\text{wahr positiv}}{\\sum \\text{tatsächlich positiv}}\n",
    "$$"
   ]
  },
  {
   "cell_type": "markdown",
   "metadata": {
    "slideshow": {
     "slide_type": "subslide"
    }
   },
   "source": [
    "## F1-score\n",
    "\n",
    "Der gewichtete Mittelwert von Präzision und Sensitivität."
   ]
  },
  {
   "cell_type": "markdown",
   "metadata": {
    "slideshow": {
     "slide_type": "subslide"
    }
   },
   "source": [
    "# Anmerkungen zum maschinellen Lernen"
   ]
  },
  {
   "cell_type": "markdown",
   "metadata": {
    "slideshow": {
     "slide_type": "subslide"
    }
   },
   "source": [
    "\n",
    "## Probleme\n",
    "\n",
    "* Data driven: Nähe zum p-hacking und effect mining.\n",
    "* Undurchsichtigkeit: Bestimmte Verfahren machen es schwer bis unmöglich zu verstehen warum ein Modell konvergiert.\n",
    "* GIGO: Datenqualität muss im jeweiligen Einzelfall bewertet werden..\n",
    "* Täuschend einfach."
   ]
  },
  {
   "cell_type": "markdown",
   "metadata": {
    "slideshow": {
     "slide_type": "subslide"
    }
   },
   "source": [
    "## A chance  for social science?\n",
    "\n",
    "> To summarize, the claim that prediction is a necessary (but not sufficient) feature of causal explanation is consistent with a view of causality that is almost universally accepted by sociologists—even sociologists who have explicitly denied the necessity of prediction. The resolution of the apparent conflict is that prediction must be defined suitably—that is, in the broad sense of out-of-sample testing, allowing both for probabilistic predictions and for predictions about stylized facts or patterns of outcomes. [...] Although the details would differ depending on the type of explanation in question, in all cases the procedure would be roughly: (1) construct a “model” based on analysis of cases (A, B, C, ...); (2) deploy the model to make a prediction\n",
    "about case X, which is in the same class as (A, B, C, ...) but was not used to inform the model itself; (3) check the prediction. (Watts 2014, 340)\n"
   ]
  },
  {
   "cell_type": "markdown",
   "metadata": {
    "slideshow": {
     "slide_type": "subslide"
    }
   },
   "source": [
    "## Only curve-fitting?\n",
    "\n",
    "> As much as I look into what’s being done with deep learning, I see they’re all stuck there on the level of associations. Curve fitting. That sounds like sacrilege, to say that all the impressive achievements of deep learning amount to just fitting a curve to data. From the point of view of the mathematical hierarchy, no matter how skillfully you manipulate the data and what you read into the data when you manipulate it, it’s still a curve-fitting exercise, albeit complex and nontrivial. (Judea Pearl, [“To Build Truly Intelligent Machines, Teach Them Cause and Effect”](https://www.quantamagazine.org/to-build-truly-intelligent-machines-teach-them-cause-and-effect-20180515/))"
   ]
  },
  {
   "cell_type": "markdown",
   "metadata": {
    "slideshow": {
     "slide_type": "slide"
    }
   },
   "source": [
    "# References\n",
    "\n",
    "* Watts, Duncan J. 2014. “Common Sense and Sociological Explanations.” American Journal of Sociology 120 (2): 313–351.\n"
   ]
  }
 ],
 "metadata": {
  "celltoolbar": "Slideshow",
  "kernelspec": {
   "display_name": "R",
   "language": "R",
   "name": "ir"
  },
  "language_info": {
   "codemirror_mode": "r",
   "file_extension": ".r",
   "mimetype": "text/x-r-source",
   "name": "R",
   "pygments_lexer": "r",
   "version": "4.2.1"
  }
 },
 "nbformat": 4,
 "nbformat_minor": 2
}
