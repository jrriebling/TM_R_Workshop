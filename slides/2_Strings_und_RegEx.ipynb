{
 "cells": [
  {
   "cell_type": "markdown",
   "metadata": {
    "slideshow": {
     "slide_type": "slide"
    }
   },
   "source": [
    "**Text Mining in R**\n",
    "\n",
    "# Text, Strings und Reguläre Ausdrücke\n",
    "\n",
    "Jan R. Riebling"
   ]
  },
  {
   "cell_type": "markdown",
   "metadata": {
    "slideshow": {
     "slide_type": "subslide"
    }
   },
   "source": [
    "## Agenda\n",
    "\n",
    "* What is text?\n",
    "* Text in R\n",
    "* Text I/O\n",
    "* String operations"
   ]
  },
  {
   "cell_type": "markdown",
   "metadata": {
    "slideshow": {
     "slide_type": "subslide"
    }
   },
   "source": [
    "## Zusätzliche Pakete\n",
    "\n",
    "R-base verfügt aus historischen Gründen nur über sehr eingeschränkte Möglichkeiten Zeichenketten (*strings*) zu verarbeiten. Daher sind für Text Mining zusätzliche Pakete empfohlen:\n",
    "\n",
    "* `tidyverse`: Meta-Paket für Data Science enthält unter anderem `dplyr`, `stringr` und andere. Die Dokumentation befindet sich [hier]().\n",
    "* `stringr`: Implementiert Stringfunktionalitäten auf Basis von C Bibliotheken.\n",
    "* `stringi`: Ausführlichere Version von `stringr`.\n",
    "* `tidytext`: Zusätzliche Unterstützung für textbasierte Datenstrukturen im Rahmen der `tidyverse` Philosophie. Ausführliche Dokumentation im Buch [„Text Mining with R“]().\n",
    "* `tm`: Stellt Datenstrukturen zum Ugang mit Textkorpora bereit. Siehe hierzu die entsprechende [Dokumentation](https://cran.r-project.org/web/packages/tm/vignettes/tm.pdf)."
   ]
  },
  {
   "cell_type": "code",
   "execution_count": 4,
   "metadata": {},
   "outputs": [
    {
     "name": "stderr",
     "output_type": "stream",
     "text": [
      "Installiere Pakete nach ‘/home/jrriebling/.local/lib/R’\n",
      "(da ‘lib’ nicht spezifiziert)\n",
      "\n"
     ]
    }
   ],
   "source": [
    "install.packages(c('tidytext', 'tm'))"
   ]
  },
  {
   "cell_type": "code",
   "execution_count": 5,
   "metadata": {},
   "outputs": [
    {
     "name": "stderr",
     "output_type": "stream",
     "text": [
      "Lade nötiges Paket: NLP\n",
      "\n",
      "\n",
      "Attache Paket: ‘NLP’\n",
      "\n",
      "\n",
      "Das folgende Objekt ist maskiert ‘package:ggplot2’:\n",
      "\n",
      "    annotate\n",
      "\n",
      "\n"
     ]
    }
   ],
   "source": [
    "library(tidyverse)\n",
    "library(stringr)\n",
    "library(tm)"
   ]
  },
  {
   "cell_type": "markdown",
   "metadata": {
    "slideshow": {
     "slide_type": "skip"
    }
   },
   "source": [
    "## Tibbles vs. data.frames\n",
    "\n",
    "For most purposes, a `tibble`-object works almost the same as a `data.frame`. In fact, the `tibble` is much more strict and exhibits the following behaviors:\n",
    "\n",
    "* Never converts or transforms data types, variable names or assigns row names automatically.\n",
    "* No autocompletion of variable names.\n",
    "* Subsetting with the index notation `[` always returns a `tibble`-object."
   ]
  },
  {
   "cell_type": "markdown",
   "metadata": {
    "slideshow": {
     "slide_type": "slide"
    }
   },
   "source": [
    "# Maschinenlesbarer Text"
   ]
  },
  {
   "cell_type": "markdown",
   "metadata": {
    "slideshow": {
     "slide_type": "skip"
    }
   },
   "source": [
    "## A formal definition of language\n",
    "\n",
    "A language $\\mathcal{L}$ can be defined as consisting of an alphabet $\\Sigma{}$ and a grammar containing the rules for the construction of valid expressions. The alphabet of a language consists of a set of \"words\" $w$, the smallest elements of a language. Under the model of a generative grammar the construction of a valid sentence can be described as a set of substitution rules, starting from the level of the \"sentence\" and stopping when the word level is reached. If each substitution is correct the resulting sentence is correct. Only formal languages can be described entirely in terms of a grammar."
   ]
  },
  {
   "cell_type": "markdown",
   "metadata": {
    "slideshow": {
     "slide_type": "skip"
    }
   },
   "source": [
    "## Grammar \n",
    "\n",
    "> Eine Grammatik $G$ ist ein Tupel $G = (V, T, R, S)$. Dabei ist\n",
    "> * $V$ eine endliche Menge von Variablen;\n",
    "> * $T$ eine endliche Menge von Terminalen; es gilt $V \\cap T = \\emptyset$;\n",
    "> * $R$ eine endliche Menge von Regeln. Eine Regel ist ein Element $(P, Q)$ aus\n",
    "> $(V \\cup T )∗ V (V \\cup T )∗ \\times (V \\cup T )∗$ . Das heißt, P ist ein Wort über $(V \\cup T)$,\n",
    "> das mindestens eine Variable aus $V$ enthält, während $Q$ ein beliebiges Wort über $(V \\cup T)$ ist. P heißt auch Prämisse und Q Konklusion > der Regel. Für eine Regel (P, Q) ∈ R schreibt man üblicherweise u auch P →G Q\n",
    "> oder nur P → Q.\n",
    "> * S das Startsymbol, S ∈ V .\n",
    "\n",
    "(Erk & Priese 2008, 54)\n"
   ]
  },
  {
   "cell_type": "markdown",
   "metadata": {
    "slideshow": {
     "slide_type": "subslide"
    }
   },
   "source": [
    "## Text als \"String\"\n",
    "\n",
    "Standardmäßig wird Text in Computern als eine Zeichenkette definiert. Die Grammatik die einen validen String erzeugt wird als eine reguläre Grammatik: Vom einem Starpunkt werden Elemente in eine vordefinierte Richtung hinzugefügt bis ein Endsymbol erreicht wird.\n",
    "\n",
    "In Basis-R werden Strings mittels der Klasse `character` repräsentiert."
   ]
  },
  {
   "cell_type": "code",
   "execution_count": 2,
   "metadata": {},
   "outputs": [
    {
     "data": {
      "text/html": [
       "'character'"
      ],
      "text/latex": [
       "'character'"
      ],
      "text/markdown": [
       "'character'"
      ],
      "text/plain": [
       "[1] \"character\""
      ]
     },
     "metadata": {},
     "output_type": "display_data"
    }
   ],
   "source": [
    "class(\"This is a string!\")"
   ]
  },
  {
   "cell_type": "markdown",
   "metadata": {
    "slideshow": {
     "slide_type": "slide"
    }
   },
   "source": [
    "# Eigenschaften von Strings"
   ]
  },
  {
   "cell_type": "markdown",
   "metadata": {
    "slideshow": {
     "slide_type": "subslide"
    }
   },
   "source": [
    "## Definition\n",
    "\n",
    "Strings werden entweder mit `\"` oder `'` geöffnet und müssen mit dem selben Zeichen geschlossen werden."
   ]
  },
  {
   "cell_type": "code",
   "execution_count": 15,
   "metadata": {
    "slideshow": {
     "slide_type": ""
    }
   },
   "outputs": [
    {
     "data": {
      "text/html": [
       "'This is a string.'"
      ],
      "text/latex": [
       "'This is a string.'"
      ],
      "text/markdown": [
       "'This is a string.'"
      ],
      "text/plain": [
       "[1] \"This is a string.\""
      ]
     },
     "metadata": {},
     "output_type": "display_data"
    }
   ],
   "source": [
    "string1 <- \"This is a string.\"\n",
    "string2 <- 'This is another one, using single quotes'\n",
    "string1"
   ]
  },
  {
   "cell_type": "markdown",
   "metadata": {
    "slideshow": {
     "slide_type": "subslide"
    }
   },
   "source": [
    "## Sonderzeichen"
   ]
  },
  {
   "cell_type": "code",
   "execution_count": 13,
   "metadata": {
    "slideshow": {
     "slide_type": ""
    }
   },
   "outputs": [
    {
     "data": {
      "text/html": [
       "'This will work'"
      ],
      "text/latex": [
       "'This will work'"
      ],
      "text/markdown": [
       "'This will work'"
      ],
      "text/plain": [
       "[1] \"This will work\""
      ]
     },
     "metadata": {},
     "output_type": "display_data"
    }
   ],
   "source": [
    "\"This will work\""
   ]
  },
  {
   "cell_type": "code",
   "execution_count": 14,
   "metadata": {},
   "outputs": [
    {
     "ename": "ERROR",
     "evalue": "Error in parse(text = x, srcfile = src): <text>:1:15: unerwartetes Symbol\n1: 'But this won't\n                  ^\n",
     "output_type": "error",
     "traceback": [
      "Error in parse(text = x, srcfile = src): <text>:1:15: unerwartetes Symbol\n1: 'But this won't\n                  ^\nTraceback:\n"
     ]
    }
   ],
   "source": [
    "'But this won't'"
   ]
  },
  {
   "cell_type": "markdown",
   "metadata": {
    "slideshow": {
     "slide_type": "subslide"
    }
   },
   "source": [
    "## Escaping\n",
    "\n",
    "Um Sonderzeichen in Strings zu repräsentieren oder die Funktion als Sonderzeichen zu unterdrücken müssen diese „escaped“ werden. Dies geschieht durch Voranstellen von `\\`, hat jedoch zur Folge das eine Repräsentation von `\\` im String selbst so auszusehen hat: `\\\\`. \n",
    "\n",
    "Sonderzeichen:\n",
    "\n",
    "* `\\n`: die (UNIX) newline; Ein Zielenumbruch.\n",
    "* `\\r`: Carriage Return; Springt an den Anfang der Zeile.. \n",
    "* `\\t`: Tabulator Whitespace.\n",
    "* `\\b`: ein einfacher Whitespace.\n",
    "* `\\u....`: definiert einen unicode codepoint (UTF-8) mittels hexadezimaler Zahlen."
   ]
  },
  {
   "cell_type": "code",
   "execution_count": 4,
   "metadata": {
    "slideshow": {
     "slide_type": "subslide"
    }
   },
   "outputs": [
    {
     "name": "stdout",
     "output_type": "stream",
     "text": [
      "[1] \"But this won't\"\n"
     ]
    }
   ],
   "source": [
    "print(\"But this won\\'t\")"
   ]
  },
  {
   "cell_type": "code",
   "execution_count": 5,
   "metadata": {},
   "outputs": [
    {
     "name": "stdout",
     "output_type": "stream",
     "text": [
      "[1] \"Ƕ\"\n"
     ]
    }
   ],
   "source": [
    "print(\"\\u01f6\")"
   ]
  },
  {
   "cell_type": "markdown",
   "metadata": {
    "slideshow": {
     "slide_type": "slide"
    }
   },
   "source": [
    "# Text I/O"
   ]
  },
  {
   "cell_type": "markdown",
   "metadata": {
    "slideshow": {
     "slide_type": "subslide"
    }
   },
   "source": [
    "# Unicode\n",
    "\n",
    "Im ursprünglichen ASCII encoding wurden Strings mittels 8bit repräsentiert, daher konnten nur 256 Zeichen dargestellt werden. Um die Bandbreite natürlicher Sprachen abzubilden wurde der Unicode Standard eingeführt. Mittels eines spezifischen Encodings (z.B.: UTF-8) wird die Korrespondenz eines bestimmten codepoints (unicode character) mit einem in einer gegebenen Schriftart darstellbaren Zeichen verknüpft."
   ]
  },
  {
   "cell_type": "markdown",
   "metadata": {
    "slideshow": {
     "slide_type": "subslide"
    }
   },
   "source": [
    "Um das encoding eines Textstreams zu verändern kann die Funktion `file()` genutzt werden. Die Kodierung kann dann über das Argument `encoding=\"...\"` angegeben werden."
   ]
  },
  {
   "cell_type": "code",
   "execution_count": 31,
   "metadata": {},
   "outputs": [],
   "source": [
    "lines <- readLines(file('../data/ucexample_Weber_utf8.txt', \n",
    "                        encoding='UTF-8'))"
   ]
  },
  {
   "cell_type": "code",
   "execution_count": 32,
   "metadata": {
    "slideshow": {
     "slide_type": "subslide"
    }
   },
   "outputs": [
    {
     "name": "stdout",
     "output_type": "stream",
     "text": [
      "[1] \"Der Nationalstaat und die Volkswirtschaftspolitik\"                                                                                                                                                                                                                                                                                                                                                                                                                                                                                                                                                                                                                                                                                                                                                                                                                                                                                                                                                                                                                                                                                                                                                                                                                                                                                                                                                                                                                                                                                                                                                                                                                                                                                                                                                                                                                                                               \n",
      "[2] \"\"                                                                                                                                                                                                                                                                                                                                                                                                                                                                                                                                                                                                                                                                                                                                                                                                                                                                                                                                                                                                                                                                                                                                                                                                                                                                                                                                                                                                                                                                                                                                                                                                                                                                                                                                                                                                                                                                                                                \n",
      "[3] \"1895\"                                                                                                                                                                                                                                                                                                                                                                                                                                                                                                                                                                                                                                                                                                                                                                                                                                                                                                                                                                                                                                                                                                                                                                                                                                                                                                                                                                                                                                                                                                                                                                                                                                                                                                                                                                                                                                                                                                            \n",
      "[4] \"Vorbemerkung\"                                                                                                                                                                                                                                                                                                                                                                                                                                                                                                                                                                                                                                                                                                                                                                                                                                                                                                                                                                                                                                                                                                                                                                                                                                                                                                                                                                                                                                                                                                                                                                                                                                                                                                                                                                                                                                                                                                    \n",
      "[5] \"\"                                                                                                                                                                                                                                                                                                                                                                                                                                                                                                                                                                                                                                                                                                                                                                                                                                                                                                                                                                                                                                                                                                                                                                                                                                                                                                                                                                                                                                                                                                                                                                                                                                                                                                                                                                                                                                                                                                                \n",
      "[6] \"Nicht die Zustimmung, sondern der Widerspruch, welchen die nachstehenden Ausführungen bei vielen ihrer Hörer fanden, veranlaßten mich, sie zu veröffentlichen. Sachlich Neues werden sie Fachgenossen wie andern nur in Einzelheiten bringen, und in welchem speziellen Sinn allein sie den Anspruch auf das Prädikat der »Wissenschaftlichkeit« erheben, ergibt sich aus der Veranlassung ihres Entstehens. Eine Antrittsrede bietet eben Gelegenheit zur offenen Darlegung und Rechtfertigung des persönlichen und insoweit »subjektiven« Standpunktes bei der Beurteilung volkswirtschaftlicher Erscheinungen. Die Ausführungen S. 15 bis 18 (oben)hatte ich mit Rücksicht auf Zeit und Hörerkreis fortgelassen, andere mögen beim Sprechen eine andere Form angenommen haben. Zu den Darlegungen im Eingang ist zu bemerken, daß die Vorgänge hier naturgemäß wesentlich vereinfacht gegenüber der Wirklichkeit dargestellt werden. Die Zeit von 1871–1885 zeigt in den einzelnen Kreisen und Gemeinden Westpreußens keine einheitlichen, sondern charakteristisch wechselnde Bevölkerungsbewegungen, die keineswegs durchweg so durchsichtig sind wie die herausgegriffenen Beispiele. Die Tendenz, welche an diesen zu veranschaulichen versucht ist, wird in anderen Fällen durch andere Momente durchkreuzt. Darauf werde ich demnächst ausführlicher an anderem Ort zurückkommen. Daß die Resultate, welche diese Zahlen bieten können, auf unsichereren Füßen stehen als diejenigen, welche die verdienstlichen Veröffentlichungen mehrerer Schüler Neumanns uns über die Nationalitätsverhältnisse in Posen und Westpreußen geliefert haben, liegt auf der Hand. Aber in Ermangelung korrekten Materials müssen wir uns vorerst mit ihnen begnügen, zumal die Erscheinungen, welche sie veranschaulichen, uns in ihren Hauptzügen bereits aus den ländlichen Enqueten der letzten Jahre bekannt sind.\"\n",
      "[7] \"\"                                                                                                                                                                                                                                                                                                                                                                                                                                                                                                                                                                                                                                                                                                                                                                                                                                                                                                                                                                                                                                                                                                                                                                                                                                                                                                                                                                                                                                                                                                                                                                                                                                                                                                                                                                                                                                                                                                                \n",
      "[8] \"Freiburg, Mai 1895\"                                                                                                                                                                                                                                                                                                                                                                                                                                                                                                                                                                                                                                                                                                                                                                                                                                                                                                                                                                                                                                                                                                                                                                                                                                                                                                                                                                                                                                                                                                                                                                                                                                                                                                                                                                                                                                                                                              \n",
      "[9] \"Max Weber\"                                                                                                                                                                                                                                                                                                                                                                                                                                                                                                                                                                                                                                                                                                                                                                                                                                                                                                                                                                                                                                                                                                                                                                                                                                                                                                                                                                                                                                                                                                                                                                                                                                                                                                                                                                                                                                                                                                       \n"
     ]
    }
   ],
   "source": [
    "show(lines)"
   ]
  },
  {
   "cell_type": "markdown",
   "metadata": {
    "slideshow": {
     "slide_type": "subslide"
    }
   },
   "source": [
    "## Raw text input\n",
    "\n",
    "R's standard function to read text files is `readLines()`. As the name suggests, it actually produces a vector of lines (seperated by newlines) from the file input. To preserve the formatting and get the *plain text* content, the function `readr::read_file()` can be used. Other packages offer additional read/write functions for text."
   ]
  },
  {
   "cell_type": "code",
   "execution_count": 28,
   "metadata": {
    "slideshow": {
     "slide_type": "-"
    }
   },
   "outputs": [],
   "source": [
    "plain <- read_file('../data/ucexample_Weber_utf8.txt')"
   ]
  },
  {
   "cell_type": "code",
   "execution_count": 29,
   "metadata": {
    "slideshow": {
     "slide_type": "subslide"
    }
   },
   "outputs": [
    {
     "name": "stdout",
     "output_type": "stream",
     "text": [
      "[1] \"Der Nationalstaat und die Volkswirtschaftspolitik\\n\\n1895\\nVorbemerkung\\n\\nNicht die Zustimmung, sondern der Widerspruch, welchen die nachstehenden Ausführungen bei vielen ihrer Hörer fanden, veranlaßten mich, sie zu veröffentlichen. Sachlich Neues werden sie Fachgenossen wie andern nur in Einzelheiten bringen, und in welchem speziellen Sinn allein sie den Anspruch auf das Prädikat der »Wissenschaftlichkeit« erheben, ergibt sich aus der Veranlassung ihres Entstehens. Eine Antrittsrede bietet eben Gelegenheit zur offenen Darlegung und Rechtfertigung des persönlichen und insoweit »subjektiven« Standpunktes bei der Beurteilung volkswirtschaftlicher Erscheinungen. Die Ausführungen S. 15 bis 18 (oben)hatte ich mit Rücksicht auf Zeit und Hörerkreis fortgelassen, andere mögen beim Sprechen eine andere Form angenommen haben. Zu den Darlegungen im Eingang ist zu bemerken, daß die Vorgänge hier naturgemäß wesentlich vereinfacht gegenüber der Wirklichkeit dargestellt werden. Die Zeit von 1871–1885 zeigt in den einzelnen Kreisen und Gemeinden Westpreußens keine einheitlichen, sondern charakteristisch wechselnde Bevölkerungsbewegungen, die keineswegs durchweg so durchsichtig sind wie die herausgegriffenen Beispiele. Die Tendenz, welche an diesen zu veranschaulichen versucht ist, wird in anderen Fällen durch andere Momente durchkreuzt. Darauf werde ich demnächst ausführlicher an anderem Ort zurückkommen. Daß die Resultate, welche diese Zahlen bieten können, auf unsichereren Füßen stehen als diejenigen, welche die verdienstlichen Veröffentlichungen mehrerer Schüler Neumanns uns über die Nationalitätsverhältnisse in Posen und Westpreußen geliefert haben, liegt auf der Hand. Aber in Ermangelung korrekten Materials müssen wir uns vorerst mit ihnen begnügen, zumal die Erscheinungen, welche sie veranschaulichen, uns in ihren Hauptzügen bereits aus den ländlichen Enqueten der letzten Jahre bekannt sind.\\n\\nFreiburg, Mai 1895\\nMax Weber\\n\"\n"
     ]
    }
   ],
   "source": [
    "show(plain)"
   ]
  },
  {
   "cell_type": "markdown",
   "metadata": {
    "slideshow": {
     "slide_type": "subslide"
    }
   },
   "source": [
    "## CSV files\n",
    "\n",
    "One of the most common and robust data types is CSV (*comma seperated values*). Each line contains a row of data, seperated by a specific character (e.g. comma). Optionally, the first line contains a header giving the column names."
   ]
  },
  {
   "cell_type": "code",
   "execution_count": 9,
   "metadata": {
    "collapsed": true
   },
   "outputs": [],
   "source": [
    "econ_df <- as_tibble(read.csv(file=\"data//EconAbstRaw.csv\", \n",
    "                              header=TRUE, \n",
    "                              sep=\",\"))"
   ]
  },
  {
   "cell_type": "code",
   "execution_count": 10,
   "metadata": {
    "slideshow": {
     "slide_type": "subslide"
    }
   },
   "outputs": [
    {
     "data": {
      "text/html": [
       "<ol class=list-inline>\n",
       "\t<li>6556</li>\n",
       "\t<li>10</li>\n",
       "</ol>\n"
      ],
      "text/latex": [
       "\\begin{enumerate*}\n",
       "\\item 6556\n",
       "\\item 10\n",
       "\\end{enumerate*}\n"
      ],
      "text/markdown": [
       "1. 6556\n",
       "2. 10\n",
       "\n",
       "\n"
      ],
      "text/plain": [
       "[1] 6556   10"
      ]
     },
     "metadata": {},
     "output_type": "display_data"
    }
   ],
   "source": [
    "dim(econ_df)"
   ]
  },
  {
   "cell_type": "code",
   "execution_count": 10,
   "metadata": {},
   "outputs": [
    {
     "data": {
      "text/html": [
       "<ol class=list-inline>\n",
       "\t<li>'X'</li>\n",
       "\t<li>'Authors'</li>\n",
       "\t<li>'Year.of.Publication'</li>\n",
       "\t<li>'Title'</li>\n",
       "\t<li>'Author.Keywords'</li>\n",
       "\t<li>'KeyWords.Plus'</li>\n",
       "\t<li>'Abstracts'</li>\n",
       "\t<li>'ISO.4.Journal.Abbreviation'</li>\n",
       "\t<li>'Zeitschrift'</li>\n",
       "\t<li>'Origin'</li>\n",
       "</ol>\n"
      ],
      "text/latex": [
       "\\begin{enumerate*}\n",
       "\\item 'X'\n",
       "\\item 'Authors'\n",
       "\\item 'Year.of.Publication'\n",
       "\\item 'Title'\n",
       "\\item 'Author.Keywords'\n",
       "\\item 'KeyWords.Plus'\n",
       "\\item 'Abstracts'\n",
       "\\item 'ISO.4.Journal.Abbreviation'\n",
       "\\item 'Zeitschrift'\n",
       "\\item 'Origin'\n",
       "\\end{enumerate*}\n"
      ],
      "text/markdown": [
       "1. 'X'\n",
       "2. 'Authors'\n",
       "3. 'Year.of.Publication'\n",
       "4. 'Title'\n",
       "5. 'Author.Keywords'\n",
       "6. 'KeyWords.Plus'\n",
       "7. 'Abstracts'\n",
       "8. 'ISO.4.Journal.Abbreviation'\n",
       "9. 'Zeitschrift'\n",
       "10. 'Origin'\n",
       "\n",
       "\n"
      ],
      "text/plain": [
       " [1] \"X\"                          \"Authors\"                   \n",
       " [3] \"Year.of.Publication\"        \"Title\"                     \n",
       " [5] \"Author.Keywords\"            \"KeyWords.Plus\"             \n",
       " [7] \"Abstracts\"                  \"ISO.4.Journal.Abbreviation\"\n",
       " [9] \"Zeitschrift\"                \"Origin\"                    "
      ]
     },
     "metadata": {},
     "output_type": "display_data"
    }
   ],
   "source": [
    "names(econ_df)"
   ]
  },
  {
   "cell_type": "code",
   "execution_count": 11,
   "metadata": {
    "slideshow": {
     "slide_type": "subslide"
    }
   },
   "outputs": [
    {
     "data": {
      "text/plain": [
       "\n",
       "                        AMERICAN ECONOMIC REVIEW \n",
       "                                            1020 \n",
       "     AMERICAN JOURNAL OF ECONOMICS AND SOCIOLOGY \n",
       "                                             587 \n",
       "                      ECONOMIC AND SOCIAL REVIEW \n",
       "                                             158 \n",
       "       INTERNATIONAL JOURNAL OF SOCIAL ECONOMICS \n",
       "                                              92 \n",
       "                  JOURNAL OF ECONOMIC LITERATURE \n",
       "                                              58 \n",
       "                  JOURNAL OF ECONOMIC PSYCHOLOGY \n",
       "                                             760 \n",
       "                  JOURNAL OF FINANCIAL ECONOMICS \n",
       "                                            1157 \n",
       "                    JOURNAL OF POLITICAL ECONOMY \n",
       "                                             782 \n",
       "JOURNAL OF SOCIAL POLITICAL AND ECONOMIC STUDIES \n",
       "                                               7 \n",
       "                  QUARTERLY JOURNAL OF ECONOMICS \n",
       "                                             753 \n",
       "                         RATIONALITY AND SOCIETY \n",
       "                                             285 \n",
       "                      REVIEW OF ECONOMIC STUDIES \n",
       "                                             756 \n",
       "                        REVIEW OF SOCIAL ECONOMY \n",
       "                                             105 \n",
       "                           SOCIO-ECONOMIC REVIEW \n",
       "                                              36 "
      ]
     },
     "metadata": {},
     "output_type": "display_data"
    }
   ],
   "source": [
    "table(econ_df$Zeitschrift)"
   ]
  },
  {
   "cell_type": "markdown",
   "metadata": {
    "slideshow": {
     "slide_type": "slide"
    }
   },
   "source": [
    "# String Operationen"
   ]
  },
  {
   "cell_type": "markdown",
   "metadata": {
    "slideshow": {
     "slide_type": "subslide"
    }
   },
   "source": [
    "## `stringr`\n",
    "\n",
    "Dieses Paket stellt Standardfunktionen für die Manipulation von Strings bereit. Diese beginnen immer mit `str_`.\n",
    "\n",
    "* `str_length()`: gibt Länge des Strings zurück; respektiert `NA`.\n",
    "* `str_c()`: konkateniert Strings.\n",
    "* `str_sub()`: Subsetting für Strings (funktioniert wie ein Index).\n",
    "* `str_to_lower()`, `...upper()`, `...title()`: Gibt lower/upper/title case Repräsentation des Strings zurück.\n",
    "* `str_sort()`: returns a sorted representation of the string.\n",
    "* `str_extract()`: Extrahiert Substrings die dem angegeben Muster entsprechen.\n",
    "* `str_detect()`: Gibt einen boolschen Vektor entsprechend des angegebenen Musters aus.\n",
    "* `str_count()`: Zählt Häufigkeit des Vorkommens im String.\n",
    "\n",
    "Manche dieser Funktionen lassen sich mit `_all` auf alle Übereinstimmungen mit einem Muster innerhalb des Strings verallgmeinern. Ansonsten wird immer nur die erste Übereinstimmung verwendet."
   ]
  },
  {
   "cell_type": "code",
   "execution_count": 16,
   "metadata": {
    "slideshow": {
     "slide_type": "subslide"
    }
   },
   "outputs": [],
   "source": [
    "## <TAB> to expand\n",
    "?str_"
   ]
  },
  {
   "cell_type": "code",
   "execution_count": 8,
   "metadata": {
    "slideshow": {
     "slide_type": "subslide"
    }
   },
   "outputs": [
    {
     "data": {
      "text/html": [
       "'Ham, bacon and Spam'"
      ],
      "text/latex": [
       "'Ham, bacon and Spam'"
      ],
      "text/markdown": [
       "'Ham, bacon and Spam'"
      ],
      "text/plain": [
       "[1] \"Ham, bacon and Spam\""
      ]
     },
     "metadata": {},
     "output_type": "display_data"
    }
   ],
   "source": [
    "str_c(\"Ham, bacon\", \"Spam\", sep=\" and \")"
   ]
  },
  {
   "cell_type": "code",
   "execution_count": 17,
   "metadata": {
    "slideshow": {
     "slide_type": "-"
    }
   },
   "outputs": [
    {
     "data": {
      "text/html": [
       "<style>\n",
       ".list-inline {list-style: none; margin:0; padding: 0}\n",
       ".list-inline>li {display: inline-block}\n",
       ".list-inline>li:not(:last-child)::after {content: \"\\00b7\"; padding: 0 .5ex}\n",
       "</style>\n",
       "<ol class=list-inline><li>'eggs'</li><li>'bacon'</li><li>'spam'</li><li>'lobster'</li></ol>\n"
      ],
      "text/latex": [
       "\\begin{enumerate*}\n",
       "\\item 'eggs'\n",
       "\\item 'bacon'\n",
       "\\item 'spam'\n",
       "\\item 'lobster'\n",
       "\\end{enumerate*}\n"
      ],
      "text/markdown": [
       "1. 'eggs'\n",
       "2. 'bacon'\n",
       "3. 'spam'\n",
       "4. 'lobster'\n",
       "\n",
       "\n"
      ],
      "text/plain": [
       "[1] \"eggs\"    \"bacon\"   \"spam\"    \"lobster\""
      ]
     },
     "metadata": {},
     "output_type": "display_data"
    }
   ],
   "source": [
    "breakfast <- c(\"eggs\", \"bacon\", \"spam\", \"lobster\")\n",
    "breakfast"
   ]
  },
  {
   "cell_type": "code",
   "execution_count": 10,
   "metadata": {},
   "outputs": [
    {
     "data": {
      "text/html": [
       "'eggs, bacon, spam, lobster'"
      ],
      "text/latex": [
       "'eggs, bacon, spam, lobster'"
      ],
      "text/markdown": [
       "'eggs, bacon, spam, lobster'"
      ],
      "text/plain": [
       "[1] \"eggs, bacon, spam, lobster\""
      ]
     },
     "metadata": {},
     "output_type": "display_data"
    }
   ],
   "source": [
    "str_c(breakfast, collapse=\", \")"
   ]
  },
  {
   "cell_type": "code",
   "execution_count": 20,
   "metadata": {
    "slideshow": {
     "slide_type": "subslide"
    }
   },
   "outputs": [
    {
     "data": {
      "text/html": [
       "<style>\n",
       ".list-inline {list-style: none; margin:0; padding: 0}\n",
       ".list-inline>li {display: inline-block}\n",
       ".list-inline>li:not(:last-child)::after {content: \"\\00b7\"; padding: 0 .5ex}\n",
       "</style>\n",
       "<ol class=list-inline><li>'eggsNA'</li><li>'baconNA'</li><li>'spamNA'</li><li>'lobsterNA'</li></ol>\n"
      ],
      "text/latex": [
       "\\begin{enumerate*}\n",
       "\\item 'eggsNA'\n",
       "\\item 'baconNA'\n",
       "\\item 'spamNA'\n",
       "\\item 'lobsterNA'\n",
       "\\end{enumerate*}\n"
      ],
      "text/markdown": [
       "1. 'eggsNA'\n",
       "2. 'baconNA'\n",
       "3. 'spamNA'\n",
       "4. 'lobsterNA'\n",
       "\n",
       "\n"
      ],
      "text/plain": [
       "[1] \"eggsNA\"    \"baconNA\"   \"spamNA\"    \"lobsterNA\""
      ]
     },
     "metadata": {},
     "output_type": "display_data"
    }
   ],
   "source": [
    "str_c(breakfast, \"NA\")"
   ]
  },
  {
   "cell_type": "code",
   "execution_count": 21,
   "metadata": {},
   "outputs": [
    {
     "data": {
      "text/html": [
       "<style>\n",
       ".list-inline {list-style: none; margin:0; padding: 0}\n",
       ".list-inline>li {display: inline-block}\n",
       ".list-inline>li:not(:last-child)::after {content: \"\\00b7\"; padding: 0 .5ex}\n",
       "</style>\n",
       "<ol class=list-inline><li>NA</li><li>NA</li><li>NA</li><li>NA</li></ol>\n"
      ],
      "text/latex": [
       "\\begin{enumerate*}\n",
       "\\item NA\n",
       "\\item NA\n",
       "\\item NA\n",
       "\\item NA\n",
       "\\end{enumerate*}\n"
      ],
      "text/markdown": [
       "1. NA\n",
       "2. NA\n",
       "3. NA\n",
       "4. NA\n",
       "\n",
       "\n"
      ],
      "text/plain": [
       "[1] NA NA NA NA"
      ]
     },
     "metadata": {},
     "output_type": "display_data"
    }
   ],
   "source": [
    "## NA is contagious!\n",
    "str_c(breakfast, NA)"
   ]
  },
  {
   "cell_type": "markdown",
   "metadata": {
    "slideshow": {
     "slide_type": "subslide"
    }
   },
   "source": [
    "## Vektorisierung\n",
    "\n",
    "Die meisten `stringr`-Funktionen werden bei Anwendung auf einen Vektor automatisch auf alle Einzelelemente angewendet. Die Rückgabe ist in diesem Fall ein Vektor."
   ]
  },
  {
   "cell_type": "code",
   "execution_count": 22,
   "metadata": {},
   "outputs": [
    {
     "data": {
      "text/html": [
       "9"
      ],
      "text/latex": [
       "9"
      ],
      "text/markdown": [
       "9"
      ],
      "text/plain": [
       "[1] 9"
      ]
     },
     "metadata": {},
     "output_type": "display_data"
    }
   ],
   "source": [
    "str_length('breakfast')"
   ]
  },
  {
   "cell_type": "code",
   "execution_count": 23,
   "metadata": {},
   "outputs": [
    {
     "data": {
      "text/html": [
       "<style>\n",
       ".list-inline {list-style: none; margin:0; padding: 0}\n",
       ".list-inline>li {display: inline-block}\n",
       ".list-inline>li:not(:last-child)::after {content: \"\\00b7\"; padding: 0 .5ex}\n",
       "</style>\n",
       "<ol class=list-inline><li>4</li><li>5</li><li>4</li><li>7</li></ol>\n"
      ],
      "text/latex": [
       "\\begin{enumerate*}\n",
       "\\item 4\n",
       "\\item 5\n",
       "\\item 4\n",
       "\\item 7\n",
       "\\end{enumerate*}\n"
      ],
      "text/markdown": [
       "1. 4\n",
       "2. 5\n",
       "3. 4\n",
       "4. 7\n",
       "\n",
       "\n"
      ],
      "text/plain": [
       "[1] 4 5 4 7"
      ]
     },
     "metadata": {},
     "output_type": "display_data"
    }
   ],
   "source": [
    "str_length(breakfast)"
   ]
  },
  {
   "cell_type": "code",
   "execution_count": 24,
   "metadata": {
    "slideshow": {
     "slide_type": "subslide"
    }
   },
   "outputs": [
    {
     "data": {
      "text/html": [
       "<style>\n",
       ".list-inline {list-style: none; margin:0; padding: 0}\n",
       ".list-inline>li {display: inline-block}\n",
       ".list-inline>li:not(:last-child)::after {content: \"\\00b7\"; padding: 0 .5ex}\n",
       "</style>\n",
       "<ol class=list-inline><li>'eggs'</li><li>'bacon'</li><li>'spam'</li><li>'lobster'</li></ol>\n"
      ],
      "text/latex": [
       "\\begin{enumerate*}\n",
       "\\item 'eggs'\n",
       "\\item 'bacon'\n",
       "\\item 'spam'\n",
       "\\item 'lobster'\n",
       "\\end{enumerate*}\n"
      ],
      "text/markdown": [
       "1. 'eggs'\n",
       "2. 'bacon'\n",
       "3. 'spam'\n",
       "4. 'lobster'\n",
       "\n",
       "\n"
      ],
      "text/plain": [
       "[1] \"eggs\"    \"bacon\"   \"spam\"    \"lobster\""
      ]
     },
     "metadata": {},
     "output_type": "display_data"
    }
   ],
   "source": [
    "str_to_lower(breakfast)"
   ]
  },
  {
   "cell_type": "markdown",
   "metadata": {
    "slideshow": {
     "slide_type": "subslide"
    }
   },
   "source": [
    "## Locale\n",
    "\n",
    "`stringr` Funktionen erlauben die Angabe eines Sprachraums mittels des entsprechenden [ISO 639 Codes](https://en.wikipedia.org/wiki/List_of_ISO_639-1_codes)."
   ]
  },
  {
   "cell_type": "code",
   "execution_count": 25,
   "metadata": {},
   "outputs": [
    {
     "data": {
      "text/html": [
       "<style>\n",
       ".list-inline {list-style: none; margin:0; padding: 0}\n",
       ".list-inline>li {display: inline-block}\n",
       ".list-inline>li:not(:last-child)::after {content: \"\\00b7\"; padding: 0 .5ex}\n",
       "</style>\n",
       "<ol class=list-inline><li>'I'</li><li>'I'</li></ol>\n"
      ],
      "text/latex": [
       "\\begin{enumerate*}\n",
       "\\item 'I'\n",
       "\\item 'I'\n",
       "\\end{enumerate*}\n"
      ],
      "text/markdown": [
       "1. 'I'\n",
       "2. 'I'\n",
       "\n",
       "\n"
      ],
      "text/plain": [
       "[1] \"I\" \"I\""
      ]
     },
     "metadata": {},
     "output_type": "display_data"
    }
   ],
   "source": [
    "## Default english language (\"en\")\n",
    "str_to_upper(c(\"i\", \"ı\"))"
   ]
  },
  {
   "cell_type": "code",
   "execution_count": 26,
   "metadata": {},
   "outputs": [
    {
     "data": {
      "text/html": [
       "<style>\n",
       ".list-inline {list-style: none; margin:0; padding: 0}\n",
       ".list-inline>li {display: inline-block}\n",
       ".list-inline>li:not(:last-child)::after {content: \"\\00b7\"; padding: 0 .5ex}\n",
       "</style>\n",
       "<ol class=list-inline><li>'İ'</li><li>'I'</li></ol>\n"
      ],
      "text/latex": [
       "\\begin{enumerate*}\n",
       "\\item 'İ'\n",
       "\\item 'I'\n",
       "\\end{enumerate*}\n"
      ],
      "text/markdown": [
       "1. 'İ'\n",
       "2. 'I'\n",
       "\n",
       "\n"
      ],
      "text/plain": [
       "[1] \"İ\" \"I\""
      ]
     },
     "metadata": {},
     "output_type": "display_data"
    }
   ],
   "source": [
    "## Turkish upper case\n",
    "str_to_upper(c(\"i\", \"ı\"), locale=\"tr\")"
   ]
  },
  {
   "cell_type": "markdown",
   "metadata": {
    "collapsed": true,
    "slideshow": {
     "slide_type": "slide"
    }
   },
   "source": [
    "# Reguläre Ausdrücke"
   ]
  },
  {
   "cell_type": "markdown",
   "metadata": {
    "slideshow": {
     "slide_type": "subslide"
    }
   },
   "source": [
    "## Ein paar Worte der Warnung\n",
    "\n",
    "> Some people, when confronted with a problem, think “I know, I'll use regular expressions.” Now they have two problems.\n",
    "\n",
    "> *Jamie Zawinski* \t "
   ]
  },
  {
   "cell_type": "markdown",
   "metadata": {
    "slideshow": {
     "slide_type": "subslide"
    }
   },
   "source": [
    "## Was sind RegEx\n",
    "\n",
    "Spezifizieren eine Auswahl aus einem endlichen Zeichenvorrat (Alphabet) $\\Sigma$. Im Prinzip handelt es sich um eine sehr elgante Art Teile von Zeichenketten mit Platzhaltern auszuwählen.\n",
    "\n",
    "Sie stehen in fast allen Betriebssystemen und Programmiersprachen zur Verfügung (siehe [hier](https://www.regular-expressions.info/))."
   ]
  },
  {
   "cell_type": "markdown",
   "metadata": {
    "slideshow": {
     "slide_type": "subslide"
    }
   },
   "source": [
    "## Formale Definition\n",
    "\n",
    "Wenn $x$ und $y$ reguläre Ausdrücke sind, dann sind:\n",
    "\n",
    "2. Verkettung: $(xy)$\n",
    "1. Alternative: $(x|y)$\n",
    "3. Wiederholung (Kleene-Stern): $(x^*)$\n",
    "\n",
    "ebenfalls valide, reguläre Ausdrücke."
   ]
  },
  {
   "cell_type": "markdown",
   "metadata": {
    "slideshow": {
     "slide_type": "subslide"
    }
   },
   "source": [
    "## Implementation\n",
    "\n",
    "Zwei dominante Standards für Reguläre Ausdrücke:\n",
    "\n",
    "* [POSIX ERE](http://www.regular-expressions.info/posix.html)\n",
    "* [PCRE - Perl Compatible Regular Expressions](http://www.pcre.org/)"
   ]
  },
  {
   "cell_type": "markdown",
   "metadata": {
    "slideshow": {
     "slide_type": "subslide"
    }
   },
   "source": [
    "## ... und dann gibt es noch R\n",
    "\n",
    "http://www.regular-expressions.info/rlanguage.html:\n",
    "\n",
    ">  The R Project for Statistical Computing provides seven regular expression functions in its base package. The R documentation claims that the default flavor implements POSIX extended regular expressions. That is not correct. In R 2.10.0 and later, the default regex engine is a modified version of Ville Laurikari's TRE engine. It mimics POSIX but deviates from the standard in many subtle and not-so-subtle ways. What this website says about POSIX ERE does not (necessarily) apply to R."
   ]
  },
  {
   "cell_type": "markdown",
   "metadata": {
    "slideshow": {
     "slide_type": "subslide"
    }
   },
   "source": [
    "## Funktionen\n",
    "\n",
    "R-base hat wie  die meisten Programmiersprachen grundlegende Möglichkeiten zum Umgang mit RegEx (e.g. `grep`). Zusätzlich verstehen die meisten `stringr` or `stringi` Funktionen ebenfalls reguläre Ausdrücke."
   ]
  },
  {
   "cell_type": "markdown",
   "metadata": {
    "slideshow": {
     "slide_type": "subslide"
    }
   },
   "source": [
    "## String matching\n",
    "\n",
    "In der einfachsten Variante können reguläre Ausdrücke einfach zur Spezifikation eines Teils einer Zeichenkette genutzt werden. "
   ]
  },
  {
   "cell_type": "code",
   "execution_count": 48,
   "metadata": {
    "slideshow": {
     "slide_type": "subslide"
    }
   },
   "outputs": [],
   "source": [
    "breakfast <- 'Egg and bacon\\\n",
    "Egg, sausage, and bacon\\\n",
    "Egg and Spam\\\n",
    "Egg, bacon, and Spam\\\n",
    "Egg, bacon, sausage, and Spam\\\n",
    "Spam, bacon, sausage, and Spam\\\n",
    "Spam, egg, Spam, Spam, bacon, and Spam\\\n",
    "Spam, Spam, Spam, egg, and Spam\\\n",
    "Spam, Spam, Spam, Spam, Spam, Spam, baked beans, Spam, Spam, Spam, and Spam\\\n",
    "Lobster Thermidor aux crevettes with a Mornay sauce, garnished with truffle pâté, brandy, and a fried egg on top, and Spam.'"
   ]
  },
  {
   "cell_type": "code",
   "execution_count": 50,
   "metadata": {
    "slideshow": {
     "slide_type": "subslide"
    }
   },
   "outputs": [
    {
     "data": {
      "text/html": [
       "'Spam'"
      ],
      "text/latex": [
       "'Spam'"
      ],
      "text/markdown": [
       "'Spam'"
      ],
      "text/plain": [
       "[1] \"Spam\""
      ]
     },
     "metadata": {},
     "output_type": "display_data"
    }
   ],
   "source": [
    "str_extract(breakfast, 'Spam')"
   ]
  },
  {
   "cell_type": "code",
   "execution_count": 51,
   "metadata": {},
   "outputs": [
    {
     "data": {
      "text/html": [
       "<ol>\n",
       "\t<li><style>\n",
       ".list-inline {list-style: none; margin:0; padding: 0}\n",
       ".list-inline>li {display: inline-block}\n",
       ".list-inline>li:not(:last-child)::after {content: \"\\00b7\"; padding: 0 .5ex}\n",
       "</style>\n",
       "<ol class=list-inline><li>'Spam'</li><li>'Spam'</li><li>'Spam'</li><li>'Spam'</li><li>'Spam'</li><li>'Spam'</li><li>'Spam'</li><li>'Spam'</li><li>'Spam'</li><li>'Spam'</li><li>'Spam'</li><li>'Spam'</li><li>'Spam'</li><li>'Spam'</li><li>'Spam'</li><li>'Spam'</li><li>'Spam'</li><li>'Spam'</li><li>'Spam'</li><li>'Spam'</li><li>'Spam'</li><li>'Spam'</li><li>'Spam'</li><li>'Spam'</li></ol>\n",
       "</li>\n",
       "</ol>\n"
      ],
      "text/latex": [
       "\\begin{enumerate}\n",
       "\\item \\begin{enumerate*}\n",
       "\\item 'Spam'\n",
       "\\item 'Spam'\n",
       "\\item 'Spam'\n",
       "\\item 'Spam'\n",
       "\\item 'Spam'\n",
       "\\item 'Spam'\n",
       "\\item 'Spam'\n",
       "\\item 'Spam'\n",
       "\\item 'Spam'\n",
       "\\item 'Spam'\n",
       "\\item 'Spam'\n",
       "\\item 'Spam'\n",
       "\\item 'Spam'\n",
       "\\item 'Spam'\n",
       "\\item 'Spam'\n",
       "\\item 'Spam'\n",
       "\\item 'Spam'\n",
       "\\item 'Spam'\n",
       "\\item 'Spam'\n",
       "\\item 'Spam'\n",
       "\\item 'Spam'\n",
       "\\item 'Spam'\n",
       "\\item 'Spam'\n",
       "\\item 'Spam'\n",
       "\\end{enumerate*}\n",
       "\n",
       "\\end{enumerate}\n"
      ],
      "text/markdown": [
       "1. 1. 'Spam'\n",
       "2. 'Spam'\n",
       "3. 'Spam'\n",
       "4. 'Spam'\n",
       "5. 'Spam'\n",
       "6. 'Spam'\n",
       "7. 'Spam'\n",
       "8. 'Spam'\n",
       "9. 'Spam'\n",
       "10. 'Spam'\n",
       "11. 'Spam'\n",
       "12. 'Spam'\n",
       "13. 'Spam'\n",
       "14. 'Spam'\n",
       "15. 'Spam'\n",
       "16. 'Spam'\n",
       "17. 'Spam'\n",
       "18. 'Spam'\n",
       "19. 'Spam'\n",
       "20. 'Spam'\n",
       "21. 'Spam'\n",
       "22. 'Spam'\n",
       "23. 'Spam'\n",
       "24. 'Spam'\n",
       "\n",
       "\n",
       "\n",
       "\n",
       "\n"
      ],
      "text/plain": [
       "[[1]]\n",
       " [1] \"Spam\" \"Spam\" \"Spam\" \"Spam\" \"Spam\" \"Spam\" \"Spam\" \"Spam\" \"Spam\" \"Spam\"\n",
       "[11] \"Spam\" \"Spam\" \"Spam\" \"Spam\" \"Spam\" \"Spam\" \"Spam\" \"Spam\" \"Spam\" \"Spam\"\n",
       "[21] \"Spam\" \"Spam\" \"Spam\" \"Spam\"\n"
      ]
     },
     "metadata": {},
     "output_type": "display_data"
    }
   ],
   "source": [
    "str_extract_all(breakfast, 'Spam')"
   ]
  },
  {
   "cell_type": "markdown",
   "metadata": {
    "slideshow": {
     "slide_type": "subslide"
    }
   },
   "source": [
    "## Sonderzeichen\n",
    "\n",
    "* `.` : entspricht arbiträrem Zeichen außer der Newline.\n",
    "* `^` : entspricht dem Anfang eines Strings.\n",
    "* `$` : entspricht dem Ende eines Strings.\n",
    "* `\\` : Escaping von Sonderzeichen."
   ]
  },
  {
   "cell_type": "code",
   "execution_count": 54,
   "metadata": {
    "scrolled": true,
    "slideshow": {
     "slide_type": "subslide"
    }
   },
   "outputs": [
    {
     "data": {
      "text/html": [
       "<ol>\n",
       "\t<li><style>\n",
       ".list-inline {list-style: none; margin:0; padding: 0}\n",
       ".list-inline>li {display: inline-block}\n",
       ".list-inline>li:not(:last-child)::after {content: \"\\00b7\"; padding: 0 .5ex}\n",
       "</style>\n",
       "<ol class=list-inline><li>'Egg '</li><li>'Egg,'</li><li>'Egg '</li><li>'Egg,'</li><li>'Egg,'</li><li>'egg,'</li><li>'egg,'</li><li>'egg '</li></ol>\n",
       "</li>\n",
       "</ol>\n"
      ],
      "text/latex": [
       "\\begin{enumerate}\n",
       "\\item \\begin{enumerate*}\n",
       "\\item 'Egg '\n",
       "\\item 'Egg,'\n",
       "\\item 'Egg '\n",
       "\\item 'Egg,'\n",
       "\\item 'Egg,'\n",
       "\\item 'egg,'\n",
       "\\item 'egg,'\n",
       "\\item 'egg '\n",
       "\\end{enumerate*}\n",
       "\n",
       "\\end{enumerate}\n"
      ],
      "text/markdown": [
       "1. 1. 'Egg '\n",
       "2. 'Egg,'\n",
       "3. 'Egg '\n",
       "4. 'Egg,'\n",
       "5. 'Egg,'\n",
       "6. 'egg,'\n",
       "7. 'egg,'\n",
       "8. 'egg '\n",
       "\n",
       "\n",
       "\n",
       "\n",
       "\n"
      ],
      "text/plain": [
       "[[1]]\n",
       "[1] \"Egg \" \"Egg,\" \"Egg \" \"Egg,\" \"Egg,\" \"egg,\" \"egg,\" \"egg \"\n"
      ]
     },
     "metadata": {},
     "output_type": "display_data"
    }
   ],
   "source": [
    "str_extract_all(breakfast, \".gg.\")"
   ]
  },
  {
   "cell_type": "markdown",
   "metadata": {
    "slideshow": {
     "slide_type": "subslide"
    }
   },
   "source": [
    "## Alternative\n",
    "\n",
    "Der `|` verhält sich ähnlich wie ein logisches ODER."
   ]
  },
  {
   "cell_type": "code",
   "execution_count": 56,
   "metadata": {},
   "outputs": [
    {
     "data": {
      "text/html": [
       "<ol>\n",
       "\t<li><style>\n",
       ".list-inline {list-style: none; margin:0; padding: 0}\n",
       ".list-inline>li {display: inline-block}\n",
       ".list-inline>li:not(:last-child)::after {content: \"\\00b7\"; padding: 0 .5ex}\n",
       "</style>\n",
       "<ol class=list-inline><li>'Egg'</li><li>'Egg'</li><li>'Egg'</li><li>'Egg'</li><li>'Egg'</li><li>'egg'</li><li>'egg'</li><li>'egg'</li></ol>\n",
       "</li>\n",
       "</ol>\n"
      ],
      "text/latex": [
       "\\begin{enumerate}\n",
       "\\item \\begin{enumerate*}\n",
       "\\item 'Egg'\n",
       "\\item 'Egg'\n",
       "\\item 'Egg'\n",
       "\\item 'Egg'\n",
       "\\item 'Egg'\n",
       "\\item 'egg'\n",
       "\\item 'egg'\n",
       "\\item 'egg'\n",
       "\\end{enumerate*}\n",
       "\n",
       "\\end{enumerate}\n"
      ],
      "text/markdown": [
       "1. 1. 'Egg'\n",
       "2. 'Egg'\n",
       "3. 'Egg'\n",
       "4. 'Egg'\n",
       "5. 'Egg'\n",
       "6. 'egg'\n",
       "7. 'egg'\n",
       "8. 'egg'\n",
       "\n",
       "\n",
       "\n",
       "\n",
       "\n"
      ],
      "text/plain": [
       "[[1]]\n",
       "[1] \"Egg\" \"Egg\" \"Egg\" \"Egg\" \"Egg\" \"egg\" \"egg\" \"egg\"\n"
      ]
     },
     "metadata": {},
     "output_type": "display_data"
    }
   ],
   "source": [
    "str_extract_all(breakfast, 'Egg|egg')"
   ]
  },
  {
   "cell_type": "code",
   "execution_count": 44,
   "metadata": {
    "slideshow": {
     "slide_type": "skip"
    }
   },
   "outputs": [
    {
     "data": {
      "text/html": [
       "'Listen, strange women lying in ponds distributing swords is no basis for a system of government. Supreme executive power derives from a mandate from the masses, not from some farcical aquatic ceremony.'"
      ],
      "text/latex": [
       "'Listen, strange women lying in ponds distributing swords is no basis for a system of government. Supreme executive power derives from a mandate from the masses, not from some farcical aquatic ceremony.'"
      ],
      "text/markdown": [
       "'Listen, strange women lying in ponds distributing swords is no basis for a system of government. Supreme executive power derives from a mandate from the masses, not from some farcical aquatic ceremony.'"
      ],
      "text/plain": [
       "[1] \"Listen, strange women lying in ponds distributing swords is no basis for a system of government. Supreme executive power derives from a mandate from the masses, not from some farcical aquatic ceremony.\""
      ]
     },
     "metadata": {},
     "output_type": "display_data"
    }
   ],
   "source": [
    "dennis <- \"Listen, strange women lying in ponds distributing swords is no basis for a system of government. Supreme executive power derives from a mandate from the masses, not from some farcical aquatic ceremony.\"\n",
    "dennis"
   ]
  },
  {
   "cell_type": "code",
   "execution_count": 46,
   "metadata": {
    "slideshow": {
     "slide_type": "subslide"
    }
   },
   "outputs": [
    {
     "data": {
      "text/html": [
       "'\\'When I\\'M a Duchess,\\' she said to herself, (not in a very hopeful tone though), \\'I won\\'t have any pepper in my kitchen AT ALL. Soup does very well without--Maybe it\\'s always pepper that makes people hot-tempered\\'.'"
      ],
      "text/latex": [
       "'\\textbackslash{}'When I\\textbackslash{}'M a Duchess,\\textbackslash{}' she said to herself, (not in a very hopeful tone though), \\textbackslash{}'I won\\textbackslash{}'t have any pepper in my kitchen AT ALL. Soup does very well without--Maybe it\\textbackslash{}'s always pepper that makes people hot-tempered\\textbackslash{}'.'"
      ],
      "text/markdown": [
       "'\\'When I\\'M a Duchess,\\' she said to herself, (not in a very hopeful tone though), \\'I won\\'t have any pepper in my kitchen AT ALL. Soup does very well without--Maybe it\\'s always pepper that makes people hot-tempered\\'.'"
      ],
      "text/plain": [
       "[1] \"'When I'M a Duchess,' she said to herself, (not in a very hopeful tone though), 'I won't have any pepper in my kitchen AT ALL. Soup does very well without--Maybe it's always pepper that makes people hot-tempered'.\""
      ]
     },
     "metadata": {},
     "output_type": "display_data"
    }
   ],
   "source": [
    "alice <- '\\'When I\\'M a Duchess,\\' she said to herself, (not in a very hopeful tone though), \\'I won\\'t have any pepper in my kitchen AT ALL. Soup does very well without--Maybe it\\'s always pepper that makes people hot-tempered\\'.'\n",
    "alice"
   ]
  },
  {
   "cell_type": "markdown",
   "metadata": {
    "slideshow": {
     "slide_type": "subslide"
    }
   },
   "source": [
    "## Wiederholungen\n",
    "\n",
    "Spezifiziert Anzahl der Wiederholungen des vorangegangenen regulären Ausdrucks $x$. Folgende Wiederholungen sind möglich:\n",
    "\n",
    "Syntax | Bedeutung\n",
    "-|-\n",
    "`*` | 0 oder mehr Wiederholungen\n",
    "`+` | 1 oder mehr Wiederholungen\n",
    "`{m}` | Genau `m` Wiederholungen\n",
    "`{m,n}` | Von `m` bis einschließlich `n`\n",
    "`?` | 0 bis 1 Wiederholungen; Schaltet greedy ab.\n",
    "\n",
    "Die Wiederholungen sind standardmäßig *greedy*, d.h. es wird soviel vom String verbraucht, wie möglich. Dieses Verhalten kann abgeschaltet werden, indem ein `?` nach der Wiederholung gesetzt wird."
   ]
  },
  {
   "cell_type": "code",
   "execution_count": 57,
   "metadata": {
    "slideshow": {
     "slide_type": "subslide"
    }
   },
   "outputs": [
    {
     "data": {
      "text/html": [
       "'CUGCCGCAGC'"
      ],
      "text/latex": [
       "'CUGCCGCAGC'"
      ],
      "text/markdown": [
       "'CUGCCGCAGC'"
      ],
      "text/plain": [
       "[1] \"CUGCCGCAGC\""
      ]
     },
     "metadata": {},
     "output_type": "display_data"
    }
   ],
   "source": [
    "## Greedy by default!\n",
    "gene <- \"GCUGCCGCAGCG\"\n",
    "\n",
    "str_extract(gene, \"C.+C\")"
   ]
  },
  {
   "cell_type": "markdown",
   "metadata": {
    "slideshow": {
     "slide_type": "subslide"
    }
   },
   "source": [
    "## Spezifizierung von Gruppen\n",
    "\n",
    "Syntax | Äquivalent | Bedeutung\n",
    "-|-|-\n",
    "`\\d` | `[0-9]` | Ganze Zahlen\n",
    "`\\D` | `[^0-9]` | Alles was keine Zahl ist\n",
    "`\\s` | `[ \\t\\n\\r\\f\\v]` | Alles was whitespace ist \n",
    "`\\S` | `[^ \\t\\n\\r\\f\\v] ` | Alles was nicht whitespace ist\n",
    "`\\w` | `[a-zA-Z0-9_]` | Alphanumerische Zeichen und Unterstrich\n",
    "`\\W` | `[^a-zA-Z0-9_]` | Kein alphanumerische Zeichen oder Unterstrich"
   ]
  },
  {
   "cell_type": "markdown",
   "metadata": {
    "slideshow": {
     "slide_type": "subslide"
    }
   },
   "source": [
    "## Texte in Token zerlegen"
   ]
  },
  {
   "cell_type": "code",
   "execution_count": 60,
   "metadata": {
    "scrolled": true
   },
   "outputs": [
    {
     "data": {
      "text/html": [
       "<ol>\n",
       "\t<li><style>\n",
       ".list-inline {list-style: none; margin:0; padding: 0}\n",
       ".list-inline>li {display: inline-block}\n",
       ".list-inline>li:not(:last-child)::after {content: \"\\00b7\"; padding: 0 .5ex}\n",
       "</style>\n",
       "<ol class=list-inline><li>'\\''</li><li>'When'</li><li>'I\\'M'</li><li>'a'</li><li>'Duchess'</li><li>','</li><li>'\\''</li><li>'she'</li><li>'said'</li><li>'to'</li><li>'herself'</li><li>','</li><li>'('</li><li>'not'</li><li>'in'</li><li>'a'</li><li>'very'</li><li>'hopeful'</li><li>'tone'</li><li>'though'</li><li>')'</li><li>','</li><li>'\\''</li><li>'I'</li><li>'won\\'t'</li><li>'have'</li><li>'any'</li><li>'pepper'</li><li>'in'</li><li>'my'</li><li>'kitchen'</li><li>'AT'</li><li>'ALL'</li><li>'.'</li><li>'Soup'</li><li>'does'</li><li>'very'</li><li>'well'</li><li>'without'</li><li>'-'</li><li>'-'</li><li>'Maybe'</li><li>'it\\'s'</li><li>'always'</li><li>'pepper'</li><li>'that'</li><li>'makes'</li><li>'people'</li><li>'hot-tempered'</li><li>'\\''</li><li>'.'</li></ol>\n",
       "</li>\n",
       "</ol>\n"
      ],
      "text/latex": [
       "\\begin{enumerate}\n",
       "\\item \\begin{enumerate*}\n",
       "\\item '\\textbackslash{}''\n",
       "\\item 'When'\n",
       "\\item 'I\\textbackslash{}'M'\n",
       "\\item 'a'\n",
       "\\item 'Duchess'\n",
       "\\item ','\n",
       "\\item '\\textbackslash{}''\n",
       "\\item 'she'\n",
       "\\item 'said'\n",
       "\\item 'to'\n",
       "\\item 'herself'\n",
       "\\item ','\n",
       "\\item '('\n",
       "\\item 'not'\n",
       "\\item 'in'\n",
       "\\item 'a'\n",
       "\\item 'very'\n",
       "\\item 'hopeful'\n",
       "\\item 'tone'\n",
       "\\item 'though'\n",
       "\\item ')'\n",
       "\\item ','\n",
       "\\item '\\textbackslash{}''\n",
       "\\item 'I'\n",
       "\\item 'won\\textbackslash{}'t'\n",
       "\\item 'have'\n",
       "\\item 'any'\n",
       "\\item 'pepper'\n",
       "\\item 'in'\n",
       "\\item 'my'\n",
       "\\item 'kitchen'\n",
       "\\item 'AT'\n",
       "\\item 'ALL'\n",
       "\\item '.'\n",
       "\\item 'Soup'\n",
       "\\item 'does'\n",
       "\\item 'very'\n",
       "\\item 'well'\n",
       "\\item 'without'\n",
       "\\item '-'\n",
       "\\item '-'\n",
       "\\item 'Maybe'\n",
       "\\item 'it\\textbackslash{}'s'\n",
       "\\item 'always'\n",
       "\\item 'pepper'\n",
       "\\item 'that'\n",
       "\\item 'makes'\n",
       "\\item 'people'\n",
       "\\item 'hot-tempered'\n",
       "\\item '\\textbackslash{}''\n",
       "\\item '.'\n",
       "\\end{enumerate*}\n",
       "\n",
       "\\end{enumerate}\n"
      ],
      "text/markdown": [
       "1. 1. '\\''\n",
       "2. 'When'\n",
       "3. 'I\\'M'\n",
       "4. 'a'\n",
       "5. 'Duchess'\n",
       "6. ','\n",
       "7. '\\''\n",
       "8. 'she'\n",
       "9. 'said'\n",
       "10. 'to'\n",
       "11. 'herself'\n",
       "12. ','\n",
       "13. '('\n",
       "14. 'not'\n",
       "15. 'in'\n",
       "16. 'a'\n",
       "17. 'very'\n",
       "18. 'hopeful'\n",
       "19. 'tone'\n",
       "20. 'though'\n",
       "21. ')'\n",
       "22. ','\n",
       "23. '\\''\n",
       "24. 'I'\n",
       "25. 'won\\'t'\n",
       "26. 'have'\n",
       "27. 'any'\n",
       "28. 'pepper'\n",
       "29. 'in'\n",
       "30. 'my'\n",
       "31. 'kitchen'\n",
       "32. 'AT'\n",
       "33. 'ALL'\n",
       "34. '.'\n",
       "35. 'Soup'\n",
       "36. 'does'\n",
       "37. 'very'\n",
       "38. 'well'\n",
       "39. 'without'\n",
       "40. '-'\n",
       "41. '-'\n",
       "42. 'Maybe'\n",
       "43. 'it\\'s'\n",
       "44. 'always'\n",
       "45. 'pepper'\n",
       "46. 'that'\n",
       "47. 'makes'\n",
       "48. 'people'\n",
       "49. 'hot-tempered'\n",
       "50. '\\''\n",
       "51. '.'\n",
       "\n",
       "\n",
       "\n",
       "\n",
       "\n"
      ],
      "text/plain": [
       "[[1]]\n",
       " [1] \"'\"            \"When\"         \"I'M\"          \"a\"            \"Duchess\"     \n",
       " [6] \",\"            \"'\"            \"she\"          \"said\"         \"to\"          \n",
       "[11] \"herself\"      \",\"            \"(\"            \"not\"          \"in\"          \n",
       "[16] \"a\"            \"very\"         \"hopeful\"      \"tone\"         \"though\"      \n",
       "[21] \")\"            \",\"            \"'\"            \"I\"            \"won't\"       \n",
       "[26] \"have\"         \"any\"          \"pepper\"       \"in\"           \"my\"          \n",
       "[31] \"kitchen\"      \"AT\"           \"ALL\"          \".\"            \"Soup\"        \n",
       "[36] \"does\"         \"very\"         \"well\"         \"without\"      \"-\"           \n",
       "[41] \"-\"            \"Maybe\"        \"it's\"         \"always\"       \"pepper\"      \n",
       "[46] \"that\"         \"makes\"        \"people\"       \"hot-tempered\" \"'\"           \n",
       "[51] \".\"           \n"
      ]
     },
     "metadata": {},
     "output_type": "display_data"
    }
   ],
   "source": [
    "tokens <- str_extract_all(alice, \"\\\\w+[-\\']?\\\\w+|\\\\S+?\")\n",
    "tokens"
   ]
  },
  {
   "cell_type": "markdown",
   "metadata": {
    "slideshow": {
     "slide_type": "subslide"
    }
   },
   "source": [
    "## Eine valide Emailadresse finden\n",
    "\n",
    "![Regular Expression](https://imgs.xkcd.com/comics/regular_expressions.png)"
   ]
  },
  {
   "cell_type": "markdown",
   "metadata": {
    "slideshow": {
     "slide_type": "subslide"
    }
   },
   "source": [
    "In der Wirklichkeit sehr viel Komplizierter: http://www.ex-parrot.com/~pdw/Mail-RFC822-Address.html."
   ]
  },
  {
   "cell_type": "markdown",
   "metadata": {
    "slideshow": {
     "slide_type": "slide"
    }
   },
   "source": [
    "# Anwendungsbeispiel"
   ]
  },
  {
   "cell_type": "markdown",
   "metadata": {
    "slideshow": {
     "slide_type": "subslide"
    }
   },
   "source": [
    "## Vokale zählen"
   ]
  },
  {
   "cell_type": "code",
   "execution_count": 61,
   "metadata": {},
   "outputs": [
    {
     "data": {
      "text/html": [
       "95"
      ],
      "text/latex": [
       "95"
      ],
      "text/markdown": [
       "95"
      ],
      "text/plain": [
       "[1] 95"
      ]
     },
     "metadata": {},
     "output_type": "display_data"
    }
   ],
   "source": [
    "str_count(breakfast, \"[aeiou]\")"
   ]
  },
  {
   "cell_type": "markdown",
   "metadata": {
    "slideshow": {
     "slide_type": "subslide"
    }
   },
   "source": [
    "## Suchen und ersetzen"
   ]
  },
  {
   "cell_type": "code",
   "execution_count": 76,
   "metadata": {},
   "outputs": [
    {
     "data": {
      "text/html": [
       "'Ersetzen sie bei allen Zitaten die eckigen Klammern ([])\\nmit den korrekten, runden Klammern.\\nSpezifisch bei Blabla (2010) aber auch bei anderen (z.B.: Foobaz 2009, 17).'"
      ],
      "text/latex": [
       "'Ersetzen sie bei allen Zitaten die eckigen Klammern ({[}{]})\\textbackslash{}nmit den korrekten, runden Klammern.\\textbackslash{}nSpezifisch bei Blabla (2010) aber auch bei anderen (z.B.: Foobaz 2009, 17).'"
      ],
      "text/markdown": [
       "'Ersetzen sie bei allen Zitaten die eckigen Klammern ([])\\nmit den korrekten, runden Klammern.\\nSpezifisch bei Blabla (2010) aber auch bei anderen (z.B.: Foobaz 2009, 17).'"
      ],
      "text/plain": [
       "[1] \"Ersetzen sie bei allen Zitaten die eckigen Klammern ([])\\nmit den korrekten, runden Klammern.\\nSpezifisch bei Blabla (2010) aber auch bei anderen (z.B.: Foobaz 2009, 17).\""
      ]
     },
     "metadata": {},
     "output_type": "display_data"
    }
   ],
   "source": [
    "bsp <- 'Ersetzen sie bei allen Zitaten die eckigen Klammern ([])\\\n",
    "mit den korrekten, runden Klammern.\\\n",
    "Spezifisch bei Blabla [2010] aber auch bei anderen [z.B.: Foobaz 2009, 17].'\n",
    "\n",
    "\n",
    "str_replace_all(bsp, '\\\\[(.+?)\\\\]', '\\\\(\\\\1\\\\)')"
   ]
  },
  {
   "cell_type": "markdown",
   "metadata": {
    "slideshow": {
     "slide_type": "subslide"
    }
   },
   "source": [
    "## HTML oder anderes Markup entfernen"
   ]
  },
  {
   "cell_type": "code",
   "execution_count": 79,
   "metadata": {},
   "outputs": [
    {
     "data": {
      "text/html": [
       "'text'"
      ],
      "text/latex": [
       "'text'"
      ],
      "text/markdown": [
       "'text'"
      ],
      "text/plain": [
       "[1] \"text\""
      ]
     },
     "metadata": {},
     "output_type": "display_data"
    }
   ],
   "source": [
    "## Remove the tags\n",
    "htmltag <- \"<p>text</p>\"\n",
    "\n",
    "str_replace_all(htmltag, \"<.*?>\", \"\")"
   ]
  }
 ],
 "metadata": {
  "anaconda-cloud": {},
  "celltoolbar": "Slideshow",
  "kernelspec": {
   "display_name": "R",
   "language": "R",
   "name": "ir"
  },
  "language_info": {
   "codemirror_mode": "r",
   "file_extension": ".r",
   "mimetype": "text/x-r-source",
   "name": "R",
   "pygments_lexer": "r",
   "version": "4.2.1"
  }
 },
 "nbformat": 4,
 "nbformat_minor": 1
}
